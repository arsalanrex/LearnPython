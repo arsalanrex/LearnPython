{
 "cells": [
  {
   "cell_type": "markdown",
   "source": [
    "## Python File Write"
   ],
   "metadata": {
    "collapsed": false
   },
   "id": "7e669be9ca7261d9"
  },
  {
   "cell_type": "markdown",
   "source": [
    "### Write to an Existing File\n",
    "\n",
    "To write to an existing file, you must add a parameter to the **open()** function:\n",
    "\n",
    "**\"a\"** - Append - will append to the end of the file\n",
    "**\"w\"** - Write - will overwrite any existing content"
   ],
   "metadata": {
    "collapsed": false
   },
   "id": "ddb667524a4afd2f"
  },
  {
   "cell_type": "code",
   "execution_count": 1,
   "id": "initial_id",
   "metadata": {
    "collapsed": true,
    "ExecuteTime": {
     "end_time": "2024-09-05T10:54:54.598603Z",
     "start_time": "2024-09-05T10:54:54.594580Z"
    }
   },
   "outputs": [
    {
     "name": "stdout",
     "output_type": "stream",
     "text": [
      "Now the file has more content!\n"
     ]
    }
   ],
   "source": [
    "# Open the file \"demofile2.txt\" and append content to the file:\n",
    "\n",
    "f = open(\"demofile2.txt\", \"a\")\n",
    "f.write(\"Now the file has more content!\")\n",
    "f.close()\n",
    "\n",
    "#open and read the file after the appending:\n",
    "f = open(\"demofile2.txt\", \"r\")\n",
    "print(f.read())\n",
    "f.close()"
   ]
  },
  {
   "cell_type": "code",
   "execution_count": 2,
   "outputs": [
    {
     "name": "stdout",
     "output_type": "stream",
     "text": [
      "Woops! I have deleted the content!\n"
     ]
    }
   ],
   "source": [
    "# Open the file \"demofile3.txt\" and overwrite the content:\n",
    "\n",
    "f = open(\"demofile3.txt\", \"w\")\n",
    "f.write(\"Woops! I have deleted the content!\")\n",
    "f.close()\n",
    "\n",
    "#open and read the file after the appending:\n",
    "f = open(\"demofile3.txt\", \"r\")\n",
    "print(f.read())\n",
    "f.close()"
   ],
   "metadata": {
    "collapsed": false,
    "ExecuteTime": {
     "end_time": "2024-09-05T10:56:02.206838Z",
     "start_time": "2024-09-05T10:56:02.190840Z"
    }
   },
   "id": "faf167c0b0472fc"
  },
  {
   "cell_type": "markdown",
   "source": [
    "> **Note:** the \"w\" method will overwrite the entire file."
   ],
   "metadata": {
    "collapsed": false
   },
   "id": "66b958acf08e8834"
  },
  {
   "cell_type": "markdown",
   "source": [
    "### Create a New File\n",
    "\n",
    "To create a new file in Python, use the **open()** method, with one of the following parameters:\n",
    "\n",
    "**\"x\"** - Create - will create a file, returns an error if the file exist\n",
    "**\"a\"** - Append - will create a file if the specified file does not exist\n",
    "**\"w\"** - Write - will create a file if the specified file does not exist"
   ],
   "metadata": {
    "collapsed": false
   },
   "id": "9e8335693aa9d31f"
  },
  {
   "cell_type": "code",
   "execution_count": 3,
   "outputs": [],
   "source": [
    "# Create a file called \"myfile.txt\":\n",
    "\n",
    "f = open(\"myfile.txt\", \"x\")"
   ],
   "metadata": {
    "collapsed": false,
    "ExecuteTime": {
     "end_time": "2024-09-05T10:58:07.143312Z",
     "start_time": "2024-09-05T10:58:07.126648Z"
    }
   },
   "id": "a85009a86903127d"
  },
  {
   "cell_type": "markdown",
   "source": [
    "> **Note:** A new empty file is created!"
   ],
   "metadata": {
    "collapsed": false
   },
   "id": "3dc649b64f124d9b"
  },
  {
   "cell_type": "code",
   "execution_count": 4,
   "outputs": [],
   "source": [
    "# Create a new file if it does not exist:\n",
    "\n",
    "f = open(\"myfile2.txt\", \"w\")"
   ],
   "metadata": {
    "collapsed": false,
    "ExecuteTime": {
     "end_time": "2024-09-05T10:58:21.190639Z",
     "start_time": "2024-09-05T10:58:21.171656Z"
    }
   },
   "id": "c42deb63c6d46d1e"
  },
  {
   "cell_type": "markdown",
   "source": [
    "[Arsalan](github.com/arsalanrex)"
   ],
   "metadata": {
    "collapsed": false
   },
   "id": "c36111a4f4d056ae"
  },
  {
   "cell_type": "code",
   "execution_count": null,
   "outputs": [],
   "source": [],
   "metadata": {
    "collapsed": false
   },
   "id": "6d5069e08f06d65b"
  }
 ],
 "metadata": {
  "kernelspec": {
   "display_name": "Python 3",
   "language": "python",
   "name": "python3"
  },
  "language_info": {
   "codemirror_mode": {
    "name": "ipython",
    "version": 2
   },
   "file_extension": ".py",
   "mimetype": "text/x-python",
   "name": "python",
   "nbconvert_exporter": "python",
   "pygments_lexer": "ipython2",
   "version": "2.7.6"
  }
 },
 "nbformat": 4,
 "nbformat_minor": 5
}
