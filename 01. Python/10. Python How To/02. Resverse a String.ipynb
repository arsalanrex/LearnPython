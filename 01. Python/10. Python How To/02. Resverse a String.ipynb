{
 "cells": [
  {
   "cell_type": "markdown",
   "source": [
    "## How to reverse a string in Python"
   ],
   "metadata": {
    "collapsed": false
   },
   "id": "2dda4d2f8439ca58"
  },
  {
   "cell_type": "markdown",
   "source": [
    "There is no built-in function to reverse a String in Python."
   ],
   "metadata": {
    "collapsed": false
   },
   "id": "9561721a4e2f03d2"
  },
  {
   "cell_type": "markdown",
   "source": [
    "### using slicing"
   ],
   "metadata": {
    "collapsed": false
   },
   "id": "f50ee41428680c22"
  },
  {
   "cell_type": "code",
   "execution_count": 1,
   "id": "initial_id",
   "metadata": {
    "collapsed": true,
    "ExecuteTime": {
     "end_time": "2024-09-05T10:26:30.492556Z",
     "start_time": "2024-09-05T10:26:30.486827Z"
    }
   },
   "outputs": [
    {
     "name": "stdout",
     "output_type": "stream",
     "text": [
      "dlroW olleH\n"
     ]
    }
   ],
   "source": [
    "# Reverse a string in Python\n",
    "\n",
    "txt = \"Hello World\"\n",
    "print(txt[::-1])"
   ]
  },
  {
   "cell_type": "markdown",
   "source": [
    "### using a loop"
   ],
   "metadata": {
    "collapsed": false
   },
   "id": "1a97e274b486cb59"
  },
  {
   "cell_type": "code",
   "execution_count": 2,
   "outputs": [
    {
     "name": "stdout",
     "output_type": "stream",
     "text": [
      "dlroW olleH\n"
     ]
    }
   ],
   "source": [
    "# Reverse a string in Python\n",
    "\n",
    "txt = \"Hello World\"\n",
    "reversed_txt = \"\"\n",
    "for i in txt:\n",
    "    reversed_txt = i + reversed_txt\n",
    "print(reversed_txt)"
   ],
   "metadata": {
    "collapsed": false,
    "ExecuteTime": {
     "end_time": "2024-09-05T10:28:05.326077Z",
     "start_time": "2024-09-05T10:28:05.292014Z"
    }
   },
   "id": "d1d310921cdc2eaa"
  },
  {
   "cell_type": "markdown",
   "source": [
    "[Arsalan](github.com/arsalanrex)"
   ],
   "metadata": {
    "collapsed": false
   },
   "id": "e033e4d0d285e373"
  },
  {
   "cell_type": "code",
   "execution_count": null,
   "outputs": [],
   "source": [],
   "metadata": {
    "collapsed": false
   },
   "id": "5aa820c193cd0004"
  }
 ],
 "metadata": {
  "kernelspec": {
   "display_name": "Python 3",
   "language": "python",
   "name": "python3"
  },
  "language_info": {
   "codemirror_mode": {
    "name": "ipython",
    "version": 2
   },
   "file_extension": ".py",
   "mimetype": "text/x-python",
   "name": "python",
   "nbconvert_exporter": "python",
   "pygments_lexer": "ipython2",
   "version": "2.7.6"
  }
 },
 "nbformat": 4,
 "nbformat_minor": 5
}
