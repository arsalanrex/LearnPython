{
 "cells": [
  {
   "cell_type": "markdown",
   "source": [
    "## Matplotlib Getting Started"
   ],
   "metadata": {
    "collapsed": false
   },
   "id": "c54f18fe193566ed"
  },
  {
   "cell_type": "markdown",
   "source": [
    "### Installation of Matplotlib\n",
    "\n",
    "If you have Python and PIP already installed on a system, then installation of Matplotlib is very easy.\n",
    "\n",
    "Install it using this command:\n",
    "\n",
    "    pip install matplotlib\n",
    "    \n",
    "or\n",
    "\n",
    "    pip3 install matplotlib\n",
    "    \n",
    "If this command fails, then use a python distribution that already has Matplotlib installed, such as Anaconda, Spyder etc."
   ],
   "metadata": {
    "collapsed": false
   },
   "id": "9eaf2f48158892fb"
  },
  {
   "cell_type": "markdown",
   "source": [
    "### Import Matplotlib\n",
    "\n",
    "Once Matplotlib is installed, import it in your applications by adding the **import module** statement:"
   ],
   "metadata": {
    "collapsed": false
   },
   "id": "e054bef6897ce6d2"
  },
  {
   "cell_type": "code",
   "execution_count": 1,
   "outputs": [],
   "source": [
    "import matplotlib"
   ],
   "metadata": {
    "collapsed": false,
    "ExecuteTime": {
     "end_time": "2024-09-05T11:28:10.967283Z",
     "start_time": "2024-09-05T11:28:10.752027Z"
    }
   },
   "id": "722bd41036fd5ab"
  },
  {
   "cell_type": "markdown",
   "source": [
    "Matplotlib is imported and ready to use."
   ],
   "metadata": {
    "collapsed": false
   },
   "id": "e6244574f5cd0ce6"
  },
  {
   "cell_type": "markdown",
   "source": [
    "### Checking Matplotlib Version\n",
    "\n",
    "The version string is stored under **\\_\\_version__** attribute."
   ],
   "metadata": {
    "collapsed": false
   },
   "id": "f7a131033e4ab72"
  },
  {
   "cell_type": "code",
   "execution_count": 2,
   "outputs": [
    {
     "name": "stdout",
     "output_type": "stream",
     "text": [
      "3.8.0\n"
     ]
    }
   ],
   "source": [
    "import matplotlib\n",
    "\n",
    "print(matplotlib.__version__)"
   ],
   "metadata": {
    "collapsed": false,
    "ExecuteTime": {
     "end_time": "2024-09-05T11:30:05.773567Z",
     "start_time": "2024-09-05T11:30:05.761704Z"
    }
   },
   "id": "6e7634bdceb6327f"
  },
  {
   "cell_type": "markdown",
   "source": [
    "> **Note:** The double underscore **\\_\\_** is called \"dunder\" in Python, and the **\\_\\_version__** is an attribute that stores the version number of Matplotlib."
   ],
   "metadata": {
    "collapsed": false
   },
   "id": "c64fef3135a55873"
  },
  {
   "cell_type": "markdown",
   "source": [
    "[Arsalan](github.com/arsalanrex)"
   ],
   "metadata": {
    "collapsed": false
   },
   "id": "6299a8e736376afd"
  },
  {
   "cell_type": "code",
   "execution_count": null,
   "outputs": [],
   "source": [],
   "metadata": {
    "collapsed": false
   },
   "id": "38c2e2e961657f5d"
  }
 ],
 "metadata": {
  "kernelspec": {
   "display_name": "Python 3",
   "language": "python",
   "name": "python3"
  },
  "language_info": {
   "codemirror_mode": {
    "name": "ipython",
    "version": 2
   },
   "file_extension": ".py",
   "mimetype": "text/x-python",
   "name": "python",
   "nbconvert_exporter": "python",
   "pygments_lexer": "ipython2",
   "version": "2.7.6"
  }
 },
 "nbformat": 4,
 "nbformat_minor": 5
}
