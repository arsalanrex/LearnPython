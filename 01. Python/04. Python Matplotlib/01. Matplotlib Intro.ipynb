{
 "cells": [
  {
   "cell_type": "markdown",
   "source": [
    "## Matplotlib Tutorial"
   ],
   "metadata": {
    "collapsed": false
   },
   "id": "30d89f5bba3e1a7f"
  },
  {
   "cell_type": "markdown",
   "source": [
    "### What is Matplotlib?\n",
    "\n",
    "Matplotlib is a low level graph plotting library in python that serves as a visualization utility.\n",
    "\n",
    "Matplotlib was created by John D. Hunter.\n",
    "\n",
    "Matplotlib is open source and we can use it freely.\n",
    "\n",
    "Matplotlib is mostly written in python, a few segments are written in C, Objective-C and Javascript for Platform compatibility."
   ],
   "metadata": {
    "collapsed": false
   },
   "id": "38291c5315606312"
  },
  {
   "cell_type": "markdown",
   "source": [
    "### Where is the Matplotlib Codebase?\n",
    "\n",
    "The source code for Matplotlib is located at this github repository [https://github.com/matplotlib/matplotlib](https://github.com/matplotlib/matplotlib)"
   ],
   "metadata": {
    "collapsed": false
   },
   "id": "6cc3d5e22d4e1941"
  },
  {
   "cell_type": "markdown",
   "source": [
    "[Arsalan](github.com/arsalanrex)"
   ],
   "metadata": {
    "collapsed": false
   },
   "id": "31b1857413f20d1f"
  },
  {
   "cell_type": "code",
   "execution_count": null,
   "outputs": [],
   "source": [],
   "metadata": {
    "collapsed": false
   },
   "id": "b46c03121460f019"
  }
 ],
 "metadata": {
  "kernelspec": {
   "display_name": "Python 3",
   "language": "python",
   "name": "python3"
  },
  "language_info": {
   "codemirror_mode": {
    "name": "ipython",
    "version": 2
   },
   "file_extension": ".py",
   "mimetype": "text/x-python",
   "name": "python",
   "nbconvert_exporter": "python",
   "pygments_lexer": "ipython2",
   "version": "2.7.6"
  }
 },
 "nbformat": 4,
 "nbformat_minor": 5
}
