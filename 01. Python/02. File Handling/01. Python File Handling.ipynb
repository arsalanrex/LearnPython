{
 "cells": [
  {
   "cell_type": "markdown",
   "source": [
    "## Python File Open\n",
    "\n",
    "File handling is an important part of any web application.\n",
    "\n",
    "Python has several functions for creating, reading, updating, and deleting files."
   ],
   "metadata": {
    "collapsed": false
   },
   "id": "288cb27a0c599bc6"
  },
  {
   "cell_type": "markdown",
   "source": [
    "### File Handling\n",
    "\n",
    "The key function for working with files in Python is the **open()** function.\n",
    "The **open()** function takes two parameters; filename, and mode.\n",
    "\n",
    "There are four different methods (modes) for opening a file:\n",
    "\n",
    "**\"r\"** - Read - Default value. Opens a file for reading, error if the file does not exist\n",
    "**\"a\"** - Append - Opens a file for appending, creates the file if it does not exist\n",
    "**\"w\"** - Write - Opens a file for writing, creates the file if it does not exist\n",
    "**\"x\"** - Create - Creates the specified file, returns an error if the file exists\n",
    "\n",
    "In addition, you can specify if the file should be handled as binary or text mode\n",
    "\n",
    "**\"t\"** - Text - Default value. Text mode\n",
    "**\"b\"** - Binary - Binary mode (e.g. images)"
   ],
   "metadata": {
    "collapsed": false
   },
   "id": "272ebe25f7c90eae"
  },
  {
   "cell_type": "markdown",
   "source": [
    "To open a file for reading it is enough to specify the name of the file:"
   ],
   "metadata": {
    "collapsed": false
   },
   "id": "2b4891c5c320358b"
  },
  {
   "cell_type": "code",
   "execution_count": 4,
   "id": "initial_id",
   "metadata": {
    "collapsed": true,
    "ExecuteTime": {
     "end_time": "2024-09-05T10:44:06.566995Z",
     "start_time": "2024-09-05T10:44:06.547176Z"
    }
   },
   "outputs": [
    {
     "ename": "FileNotFoundError",
     "evalue": "[Errno 2] No such file or directory: 'demofile1.txt'",
     "output_type": "error",
     "traceback": [
      "\u001B[0;31m---------------------------------------------------------------------------\u001B[0m",
      "\u001B[0;31mFileNotFoundError\u001B[0m                         Traceback (most recent call last)",
      "Cell \u001B[0;32mIn[4], line 1\u001B[0m\n\u001B[0;32m----> 1\u001B[0m f \u001B[38;5;241m=\u001B[39m \u001B[38;5;28;43mopen\u001B[39;49m\u001B[43m(\u001B[49m\u001B[38;5;124;43m\"\u001B[39;49m\u001B[38;5;124;43mdemofile1.txt\u001B[39;49m\u001B[38;5;124;43m\"\u001B[39;49m\u001B[43m)\u001B[49m\n\u001B[1;32m      3\u001B[0m \u001B[38;5;66;03m# The code above is the same as:\u001B[39;00m\n\u001B[1;32m      5\u001B[0m f \u001B[38;5;241m=\u001B[39m \u001B[38;5;28mopen\u001B[39m(\u001B[38;5;124m\"\u001B[39m\u001B[38;5;124mdemofile1.txt\u001B[39m\u001B[38;5;124m\"\u001B[39m, \u001B[38;5;124m\"\u001B[39m\u001B[38;5;124mrt\u001B[39m\u001B[38;5;124m\"\u001B[39m)\n",
      "File \u001B[0;32m~/Developer/Pycharm/LearnPython/venv/lib/python3.9/site-packages/IPython/core/interactiveshell.py:286\u001B[0m, in \u001B[0;36m_modified_open\u001B[0;34m(file, *args, **kwargs)\u001B[0m\n\u001B[1;32m    279\u001B[0m \u001B[38;5;28;01mif\u001B[39;00m file \u001B[38;5;129;01min\u001B[39;00m {\u001B[38;5;241m0\u001B[39m, \u001B[38;5;241m1\u001B[39m, \u001B[38;5;241m2\u001B[39m}:\n\u001B[1;32m    280\u001B[0m     \u001B[38;5;28;01mraise\u001B[39;00m \u001B[38;5;167;01mValueError\u001B[39;00m(\n\u001B[1;32m    281\u001B[0m         \u001B[38;5;124mf\u001B[39m\u001B[38;5;124m\"\u001B[39m\u001B[38;5;124mIPython won\u001B[39m\u001B[38;5;124m'\u001B[39m\u001B[38;5;124mt let you open fd=\u001B[39m\u001B[38;5;132;01m{\u001B[39;00mfile\u001B[38;5;132;01m}\u001B[39;00m\u001B[38;5;124m by default \u001B[39m\u001B[38;5;124m\"\u001B[39m\n\u001B[1;32m    282\u001B[0m         \u001B[38;5;124m\"\u001B[39m\u001B[38;5;124mas it is likely to crash IPython. If you know what you are doing, \u001B[39m\u001B[38;5;124m\"\u001B[39m\n\u001B[1;32m    283\u001B[0m         \u001B[38;5;124m\"\u001B[39m\u001B[38;5;124myou can use builtins\u001B[39m\u001B[38;5;124m'\u001B[39m\u001B[38;5;124m open.\u001B[39m\u001B[38;5;124m\"\u001B[39m\n\u001B[1;32m    284\u001B[0m     )\n\u001B[0;32m--> 286\u001B[0m \u001B[38;5;28;01mreturn\u001B[39;00m \u001B[43mio_open\u001B[49m\u001B[43m(\u001B[49m\u001B[43mfile\u001B[49m\u001B[43m,\u001B[49m\u001B[43m \u001B[49m\u001B[38;5;241;43m*\u001B[39;49m\u001B[43margs\u001B[49m\u001B[43m,\u001B[49m\u001B[43m \u001B[49m\u001B[38;5;241;43m*\u001B[39;49m\u001B[38;5;241;43m*\u001B[39;49m\u001B[43mkwargs\u001B[49m\u001B[43m)\u001B[49m\n",
      "\u001B[0;31mFileNotFoundError\u001B[0m: [Errno 2] No such file or directory: 'demofile1.txt'"
     ]
    }
   ],
   "source": [
    "f = open(\"demofile1.txt\")\n",
    "\n",
    "# The code above is the same as:\n",
    "\n",
    "f = open(\"demofile1.txt\", \"rt\")"
   ]
  },
  {
   "cell_type": "markdown",
   "source": [
    "Because **\"r\"** for read, and **\"t\"** for text are the default values, you do not need to specify them."
   ],
   "metadata": {
    "collapsed": false
   },
   "id": "f452f04a3abb66ec"
  },
  {
   "cell_type": "markdown",
   "source": [
    "> **Note:** Make sure the file exists, or else you will get an error."
   ],
   "metadata": {
    "collapsed": false
   },
   "id": "43688bb799c9a374"
  },
  {
   "cell_type": "code",
   "execution_count": 5,
   "outputs": [],
   "source": [
    "# Trying with a file that exists\n",
    "\n",
    "f = open(\"demofile.txt\")"
   ],
   "metadata": {
    "collapsed": false,
    "ExecuteTime": {
     "end_time": "2024-09-05T10:44:09.766405Z",
     "start_time": "2024-09-05T10:44:09.754941Z"
    }
   },
   "id": "8365a1f40a28ace7"
  },
  {
   "cell_type": "code",
   "execution_count": null,
   "outputs": [],
   "source": [],
   "metadata": {
    "collapsed": false
   },
   "id": "9b7958e7777e66df"
  }
 ],
 "metadata": {
  "kernelspec": {
   "display_name": "Python 3",
   "language": "python",
   "name": "python3"
  },
  "language_info": {
   "codemirror_mode": {
    "name": "ipython",
    "version": 2
   },
   "file_extension": ".py",
   "mimetype": "text/x-python",
   "name": "python",
   "nbconvert_exporter": "python",
   "pygments_lexer": "ipython2",
   "version": "2.7.6"
  }
 },
 "nbformat": 4,
 "nbformat_minor": 5
}
