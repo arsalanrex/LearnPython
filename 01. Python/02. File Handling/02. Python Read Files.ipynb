{
 "cells": [
  {
   "cell_type": "markdown",
   "source": [
    "## Open a file on the Server"
   ],
   "metadata": {
    "collapsed": false
   },
   "id": "783d877f6c75366"
  },
  {
   "cell_type": "markdown",
   "source": [
    "Assume we have demofile.txt, located in the same folder as Python:"
   ],
   "metadata": {
    "collapsed": false
   },
   "id": "1b53a10176f8cac8"
  },
  {
   "cell_type": "markdown",
   "source": [
    "To open the file, use the built-in **open()** function.\n",
    "\n",
    "The **open()** function returns a file object, which has a **read()** method for reading the content of the file:"
   ],
   "metadata": {
    "collapsed": false
   },
   "id": "4629ac51638ab368"
  },
  {
   "cell_type": "code",
   "execution_count": 1,
   "id": "initial_id",
   "metadata": {
    "collapsed": true,
    "ExecuteTime": {
     "end_time": "2024-09-05T10:45:37.290145Z",
     "start_time": "2024-09-05T10:45:37.286791Z"
    }
   },
   "outputs": [
    {
     "name": "stdout",
     "output_type": "stream",
     "text": [
      "Hello! Welcome to demofile.txt\n",
      "This file is for testing purposes.\n",
      "Good Luck!\n"
     ]
    }
   ],
   "source": [
    "f = open(\"demofile.txt\", \"r\")\n",
    "print(f.read())"
   ]
  },
  {
   "cell_type": "markdown",
   "source": [
    "If the file is located in a different location, you will have to specify the file path, like this:"
   ],
   "metadata": {
    "collapsed": false
   },
   "id": "9c63cc0d3f66b003"
  },
  {
   "cell_type": "code",
   "execution_count": 2,
   "outputs": [
    {
     "name": "stdout",
     "output_type": "stream",
     "text": [
      "Hello World!\n"
     ]
    }
   ],
   "source": [
    "f = open(\"/Users/arsalan/Developer/Pycharm/LearnPython/01. Python/welcome.txt\")\n",
    "print(f.read())"
   ],
   "metadata": {
    "collapsed": false,
    "ExecuteTime": {
     "end_time": "2024-09-05T10:47:32.346821Z",
     "start_time": "2024-09-05T10:47:32.329965Z"
    }
   },
   "id": "caf805bcafa547df"
  },
  {
   "cell_type": "markdown",
   "source": [
    "### Read Only Parts of the File\n",
    "\n",
    "By default the **read()** method returns the whole text, but you can also specify how many characters you want to return:"
   ],
   "metadata": {
    "collapsed": false
   },
   "id": "642fe3ad53b6e5aa"
  },
  {
   "cell_type": "code",
   "execution_count": 3,
   "outputs": [
    {
     "name": "stdout",
     "output_type": "stream",
     "text": [
      "Hello\n"
     ]
    }
   ],
   "source": [
    "# Return the 5 first characters of the file:\n",
    "\n",
    "f = open(\"demofile.txt\", \"r\")\n",
    "print(f.read(5))"
   ],
   "metadata": {
    "collapsed": false,
    "ExecuteTime": {
     "end_time": "2024-09-05T10:48:05.866492Z",
     "start_time": "2024-09-05T10:48:05.844429Z"
    }
   },
   "id": "b7ee8c518cc24e1f"
  },
  {
   "cell_type": "markdown",
   "source": [
    "### Read Lines\n",
    "\n",
    "You can return one line by using the **readline()** method:"
   ],
   "metadata": {
    "collapsed": false
   },
   "id": "f0143089ab807e24"
  },
  {
   "cell_type": "code",
   "execution_count": 4,
   "outputs": [
    {
     "name": "stdout",
     "output_type": "stream",
     "text": [
      "Hello! Welcome to demofile.txt\n"
     ]
    }
   ],
   "source": [
    "# Read one line of the file:\n",
    "\n",
    "f = open(\"demofile.txt\", \"r\")\n",
    "print(f.readline())"
   ],
   "metadata": {
    "collapsed": false,
    "ExecuteTime": {
     "end_time": "2024-09-05T10:48:34.189512Z",
     "start_time": "2024-09-05T10:48:34.167020Z"
    }
   },
   "id": "cf8d6aa6521d71c2"
  },
  {
   "cell_type": "markdown",
   "source": [
    "By calling **readline()** two times, you can read the two first lines:"
   ],
   "metadata": {
    "collapsed": false
   },
   "id": "15a52b50bd16b5e"
  },
  {
   "cell_type": "code",
   "execution_count": 5,
   "outputs": [
    {
     "name": "stdout",
     "output_type": "stream",
     "text": [
      "Hello! Welcome to demofile.txt\n",
      "\n",
      "This file is for testing purposes.\n"
     ]
    }
   ],
   "source": [
    "# Read two lines of the file:\n",
    "\n",
    "f = open(\"demofile.txt\", \"r\")\n",
    "print(f.readline())\n",
    "print(f.readline())"
   ],
   "metadata": {
    "collapsed": false,
    "ExecuteTime": {
     "end_time": "2024-09-05T10:49:01.794141Z",
     "start_time": "2024-09-05T10:49:01.770426Z"
    }
   },
   "id": "6e31d666035b89e8"
  },
  {
   "cell_type": "markdown",
   "source": [
    "By looping through the lines of the file, you can read the whole file, line by line:"
   ],
   "metadata": {
    "collapsed": false
   },
   "id": "48b927db4fe6637f"
  },
  {
   "cell_type": "code",
   "execution_count": 6,
   "outputs": [
    {
     "name": "stdout",
     "output_type": "stream",
     "text": [
      "Hello! Welcome to demofile.txt\n",
      "\n",
      "This file is for testing purposes.\n",
      "\n",
      "Good Luck!\n"
     ]
    }
   ],
   "source": [
    "# Loop through the file line by line:\n",
    "\n",
    "f = open(\"demofile.txt\", \"r\")\n",
    "for x in f:\n",
    "  print(x)"
   ],
   "metadata": {
    "collapsed": false,
    "ExecuteTime": {
     "end_time": "2024-09-05T10:49:25.882304Z",
     "start_time": "2024-09-05T10:49:25.857285Z"
    }
   },
   "id": "933ab4e397f6dfd8"
  },
  {
   "cell_type": "markdown",
   "source": [
    "### Close Files\n",
    "\n",
    "It is a good practice to always close the file when you are done with it."
   ],
   "metadata": {
    "collapsed": false
   },
   "id": "eb627f0c5025af1a"
  },
  {
   "cell_type": "code",
   "execution_count": 7,
   "outputs": [
    {
     "name": "stdout",
     "output_type": "stream",
     "text": [
      "Hello! Welcome to demofile.txt\n"
     ]
    }
   ],
   "source": [
    "# Close the file when you are finish with it:\n",
    "\n",
    "f = open(\"demofile.txt\", \"r\")\n",
    "print(f.readline())\n",
    "f.close()"
   ],
   "metadata": {
    "collapsed": false,
    "ExecuteTime": {
     "end_time": "2024-09-05T10:49:51.307076Z",
     "start_time": "2024-09-05T10:49:51.288600Z"
    }
   },
   "id": "76a6228d415b7eb4"
  },
  {
   "cell_type": "markdown",
   "source": [
    "> **Note:** You should always close your files, in some cases, due to buffering, changes made to a file may not show until you close the file."
   ],
   "metadata": {
    "collapsed": false
   },
   "id": "68706da12f708179"
  },
  {
   "cell_type": "markdown",
   "source": [
    "[Arsalan](github.com/arsalanrex)"
   ],
   "metadata": {
    "collapsed": false
   },
   "id": "8dd4b28fd113454e"
  },
  {
   "cell_type": "code",
   "execution_count": null,
   "outputs": [],
   "source": [],
   "metadata": {
    "collapsed": false
   },
   "id": "934eaa590af17c5c"
  }
 ],
 "metadata": {
  "kernelspec": {
   "display_name": "Python 3",
   "language": "python",
   "name": "python3"
  },
  "language_info": {
   "codemirror_mode": {
    "name": "ipython",
    "version": 2
   },
   "file_extension": ".py",
   "mimetype": "text/x-python",
   "name": "python",
   "nbconvert_exporter": "python",
   "pygments_lexer": "ipython2",
   "version": "2.7.6"
  }
 },
 "nbformat": 4,
 "nbformat_minor": 5
}
