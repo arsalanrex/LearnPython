{
 "cells": [
  {
   "cell_type": "markdown",
   "source": [
    "## Python Delete File"
   ],
   "metadata": {
    "collapsed": false
   },
   "id": "da0cd77a39d0701c"
  },
  {
   "cell_type": "markdown",
   "source": [
    "### Delete a File\n",
    "\n",
    "To delete a file, you must import the OS module, and run its **os.remove()** function:"
   ],
   "metadata": {
    "collapsed": false
   },
   "id": "19a21c569fc61a0a"
  },
  {
   "cell_type": "code",
   "execution_count": 4,
   "id": "initial_id",
   "metadata": {
    "collapsed": true,
    "ExecuteTime": {
     "end_time": "2024-09-05T11:02:51.292973Z",
     "start_time": "2024-09-05T11:02:51.282724Z"
    }
   },
   "outputs": [
    {
     "name": "stdout",
     "output_type": "stream",
     "text": [
      "Hello World\n"
     ]
    }
   ],
   "source": [
    "import os\n",
    "\n",
    "# Open the file in write mode and write to it\n",
    "f = open(\"Sample.txt\", \"w\")\n",
    "f.write(\"Hello World\")\n",
    "f.close()\n",
    "\n",
    "# Reopen the file in read mode and read the content\n",
    "f = open(\"Sample.txt\", \"r\")\n",
    "print(f.readline())\n",
    "f.close()\n",
    "\n",
    "# Remove the file after reading\n",
    "os.remove(\"Sample.txt\")"
   ]
  },
  {
   "cell_type": "markdown",
   "source": [
    "### Check if File exist\n",
    "\n",
    "To avoid getting an error, you might want to check if the file exists before you try to delete it:"
   ],
   "metadata": {
    "collapsed": false
   },
   "id": "4185086eb5f143ce"
  },
  {
   "cell_type": "code",
   "execution_count": 5,
   "outputs": [
    {
     "name": "stdout",
     "output_type": "stream",
     "text": [
      "Hello World\n"
     ]
    }
   ],
   "source": [
    "import os\n",
    "\n",
    "# Open the file in write mode and write to it\n",
    "f = open(\"Sample.txt\", \"w\")\n",
    "f.write(\"Hello World\")\n",
    "f.close()\n",
    "\n",
    "# Reopen the file in read mode and read the content\n",
    "f = open(\"Sample.txt\", \"r\")\n",
    "print(f.readline())\n",
    "f.close()\n",
    "\n",
    "# Remove the file after reading\n",
    "if os.path.exists(\"Sample.txt\"):\n",
    "    os.remove(\"Sample.txt\")\n",
    "else:\n",
    "    print(\"The file does not exist\")"
   ],
   "metadata": {
    "collapsed": false,
    "ExecuteTime": {
     "end_time": "2024-09-05T11:03:42.117371Z",
     "start_time": "2024-09-05T11:03:42.097699Z"
    }
   },
   "id": "a545443c7122b9c3"
  },
  {
   "cell_type": "markdown",
   "source": [
    "### Delete Folder\n",
    "\n",
    "To delete an entire folder, use the **os.rmdir()** method:"
   ],
   "metadata": {
    "collapsed": false
   },
   "id": "46878f143c0ec08c"
  },
  {
   "cell_type": "code",
   "execution_count": 6,
   "outputs": [
    {
     "name": "stdout",
     "output_type": "stream",
     "text": [
      "Folder created\n",
      "Folder deleted\n"
     ]
    }
   ],
   "source": [
    "import os\n",
    "\n",
    "# Create a folder\n",
    "os.mkdir(\"myfolder\")\n",
    "print(\"Folder created\")\n",
    "\n",
    "# Remove the folder\n",
    "os.rmdir(\"myfolder\")\n",
    "print(\"Folder deleted\")"
   ],
   "metadata": {
    "collapsed": false,
    "ExecuteTime": {
     "end_time": "2024-09-05T11:04:44.705142Z",
     "start_time": "2024-09-05T11:04:44.670249Z"
    }
   },
   "id": "ce4b002cf2646a60"
  },
  {
   "cell_type": "markdown",
   "source": [
    "> **Note:** You can only remove empty folders."
   ],
   "metadata": {
    "collapsed": false
   },
   "id": "c4205b90407d6b3c"
  },
  {
   "cell_type": "code",
   "execution_count": null,
   "outputs": [],
   "source": [],
   "metadata": {
    "collapsed": false
   },
   "id": "22d29818ce9c503d"
  }
 ],
 "metadata": {
  "kernelspec": {
   "display_name": "Python 3",
   "language": "python",
   "name": "python3"
  },
  "language_info": {
   "codemirror_mode": {
    "name": "ipython",
    "version": 2
   },
   "file_extension": ".py",
   "mimetype": "text/x-python",
   "name": "python",
   "nbconvert_exporter": "python",
   "pygments_lexer": "ipython2",
   "version": "2.7.6"
  }
 },
 "nbformat": 4,
 "nbformat_minor": 5
}
