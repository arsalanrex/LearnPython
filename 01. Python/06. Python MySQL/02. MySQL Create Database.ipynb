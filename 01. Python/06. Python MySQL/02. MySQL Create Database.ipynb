{
 "cells": [
  {
   "cell_type": "markdown",
   "source": [
    "## Python MySQL Create Database"
   ],
   "metadata": {
    "collapsed": false
   },
   "id": "5ae712c01145db0a"
  },
  {
   "cell_type": "markdown",
   "source": [
    "### Creating a Database\n",
    "\n",
    "To create a database in MySQL, use the **CREATE DATABASE** statement:"
   ],
   "metadata": {
    "collapsed": false
   },
   "id": "f319b9725e89485e"
  },
  {
   "cell_type": "code",
   "execution_count": 1,
   "id": "initial_id",
   "metadata": {
    "collapsed": true,
    "ExecuteTime": {
     "end_time": "2024-09-05T20:53:03.970634Z",
     "start_time": "2024-09-05T20:53:03.828414Z"
    }
   },
   "outputs": [],
   "source": [
    "# Create a database named \"mydatabase\":\n",
    "\n",
    "import mysql.connector\n",
    "\n",
    "mydb = mysql.connector.connect(\n",
    "  host=\"localhost\",\n",
    "  user=\"root\"\n",
    ")\n",
    "\n",
    "mycursor = mydb.cursor()\n",
    "\n",
    "mycursor.execute(\"CREATE DATABASE mydatabase\")"
   ]
  },
  {
   "cell_type": "markdown",
   "source": [
    "If the above code was executed with no errors, you have successfully created a database."
   ],
   "metadata": {
    "collapsed": false
   },
   "id": "c87e936397fb576f"
  },
  {
   "cell_type": "markdown",
   "source": [
    "### Check if Database Exists\n",
    "\n",
    "You can check if a database exist by listing all databases in your system by using the **SHOW DATABASES** statement:"
   ],
   "metadata": {
    "collapsed": false
   },
   "id": "927249c1e003dc46"
  },
  {
   "cell_type": "code",
   "execution_count": 2,
   "outputs": [
    {
     "name": "stdout",
     "output_type": "stream",
     "text": [
      "('information_schema',)\n",
      "('mydatabase',)\n",
      "('mysql',)\n",
      "('performance_schema',)\n",
      "('sys',)\n"
     ]
    }
   ],
   "source": [
    "# Return a list of your system's databases:\n",
    "\n",
    "import mysql.connector\n",
    "\n",
    "mydb = mysql.connector.connect(\n",
    "  host=\"localhost\",\n",
    "  user=\"root\"\n",
    ")\n",
    "\n",
    "mycursor = mydb.cursor()\n",
    "\n",
    "mycursor.execute(\"SHOW DATABASES\")\n",
    "\n",
    "for x in mycursor:\n",
    "  print(x)"
   ],
   "metadata": {
    "collapsed": false,
    "ExecuteTime": {
     "end_time": "2024-09-05T20:54:10.051638Z",
     "start_time": "2024-09-05T20:54:09.957511Z"
    }
   },
   "id": "60fe376c3ed3fc27"
  },
  {
   "cell_type": "markdown",
   "source": [
    "Or you can try to access the database when making the connection:"
   ],
   "metadata": {
    "collapsed": false
   },
   "id": "f57ddee4899d0664"
  },
  {
   "cell_type": "code",
   "execution_count": 3,
   "outputs": [],
   "source": [
    "# Try connecting to the database \"mydatabase\":\n",
    "\n",
    "import mysql.connector\n",
    "\n",
    "mydb = mysql.connector.connect(\n",
    "  host=\"localhost\",\n",
    "  user=\"root\",\n",
    "  database=\"mydatabase\"\n",
    ")"
   ],
   "metadata": {
    "collapsed": false,
    "ExecuteTime": {
     "end_time": "2024-09-05T20:55:16.425306Z",
     "start_time": "2024-09-05T20:55:16.408642Z"
    }
   },
   "id": "ea874f305282f660"
  },
  {
   "cell_type": "markdown",
   "source": [
    "If the database does not exist, you will get an error."
   ],
   "metadata": {
    "collapsed": false
   },
   "id": "ac9a2d6d9b9198d5"
  },
  {
   "cell_type": "markdown",
   "source": [
    "[Arsalan](github.com/arsalanrex)"
   ],
   "metadata": {
    "collapsed": false
   },
   "id": "be1e2266d654e1c4"
  },
  {
   "cell_type": "code",
   "execution_count": null,
   "outputs": [],
   "source": [],
   "metadata": {
    "collapsed": false
   },
   "id": "9ceb9c9bba040e7f"
  }
 ],
 "metadata": {
  "kernelspec": {
   "display_name": "Python 3",
   "language": "python",
   "name": "python3"
  },
  "language_info": {
   "codemirror_mode": {
    "name": "ipython",
    "version": 2
   },
   "file_extension": ".py",
   "mimetype": "text/x-python",
   "name": "python",
   "nbconvert_exporter": "python",
   "pygments_lexer": "ipython2",
   "version": "2.7.6"
  }
 },
 "nbformat": 4,
 "nbformat_minor": 5
}
