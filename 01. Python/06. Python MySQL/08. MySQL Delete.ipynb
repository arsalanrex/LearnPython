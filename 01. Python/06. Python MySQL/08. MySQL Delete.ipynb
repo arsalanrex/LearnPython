{
 "cells": [
  {
   "cell_type": "markdown",
   "source": [
    "## Python MySQL Delete From By"
   ],
   "metadata": {
    "collapsed": false
   },
   "id": "4c444f378356c52f"
  },
  {
   "cell_type": "markdown",
   "source": [
    "### Delete Record\n",
    "\n",
    "You can delete records from an existing table by using the **\"DELETE FROM\"** statement:\n"
   ],
   "metadata": {
    "collapsed": false
   },
   "id": "9bbd9ccf19b5f90d"
  },
  {
   "cell_type": "code",
   "execution_count": 1,
   "id": "initial_id",
   "metadata": {
    "collapsed": true,
    "ExecuteTime": {
     "end_time": "2024-09-06T06:38:04.072111Z",
     "start_time": "2024-09-06T06:38:03.972898Z"
    }
   },
   "outputs": [
    {
     "name": "stdout",
     "output_type": "stream",
     "text": [
      "1 record(s) deleted\n"
     ]
    }
   ],
   "source": [
    "# Delete any record where the address is \"Mountain 21\"\n",
    "\n",
    "import mysql.connector\n",
    "\n",
    "mydb = mysql.connector.connect(\n",
    "  host=\"localhost\",\n",
    "  user=\"root\",\n",
    "    database=\"mydatabase\"\n",
    ")\n",
    "\n",
    "mycursor = mydb.cursor()\n",
    "\n",
    "sql = \"DELETE FROM customers WHERE address = 'Mountain 21'\"\n",
    "\n",
    "mycursor.execute(sql)\n",
    "\n",
    "mydb.commit()\n",
    "\n",
    "print(mycursor.rowcount, \"record(s) deleted\")"
   ]
  },
  {
   "cell_type": "markdown",
   "source": [
    "> **Note:** Notice the statement: **mydb.commit()**. It is required to make the changes, otherwise no changes are made to the table."
   ],
   "metadata": {
    "collapsed": false
   },
   "id": "d283974aa251769"
  },
  {
   "cell_type": "markdown",
   "source": [
    "> **Notice:** Notice the **WHERE** clause in the **DELETE** syntax. The **WHERE** clause specifies which record or records that should be deleted. If you omit the **WHERE** clause, all records will be deleted!"
   ],
   "metadata": {
    "collapsed": false
   },
   "id": "d50ea64dd3bff958"
  },
  {
   "cell_type": "markdown",
   "source": [
    "### Prevent SQL Injection\n",
    "\n",
    "It is considered a good practice to escape the values of any query, also in delete statements.\n",
    "\n",
    "This is to prevent SQL injections, which is a common web hacking technique to destroy or misuse your database.\n",
    "\n",
    "The **mysql.connector** module uses the placeholder **%s** to escape values in the delete statement:"
   ],
   "metadata": {
    "collapsed": false
   },
   "id": "97738bebb6908ed5"
  },
  {
   "cell_type": "code",
   "execution_count": 2,
   "outputs": [
    {
     "name": "stdout",
     "output_type": "stream",
     "text": [
      "1 record(s) deleted\n"
     ]
    }
   ],
   "source": [
    "# Escape values by using the placeholder %s method:\n",
    "\n",
    "import mysql.connector\n",
    "\n",
    "mydb = mysql.connector.connect(\n",
    "  host=\"localhost\",\n",
    "  user=\"root\",\n",
    "    database=\"mydatabase\"\n",
    ")\n",
    "\n",
    "mycursor = mydb.cursor()\n",
    "\n",
    "sql = \"DELETE FROM customers WHERE address = %s\"\n",
    "adr = (\"Yellow Garden 2\", )\n",
    "\n",
    "mycursor.execute(sql, adr)\n",
    "\n",
    "mydb.commit()\n",
    "\n",
    "print(mycursor.rowcount, \"record(s) deleted\")"
   ],
   "metadata": {
    "collapsed": false,
    "ExecuteTime": {
     "end_time": "2024-09-06T06:40:40.307218Z",
     "start_time": "2024-09-06T06:40:40.270193Z"
    }
   },
   "id": "afa11bf8ef48c345"
  },
  {
   "cell_type": "markdown",
   "source": [
    "[Arsalan](github.com/arsalanrex)"
   ],
   "metadata": {
    "collapsed": false
   },
   "id": "651587e04067ca8f"
  },
  {
   "cell_type": "code",
   "execution_count": null,
   "outputs": [],
   "source": [],
   "metadata": {
    "collapsed": false
   },
   "id": "2a65262e1016737d"
  }
 ],
 "metadata": {
  "kernelspec": {
   "display_name": "Python 3",
   "language": "python",
   "name": "python3"
  },
  "language_info": {
   "codemirror_mode": {
    "name": "ipython",
    "version": 2
   },
   "file_extension": ".py",
   "mimetype": "text/x-python",
   "name": "python",
   "nbconvert_exporter": "python",
   "pygments_lexer": "ipython2",
   "version": "2.7.6"
  }
 },
 "nbformat": 4,
 "nbformat_minor": 5
}
