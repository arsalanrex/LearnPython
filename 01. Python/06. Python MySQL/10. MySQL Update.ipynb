{
 "cells": [
  {
   "cell_type": "markdown",
   "source": [
    "## Python MySQL Update Table"
   ],
   "metadata": {
    "collapsed": false
   },
   "id": "934ac64ab1dcdc54"
  },
  {
   "cell_type": "markdown",
   "source": [
    "### Update Table\n",
    "\n",
    "You can update existing records in a table by using the **\"UPDATE\"** statement:"
   ],
   "metadata": {
    "collapsed": false
   },
   "id": "780634ee896bf034"
  },
  {
   "cell_type": "code",
   "execution_count": 2,
   "id": "initial_id",
   "metadata": {
    "collapsed": true,
    "ExecuteTime": {
     "end_time": "2024-09-06T07:06:03.559700Z",
     "start_time": "2024-09-06T07:06:03.523703Z"
    }
   },
   "outputs": [
    {
     "name": "stdout",
     "output_type": "stream",
     "text": [
      "1 record(s) affected\n"
     ]
    }
   ],
   "source": [
    "# Overwrite the address column from \"Valley 345\" to \"Canyoun 123\"\n",
    "\n",
    "import mysql.connector\n",
    "\n",
    "mydb = mysql.connector.connect(\n",
    "  host=\"localhost\",\n",
    "  user=\"root\",\n",
    "    database=\"mydatabase\"\n",
    ")\n",
    "\n",
    "mycursor = mydb.cursor()\n",
    "\n",
    "sql = \"UPDATE customers SET address = 'Canyoun 123' WHERE address = 'Valley 345'\"\n",
    "\n",
    "mycursor.execute(sql)\n",
    "\n",
    "mydb.commit()\n",
    "\n",
    "print(mycursor.rowcount, \"record(s) affected\")"
   ]
  },
  {
   "cell_type": "markdown",
   "source": [
    "> **Note:** Notice the statement: **mydb.commit()**. It is required to make the changes, otherwise no changes are made to the table."
   ],
   "metadata": {
    "collapsed": false
   },
   "id": "85ffcbb9a2a69914"
  },
  {
   "cell_type": "markdown",
   "source": [
    "> **Notice:** Notice the **WHERE** clause in the **UPDATE** syntax. The **WHERE** clause specifies which record or records that should be updated. If you omit the **WHERE** clause, all records will be updated!"
   ],
   "metadata": {
    "collapsed": false
   },
   "id": "7d390605ab2cb122"
  },
  {
   "cell_type": "markdown",
   "source": [
    "### Prevent SQL Injection\n",
    "\n",
    "It is considered a good practice to escape the values of any query, also in update statements. \n",
    "\n",
    "This is to prevent SQL injections, which is a common web hacking technique to destroy or misuse your database.\n",
    "\n",
    "The **mysql.connector** module uses the placeholder **%s** to escape values in the delete statement:"
   ],
   "metadata": {
    "collapsed": false
   },
   "id": "b8e9bd9c600812bf"
  },
  {
   "cell_type": "code",
   "execution_count": 3,
   "outputs": [
    {
     "name": "stdout",
     "output_type": "stream",
     "text": [
      "1 record(s) affected\n"
     ]
    }
   ],
   "source": [
    "# Escape values by using the placeholder %s method:\n",
    "\n",
    "import mysql.connector\n",
    "\n",
    "mydb = mysql.connector.connect(\n",
    "  host=\"localhost\",\n",
    "  user=\"root\",\n",
    "    database=\"mydatabase\"\n",
    ")\n",
    "\n",
    "mycursor = mydb.cursor()\n",
    "\n",
    "sql = \"UPDATE customers SET address = %s WHERE address = %s\"\n",
    "val = (\"Valley 345\", \"Canyoun 123\")\n",
    "\n",
    "mycursor.execute(sql, val)\n",
    "\n",
    "mydb.commit()\n",
    "\n",
    "print(mycursor.rowcount, \"record(s) affected\")"
   ],
   "metadata": {
    "collapsed": false,
    "ExecuteTime": {
     "end_time": "2024-09-06T07:08:38.945823Z",
     "start_time": "2024-09-06T07:08:38.909106Z"
    }
   },
   "id": "d5ccbff73e22c54f"
  },
  {
   "cell_type": "markdown",
   "source": [
    "[Arsalan](github.com/arsalanrex)"
   ],
   "metadata": {
    "collapsed": false
   },
   "id": "2b6dc9047754fa7e"
  },
  {
   "cell_type": "code",
   "execution_count": null,
   "outputs": [],
   "source": [],
   "metadata": {
    "collapsed": false
   },
   "id": "bbbe9d20c22dbd45"
  }
 ],
 "metadata": {
  "kernelspec": {
   "display_name": "Python 3",
   "language": "python",
   "name": "python3"
  },
  "language_info": {
   "codemirror_mode": {
    "name": "ipython",
    "version": 2
   },
   "file_extension": ".py",
   "mimetype": "text/x-python",
   "name": "python",
   "nbconvert_exporter": "python",
   "pygments_lexer": "ipython2",
   "version": "2.7.6"
  }
 },
 "nbformat": 4,
 "nbformat_minor": 5
}
