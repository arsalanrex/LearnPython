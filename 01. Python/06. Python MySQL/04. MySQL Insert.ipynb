{
 "cells": [
  {
   "cell_type": "markdown",
   "source": [
    "## Python MySQL Insert Into Table"
   ],
   "metadata": {
    "collapsed": false
   },
   "id": "3ea57f0a05f94f50"
  },
  {
   "cell_type": "markdown",
   "source": [
    "### Insert Into Table\n",
    "\n",
    "To fill a table in MySQL, use the **\"INSERT INTO\"** statement."
   ],
   "metadata": {
    "collapsed": false
   },
   "id": "37d36d0b5da84512"
  },
  {
   "cell_type": "code",
   "execution_count": 2,
   "id": "initial_id",
   "metadata": {
    "collapsed": true,
    "ExecuteTime": {
     "end_time": "2024-09-05T21:13:19.561872Z",
     "start_time": "2024-09-05T21:13:19.466133Z"
    }
   },
   "outputs": [
    {
     "name": "stdout",
     "output_type": "stream",
     "text": [
      "1 record inserted.\n"
     ]
    }
   ],
   "source": [
    "# Insert a record in the \"customers\" table:\n",
    "\n",
    "import mysql.connector\n",
    "\n",
    "mydb = mysql.connector.connect(\n",
    "  host=\"localhost\",\n",
    "  user=\"root\",\n",
    "    database=\"mydatabase\"\n",
    ")\n",
    "\n",
    "mycursor = mydb.cursor()\n",
    "\n",
    "sql = \"INSERT INTO customers (name, address) VALUES (%s, %s)\"\n",
    "val = (\"John\", \"Highway 21\")\n",
    "mycursor.execute(sql, val)\n",
    "\n",
    "mydb.commit()\n",
    "\n",
    "print(mycursor.rowcount, \"record inserted.\")"
   ]
  },
  {
   "cell_type": "markdown",
   "source": [
    "> **Important!:** Notice the statement: mydb.commit(). It is required to make the changes, otherwise no changes are made to the table."
   ],
   "metadata": {
    "collapsed": false
   },
   "id": "11600f6e2363cb27"
  },
  {
   "cell_type": "markdown",
   "source": [
    "### Insert Multiple Rows\n",
    "\n",
    "To insert multiple rows into a table, use the **executemany()** method.\n",
    "\n",
    "The second parameter of the **executemany()** method is a list of tuples, containing the data you want to insert:"
   ],
   "metadata": {
    "collapsed": false
   },
   "id": "a2e5d9cbde7d017d"
  },
  {
   "cell_type": "code",
   "execution_count": 4,
   "outputs": [
    {
     "name": "stdout",
     "output_type": "stream",
     "text": [
      "13 was inserted.\n"
     ]
    }
   ],
   "source": [
    "# Insert multiple rows in the \"customers\" table:\n",
    "\n",
    "import mysql.connector\n",
    "\n",
    "mydb = mysql.connector.connect(\n",
    "  host=\"localhost\",\n",
    "  user=\"root\",\n",
    "    database=\"mydatabase\"\n",
    ")\n",
    "\n",
    "mycursor = mydb.cursor()\n",
    "\n",
    "sql = \"INSERT INTO customers (name, address) VALUES (%s, %s)\"\n",
    "val = [\n",
    "  ('Peter', 'Lowstreet 4'),\n",
    "  ('Amy', 'Apple st 652'),\n",
    "  ('Hannah', 'Mountain 21'),\n",
    "  ('Michael', 'Valley 345'),\n",
    "  ('Sandy', 'Ocean blvd 2'),\n",
    "  ('Betty', 'Green Grass 1'),\n",
    "  ('Richard', 'Sky st 331'),\n",
    "  ('Susan', 'One way 98'),\n",
    "  ('Vicky', 'Yellow Garden 2'),\n",
    "  ('Ben', 'Park Lane 38'),\n",
    "  ('William', 'Central st 954'),\n",
    "  ('Chuck', 'Main Road 989'),\n",
    "  ('Viola', 'Sideway 1633')\n",
    "]\n",
    "mycursor.executemany(sql, val)\n",
    "\n",
    "mydb.commit()\n",
    "\n",
    "print(mycursor.rowcount, \"was inserted.\")"
   ],
   "metadata": {
    "collapsed": false,
    "ExecuteTime": {
     "end_time": "2024-09-05T21:15:55.394485Z",
     "start_time": "2024-09-05T21:15:55.380936Z"
    }
   },
   "id": "e97dfe9dde6e2b4"
  },
  {
   "cell_type": "markdown",
   "source": [
    "### Get Inserted ID\n",
    "\n",
    "You can get the id of the row you just inserted by asking the cursor object."
   ],
   "metadata": {
    "collapsed": false
   },
   "id": "7d15ef1fb13a17e9"
  },
  {
   "cell_type": "markdown",
   "source": [
    "> **Note:** If you insert more than one row, the id of the last inserted row is returned."
   ],
   "metadata": {
    "collapsed": false
   },
   "id": "5ed71ed30e51fa9"
  },
  {
   "cell_type": "code",
   "execution_count": 6,
   "outputs": [
    {
     "name": "stdout",
     "output_type": "stream",
     "text": [
      "1 record inserted.\n",
      "ID: 16\n"
     ]
    }
   ],
   "source": [
    "# Insert one row, and return the ID:\n",
    "\n",
    "import mysql.connector\n",
    "\n",
    "mydb = mysql.connector.connect(\n",
    "  host=\"localhost\",\n",
    "  user=\"root\",\n",
    "    database=\"mydatabase\"\n",
    ")\n",
    "\n",
    "mycursor = mydb.cursor()\n",
    "\n",
    "sql = \"INSERT INTO customers (name, address) VALUES (%s, %s)\"\n",
    "val = (\"Michelle\", \"Blue Village\")\n",
    "mycursor.execute(sql, val)\n",
    "\n",
    "mydb.commit()\n",
    "\n",
    "print(mycursor.rowcount, \"record inserted.\\nID:\", mycursor.lastrowid)"
   ],
   "metadata": {
    "collapsed": false,
    "ExecuteTime": {
     "end_time": "2024-09-05T21:18:15.639082Z",
     "start_time": "2024-09-05T21:18:15.625280Z"
    }
   },
   "id": "d88a76c41beb37db"
  },
  {
   "cell_type": "markdown",
   "source": [
    "[Arsalan](github.com/arsalanrex)"
   ],
   "metadata": {
    "collapsed": false
   },
   "id": "f104f7b2e791ad42"
  },
  {
   "cell_type": "code",
   "execution_count": null,
   "outputs": [],
   "source": [],
   "metadata": {
    "collapsed": false
   },
   "id": "d3eb9c5b614bde53"
  }
 ],
 "metadata": {
  "kernelspec": {
   "display_name": "Python 3",
   "language": "python",
   "name": "python3"
  },
  "language_info": {
   "codemirror_mode": {
    "name": "ipython",
    "version": 2
   },
   "file_extension": ".py",
   "mimetype": "text/x-python",
   "name": "python",
   "nbconvert_exporter": "python",
   "pygments_lexer": "ipython2",
   "version": "2.7.6"
  }
 },
 "nbformat": 4,
 "nbformat_minor": 5
}
