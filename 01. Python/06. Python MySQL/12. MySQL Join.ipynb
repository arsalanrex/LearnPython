{
 "cells": [
  {
   "cell_type": "markdown",
   "source": [
    "## Python MySQL Join"
   ],
   "metadata": {
    "collapsed": false
   },
   "id": "41a83fef3e5c7288"
  },
  {
   "cell_type": "markdown",
   "source": [
    "### Join Two or More Tables\n",
    "\n",
    "You can combine rows from two or more tables, based on a related column between them, by using a JOIN statement.\n",
    "\n",
    "Consider you have a \"users\" table and a \"products\" table:"
   ],
   "metadata": {
    "collapsed": false
   },
   "id": "70998181e3eb8114"
  },
  {
   "cell_type": "code",
   "execution_count": 1,
   "id": "initial_id",
   "metadata": {
    "collapsed": true,
    "ExecuteTime": {
     "end_time": "2024-09-06T07:19:04.234256Z",
     "start_time": "2024-09-06T07:19:04.190605Z"
    }
   },
   "outputs": [
    {
     "name": "stdout",
     "output_type": "stream",
     "text": [
      "5 record was inserted.\n",
      "(1, 'John', 154)\n",
      "(2, 'Peter', 154)\n",
      "(3, 'Amy', 155)\n",
      "(4, 'Hannah', 0)\n",
      "(5, 'Michael', 0)\n"
     ]
    }
   ],
   "source": [
    "# Users Table\n",
    "\n",
    "import mysql.connector\n",
    "\n",
    "mydb = mysql.connector.connect(\n",
    "  host=\"localhost\",\n",
    "  user=\"root\",\n",
    "    database=\"mydatabase\"\n",
    ")\n",
    "\n",
    "mycursor = mydb.cursor()\n",
    "\n",
    "mycursor.execute(\"CREATE TABLE users (id INT AUTO_INCREMENT PRIMARY KEY, name VARCHAR(255), fav INT)\")\n",
    "\n",
    "sql = \"INSERT INTO users (name, fav) VALUES (%s, %s)\"\n",
    "val = [\n",
    "  ('John', 154),\n",
    "  ('Peter', 154),\n",
    "  ('Amy', 155),\n",
    "  ('Hannah', 0),\n",
    "  ('Michael', 0)\n",
    "]\n",
    "mycursor.executemany(sql, val)\n",
    "\n",
    "mydb.commit()\n",
    "\n",
    "print(mycursor.rowcount, \"record was inserted.\")\n",
    "\n",
    "sql = \"SELECT * FROM users\"\n",
    "mycursor.execute(sql)\n",
    "myresult = mycursor.fetchall()\n",
    "for x in myresult:\n",
    "  print(x)"
   ]
  },
  {
   "cell_type": "code",
   "execution_count": 2,
   "outputs": [
    {
     "name": "stdout",
     "output_type": "stream",
     "text": [
      "3 record was inserted.\n",
      "(154, 'Chocolate Heaven')\n",
      "(155, 'Tasty Lemons')\n",
      "(156, 'Vanilla Dreams')\n"
     ]
    }
   ],
   "source": [
    "# Products Table\n",
    "\n",
    "import mysql.connector\n",
    "\n",
    "mydb = mysql.connector.connect(\n",
    "  host=\"localhost\",\n",
    "  user=\"root\",\n",
    "    database=\"mydatabase\"\n",
    ")\n",
    "\n",
    "mycursor = mydb.cursor()\n",
    "\n",
    "mycursor.execute(\"CREATE TABLE products (id INT AUTO_INCREMENT PRIMARY KEY, name VARCHAR(255))\")\n",
    "\n",
    "sql = \"INSERT INTO products (id, name) VALUES (%s, %s)\"\n",
    "\n",
    "val = [\n",
    "  (154, 'Chocolate Heaven'),\n",
    "  (155, 'Tasty Lemons'),\n",
    "  (156, 'Vanilla Dreams')\n",
    "]\n",
    "\n",
    "mycursor.executemany(sql, val)\n",
    "\n",
    "mydb.commit()\n",
    "\n",
    "print(mycursor.rowcount, \"record was inserted.\")\n",
    "\n",
    "sql = \"SELECT * FROM products\"\n",
    "mycursor.execute(sql)\n",
    "myresult = mycursor.fetchall()\n",
    "for x in myresult:\n",
    "  print(x)"
   ],
   "metadata": {
    "collapsed": false,
    "ExecuteTime": {
     "end_time": "2024-09-06T07:21:07.431475Z",
     "start_time": "2024-09-06T07:21:07.407131Z"
    }
   },
   "id": "b679fcf75158ee76"
  },
  {
   "cell_type": "markdown",
   "source": [
    "These two tables can be combined by using users' **fav** field and products' **id** field."
   ],
   "metadata": {
    "collapsed": false
   },
   "id": "40a3ee9d132d7479"
  },
  {
   "cell_type": "code",
   "execution_count": 3,
   "outputs": [
    {
     "name": "stdout",
     "output_type": "stream",
     "text": [
      "('John', 'Chocolate Heaven')\n",
      "('Peter', 'Chocolate Heaven')\n",
      "('Amy', 'Tasty Lemons')\n"
     ]
    }
   ],
   "source": [
    "# Join users and products to see the name of the users favorite product:\n",
    "\n",
    "import mysql.connector\n",
    "\n",
    "mydb = mysql.connector.connect(\n",
    "  host=\"localhost\",\n",
    "  user=\"root\",\n",
    "    database=\"mydatabase\"\n",
    ")\n",
    "\n",
    "mycursor = mydb.cursor()\n",
    "\n",
    "sql = \"SELECT users.name AS user, products.name AS favorite FROM users JOIN products ON users.fav = products.id\"\n",
    "\n",
    "mycursor.execute(sql)\n",
    "\n",
    "myresult = mycursor.fetchall()\n",
    "\n",
    "for x in myresult:\n",
    "  print(x)"
   ],
   "metadata": {
    "collapsed": false,
    "ExecuteTime": {
     "end_time": "2024-09-06T07:23:52.985013Z",
     "start_time": "2024-09-06T07:23:52.920779Z"
    }
   },
   "id": "ac4ee119f63bfd89"
  },
  {
   "cell_type": "markdown",
   "source": [
    "> **Note:** You can use JOIN instead of INNER JOIN. They will both give you the same result."
   ],
   "metadata": {
    "collapsed": false
   },
   "id": "59fb5841bf623831"
  },
  {
   "cell_type": "markdown",
   "source": [
    "### LEFT JOIN\n",
    "\n",
    "In the example above, Hannah and Michael were excluded from the result, that is because **INNER JOIN** only shows the records where there is a match.\n",
    "\n",
    "If you want to show all users, even if they do not have a favorite product, use the **LEFT JOIN** statement:"
   ],
   "metadata": {
    "collapsed": false
   },
   "id": "8b6e4d4d05f34064"
  },
  {
   "cell_type": "code",
   "execution_count": 4,
   "outputs": [
    {
     "name": "stdout",
     "output_type": "stream",
     "text": [
      "('John', 'Chocolate Heaven')\n",
      "('Peter', 'Chocolate Heaven')\n",
      "('Amy', 'Tasty Lemons')\n",
      "('Hannah', None)\n",
      "('Michael', None)\n"
     ]
    }
   ],
   "source": [
    "# Select all users and their favorite product:\n",
    "\n",
    "import mysql.connector\n",
    "\n",
    "mydb = mysql.connector.connect(\n",
    "  host=\"localhost\",\n",
    "  user=\"root\",\n",
    "    database=\"mydatabase\"\n",
    ")\n",
    "\n",
    "mycursor = mydb.cursor()\n",
    "\n",
    "sql = \"SELECT users.name AS user, products.name AS favorite FROM users LEFT JOIN products ON users.fav = products.id\"\n",
    "\n",
    "mycursor.execute(sql)\n",
    "\n",
    "myresult = mycursor.fetchall()\n",
    "\n",
    "for x in myresult:\n",
    "  print(x)"
   ],
   "metadata": {
    "collapsed": false,
    "ExecuteTime": {
     "end_time": "2024-09-06T07:26:35.956452Z",
     "start_time": "2024-09-06T07:26:35.776607Z"
    }
   },
   "id": "fcdcdbb23a3ac57"
  },
  {
   "cell_type": "markdown",
   "source": [
    "### RIGHT JOIN\n",
    "\n",
    "If you want to return all products, and the users who have them as their favorite, even if no user have them as their favorite, use the **RIGHT JOIN** statement:"
   ],
   "metadata": {
    "collapsed": false
   },
   "id": "3063054854042a67"
  },
  {
   "cell_type": "code",
   "execution_count": 5,
   "outputs": [
    {
     "name": "stdout",
     "output_type": "stream",
     "text": [
      "('Peter', 'Chocolate Heaven')\n",
      "('John', 'Chocolate Heaven')\n",
      "('Amy', 'Tasty Lemons')\n",
      "(None, 'Vanilla Dreams')\n"
     ]
    }
   ],
   "source": [
    "# Select all products, and the user(s) who have them as their favorite:\n",
    "\n",
    "import mysql.connector\n",
    "\n",
    "mydb = mysql.connector.connect(\n",
    "  host=\"localhost\",\n",
    "  user=\"root\",\n",
    "    database=\"mydatabase\"\n",
    ")\n",
    "\n",
    "mycursor = mydb.cursor()\n",
    "\n",
    "sql = \"SELECT users.name AS user, products.name AS favorite FROM users RIGHT JOIN products ON users.fav = products.id\"\n",
    "\n",
    "mycursor.execute(sql)\n",
    "\n",
    "myresult = mycursor.fetchall()\n",
    "\n",
    "for x in myresult:\n",
    "  print(x)"
   ],
   "metadata": {
    "collapsed": false,
    "ExecuteTime": {
     "end_time": "2024-09-06T07:28:15.192740Z",
     "start_time": "2024-09-06T07:28:15.174927Z"
    }
   },
   "id": "82599ba57ef50050"
  },
  {
   "cell_type": "markdown",
   "source": [
    "> **Note:** Hannah and Michael are excluded from the result, because there is no match for them in the \"users\" table."
   ],
   "metadata": {
    "collapsed": false
   },
   "id": "80c44fe6bb8786b4"
  },
  {
   "cell_type": "markdown",
   "source": [
    "> **Note:** You can use LEFT JOIN or RIGHT JOIN depending on which table you want to return all records from."
   ],
   "metadata": {
    "collapsed": false
   },
   "id": "c6741dc9cae495bb"
  },
  {
   "cell_type": "markdown",
   "source": [
    "[Arsalan](github.com/arsalanrex)"
   ],
   "metadata": {
    "collapsed": false
   },
   "id": "a15177e871fce56"
  },
  {
   "cell_type": "code",
   "execution_count": null,
   "outputs": [],
   "source": [],
   "metadata": {
    "collapsed": false
   },
   "id": "4c02c1c4dbe7bb04"
  }
 ],
 "metadata": {
  "kernelspec": {
   "display_name": "Python 3",
   "language": "python",
   "name": "python3"
  },
  "language_info": {
   "codemirror_mode": {
    "name": "ipython",
    "version": 2
   },
   "file_extension": ".py",
   "mimetype": "text/x-python",
   "name": "python",
   "nbconvert_exporter": "python",
   "pygments_lexer": "ipython2",
   "version": "2.7.6"
  }
 },
 "nbformat": 4,
 "nbformat_minor": 5
}
