{
 "cells": [
  {
   "cell_type": "markdown",
   "source": [
    "## Python MySQL\n",
    "\n",
    "Python can be used in database applications.\n",
    "\n",
    "One of the most popular databases is MySQL."
   ],
   "metadata": {
    "collapsed": false
   },
   "id": "1d23361a94fc317f"
  },
  {
   "cell_type": "markdown",
   "source": [
    "### MySQL Database\n",
    "\n",
    "To be able to experiment with the code examples in this tutorial, you should have MySQL installed on your computer.\n",
    "\n",
    "You can download MySQL on Mac by\n",
    " \n",
    "    ~ % brew install mysql\n",
    "    \n",
    "To start the MySQL server, you would run\n",
    "\n",
    "    ~ % brew services start mysql\n",
    "    ~ % mysql -u root\n",
    "    \n",
    "This will start a MySQL server on your machine with username root and no password. You can then run SQL queries on your database.\n",
    "    \n",
    "To stop the MySQL server, you would run\n",
    "\n",
    "        ~ % brew services stop mysql"
   ],
   "metadata": {
    "collapsed": false
   },
   "id": "33090e8f6b769325"
  },
  {
   "cell_type": "markdown",
   "source": [
    "### Install MySQL Driver\n",
    "\n",
    "Python needs a MySQL driver to access the MySQL database.\n",
    "\n",
    "In this tutorial we will use the driver \"MySQL Connector\".\n",
    "\n",
    "We recommend that you use PIP to install \"MySQL Connector\".\n",
    "\n",
    "PIP is most likely already installed in your Python environment.\n",
    "\n",
    "Navigate your command line to the location of PIP, and type the following:\n",
    "\n",
    "        ~ % pip install mysql-connector-python"
   ],
   "metadata": {
    "collapsed": false
   },
   "id": "e30389ac87bca303"
  },
  {
   "cell_type": "markdown",
   "source": [
    "### Test MySQL Connector\n",
    "\n",
    "Now you can test if the installation was successful."
   ],
   "metadata": {
    "collapsed": false
   },
   "id": "3c78b3217c4dc990"
  },
  {
   "cell_type": "code",
   "execution_count": 1,
   "id": "initial_id",
   "metadata": {
    "collapsed": true,
    "ExecuteTime": {
     "end_time": "2024-09-05T20:48:17.530666Z",
     "start_time": "2024-09-05T20:48:17.488984Z"
    }
   },
   "outputs": [],
   "source": [
    "# Import the mysql connector\n",
    "\n",
    "import mysql.connector"
   ]
  },
  {
   "cell_type": "markdown",
   "source": [
    "If the above code was executed with no errors, \"MySQL Connector\" is installed and ready to be used."
   ],
   "metadata": {
    "collapsed": false
   },
   "id": "ce427c2aa58b8ff4"
  },
  {
   "cell_type": "markdown",
   "source": [
    "### Create Connection\n",
    "\n",
    "Start by creating a connection to the database.\n",
    "\n",
    "Use the username and password from your MySQL database:"
   ],
   "metadata": {
    "collapsed": false
   },
   "id": "3fb459ebcec25300"
  },
  {
   "cell_type": "code",
   "execution_count": 2,
   "outputs": [
    {
     "name": "stdout",
     "output_type": "stream",
     "text": [
      "<mysql.connector.connection_cext.CMySQLConnection object at 0x103d2e970>\n"
     ]
    }
   ],
   "source": [
    "import mysql.connector\n",
    "\n",
    "mydb = mysql.connector.connect(\n",
    "  host=\"localhost\",\n",
    "  user=\"root\"\n",
    ")\n",
    "\n",
    "print(mydb)"
   ],
   "metadata": {
    "collapsed": false,
    "ExecuteTime": {
     "end_time": "2024-09-05T20:49:08.793484Z",
     "start_time": "2024-09-05T20:49:08.691568Z"
    }
   },
   "id": "612445746ee05969"
  },
  {
   "cell_type": "markdown",
   "source": [
    "Now you can start querying the database using Python."
   ],
   "metadata": {
    "collapsed": false
   },
   "id": "20038c4997b00f6c"
  },
  {
   "cell_type": "markdown",
   "source": [
    "[Arsalan](github.com/arsalanrex)"
   ],
   "metadata": {
    "collapsed": false
   },
   "id": "84c8a585eef88b11"
  },
  {
   "cell_type": "code",
   "execution_count": null,
   "outputs": [],
   "source": [],
   "metadata": {
    "collapsed": false
   },
   "id": "4df6987c4dc1eb44"
  }
 ],
 "metadata": {
  "kernelspec": {
   "display_name": "Python 3",
   "language": "python",
   "name": "python3"
  },
  "language_info": {
   "codemirror_mode": {
    "name": "ipython",
    "version": 2
   },
   "file_extension": ".py",
   "mimetype": "text/x-python",
   "name": "python",
   "nbconvert_exporter": "python",
   "pygments_lexer": "ipython2",
   "version": "2.7.6"
  }
 },
 "nbformat": 4,
 "nbformat_minor": 5
}
