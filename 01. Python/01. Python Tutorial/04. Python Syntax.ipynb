{
 "cells": [
  {
   "cell_type": "markdown",
   "source": [
    "## Python Syntax"
   ],
   "metadata": {
    "collapsed": false
   },
   "id": "57fb9ecdd9e271ae"
  },
  {
   "cell_type": "markdown",
   "source": [
    "### Executing Python Syntax\n",
    "\n",
    "In Python, we can execute a statement by writing it in the script or directly in the Python interpreter."
   ],
   "metadata": {
    "collapsed": false
   },
   "id": "93a1f229989abf8c"
  },
  {
   "cell_type": "code",
   "execution_count": 1,
   "outputs": [
    {
     "name": "stdout",
     "output_type": "stream",
     "text": [
      "Hello, World!\n"
     ]
    }
   ],
   "source": [
    "print(\"Hello, World!\")"
   ],
   "metadata": {
    "collapsed": false,
    "ExecuteTime": {
     "end_time": "2024-09-07T12:23:05.456492Z",
     "start_time": "2024-09-07T12:23:05.451146Z"
    }
   },
   "id": "bd4b5f21ecf18509"
  },
  {
   "cell_type": "markdown",
   "source": [
    "Or we can write the statement in a file and run the file using Python command.\n",
    "\n",
    "    python filename.py"
   ],
   "metadata": {
    "collapsed": false
   },
   "id": "246a7edb28b80047"
  },
  {
   "cell_type": "markdown",
   "source": [
    "### Python indentation\n",
    "\n",
    "Indentation refers to the spaces at the beginning of a code line.\n",
    "\n",
    "Where in other programming languages the indentation in code is for readability only, the indentation in Python is very important.\n",
    "\n",
    "Python uses indentation to indicate a block of code."
   ],
   "metadata": {
    "collapsed": false
   },
   "id": "271ff8cc1c9b6523"
  },
  {
   "cell_type": "code",
   "execution_count": 1,
   "id": "initial_id",
   "metadata": {
    "collapsed": true,
    "ExecuteTime": {
     "end_time": "2023-09-27T15:50:28.473728Z",
     "start_time": "2023-09-27T15:50:28.470283Z"
    }
   },
   "outputs": [
    {
     "name": "stdout",
     "output_type": "stream",
     "text": [
      "Five is greater than two!\n"
     ]
    }
   ],
   "source": [
    "if 5 > 2 :\n",
    "    print(\"Five is greater than two!\")"
   ]
  },
  {
   "cell_type": "markdown",
   "source": [
    "Python will give you an error if you skip the indentation:"
   ],
   "metadata": {
    "collapsed": false
   },
   "id": "4c0b14e159596049"
  },
  {
   "cell_type": "code",
   "execution_count": 2,
   "outputs": [
    {
     "ename": "IndentationError",
     "evalue": "expected an indented block (1175642344.py, line 2)",
     "output_type": "error",
     "traceback": [
      "\u001B[0;36m  Cell \u001B[0;32mIn[2], line 2\u001B[0;36m\u001B[0m\n\u001B[0;31m    print(\"Five is greater than two!\")\u001B[0m\n\u001B[0m    ^\u001B[0m\n\u001B[0;31mIndentationError\u001B[0m\u001B[0;31m:\u001B[0m expected an indented block\n"
     ]
    }
   ],
   "source": [
    "# Syntax Error\n",
    "\n",
    "if 5 > 2 :\n",
    "print(\"Five is greater than two!\")"
   ],
   "metadata": {
    "collapsed": false,
    "ExecuteTime": {
     "end_time": "2024-09-07T12:24:47.193330Z",
     "start_time": "2024-09-07T12:24:47.188071Z"
    }
   },
   "id": "e31ca159c119fe28"
  },
  {
   "cell_type": "markdown",
   "source": [
    "The number of spaces is up to you as a programmer, the most common use is four, but it has to be at least one."
   ],
   "metadata": {
    "collapsed": false
   },
   "id": "d405d264f681d991"
  },
  {
   "cell_type": "code",
   "execution_count": 4,
   "outputs": [
    {
     "name": "stdout",
     "output_type": "stream",
     "text": [
      "Five is greater than two!\n",
      "Six is greater than three!\n"
     ]
    }
   ],
   "source": [
    "if 5 > 2 :\n",
    "    print(\"Five is greater than two!\")\n",
    "if 6 > 3 :\n",
    "        print(\"Six is greater than three!\")"
   ],
   "metadata": {
    "collapsed": false,
    "ExecuteTime": {
     "end_time": "2023-09-27T15:53:40.989265Z",
     "start_time": "2023-09-27T15:53:40.962415Z"
    }
   },
   "id": "76aafee223151a59"
  },
  {
   "cell_type": "markdown",
   "source": [
    "You have to use the same number of spaces in the same block of code, otherwise, Python will give you an error:"
   ],
   "metadata": {
    "collapsed": false
   },
   "id": "1d6d0ea846af52c0"
  },
  {
   "cell_type": "code",
   "execution_count": 5,
   "outputs": [
    {
     "ename": "IndentationError",
     "evalue": "unexpected indent (2020671124.py, line 3)",
     "output_type": "error",
     "traceback": [
      "\u001B[0;36m  Cell \u001B[0;32mIn[5], line 3\u001B[0;36m\u001B[0m\n\u001B[0;31m    print(\"extra indentation added here!\")\u001B[0m\n\u001B[0m    ^\u001B[0m\n\u001B[0;31mIndentationError\u001B[0m\u001B[0;31m:\u001B[0m unexpected indent\n"
     ]
    }
   ],
   "source": [
    "# Syntax Error\n",
    "\n",
    "if 5 > 2:\n",
    "    print(\"Five is greater than two!\")\n",
    "        print(\"extra indentation added here!\")"
   ],
   "metadata": {
    "collapsed": false,
    "ExecuteTime": {
     "end_time": "2023-09-27T15:57:43.641436Z",
     "start_time": "2023-09-27T15:57:43.622296Z"
    }
   },
   "id": "483492d2a2a39d35"
  },
  {
   "cell_type": "markdown",
   "source": [
    "### Python Variables\n",
    "\n",
    "Python has no command for declaring a variable.\n",
    "\n",
    "In Python, variables are created when you assign a value to it:"
   ],
   "metadata": {
    "collapsed": false
   },
   "id": "86e252a4d6b6f7e9"
  },
  {
   "cell_type": "code",
   "execution_count": 3,
   "outputs": [
    {
     "name": "stdout",
     "output_type": "stream",
     "text": [
      "5\n",
      "Hello, World!\n"
     ]
    }
   ],
   "source": [
    "# Variables in Python\n",
    "\n",
    "x = 5\n",
    "y = \"Hello, World!\"\n",
    "\n",
    "print(x)\n",
    "print(y)"
   ],
   "metadata": {
    "collapsed": false,
    "ExecuteTime": {
     "end_time": "2024-09-07T12:29:18.394626Z",
     "start_time": "2024-09-07T12:29:18.381760Z"
    }
   },
   "id": "455e96242c024832"
  },
  {
   "cell_type": "markdown",
   "source": [
    "### Comments\n",
    "\n",
    "Python has commenting capability for the purpose of in-code documentation.\n",
    "\n",
    "Comments start with a #, and Python will render the rest of the line as a comment:"
   ],
   "metadata": {
    "collapsed": false
   },
   "id": "895d5586aeb88b17"
  },
  {
   "cell_type": "code",
   "execution_count": 4,
   "outputs": [
    {
     "name": "stdout",
     "output_type": "stream",
     "text": [
      "Hello, World!\n"
     ]
    }
   ],
   "source": [
    "# This is a comment\n",
    "\n",
    "print(\"Hello, World!\")"
   ],
   "metadata": {
    "collapsed": false,
    "ExecuteTime": {
     "end_time": "2024-09-07T12:29:37.935061Z",
     "start_time": "2024-09-07T12:29:37.930390Z"
    }
   },
   "id": "33a621e3bd9399ec"
  },
  {
   "cell_type": "code",
   "execution_count": null,
   "outputs": [],
   "source": [],
   "metadata": {
    "collapsed": false
   },
   "id": "5cfa4aecb9806477"
  }
 ],
 "metadata": {
  "kernelspec": {
   "display_name": "Python 3",
   "language": "python",
   "name": "python3"
  },
  "language_info": {
   "codemirror_mode": {
    "name": "ipython",
    "version": 2
   },
   "file_extension": ".py",
   "mimetype": "text/x-python",
   "name": "python",
   "nbconvert_exporter": "python",
   "pygments_lexer": "ipython2",
   "version": "2.7.6"
  }
 },
 "nbformat": 4,
 "nbformat_minor": 5
}
