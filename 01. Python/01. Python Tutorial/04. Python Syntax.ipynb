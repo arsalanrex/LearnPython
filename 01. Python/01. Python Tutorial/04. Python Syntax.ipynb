{
 "cells": [
  {
   "cell_type": "markdown",
   "source": [
    "## Python indentation"
   ],
   "metadata": {
    "collapsed": false
   },
   "id": "271ff8cc1c9b6523"
  },
  {
   "cell_type": "code",
   "execution_count": 1,
   "id": "initial_id",
   "metadata": {
    "collapsed": true,
    "ExecuteTime": {
     "end_time": "2023-09-27T15:50:28.473728Z",
     "start_time": "2023-09-27T15:50:28.470283Z"
    }
   },
   "outputs": [
    {
     "name": "stdout",
     "output_type": "stream",
     "text": [
      "Five is greater than two!\n"
     ]
    }
   ],
   "source": [
    "if 5 > 2 :\n",
    "    print(\"Five is greater than two!\")"
   ]
  },
  {
   "cell_type": "markdown",
   "source": [
    "## Skipping Indentation gives error"
   ],
   "metadata": {
    "collapsed": false
   },
   "id": "4c0b14e159596049"
  },
  {
   "cell_type": "code",
   "execution_count": 2,
   "outputs": [
    {
     "ename": "IndentationError",
     "evalue": "expected an indented block (1175642344.py, line 2)",
     "output_type": "error",
     "traceback": [
      "\u001B[0;36m  Cell \u001B[0;32mIn[2], line 2\u001B[0;36m\u001B[0m\n\u001B[0;31m    print(\"Five is greater than two!\")\u001B[0m\n\u001B[0m    ^\u001B[0m\n\u001B[0;31mIndentationError\u001B[0m\u001B[0;31m:\u001B[0m expected an indented block\n"
     ]
    }
   ],
   "source": [
    "if 5 > 2 :\n",
    "print(\"Five is greater than two!\")"
   ],
   "metadata": {
    "collapsed": false,
    "ExecuteTime": {
     "end_time": "2023-09-27T15:51:14.424393Z",
     "start_time": "2023-09-27T15:51:14.410791Z"
    }
   },
   "id": "e31ca159c119fe28"
  },
  {
   "cell_type": "markdown",
   "source": [
    "## different indentation size also works"
   ],
   "metadata": {
    "collapsed": false
   },
   "id": "d405d264f681d991"
  },
  {
   "cell_type": "code",
   "execution_count": 3,
   "outputs": [
    {
     "name": "stdout",
     "output_type": "stream",
     "text": [
      "Five is greater than two!\n"
     ]
    }
   ],
   "source": [
    "if 5 > 2 :\n",
    "        print(\"Five is greater than two!\")"
   ],
   "metadata": {
    "collapsed": false,
    "ExecuteTime": {
     "end_time": "2023-09-27T15:52:25.990484Z",
     "start_time": "2023-09-27T15:52:25.976654Z"
    }
   },
   "id": "1a6ac482003fcd5b"
  },
  {
   "cell_type": "markdown",
   "source": [
    "## different indentation size in same code also works"
   ],
   "metadata": {
    "collapsed": false
   },
   "id": "13b9bea465893071"
  },
  {
   "cell_type": "code",
   "execution_count": 4,
   "outputs": [
    {
     "name": "stdout",
     "output_type": "stream",
     "text": [
      "Five is greater than two!\n",
      "Six is greater than three!\n"
     ]
    }
   ],
   "source": [
    "if 5 > 2 :\n",
    "    print(\"Five is greater than two!\")\n",
    "if 6 > 3 :\n",
    "        print(\"Six is greater than three!\")"
   ],
   "metadata": {
    "collapsed": false,
    "ExecuteTime": {
     "end_time": "2023-09-27T15:53:40.989265Z",
     "start_time": "2023-09-27T15:53:40.962415Z"
    }
   },
   "id": "76aafee223151a59"
  },
  {
   "cell_type": "markdown",
   "source": [
    "## multiple indentation in sigle code block gives error"
   ],
   "metadata": {
    "collapsed": false
   },
   "id": "1d6d0ea846af52c0"
  },
  {
   "cell_type": "code",
   "execution_count": 5,
   "outputs": [
    {
     "ename": "IndentationError",
     "evalue": "unexpected indent (2020671124.py, line 3)",
     "output_type": "error",
     "traceback": [
      "\u001B[0;36m  Cell \u001B[0;32mIn[5], line 3\u001B[0;36m\u001B[0m\n\u001B[0;31m    print(\"extra indentation added here!\")\u001B[0m\n\u001B[0m    ^\u001B[0m\n\u001B[0;31mIndentationError\u001B[0m\u001B[0;31m:\u001B[0m unexpected indent\n"
     ]
    }
   ],
   "source": [
    "if 5 > 2:\n",
    "    print(\"Five is greater than two!\")\n",
    "        print(\"extra indentation added here!\")"
   ],
   "metadata": {
    "collapsed": false,
    "ExecuteTime": {
     "end_time": "2023-09-27T15:57:43.641436Z",
     "start_time": "2023-09-27T15:57:43.622296Z"
    }
   },
   "id": "483492d2a2a39d35"
  },
  {
   "cell_type": "markdown",
   "source": [
    "## Python Variables"
   ],
   "metadata": {
    "collapsed": false
   },
   "id": "86e252a4d6b6f7e9"
  },
  {
   "cell_type": "code",
   "execution_count": 2,
   "outputs": [
    {
     "name": "stdout",
     "output_type": "stream",
     "text": [
      "5\n",
      "Hello, World!\n"
     ]
    }
   ],
   "source": [
    "x = 5\n",
    "y = \"Hello, World!\"\n",
    "\n",
    "print(x)\n",
    "print(y)"
   ],
   "metadata": {
    "collapsed": false,
    "ExecuteTime": {
     "end_time": "2024-09-05T05:32:50.981717Z",
     "start_time": "2024-09-05T05:32:50.973712Z"
    }
   },
   "id": "455e96242c024832"
  },
  {
   "cell_type": "markdown",
   "source": [
    "## Comments"
   ],
   "metadata": {
    "collapsed": false
   },
   "id": "895d5586aeb88b17"
  },
  {
   "cell_type": "code",
   "execution_count": 4,
   "outputs": [
    {
     "name": "stdout",
     "output_type": "stream",
     "text": [
      "Hello, World!\n"
     ]
    }
   ],
   "source": [
    "# This is a comment\n",
    "\n",
    "print(\"Hello, World!\")"
   ],
   "metadata": {
    "collapsed": false,
    "ExecuteTime": {
     "end_time": "2024-09-05T05:37:21.817975Z",
     "start_time": "2024-09-05T05:37:21.808508Z"
    }
   },
   "id": "33a621e3bd9399ec"
  },
  {
   "cell_type": "code",
   "execution_count": null,
   "outputs": [],
   "source": [],
   "metadata": {
    "collapsed": false
   },
   "id": "5cfa4aecb9806477"
  }
 ],
 "metadata": {
  "kernelspec": {
   "display_name": "Python 3",
   "language": "python",
   "name": "python3"
  },
  "language_info": {
   "codemirror_mode": {
    "name": "ipython",
    "version": 2
   },
   "file_extension": ".py",
   "mimetype": "text/x-python",
   "name": "python",
   "nbconvert_exporter": "python",
   "pygments_lexer": "ipython2",
   "version": "2.7.6"
  }
 },
 "nbformat": 4,
 "nbformat_minor": 5
}
