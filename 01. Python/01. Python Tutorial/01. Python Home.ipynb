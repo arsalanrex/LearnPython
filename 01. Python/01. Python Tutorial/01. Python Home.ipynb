{
 "cells": [
  {
   "cell_type": "markdown",
   "source": [
    "# Python Tutorial\n",
    "\n",
    "A guide to everything Python\n"
   ],
   "metadata": {
    "collapsed": false
   },
   "id": "e5348c32f28f589"
  },
  {
   "cell_type": "code",
   "execution_count": 1,
   "id": "initial_id",
   "metadata": {
    "collapsed": true,
    "ExecuteTime": {
     "end_time": "2023-09-27T15:00:15.593705Z",
     "start_time": "2023-09-27T15:00:15.581654Z"
    }
   },
   "outputs": [
    {
     "name": "stdout",
     "output_type": "stream",
     "text": [
      "Hello, World!\n"
     ]
    }
   ],
   "source": [
    "print(\"Hello, World!\")"
   ]
  },
  {
   "cell_type": "markdown",
   "source": [
    "**-** Arsalan (github.com/arsalanrex)\n"
   ],
   "metadata": {
    "collapsed": false
   },
   "id": "b8b16f2c9d4e5a8c"
  },
  {
   "cell_type": "code",
   "execution_count": null,
   "outputs": [],
   "source": [],
   "metadata": {
    "collapsed": false
   },
   "id": "ded979bbb5037ff3"
  }
 ],
 "metadata": {
  "kernelspec": {
   "display_name": "Python 3",
   "language": "python",
   "name": "python3"
  },
  "language_info": {
   "codemirror_mode": {
    "name": "ipython",
    "version": 2
   },
   "file_extension": ".py",
   "mimetype": "text/x-python",
   "name": "python",
   "nbconvert_exporter": "python",
   "pygments_lexer": "ipython2",
   "version": "2.7.6"
  }
 },
 "nbformat": 4,
 "nbformat_minor": 5
}
