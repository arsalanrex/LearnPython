{
 "cells": [
  {
   "cell_type": "markdown",
   "source": [
    "# Python Variables"
   ],
   "metadata": {
    "collapsed": false
   },
   "id": "574ea2a60ea8911c"
  },
  {
   "cell_type": "markdown",
   "source": [
    "### Variables\n",
    "\n",
    "Variables are containers for storing data values."
   ],
   "metadata": {
    "collapsed": false
   },
   "id": "e2d0403b5efa3a4d"
  },
  {
   "cell_type": "markdown",
   "source": [
    "### Creating Variables\n",
    "\n",
    "Python has no command for declaring a variable.\n",
    "\n",
    "A variable is created the moment you first assign a value to it."
   ],
   "metadata": {
    "collapsed": false
   },
   "id": "992186375b0be07e"
  },
  {
   "cell_type": "code",
   "execution_count": 1,
   "id": "initial_id",
   "metadata": {
    "collapsed": true,
    "ExecuteTime": {
     "end_time": "2023-09-27T16:50:03.687599Z",
     "start_time": "2023-09-27T16:50:03.682598Z"
    }
   },
   "outputs": [
    {
     "name": "stdout",
     "output_type": "stream",
     "text": [
      "5\n",
      "John\n"
     ]
    }
   ],
   "source": [
    "x = 5\n",
    "y = \"John\"\n",
    "print(x)\n",
    "print(y)"
   ]
  },
  {
   "cell_type": "markdown",
   "source": [
    "Variables do not need to be declared with any particular type, and can even change type after they have been set."
   ],
   "metadata": {
    "collapsed": false
   },
   "id": "5e67208cfcdc0d26"
  },
  {
   "cell_type": "code",
   "execution_count": 1,
   "outputs": [
    {
     "name": "stdout",
     "output_type": "stream",
     "text": [
      "Sally\n"
     ]
    }
   ],
   "source": [
    "x = 4 # x is of type int\n",
    "x = \"Sally\" # x is now of type str\n",
    "print(x)"
   ],
   "metadata": {
    "collapsed": false,
    "ExecuteTime": {
     "end_time": "2024-09-05T05:44:44.905966Z",
     "start_time": "2024-09-05T05:44:44.901464Z"
    }
   },
   "id": "8da188fcf51f80cc"
  },
  {
   "cell_type": "markdown",
   "source": [
    "Printing variables in same line"
   ],
   "metadata": {
    "collapsed": false
   },
   "id": "dbf75ac87ecd104a"
  },
  {
   "cell_type": "code",
   "execution_count": 2,
   "outputs": [
    {
     "name": "stdout",
     "output_type": "stream",
     "text": [
      "5 John\n"
     ]
    }
   ],
   "source": [
    "x = 5\n",
    "y = \"John\"\n",
    "print(x,y)"
   ],
   "metadata": {
    "collapsed": false,
    "ExecuteTime": {
     "end_time": "2024-09-05T05:45:41.641625Z",
     "start_time": "2024-09-05T05:45:41.634766Z"
    }
   },
   "id": "9ee4784d3de409ff"
  },
  {
   "cell_type": "markdown",
   "source": [
    "Printing multiple lines from same statement using '\\n'"
   ],
   "metadata": {
    "collapsed": false
   },
   "id": "b0b241af649897d5"
  },
  {
   "cell_type": "code",
   "execution_count": 7,
   "outputs": [
    {
     "name": "stdout",
     "output_type": "stream",
     "text": [
      "5 \n",
      " John\n",
      "5\n",
      "John\n"
     ]
    }
   ],
   "source": [
    "x = 5\n",
    "y = \"John\"\n",
    "print(x,\"\\n\",y) # creates an indentation issue\n",
    "\n",
    "print(f\"{x}\\n{y}\") # resolving the indentation issue"
   ],
   "metadata": {
    "collapsed": false,
    "ExecuteTime": {
     "end_time": "2024-09-05T05:48:08.225274Z",
     "start_time": "2024-09-05T05:48:08.215478Z"
    }
   },
   "id": "91bb7bb1e90427bd"
  },
  {
   "cell_type": "markdown",
   "source": [
    "### Casting\n",
    "\n",
    "If you want to specify the data type of a variable, this can be done with casting."
   ],
   "metadata": {
    "collapsed": false
   },
   "id": "b5ce05bc85e3c12b"
  },
  {
   "cell_type": "code",
   "execution_count": 8,
   "outputs": [
    {
     "name": "stdout",
     "output_type": "stream",
     "text": [
      "3\n",
      "3\n",
      "3.0\n"
     ]
    }
   ],
   "source": [
    "x = str(3) # x will be '3'\n",
    "y = int(3) # y will be 3\n",
    "z = float(3) # z will be 3.0\n",
    "print(x)\n",
    "print(y)\n",
    "print(z)"
   ],
   "metadata": {
    "collapsed": false,
    "ExecuteTime": {
     "end_time": "2024-09-05T05:48:56.928579Z",
     "start_time": "2024-09-05T05:48:56.918366Z"
    }
   },
   "id": "2fa73189f9fe28b4"
  },
  {
   "cell_type": "markdown",
   "source": [
    "### Get the Type\n",
    "\n",
    "You can get the data type of a variable with the type() function."
   ],
   "metadata": {
    "collapsed": false
   },
   "id": "e29e9481fca7a004"
  },
  {
   "cell_type": "code",
   "execution_count": 23,
   "outputs": [
    {
     "name": "stdout",
     "output_type": "stream",
     "text": [
      "<class 'int'>\n",
      "<class 'float'>\n",
      "<class 'str'>\n"
     ]
    }
   ],
   "source": [
    "x = 3\n",
    "y = 3.0\n",
    "z = \"John\"\n",
    "print(type(x))\n",
    "print(type(y))\n",
    "print(type(z))"
   ],
   "metadata": {
    "collapsed": false,
    "ExecuteTime": {
     "end_time": "2023-09-27T16:57:46.591670Z",
     "start_time": "2023-09-27T16:57:46.584180Z"
    }
   },
   "id": "932a0bbf360d7844"
  },
  {
   "cell_type": "markdown",
   "source": [
    "### Single or Double Quotes?\n",
    "\n",
    "String variables can be declared either by using single or double quotes:"
   ],
   "metadata": {
    "collapsed": false
   },
   "id": "63f09f01d32cbba0"
  },
  {
   "cell_type": "code",
   "execution_count": 24,
   "outputs": [
    {
     "name": "stdout",
     "output_type": "stream",
     "text": [
      "Hello World!\n"
     ]
    }
   ],
   "source": [
    "x = 'Hello'\n",
    "y = \"World!\"\n",
    "print(x, y)"
   ],
   "metadata": {
    "collapsed": false,
    "ExecuteTime": {
     "end_time": "2023-09-27T16:59:25.726914Z",
     "start_time": "2023-09-27T16:59:25.715419Z"
    }
   },
   "id": "9ec4399763e263da"
  },
  {
   "cell_type": "markdown",
   "source": [
    "### Case-Sensitive\n",
    "\n",
    "Variable names are case-sensitive."
   ],
   "metadata": {
    "collapsed": false
   },
   "id": "a591a5c88db7a9c2"
  },
  {
   "cell_type": "code",
   "execution_count": 9,
   "outputs": [
    {
     "name": "stdout",
     "output_type": "stream",
     "text": [
      "Hello World!\n"
     ]
    }
   ],
   "source": [
    "x = \"Hello\"\n",
    "X = \"World!\"\n",
    "print(x, X) # x will not overwrite X"
   ],
   "metadata": {
    "collapsed": false,
    "ExecuteTime": {
     "end_time": "2024-09-05T05:51:29.723606Z",
     "start_time": "2024-09-05T05:51:29.704631Z"
    }
   },
   "id": "9a6b5bdd675a3e1f"
  },
  {
   "cell_type": "markdown",
   "source": [
    "## Python - Variable Names"
   ],
   "metadata": {
    "collapsed": false
   },
   "id": "8ccb77b7c6ea7b6f"
  },
  {
   "cell_type": "markdown",
   "source": [
    "### Variable Names\n",
    "\n",
    "A variable can have a short name (like x and y) or a more descriptive name (age, carname, total_volume). Rules for Python variables:\n",
    "- A variable name must start with a letter or the underscore character\n",
    "- A variable name cannot start with a number\n",
    "- A variable name can only contain alpha-numeric characters and underscores (A-z, 0-9, and _ )\n",
    "- Variable names are case-sensitive (age, Age and AGE are three different variables)\n",
    "- Variable names should be descriptive (age, carname, total_volume)\n",
    "- Variable names can be of any length but cannot contain spaces nor special characters.\n",
    "- Variable names should not start with a number.\n",
    "- Variable names should not contain keywords, or reserved words, such as \"class\", \"for\", \"return\", \"try\", \"while\", etc or built-in functions or modules, such as \"print\", \"str\", \"int\", \"len\", etc or any other function or module that you have imported or created."
   ],
   "metadata": {
    "collapsed": false
   },
   "id": "d925139e562512f6"
  },
  {
   "cell_type": "code",
   "execution_count": 12,
   "outputs": [
    {
     "name": "stdout",
     "output_type": "stream",
     "text": [
      "John\n",
      "John\n",
      "John\n",
      "John\n",
      "John\n",
      "John\n"
     ]
    }
   ],
   "source": [
    "# Legal variable names\n",
    "\n",
    "myvar = \"John\"\n",
    "my_var = \"John\"\n",
    "_my_var = \"John\"\n",
    "myVar = \"John\"\n",
    "MYVAR = \"John\"\n",
    "myvar2 = \"John\"\n",
    "\n",
    "print(f\"{myvar}\\n{my_var}\\n{_my_var}\\n{myVar}\\n{MYVAR}\\n{myvar2}\")"
   ],
   "metadata": {
    "collapsed": false,
    "ExecuteTime": {
     "end_time": "2024-09-05T05:59:05.534861Z",
     "start_time": "2024-09-05T05:59:05.521764Z"
    }
   },
   "id": "5b74fbce16d058bc"
  },
  {
   "cell_type": "code",
   "execution_count": 13,
   "outputs": [
    {
     "ename": "SyntaxError",
     "evalue": "invalid syntax (2425298214.py, line 3)",
     "output_type": "error",
     "traceback": [
      "\u001B[0;36m  Cell \u001B[0;32mIn[13], line 3\u001B[0;36m\u001B[0m\n\u001B[0;31m    2myvar = \"John\"\u001B[0m\n\u001B[0m     ^\u001B[0m\n\u001B[0;31mSyntaxError\u001B[0m\u001B[0;31m:\u001B[0m invalid syntax\n"
     ]
    }
   ],
   "source": [
    "# Illegal variable names\n",
    "\n",
    "2myvar = \"John\"\n",
    "my-var = \"John\"\n",
    "my var = \"John\"\n",
    "\n",
    "print(f\"{2myvar}\\n{my-var}\\n{my var}\")"
   ],
   "metadata": {
    "collapsed": false,
    "ExecuteTime": {
     "end_time": "2024-09-05T06:00:14.356682Z",
     "start_time": "2024-09-05T06:00:14.346726Z"
    }
   },
   "id": "48e5377c43042af3"
  },
  {
   "cell_type": "markdown",
   "source": [
    "### Multi Words Variable Names\n",
    "\n",
    "Variable names with more than one word can be difficult to read.\n",
    "\n",
    "There are several techniques you can use to make them more readable:"
   ],
   "metadata": {
    "collapsed": false
   },
   "id": "af5efaa578b34dda"
  },
  {
   "cell_type": "markdown",
   "source": [
    "### Camel Case\n",
    "\n",
    "Each word, except the first, starts with a capital letter:"
   ],
   "metadata": {
    "collapsed": false
   },
   "id": "ccfb8c3927ea5c4b"
  },
  {
   "cell_type": "code",
   "execution_count": 16,
   "outputs": [
    {
     "name": "stdout",
     "output_type": "stream",
     "text": [
      "John\n"
     ]
    }
   ],
   "source": [
    "myVariableName = \"John\"\n",
    "\n",
    "print(myVariableName)"
   ],
   "metadata": {
    "collapsed": false,
    "ExecuteTime": {
     "end_time": "2024-09-05T06:01:44.071196Z",
     "start_time": "2024-09-05T06:01:44.056365Z"
    }
   },
   "id": "956d5ee250b50776"
  },
  {
   "cell_type": "markdown",
   "source": [
    "### Pascal Case\n",
    "\n",
    "Each word starts with a capital letter:"
   ],
   "metadata": {
    "collapsed": false
   },
   "id": "4735eabf9c47cdf0"
  },
  {
   "cell_type": "code",
   "execution_count": 17,
   "outputs": [
    {
     "name": "stdout",
     "output_type": "stream",
     "text": [
      "John\n"
     ]
    }
   ],
   "source": [
    "MyVariableName = \"John\"\n",
    "\n",
    "print(MyVariableName)"
   ],
   "metadata": {
    "collapsed": false,
    "ExecuteTime": {
     "end_time": "2024-09-05T06:02:11.687917Z",
     "start_time": "2024-09-05T06:02:11.673257Z"
    }
   },
   "id": "a8826769302de221"
  },
  {
   "cell_type": "markdown",
   "source": [
    "### Snake Case\n",
    "\n",
    "Each word is separated by an underscore character:"
   ],
   "metadata": {
    "collapsed": false
   },
   "id": "311f141c98d84df6"
  },
  {
   "cell_type": "code",
   "execution_count": 18,
   "outputs": [
    {
     "name": "stdout",
     "output_type": "stream",
     "text": [
      "John\n"
     ]
    }
   ],
   "source": [
    "my_variable_name = \"John\"\n",
    "\n",
    "print(my_variable_name)"
   ],
   "metadata": {
    "collapsed": false,
    "ExecuteTime": {
     "end_time": "2024-09-05T06:02:35.365339Z",
     "start_time": "2024-09-05T06:02:35.340090Z"
    }
   },
   "id": "b39e783c9acc8a35"
  },
  {
   "cell_type": "markdown",
   "source": [
    "## Python Variables - Assign Multiple Values"
   ],
   "metadata": {
    "collapsed": false
   },
   "id": "c26a9908892d078"
  },
  {
   "cell_type": "markdown",
   "source": [
    "### Many Values to Multiple Variables\n",
    "\n",
    "Python allows you to assign values to multiple variables in one line:"
   ],
   "metadata": {
    "collapsed": false
   },
   "id": "d1ce517776ef0965"
  },
  {
   "cell_type": "code",
   "execution_count": 19,
   "outputs": [
    {
     "name": "stdout",
     "output_type": "stream",
     "text": [
      "Orange\n",
      "Banana\n",
      "Cherry\n"
     ]
    }
   ],
   "source": [
    "x, y, z = \"Orange\", \"Banana\", \"Cherry\"\n",
    "print(x)\n",
    "print(y)\n",
    "print(z)"
   ],
   "metadata": {
    "collapsed": false,
    "ExecuteTime": {
     "end_time": "2024-09-05T06:04:19.325612Z",
     "start_time": "2024-09-05T06:04:19.306657Z"
    }
   },
   "id": "3ce668ac3ea8def3"
  },
  {
   "cell_type": "markdown",
   "source": [
    "> **Note:** Make sure the number of variables matches the number of values, or else you will get an error."
   ],
   "metadata": {
    "collapsed": false
   },
   "id": "d8091280be817007"
  },
  {
   "cell_type": "markdown",
   "source": [
    "### One Value to Multiple Variables\n",
    "\n",
    "And you can assign the same value to multiple variables in one line:"
   ],
   "metadata": {
    "collapsed": false
   },
   "id": "8215214ff79b3168"
  },
  {
   "cell_type": "code",
   "execution_count": 20,
   "outputs": [
    {
     "name": "stdout",
     "output_type": "stream",
     "text": [
      "Orange\n",
      "Orange\n",
      "Orange\n"
     ]
    }
   ],
   "source": [
    "x = y = z = \"Orange\"\n",
    "print(x)\n",
    "print(y)\n",
    "print(z)"
   ],
   "metadata": {
    "collapsed": false,
    "ExecuteTime": {
     "end_time": "2024-09-05T06:07:56.140683Z",
     "start_time": "2024-09-05T06:07:56.123285Z"
    }
   },
   "id": "8b9c9af3b9fb45ff"
  },
  {
   "cell_type": "markdown",
   "source": [
    "### Unpack a Collection\n",
    "\n",
    "If you have a collection of values in a list, tuple etc. Python allows you extract the values into variables. This is called unpacking."
   ],
   "metadata": {
    "collapsed": false
   },
   "id": "edb8baefc9740694"
  },
  {
   "cell_type": "code",
   "execution_count": 21,
   "outputs": [
    {
     "name": "stdout",
     "output_type": "stream",
     "text": [
      "apple\n",
      "banana\n",
      "cherry\n"
     ]
    }
   ],
   "source": [
    "fruits = [\"apple\", \"banana\", \"cherry\"]\n",
    "x, y, z = fruits\n",
    "print(x)\n",
    "print(y)\n",
    "print(z)"
   ],
   "metadata": {
    "collapsed": false,
    "ExecuteTime": {
     "end_time": "2024-09-05T06:08:49.807946Z",
     "start_time": "2024-09-05T06:08:49.794431Z"
    }
   },
   "id": "c4080e572672ab6b"
  },
  {
   "cell_type": "markdown",
   "source": [
    "## Python - Output Variables"
   ],
   "metadata": {
    "collapsed": false
   },
   "id": "3f563c90ac9b327c"
  },
  {
   "cell_type": "markdown",
   "source": [
    "### Output Variables\n",
    "\n",
    "The Python print statement is often used to output variables."
   ],
   "metadata": {
    "collapsed": false
   },
   "id": "10b6869f563b195f"
  },
  {
   "cell_type": "code",
   "execution_count": 22,
   "outputs": [
    {
     "name": "stdout",
     "output_type": "stream",
     "text": [
      "Python is awesome\n"
     ]
    }
   ],
   "source": [
    "x = \"Python is awesome\"\n",
    "print(x)"
   ],
   "metadata": {
    "collapsed": false,
    "ExecuteTime": {
     "end_time": "2024-09-05T06:10:06.722322Z",
     "start_time": "2024-09-05T06:10:06.709532Z"
    }
   },
   "id": "9cb2b0e363de63c3"
  },
  {
   "cell_type": "markdown",
   "source": [
    "In the print statement, you output multiple variables by separating them with a comma."
   ],
   "metadata": {
    "collapsed": false
   },
   "id": "2ba18d17eb513cc2"
  },
  {
   "cell_type": "code",
   "execution_count": 23,
   "outputs": [
    {
     "name": "stdout",
     "output_type": "stream",
     "text": [
      "Python is awesome\n"
     ]
    }
   ],
   "source": [
    "x = \"Python\"\n",
    "y = \"is\"\n",
    "z = \"awesome\"\n",
    "print(x, y, z)"
   ],
   "metadata": {
    "collapsed": false,
    "ExecuteTime": {
     "end_time": "2024-09-05T06:11:26.009682Z",
     "start_time": "2024-09-05T06:11:25.990762Z"
    }
   },
   "id": "f910b0622efbaabb"
  },
  {
   "cell_type": "markdown",
   "source": [
    "You can also use the + character to add a variable to another variable."
   ],
   "metadata": {
    "collapsed": false
   },
   "id": "98b60e8fa897f4d1"
  },
  {
   "cell_type": "code",
   "execution_count": 24,
   "outputs": [
    {
     "name": "stdout",
     "output_type": "stream",
     "text": [
      "Python is awesome\n"
     ]
    }
   ],
   "source": [
    "x = \"Python \"\n",
    "y = \"is \"\n",
    "z = \"awesome\"\n",
    "print(x + y + z)"
   ],
   "metadata": {
    "collapsed": false,
    "ExecuteTime": {
     "end_time": "2024-09-05T06:12:19.575376Z",
     "start_time": "2024-09-05T06:12:19.556377Z"
    }
   },
   "id": "3ac4ff643e33b23f"
  },
  {
   "cell_type": "markdown",
   "source": [
    "> Notice the space character after \"Python \" and \"is \", without them the result would be \"Pythonisawesome\"."
   ],
   "metadata": {
    "collapsed": false
   },
   "id": "15c75b0508baa22d"
  },
  {
   "cell_type": "markdown",
   "source": [
    "For numbers, the + character works as a mathematical operator:"
   ],
   "metadata": {
    "collapsed": false
   },
   "id": "aadb12d2d9166c68"
  },
  {
   "cell_type": "code",
   "execution_count": 25,
   "outputs": [
    {
     "name": "stdout",
     "output_type": "stream",
     "text": [
      "15\n"
     ]
    }
   ],
   "source": [
    "x = 5\n",
    "y = 10\n",
    "print(x + y)"
   ],
   "metadata": {
    "collapsed": false,
    "ExecuteTime": {
     "end_time": "2024-09-05T06:13:14.817435Z",
     "start_time": "2024-09-05T06:13:14.802421Z"
    }
   },
   "id": "22c02d66e1cd1e48"
  },
  {
   "cell_type": "markdown",
   "source": [
    "In the print() function, when you try to combine a string and a number with the + operator, Python will give you an error:"
   ],
   "metadata": {
    "collapsed": false
   },
   "id": "563e24bd32d73fdb"
  },
  {
   "cell_type": "code",
   "execution_count": 26,
   "outputs": [
    {
     "ename": "TypeError",
     "evalue": "unsupported operand type(s) for +: 'int' and 'str'",
     "output_type": "error",
     "traceback": [
      "\u001B[0;31m---------------------------------------------------------------------------\u001B[0m",
      "\u001B[0;31mTypeError\u001B[0m                                 Traceback (most recent call last)",
      "Cell \u001B[0;32mIn[26], line 3\u001B[0m\n\u001B[1;32m      1\u001B[0m x \u001B[38;5;241m=\u001B[39m \u001B[38;5;241m5\u001B[39m\n\u001B[1;32m      2\u001B[0m y \u001B[38;5;241m=\u001B[39m \u001B[38;5;124m\"\u001B[39m\u001B[38;5;124mJohn\u001B[39m\u001B[38;5;124m\"\u001B[39m\n\u001B[0;32m----> 3\u001B[0m \u001B[38;5;28mprint\u001B[39m(\u001B[43mx\u001B[49m\u001B[43m \u001B[49m\u001B[38;5;241;43m+\u001B[39;49m\u001B[43m \u001B[49m\u001B[43my\u001B[49m)\n",
      "\u001B[0;31mTypeError\u001B[0m: unsupported operand type(s) for +: 'int' and 'str'"
     ]
    }
   ],
   "source": [
    "x = 5\n",
    "y = \"John\"\n",
    "print(x + y)"
   ],
   "metadata": {
    "collapsed": false,
    "ExecuteTime": {
     "end_time": "2024-09-05T06:13:38.762156Z",
     "start_time": "2024-09-05T06:13:38.601499Z"
    }
   },
   "id": "bf064c0d430e5a96"
  },
  {
   "cell_type": "markdown",
   "source": [
    "The best way to output multiple variables in the print() function is to separate them with commas, which even support different data types:"
   ],
   "metadata": {
    "collapsed": false
   },
   "id": "c3c9422644fdf9ab"
  },
  {
   "cell_type": "code",
   "execution_count": 27,
   "outputs": [
    {
     "name": "stdout",
     "output_type": "stream",
     "text": [
      "5 John\n"
     ]
    }
   ],
   "source": [
    "x = 5\n",
    "y = \"John\"\n",
    "print(x, y)"
   ],
   "metadata": {
    "collapsed": false,
    "ExecuteTime": {
     "end_time": "2024-09-05T06:14:05.558493Z",
     "start_time": "2024-09-05T06:14:05.540331Z"
    }
   },
   "id": "128744e37fff0409"
  },
  {
   "cell_type": "markdown",
   "source": [
    "## Python - Global Variables"
   ],
   "metadata": {
    "collapsed": false
   },
   "id": "2359c96c044d1e93"
  },
  {
   "cell_type": "markdown",
   "source": [
    "## Global Variables\n",
    "\n",
    "Variables that are created outside of a function (as in all of the examples in the previous pages) are known as global variables.\n",
    "\n",
    "Global variables can be used by everyone, both inside of functions and outside."
   ],
   "metadata": {
    "collapsed": false
   },
   "id": "2f9b212a32e2a4ac"
  },
  {
   "cell_type": "code",
   "execution_count": 28,
   "outputs": [
    {
     "name": "stdout",
     "output_type": "stream",
     "text": [
      "Python is awesome\n"
     ]
    }
   ],
   "source": [
    "# Create a variable outside of a function, and use it inside the function\n",
    "\n",
    "x = \"awesome\"\n",
    "\n",
    "def myfunc():\n",
    "  print(\"Python is \" + x)\n",
    "\n",
    "myfunc() "
   ],
   "metadata": {
    "collapsed": false,
    "ExecuteTime": {
     "end_time": "2024-09-05T06:15:03.207775Z",
     "start_time": "2024-09-05T06:15:03.189088Z"
    }
   },
   "id": "b8be0a18ffb3b577"
  },
  {
   "cell_type": "markdown",
   "source": [
    "If you create a variable with the same name inside a function, this variable will be local, and can only be used inside the function. The global variable with the same name will remain as it was, global and with the original value."
   ],
   "metadata": {
    "collapsed": false
   },
   "id": "81b11100996134d6"
  },
  {
   "cell_type": "code",
   "execution_count": 29,
   "outputs": [
    {
     "name": "stdout",
     "output_type": "stream",
     "text": [
      "Python is fantastic\n",
      "Python is awesome\n"
     ]
    }
   ],
   "source": [
    "# Create a variable inside a function, with the same name as the global variable\n",
    "\n",
    "x = \"awesome\"\n",
    "\n",
    "def myfunc():\n",
    "  x = \"fantastic\"\n",
    "  print(\"Python is \" + x)\n",
    "\n",
    "myfunc()\n",
    "\n",
    "print(\"Python is \" + x)"
   ],
   "metadata": {
    "collapsed": false,
    "ExecuteTime": {
     "end_time": "2024-09-05T06:15:47.790504Z",
     "start_time": "2024-09-05T06:15:47.772615Z"
    }
   },
   "id": "9042b08e7c686a1f"
  },
  {
   "cell_type": "markdown",
   "source": [
    "## The global Keyword\n",
    "\n",
    "Normally, when you create a variable inside a function, that variable is local, and can only be used inside that function.\n",
    "\n",
    "To create a global variable inside a function, you can use the **global** keyword."
   ],
   "metadata": {
    "collapsed": false
   },
   "id": "e0938169597a2d7b"
  },
  {
   "cell_type": "code",
   "execution_count": 30,
   "outputs": [
    {
     "name": "stdout",
     "output_type": "stream",
     "text": [
      "Python is fantastic\n"
     ]
    }
   ],
   "source": [
    "# If you use the global keyword, the variable belongs to the global scope:\n",
    "\n",
    "def myfunc():\n",
    "  global x\n",
    "  x = \"fantastic\"\n",
    "\n",
    "myfunc()\n",
    "\n",
    "print(\"Python is \" + x) "
   ],
   "metadata": {
    "collapsed": false,
    "ExecuteTime": {
     "end_time": "2024-09-05T06:17:13.028851Z",
     "start_time": "2024-09-05T06:17:13.004380Z"
    }
   },
   "id": "b671ec8dd3aef148"
  },
  {
   "cell_type": "markdown",
   "source": [
    "Also, use the **global** keyword if you want to change a global variable inside a function."
   ],
   "metadata": {
    "collapsed": false
   },
   "id": "297674b72e70b844"
  },
  {
   "cell_type": "code",
   "execution_count": 31,
   "outputs": [
    {
     "name": "stdout",
     "output_type": "stream",
     "text": [
      "Python is fantastic\n"
     ]
    }
   ],
   "source": [
    "# To change the value of a global variable inside a function, refer to the variable by using the global keyword:\n",
    "\n",
    "x = \"awesome\"\n",
    "\n",
    "def myfunc():\n",
    "  global x\n",
    "  x = \"fantastic\"\n",
    "\n",
    "myfunc()\n",
    "\n",
    "print(\"Python is \" + x) "
   ],
   "metadata": {
    "collapsed": false,
    "ExecuteTime": {
     "end_time": "2024-09-05T06:18:21.461533Z",
     "start_time": "2024-09-05T06:18:21.439140Z"
    }
   },
   "id": "9a1026acce98a1eb"
  },
  {
   "cell_type": "code",
   "execution_count": null,
   "outputs": [],
   "source": [],
   "metadata": {
    "collapsed": false
   },
   "id": "a3318774f551981d"
  }
 ],
 "metadata": {
  "kernelspec": {
   "display_name": "Python 3",
   "language": "python",
   "name": "python3"
  },
  "language_info": {
   "codemirror_mode": {
    "name": "ipython",
    "version": 2
   },
   "file_extension": ".py",
   "mimetype": "text/x-python",
   "name": "python",
   "nbconvert_exporter": "python",
   "pygments_lexer": "ipython2",
   "version": "2.7.6"
  }
 },
 "nbformat": 4,
 "nbformat_minor": 5
}
