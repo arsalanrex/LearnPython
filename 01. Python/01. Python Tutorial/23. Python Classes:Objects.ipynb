{
 "cells": [
  {
   "cell_type": "markdown",
   "source": [
    "### Python Classes and Objects"
   ],
   "metadata": {
    "collapsed": false
   },
   "id": "e6c4dc6240ba86b6"
  },
  {
   "cell_type": "markdown",
   "source": [
    "### Python Classes/Objects\n",
    "\n",
    "Python is an object oriented programming language.\n",
    "\n",
    "Almost everything in Python is an object, with its properties and methods.\n",
    "\n",
    "A Class is like an object constructor, or a \"blueprint\" for creating objects."
   ],
   "metadata": {
    "collapsed": false
   },
   "id": "e00625c70f8b3e52"
  },
  {
   "cell_type": "markdown",
   "source": [
    "### Create a Class\n",
    "\n",
    "To create a class, use the keyword **class**:"
   ],
   "metadata": {
    "collapsed": false
   },
   "id": "384294d42375560a"
  },
  {
   "cell_type": "code",
   "execution_count": 1,
   "id": "initial_id",
   "metadata": {
    "collapsed": true,
    "ExecuteTime": {
     "end_time": "2024-09-08T13:15:48.551434Z",
     "start_time": "2024-09-08T13:15:48.548900Z"
    }
   },
   "outputs": [],
   "source": [
    "# Create a class named MyClass, with a property named x:\n",
    "\n",
    "class MyClass:\n",
    "    x = 5"
   ]
  },
  {
   "cell_type": "markdown",
   "source": [
    "### Create Object\n",
    "\n",
    "Now we can use the class named MyClass to create objects:"
   ],
   "metadata": {
    "collapsed": false
   },
   "id": "a3b35550e0c62d31"
  },
  {
   "cell_type": "code",
   "execution_count": 2,
   "outputs": [
    {
     "name": "stdout",
     "output_type": "stream",
     "text": [
      "Arsalan\n"
     ]
    }
   ],
   "source": [
    "class MyClass:\n",
    "    x = \"Arsalan\"\n",
    "    \n",
    "p1 = MyClass()\n",
    "print(p1.x)"
   ],
   "metadata": {
    "collapsed": false,
    "ExecuteTime": {
     "end_time": "2024-09-08T13:16:46.594263Z",
     "start_time": "2024-09-08T13:16:46.569089Z"
    }
   },
   "id": "9ee4784d3de409ff"
  },
  {
   "cell_type": "markdown",
   "source": [
    "### The \\_\\_init__() Function\n",
    "\n",
    "The examples above are classes and objects in their simplest form, and are not really useful in real life applications.\n",
    "\n",
    "To understand the meaning of classes we have to understand the built-in **\\_\\_init__()** function.\n",
    "\n",
    "All classes have a function called **\\_\\_init__()**, which is always executed when the class is being initiated.\n",
    "\n",
    "Use the **\\_\\_init__()** function to assign values to object properties, or other operations that are necessary to do when the object is being created:"
   ],
   "metadata": {
    "collapsed": false
   },
   "id": "da189c4727bb2f36"
  },
  {
   "cell_type": "code",
   "execution_count": 3,
   "outputs": [
    {
     "name": "stdout",
     "output_type": "stream",
     "text": [
      "Arsalan\n",
      "26\n"
     ]
    }
   ],
   "source": [
    "# Create a class named Person, use the __init__() function to assign values for name and age:\n",
    "\n",
    "class Person:\n",
    "    def __init__(self, name, age):\n",
    "        self.name = name\n",
    "        self.age = age\n",
    "\n",
    "p1 = Person(\"Arsalan\", 26)\n",
    "\n",
    "print(p1.name)\n",
    "print(p1.age)"
   ],
   "metadata": {
    "collapsed": false,
    "ExecuteTime": {
     "end_time": "2024-09-08T13:20:53.993016Z",
     "start_time": "2024-09-08T13:20:53.966851Z"
    }
   },
   "id": "3bb10c6a183af76e"
  },
  {
   "cell_type": "markdown",
   "source": [
    "> **Note:** The **\\_\\_init__()** function is called automatically every time the class is being used to create a new object."
   ],
   "metadata": {
    "collapsed": false
   },
   "id": "262d2889a180d3d3"
  },
  {
   "cell_type": "markdown",
   "source": [
    "#### The \\_\\_str__() Function\n",
    "\n",
    "The **\\_\\_str__()** function is used to return a printable string representation of the object, and is called by the **str()** function.\n",
    "\n",
    "If you don't define the \\_\\_str__() method for a class, then it will use the default implementation, which returns the object's memory address in hexadecimal."
   ],
   "metadata": {
    "collapsed": false
   },
   "id": "9c3536a82ea6ccea"
  },
  {
   "cell_type": "code",
   "execution_count": 4,
   "outputs": [
    {
     "name": "stdout",
     "output_type": "stream",
     "text": [
      "<__main__.Person object at 0x106c55250>\n"
     ]
    }
   ],
   "source": [
    "# Thr string representation of the object WITHOUT __str__() method\n",
    "\n",
    "class Person:\n",
    "    def __init__(self, name, age):\n",
    "        self.name = name\n",
    "        self.age = age\n",
    "        \n",
    "p1 = Person(\"Arsalan\", 26)\n",
    "print(p1)"
   ],
   "metadata": {
    "collapsed": false,
    "ExecuteTime": {
     "end_time": "2024-09-08T13:23:32.534100Z",
     "start_time": "2024-09-08T13:23:32.505171Z"
    }
   },
   "id": "993450b4913bf04f"
  },
  {
   "cell_type": "code",
   "execution_count": 6,
   "outputs": [
    {
     "name": "stdout",
     "output_type": "stream",
     "text": [
      "Name: Arsalan, Age: 26\n",
      "Arsalan\n",
      "26\n"
     ]
    }
   ],
   "source": [
    "# Thr string representation of the object WITH __str__() method\n",
    "\n",
    "class Person:\n",
    "    def __init__(self, name, age):\n",
    "        self.name = name\n",
    "        self.age = age\n",
    "        \n",
    "    def __str__(self):\n",
    "        return \"Name: {}, Age: {}\".format(self.name, self.age)\n",
    "    \n",
    "p1 = Person(\"Arsalan\", 26)\n",
    "print(p1)\n",
    "\n",
    "print(p1.name)\n",
    "print(p1.age)"
   ],
   "metadata": {
    "collapsed": false,
    "ExecuteTime": {
     "end_time": "2024-09-08T13:24:32.943269Z",
     "start_time": "2024-09-08T13:24:32.926550Z"
    }
   },
   "id": "4d1d0868a3d62eee"
  },
  {
   "cell_type": "markdown",
   "source": [
    "### Object Methods\n",
    "\n",
    "Objects can also contain methods. Methods in objects are functions that belong to the object.\n",
    "\n",
    "Let us create a method in the Person class:"
   ],
   "metadata": {
    "collapsed": false
   },
   "id": "999e0d8ff14ca8e3"
  },
  {
   "cell_type": "code",
   "execution_count": 7,
   "outputs": [
    {
     "name": "stdout",
     "output_type": "stream",
     "text": [
      "Hello my name is Arsalan\n"
     ]
    }
   ],
   "source": [
    "# Insert a function that prints a greeting, and execute it on the p1 object:\n",
    "\n",
    "class Person:\n",
    "    def __init__(self, name, age):\n",
    "        self.name = name\n",
    "        self.age = age\n",
    "        \n",
    "    def myfunc(self):\n",
    "        print(\"Hello my name is \" + self.name)\n",
    "        \n",
    "p1 = Person(\"Arsalan\", 26)\n",
    "p1.myfunc()"
   ],
   "metadata": {
    "collapsed": false,
    "ExecuteTime": {
     "end_time": "2024-09-08T13:25:55.021136Z",
     "start_time": "2024-09-08T13:25:54.986319Z"
    }
   },
   "id": "4e997018913f6fe8"
  },
  {
   "cell_type": "markdown",
   "source": [
    "> **Note:** The **self** parameter is a reference to the current instance of the class, and is used to access variables that belong to the class."
   ],
   "metadata": {
    "collapsed": false
   },
   "id": "f00f60bcf0b0a4b4"
  },
  {
   "cell_type": "markdown",
   "source": [
    "### The self Parameter\n",
    "\n",
    "The **self** parameter is a reference to the current instance of the class, and is used to access variables that belongs to the class.\n",
    "\n",
    "It does not have to be named **self**, you can call it whatever you like, but it has to be the first parameter of any function in the class:"
   ],
   "metadata": {
    "collapsed": false
   },
   "id": "d1e80b465d88009a"
  },
  {
   "cell_type": "code",
   "execution_count": 10,
   "outputs": [
    {
     "name": "stdout",
     "output_type": "stream",
     "text": [
      "Hello my name is Arsalan\n"
     ]
    },
    {
     "ename": "TypeError",
     "evalue": "myfunc2() takes 0 positional arguments but 1 was given",
     "output_type": "error",
     "traceback": [
      "\u001B[0;31m---------------------------------------------------------------------------\u001B[0m",
      "\u001B[0;31mTypeError\u001B[0m                                 Traceback (most recent call last)",
      "Cell \u001B[0;32mIn[10], line 16\u001B[0m\n\u001B[1;32m     14\u001B[0m p1 \u001B[38;5;241m=\u001B[39m Person(\u001B[38;5;124m\"\u001B[39m\u001B[38;5;124mArsalan\u001B[39m\u001B[38;5;124m\"\u001B[39m, \u001B[38;5;241m26\u001B[39m)\n\u001B[1;32m     15\u001B[0m p1\u001B[38;5;241m.\u001B[39mmyfunc()\n\u001B[0;32m---> 16\u001B[0m \u001B[43mp1\u001B[49m\u001B[38;5;241;43m.\u001B[39;49m\u001B[43mmyfunc2\u001B[49m\u001B[43m(\u001B[49m\u001B[43m)\u001B[49m\n",
      "\u001B[0;31mTypeError\u001B[0m: myfunc2() takes 0 positional arguments but 1 was given"
     ]
    }
   ],
   "source": [
    "# Use the words mysillyobject and abc instead of self:\n",
    "\n",
    "class Person:\n",
    "    def __init__(mysillyobject, name, age):\n",
    "        mysillyobject.name = name\n",
    "        mysillyobject.age = age\n",
    "        \n",
    "    def myfunc(abc):\n",
    "        print(\"Hello my name is \" + abc.name)\n",
    "        \n",
    "    def myfunc2():\n",
    "        print(\"not passing self. It will give error\")\n",
    "        \n",
    "p1 = Person(\"Arsalan\", 26)\n",
    "\n",
    "p1.myfunc()\n",
    "p1.myfunc2()"
   ],
   "metadata": {
    "collapsed": false,
    "ExecuteTime": {
     "end_time": "2024-09-08T13:28:26.026055Z",
     "start_time": "2024-09-08T13:28:25.861248Z"
    }
   },
   "id": "d55ca17d8423610b"
  },
  {
   "cell_type": "markdown",
   "source": [
    "### Modify Object Properties\n",
    "\n",
    "You can modify properties on objects like this:"
   ],
   "metadata": {
    "collapsed": false
   },
   "id": "ba4000adba98ee83"
  },
  {
   "cell_type": "code",
   "execution_count": 14,
   "outputs": [
    {
     "name": "stdout",
     "output_type": "stream",
     "text": [
      "Hello my name is Arsalan and I am 20 years old\n",
      "Hello my name is Arsalan and I am 26 years old\n"
     ]
    }
   ],
   "source": [
    "class Person:\n",
    "    def __init__(self, name, age):\n",
    "        self.name = name\n",
    "        self.age = age\n",
    "        \n",
    "    def myfunc(self):\n",
    "        print(\"Hello my name is \" + self.name, \"and I am\", self.age, \"years old\")\n",
    "        \n",
    "p1 = Person(\"Arsalan\", 20)\n",
    "p1.myfunc()\n",
    "\n",
    "p1.age = 26\n",
    "p1.myfunc()"
   ],
   "metadata": {
    "collapsed": false,
    "ExecuteTime": {
     "end_time": "2024-09-08T13:30:40.737114Z",
     "start_time": "2024-09-08T13:30:40.717771Z"
    }
   },
   "id": "58b1b881cf48e2c"
  },
  {
   "cell_type": "markdown",
   "source": [
    "### Delete Object Properties\n",
    "\n",
    "You can delete properties on objects by using the **del** keyword:"
   ],
   "metadata": {
    "collapsed": false
   },
   "id": "b36f37c76e0b5b9e"
  },
  {
   "cell_type": "code",
   "execution_count": 16,
   "outputs": [
    {
     "name": "stdout",
     "output_type": "stream",
     "text": [
      "Hello my name is Arsalan and I am 26 years old\n"
     ]
    },
    {
     "ename": "AttributeError",
     "evalue": "'Person' object has no attribute 'age'",
     "output_type": "error",
     "traceback": [
      "\u001B[0;31m---------------------------------------------------------------------------\u001B[0m",
      "\u001B[0;31mAttributeError\u001B[0m                            Traceback (most recent call last)",
      "Cell \u001B[0;32mIn[16], line 13\u001B[0m\n\u001B[1;32m     10\u001B[0m p1\u001B[38;5;241m.\u001B[39mmyfunc()\n\u001B[1;32m     12\u001B[0m \u001B[38;5;28;01mdel\u001B[39;00m p1\u001B[38;5;241m.\u001B[39mage\n\u001B[0;32m---> 13\u001B[0m \u001B[43mp1\u001B[49m\u001B[38;5;241;43m.\u001B[39;49m\u001B[43mmyfunc\u001B[49m\u001B[43m(\u001B[49m\u001B[43m)\u001B[49m\n",
      "Cell \u001B[0;32mIn[16], line 7\u001B[0m, in \u001B[0;36mPerson.myfunc\u001B[0;34m(self)\u001B[0m\n\u001B[1;32m      6\u001B[0m \u001B[38;5;28;01mdef\u001B[39;00m \u001B[38;5;21mmyfunc\u001B[39m(\u001B[38;5;28mself\u001B[39m):\n\u001B[0;32m----> 7\u001B[0m     \u001B[38;5;28mprint\u001B[39m(\u001B[38;5;124m\"\u001B[39m\u001B[38;5;124mHello my name is \u001B[39m\u001B[38;5;124m\"\u001B[39m \u001B[38;5;241m+\u001B[39m \u001B[38;5;28mself\u001B[39m\u001B[38;5;241m.\u001B[39mname, \u001B[38;5;124m\"\u001B[39m\u001B[38;5;124mand I am\u001B[39m\u001B[38;5;124m\"\u001B[39m, \u001B[38;5;28;43mself\u001B[39;49m\u001B[38;5;241;43m.\u001B[39;49m\u001B[43mage\u001B[49m, \u001B[38;5;124m\"\u001B[39m\u001B[38;5;124myears old\u001B[39m\u001B[38;5;124m\"\u001B[39m)\n",
      "\u001B[0;31mAttributeError\u001B[0m: 'Person' object has no attribute 'age'"
     ]
    }
   ],
   "source": [
    "class  Person:\n",
    "    def __init__(self, name, age):\n",
    "        self.name = name\n",
    "        self.age = age\n",
    "        \n",
    "    def myfunc(self):\n",
    "        print(\"Hello my name is \" + self.name, \"and I am\", self.age, \"years old\")\n",
    "\n",
    "p1 = Person(\"Arsalan\", 26)\n",
    "p1.myfunc()\n",
    "\n",
    "del p1.age\n",
    "p1.myfunc()"
   ],
   "metadata": {
    "collapsed": false,
    "ExecuteTime": {
     "end_time": "2024-09-08T13:31:53.219397Z",
     "start_time": "2024-09-08T13:31:53.203335Z"
    }
   },
   "id": "8be1f10ba1cefca2"
  },
  {
   "cell_type": "markdown",
   "source": [
    "### Delete Objects\n",
    "\n",
    "You can delete objects by using the **del** keyword:"
   ],
   "metadata": {
    "collapsed": false
   },
   "id": "41b18314640cd213"
  },
  {
   "cell_type": "code",
   "execution_count": 17,
   "outputs": [
    {
     "name": "stdout",
     "output_type": "stream",
     "text": [
      "Hello my name is Arsalan and I am 26 years old\n"
     ]
    },
    {
     "ename": "NameError",
     "evalue": "name 'p1' is not defined",
     "output_type": "error",
     "traceback": [
      "\u001B[0;31m---------------------------------------------------------------------------\u001B[0m",
      "\u001B[0;31mNameError\u001B[0m                                 Traceback (most recent call last)",
      "Cell \u001B[0;32mIn[17], line 13\u001B[0m\n\u001B[1;32m     10\u001B[0m p1\u001B[38;5;241m.\u001B[39mmyfunc()\n\u001B[1;32m     12\u001B[0m \u001B[38;5;28;01mdel\u001B[39;00m p1\n\u001B[0;32m---> 13\u001B[0m \u001B[43mp1\u001B[49m\u001B[38;5;241m.\u001B[39mmyfunc()\n",
      "\u001B[0;31mNameError\u001B[0m: name 'p1' is not defined"
     ]
    }
   ],
   "source": [
    "class Person:\n",
    "    def __init__(self, name, age):\n",
    "        self.name = name\n",
    "        self.age = age\n",
    "        \n",
    "    def myfunc(self):\n",
    "        print(\"Hello my name is \" + self.name, \"and I am\", self.age, \"years old\")\n",
    "        \n",
    "p1 = Person(\"Arsalan\", 26)\n",
    "p1.myfunc()\n",
    "\n",
    "del p1\n",
    "p1.myfunc()"
   ],
   "metadata": {
    "collapsed": false,
    "ExecuteTime": {
     "end_time": "2024-09-08T13:32:40.194919Z",
     "start_time": "2024-09-08T13:32:40.175092Z"
    }
   },
   "id": "cca9010e8c049518"
  },
  {
   "cell_type": "markdown",
   "source": [
    "### The pass Statement\n",
    "\n",
    "**class** definitions cannot be empty, but if you for some reason have a class definition with no content, put in the **pass** statement to avoid getting an error."
   ],
   "metadata": {
    "collapsed": false
   },
   "id": "f225a27a1a6f8b8a"
  },
  {
   "cell_type": "code",
   "execution_count": 20,
   "outputs": [
    {
     "ename": "IndentationError",
     "evalue": "expected an indented block (650652528.py, line 7)",
     "output_type": "error",
     "traceback": [
      "\u001B[0;36m  Cell \u001B[0;32mIn[20], line 7\u001B[0;36m\u001B[0m\n\u001B[0;31m    class Person3:\u001B[0m\n\u001B[0m    ^\u001B[0m\n\u001B[0;31mIndentationError\u001B[0m\u001B[0;31m:\u001B[0m expected an indented block\n"
     ]
    }
   ],
   "source": [
    "class Person:\n",
    "    pass\n",
    "\n",
    "class Person2:\n",
    "  \n",
    "    \n",
    "class Person3:\n",
    "    pass\n",
    "\n",
    "print(\"Error Check!\")"
   ],
   "metadata": {
    "collapsed": false,
    "ExecuteTime": {
     "end_time": "2024-09-08T13:34:43.169438Z",
     "start_time": "2024-09-08T13:34:43.148065Z"
    }
   },
   "id": "b74d9330a2097cbb"
  },
  {
   "cell_type": "code",
   "execution_count": null,
   "outputs": [],
   "source": [],
   "metadata": {
    "collapsed": false
   },
   "id": "cfcb925023cf2da8"
  }
 ],
 "metadata": {
  "kernelspec": {
   "display_name": "Python 3",
   "language": "python",
   "name": "python3"
  },
  "language_info": {
   "codemirror_mode": {
    "name": "ipython",
    "version": 2
   },
   "file_extension": ".py",
   "mimetype": "text/x-python",
   "name": "python",
   "nbconvert_exporter": "python",
   "pygments_lexer": "ipython2",
   "version": "2.7.6"
  }
 },
 "nbformat": 4,
 "nbformat_minor": 5
}
