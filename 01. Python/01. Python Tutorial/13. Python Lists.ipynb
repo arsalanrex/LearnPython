{
 "cells": [
  {
   "cell_type": "markdown",
   "source": [],
   "metadata": {
    "collapsed": false
   },
   "id": "59161a37679a1612"
  },
  {
   "cell_type": "markdown",
   "source": [
    "### Python Lists Methods"
   ],
   "metadata": {
    "collapsed": false
   },
   "id": "1e745123739245fd"
  },
  {
   "cell_type": "markdown",
   "source": [
    "#### List Methods\n",
    "\n",
    "Python has a set of built-in methods that you can use on lists."
   ],
   "metadata": {
    "collapsed": false
   },
   "id": "787bc58988d125c1"
  },
  {
   "cell_type": "markdown",
   "source": [
    "##### append()\n",
    "\n",
    "The **append()** method appends an element to the end of the list."
   ],
   "metadata": {
    "collapsed": false
   },
   "id": "e0cdc19c6b6d1428"
  },
  {
   "cell_type": "markdown",
   "source": [
    "Parameters:\n",
    "\n",
    "- **value** - The value to append"
   ],
   "metadata": {
    "collapsed": false
   },
   "id": "96fab094416394c8"
  },
  {
   "cell_type": "code",
   "execution_count": 4,
   "id": "initial_id",
   "metadata": {
    "collapsed": true,
    "ExecuteTime": {
     "end_time": "2024-09-08T13:45:23.463618Z",
     "start_time": "2024-09-08T13:45:23.408865Z"
    }
   },
   "outputs": [
    {
     "name": "stdout",
     "output_type": "stream",
     "text": [
      "['apple', 'banana', 'cherry']\n",
      "['apple', 'banana', 'cherry', ['Ford', 'BMW', 'Volvo']]\n"
     ]
    }
   ],
   "source": [
    "a = [\"apple\", \"banana\", \"cherry\"]\n",
    "b = [\"Ford\", \"BMW\", \"Volvo\"]\n",
    "print(a)\n",
    "\n",
    "a.append(b)\n",
    "print(a)"
   ]
  },
  {
   "cell_type": "markdown",
   "source": [
    "##### clear()\n",
    "\n",
    "The **clear()** method removes all the elements from a list."
   ],
   "metadata": {
    "collapsed": false
   },
   "id": "31ea962ef062ac0f"
  },
  {
   "cell_type": "code",
   "execution_count": 3,
   "outputs": [
    {
     "name": "stdout",
     "output_type": "stream",
     "text": [
      "['apple', 'banana', 'cherry']\n",
      "[]\n"
     ]
    }
   ],
   "source": [
    "a = [\"apple\", \"banana\", \"cherry\"]\n",
    "print(a)\n",
    "\n",
    "a.clear()\n",
    "print(a)"
   ],
   "metadata": {
    "collapsed": false,
    "ExecuteTime": {
     "end_time": "2024-09-08T13:45:09.448976Z",
     "start_time": "2024-09-08T13:45:09.423015Z"
    }
   },
   "id": "9ee4784d3de409ff"
  },
  {
   "cell_type": "markdown",
   "source": [
    "##### copy()\n",
    "\n",
    "The **copy()** method returns a copy of the specified list."
   ],
   "metadata": {
    "collapsed": false
   },
   "id": "f8cc63d09baaefac"
  },
  {
   "cell_type": "code",
   "execution_count": 5,
   "outputs": [
    {
     "name": "stdout",
     "output_type": "stream",
     "text": [
      "['apple', 'banana', 'cherry']\n",
      "['apple', 'banana', 'cherry']\n"
     ]
    }
   ],
   "source": [
    "a = [\"apple\", \"banana\", \"cherry\"]\n",
    "print(a)\n",
    "\n",
    "b = a.copy()\n",
    "print(b)"
   ],
   "metadata": {
    "collapsed": false,
    "ExecuteTime": {
     "end_time": "2024-09-08T13:46:15.456867Z",
     "start_time": "2024-09-08T13:46:15.425720Z"
    }
   },
   "id": "e69388c3ef4b91e7"
  },
  {
   "cell_type": "markdown",
   "source": [
    "##### count()\n",
    "\n",
    "The **count()** method returns the number of elements with the specified value."
   ],
   "metadata": {
    "collapsed": false
   },
   "id": "9e688deadc62cb84"
  },
  {
   "cell_type": "markdown",
   "source": [
    "Parameters:\n",
    "\n",
    "- **value** - Required. Any type (string, number, list, tuple, etc.). The value to search for."
   ],
   "metadata": {
    "collapsed": false
   },
   "id": "dd339b37740bf4ba"
  },
  {
   "cell_type": "code",
   "execution_count": 6,
   "outputs": [
    {
     "name": "stdout",
     "output_type": "stream",
     "text": [
      "2\n"
     ]
    }
   ],
   "source": [
    "points = [1, 4, 2, 9, 7, 8, 9, 3, 1]\n",
    "\n",
    "print(points.count(9))"
   ],
   "metadata": {
    "collapsed": false,
    "ExecuteTime": {
     "end_time": "2024-09-08T13:47:27.431970Z",
     "start_time": "2024-09-08T13:47:27.400463Z"
    }
   },
   "id": "af81262e967d8bca"
  },
  {
   "cell_type": "markdown",
   "source": [
    "##### extend()\n",
    "\n",
    "The **extend()** method adds the specified list elements (or any iterable) to the end of the current list."
   ],
   "metadata": {
    "collapsed": false
   },
   "id": "d3c242c5ff62b8d1"
  },
  {
   "cell_type": "markdown",
   "source": [
    "Parameters:\n",
    "\n",
    "- **iterable** - Required. Any iterable (list, set, tuple, etc.)"
   ],
   "metadata": {
    "collapsed": false
   },
   "id": "353a458adb6b4930"
  },
  {
   "cell_type": "code",
   "execution_count": 17,
   "outputs": [
    {
     "name": "stdout",
     "output_type": "stream",
     "text": [
      "[1, 2, 3]\n",
      "[1, 2, 3, 4, 5, 6]\n",
      "[1, 2, 3, 4, 5, 6, 7, 8, 9]\n",
      "[1, 2, 3, 4, 5, 6, 7, 8, 9, 10, 11, 12]\n",
      "[1, 2, 3, 4, 5, 6, 7, 8, 9, 10, 11, 12, 13, 14]\n",
      "[1, 2, 3, 4, 5, 6, 7, 8, 9, 10, 11, 12, 13, 14, 'Thirteen', 'Fourteen']\n"
     ]
    }
   ],
   "source": [
    "a = [1, 2, 3]\n",
    "l = [4, 5, 6]\n",
    "t = (7, 8, 9)\n",
    "s = {10, 11, 12}\n",
    "d = {\"Thirteen\": 13, \"Fourteen\": 14}\n",
    "\n",
    "\n",
    "print(a)\n",
    "\n",
    "a.extend(l)\n",
    "print(a)\n",
    "\n",
    "a.extend(t)\n",
    "print(a)\n",
    "\n",
    "a.extend(s)\n",
    "print(a)\n",
    "\n",
    "a.extend(d.values())\n",
    "print(a)\n",
    "\n",
    "a.extend(d.keys())\n",
    "print(a)"
   ],
   "metadata": {
    "collapsed": false,
    "ExecuteTime": {
     "end_time": "2024-09-08T13:53:52.879488Z",
     "start_time": "2024-09-08T13:53:52.865690Z"
    }
   },
   "id": "cd5230cbba69305f"
  },
  {
   "cell_type": "markdown",
   "source": [
    "##### index()\n",
    "\n",
    "The **index()** method returns the position at the first occurrence of the specified value.\n",
    "\n",
    "If the value is not found, the **index()** method raises an exception."
   ],
   "metadata": {
    "collapsed": false
   },
   "id": "f2221cefd0592575"
  },
  {
   "cell_type": "markdown",
   "source": [
    "Parameters:\n",
    "\n",
    "- **value** - Required. Any type (string, number, list, tuple, etc.). The value to search for."
   ],
   "metadata": {
    "collapsed": false
   },
   "id": "d380d05d1620bdb3"
  },
  {
   "cell_type": "code",
   "execution_count": 18,
   "outputs": [
    {
     "name": "stdout",
     "output_type": "stream",
     "text": [
      "1\n"
     ]
    }
   ],
   "source": [
    "a = [\"apple\", \"banana\", \"cherry\"]\n",
    "print(a.index(\"banana\"))"
   ],
   "metadata": {
    "collapsed": false,
    "ExecuteTime": {
     "end_time": "2024-09-08T13:56:15.714944Z",
     "start_time": "2024-09-08T13:56:15.691945Z"
    }
   },
   "id": "36bc6e0fcebcaa1"
  },
  {
   "cell_type": "markdown",
   "source": [
    "> **Note:** The **index()** method only returns the first occurrence of the value."
   ],
   "metadata": {
    "collapsed": false
   },
   "id": "e39f44c7e4047ed2"
  },
  {
   "cell_type": "markdown",
   "source": [
    "##### insert()\n",
    "\n",
    "The **insert()** method inserts the specified value at the specified position."
   ],
   "metadata": {
    "collapsed": false
   },
   "id": "aa70c1c54a26abb"
  },
  {
   "cell_type": "markdown",
   "source": [
    "Parameters:\n",
    "\n",
    "- **index** - Required. The position where you want to insert the value\n",
    "- **value** - Required. The value to insert"
   ],
   "metadata": {
    "collapsed": false
   },
   "id": "1d68055ce6c4578e"
  },
  {
   "cell_type": "code",
   "execution_count": 19,
   "outputs": [
    {
     "name": "stdout",
     "output_type": "stream",
     "text": [
      "['apple', 'banana', 'cherry']\n",
      "['apple', 'orange', 'banana', 'cherry']\n"
     ]
    }
   ],
   "source": [
    "a = [\"apple\", \"banana\", \"cherry\"]\n",
    "print(a)\n",
    "\n",
    "a.insert(1, \"orange\")\n",
    "print(a)"
   ],
   "metadata": {
    "collapsed": false,
    "ExecuteTime": {
     "end_time": "2024-09-08T13:57:26.823456Z",
     "start_time": "2024-09-08T13:57:26.790326Z"
    }
   },
   "id": "892ba7450287011e"
  },
  {
   "cell_type": "markdown",
   "source": [
    "##### pop()\n",
    "\n",
    "The **pop()** method removes the element at the specified position."
   ],
   "metadata": {
    "collapsed": false
   },
   "id": "85fcf29983789306"
  },
  {
   "cell_type": "markdown",
   "source": [
    "Parameters:\n",
    "\n",
    "- **index** - Optional. A number specifying the position of the element you want to remove, default value is -1, which returns the last item"
   ],
   "metadata": {
    "collapsed": false
   },
   "id": "6b5da25874c3c85"
  },
  {
   "cell_type": "code",
   "execution_count": 20,
   "outputs": [
    {
     "name": "stdout",
     "output_type": "stream",
     "text": [
      "['apple', 'banana', 'cherry']\n",
      "['apple', 'cherry']\n",
      "['apple']\n"
     ]
    }
   ],
   "source": [
    "a = [\"apple\", \"banana\", \"cherry\"]\n",
    "print(a)\n",
    "\n",
    "a.pop(1)\n",
    "print(a)\n",
    "\n",
    "a.pop()\n",
    "print(a)"
   ],
   "metadata": {
    "collapsed": false,
    "ExecuteTime": {
     "end_time": "2024-09-08T13:58:18.581809Z",
     "start_time": "2024-09-08T13:58:18.544917Z"
    }
   },
   "id": "b38667b62471606b"
  },
  {
   "cell_type": "markdown",
   "source": [
    "##### remove()\n",
    "\n",
    "The **remove()** method removes the first occurrence of the element with the specified value."
   ],
   "metadata": {
    "collapsed": false
   },
   "id": "c714f1a425949ebe"
  },
  {
   "cell_type": "markdown",
   "source": [
    "Parameters:\n",
    "\n",
    "- **value** - Required. Any type (string, number, list, tuple, etc.). The value to remove"
   ],
   "metadata": {
    "collapsed": false
   },
   "id": "9d19a473081ab911"
  },
  {
   "cell_type": "code",
   "execution_count": 21,
   "outputs": [
    {
     "name": "stdout",
     "output_type": "stream",
     "text": [
      "['apple', 'banana', 'cherry', 'banana']\n",
      "['apple', 'cherry', 'banana']\n"
     ]
    },
    {
     "ename": "ValueError",
     "evalue": "list.remove(x): x not in list",
     "output_type": "error",
     "traceback": [
      "\u001B[0;31m---------------------------------------------------------------------------\u001B[0m",
      "\u001B[0;31mValueError\u001B[0m                                Traceback (most recent call last)",
      "Cell \u001B[0;32mIn[21], line 7\u001B[0m\n\u001B[1;32m      4\u001B[0m a\u001B[38;5;241m.\u001B[39mremove(\u001B[38;5;124m\"\u001B[39m\u001B[38;5;124mbanana\u001B[39m\u001B[38;5;124m\"\u001B[39m)\n\u001B[1;32m      5\u001B[0m \u001B[38;5;28mprint\u001B[39m(a)\n\u001B[0;32m----> 7\u001B[0m \u001B[43ma\u001B[49m\u001B[38;5;241;43m.\u001B[39;49m\u001B[43mremove\u001B[49m\u001B[43m(\u001B[49m\u001B[38;5;124;43m\"\u001B[39;49m\u001B[38;5;124;43mtomato\u001B[39;49m\u001B[38;5;124;43m\"\u001B[39;49m\u001B[43m)\u001B[49m\n\u001B[1;32m      8\u001B[0m \u001B[38;5;28mprint\u001B[39m(a)\n",
      "\u001B[0;31mValueError\u001B[0m: list.remove(x): x not in list"
     ]
    }
   ],
   "source": [
    "a = [\"apple\", \"banana\", \"cherry\", \"banana\"]\n",
    "print(a)\n",
    "\n",
    "a.remove(\"banana\")\n",
    "print(a)\n",
    "\n",
    "a.remove(\"tomato\")\n",
    "print(a)"
   ],
   "metadata": {
    "collapsed": false,
    "ExecuteTime": {
     "end_time": "2024-09-08T13:59:36.264111Z",
     "start_time": "2024-09-08T13:59:36.092538Z"
    }
   },
   "id": "b95632d2726321e5"
  },
  {
   "cell_type": "markdown",
   "source": [
    "##### reverse()\n",
    "\n",
    "The **reverse()** method reverses the sorting order of the elements."
   ],
   "metadata": {
    "collapsed": false
   },
   "id": "bf992a6df1c6a626"
  },
  {
   "cell_type": "code",
   "execution_count": 22,
   "outputs": [
    {
     "name": "stdout",
     "output_type": "stream",
     "text": [
      "['apple', 'banana', 'cherry']\n",
      "['cherry', 'banana', 'apple']\n"
     ]
    }
   ],
   "source": [
    "a = [\"apple\", \"banana\", \"cherry\"]\n",
    "print(a)\n",
    "\n",
    "a.reverse()\n",
    "print(a)"
   ],
   "metadata": {
    "collapsed": false,
    "ExecuteTime": {
     "end_time": "2024-09-08T14:00:11.875517Z",
     "start_time": "2024-09-08T14:00:11.835555Z"
    }
   },
   "id": "ceb2f86d4b862764"
  },
  {
   "cell_type": "markdown",
   "source": [
    "##### sort()\n",
    "\n",
    "The **sort()** method sorts the list ascending by default.\n",
    "\n",
    "You can also make a function to decide the sorting criteria(s)."
   ],
   "metadata": {
    "collapsed": false
   },
   "id": "c0513d38e615de2d"
  },
  {
   "cell_type": "markdown",
   "source": [
    "Parameters:\n",
    "\n",
    "- **reverse** - Optional. A Boolean. False will sort ascending, and True will sort descending.\n",
    "- **key** - Optional. A function to specify the sorting criteria(s)"
   ],
   "metadata": {
    "collapsed": false
   },
   "id": "5e1ab9f8e279fb51"
  },
  {
   "cell_type": "code",
   "execution_count": 30,
   "outputs": [
    {
     "name": "stdout",
     "output_type": "stream",
     "text": [
      "[100, 50, 65, 82, 23]\n",
      "[23, 50, 65, 82, 100]\n",
      "[100, 82, 65, 50, 23]\n"
     ]
    }
   ],
   "source": [
    "a = [100, 50, 65, 82, 23]\n",
    "print(a)\n",
    "\n",
    "a.sort()\n",
    "print(a)\n",
    "\n",
    "a.sort(reverse=True)\n",
    "print(a)"
   ],
   "metadata": {
    "collapsed": false,
    "ExecuteTime": {
     "end_time": "2024-09-08T14:03:31.220814Z",
     "start_time": "2024-09-08T14:03:31.204695Z"
    }
   },
   "id": "81c034eae8806409"
  },
  {
   "cell_type": "markdown",
   "source": [
    "Difference between **sort()** and **sorted()**"
   ],
   "metadata": {
    "collapsed": false
   },
   "id": "d2e92a861473f02"
  },
  {
   "cell_type": "code",
   "execution_count": 28,
   "outputs": [
    {
     "name": "stdout",
     "output_type": "stream",
     "text": [
      "[100, 50, 65, 82, 23]\n",
      "None\n",
      "[23, 50, 65, 82, 100]\n"
     ]
    }
   ],
   "source": [
    "a = [100, 50, 65, 82, 23]\n",
    "print(a)\n",
    "\n",
    "print(a.sort())\n",
    "\n",
    "print(sorted(a))"
   ],
   "metadata": {
    "collapsed": false,
    "ExecuteTime": {
     "end_time": "2024-09-08T14:02:39.550253Z",
     "start_time": "2024-09-08T14:02:39.522887Z"
    }
   },
   "id": "c4f2dad722b879e9"
  },
  {
   "cell_type": "markdown",
   "source": [
    "Sort the list based on the length of the values:"
   ],
   "metadata": {
    "collapsed": false
   },
   "id": "12f44943c311d6f1"
  },
  {
   "cell_type": "code",
   "execution_count": 36,
   "outputs": [
    {
     "name": "stdout",
     "output_type": "stream",
     "text": [
      "['kiwi', 'apple', 'mango', 'banana', 'cherry']\n",
      "['banana', 'cherry', 'apple', 'mango', 'kiwi']\n"
     ]
    }
   ],
   "source": [
    "# Using function\n",
    "\n",
    "def myFunc(e):\n",
    "    return len(e)\n",
    "\n",
    "a = [\"apple\", \"banana\", \"cherry\", \"kiwi\", \"mango\"]\n",
    "\n",
    "a.sort(key=myFunc)\n",
    "print(a)\n",
    "\n",
    "\n",
    "# Using lambda\n",
    "\n",
    "a = [\"apple\", \"banana\", \"cherry\", \"kiwi\", \"mango\"]\n",
    "a.sort(reverse=True, key=lambda x: len(x))\n",
    "print(a)"
   ],
   "metadata": {
    "collapsed": false,
    "ExecuteTime": {
     "end_time": "2024-09-08T14:07:16.915681Z",
     "start_time": "2024-09-08T14:07:16.889946Z"
    }
   },
   "id": "f8a118e3be26e69b"
  },
  {
   "cell_type": "markdown",
   "source": [
    "Sort a list of dictionaries based on the \"year\" value of the dictionaries:"
   ],
   "metadata": {
    "collapsed": false
   },
   "id": "df54f97842b5825f"
  },
  {
   "cell_type": "code",
   "execution_count": 39,
   "outputs": [
    {
     "name": "stdout",
     "output_type": "stream",
     "text": [
      "[{'car': 'Mitsubishi', 'year': 2000}, {'car': 'Ford', 'year': 2005}, {'car': 'VW', 'year': 2011}, {'car': 'BMW', 'year': 2019}]\n"
     ]
    }
   ],
   "source": [
    "def myFunc(e):\n",
    "    return e['year']\n",
    "\n",
    "cars = [\n",
    "    {'car': 'Ford', 'year': 2005},\n",
    "    {'car': 'Mitsubishi', 'year': 2000},\n",
    "    {'car': 'BMW', 'year': 2019},\n",
    "    {'car': 'VW', 'year': 2011}\n",
    "    ]\n",
    "\n",
    "cars.sort(key=myFunc)\n",
    "print(cars)"
   ],
   "metadata": {
    "collapsed": false,
    "ExecuteTime": {
     "end_time": "2024-09-08T14:08:58.535917Z",
     "start_time": "2024-09-08T14:08:58.520196Z"
    }
   },
   "id": "90d23592d8dd87c5"
  },
  {
   "cell_type": "code",
   "execution_count": null,
   "outputs": [],
   "source": [],
   "metadata": {
    "collapsed": false
   },
   "id": "669ce475b37b64e8"
  }
 ],
 "metadata": {
  "kernelspec": {
   "display_name": "Python 3",
   "language": "python",
   "name": "python3"
  },
  "language_info": {
   "codemirror_mode": {
    "name": "ipython",
    "version": 2
   },
   "file_extension": ".py",
   "mimetype": "text/x-python",
   "name": "python",
   "nbconvert_exporter": "python",
   "pygments_lexer": "ipython2",
   "version": "2.7.6"
  }
 },
 "nbformat": 4,
 "nbformat_minor": 5
}
