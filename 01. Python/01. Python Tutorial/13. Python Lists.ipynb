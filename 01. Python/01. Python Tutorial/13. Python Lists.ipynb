{
 "cells": [
  {
   "cell_type": "markdown",
   "source": [],
   "metadata": {
    "collapsed": false
   },
   "id": "59161a37679a1612"
  },
  {
   "cell_type": "markdown",
   "source": [
    "### Python Lists Methods"
   ],
   "metadata": {
    "collapsed": false
   },
   "id": "1e745123739245fd"
  },
  {
   "cell_type": "markdown",
   "source": [
    "#### List Methods\n",
    "\n",
    "Python has a set of built-in methods that you can use on lists."
   ],
   "metadata": {
    "collapsed": false
   },
   "id": "787bc58988d125c1"
  },
  {
   "cell_type": "markdown",
   "source": [
    "##### append()\n",
    "\n",
    "The **append()** method appends an element to the end of the list."
   ],
   "metadata": {
    "collapsed": false
   },
   "id": "e0cdc19c6b6d1428"
  },
  {
   "cell_type": "markdown",
   "source": [
    "Parameters:\n",
    "\n",
    "- **value** - The value to append"
   ],
   "metadata": {
    "collapsed": false
   },
   "id": "96fab094416394c8"
  },
  {
   "cell_type": "code",
   "execution_count": 2,
   "id": "initial_id",
   "metadata": {
    "collapsed": true,
    "ExecuteTime": {
     "end_time": "2024-09-08T11:18:58.374109Z",
     "start_time": "2024-09-08T11:18:58.358001Z"
    }
   },
   "outputs": [
    {
     "name": "stdout",
     "output_type": "stream",
     "text": [
      "['apple', 'banana', 'cherry', ['Ford', 'BMW', 'Volvo']]\n"
     ]
    }
   ],
   "source": [
    "a = [\"apple\", \"banana\", \"cherry\"]\n",
    "b = [\"Ford\", \"BMW\", \"Volvo\"]\n",
    "a.append(b)\n",
    "print(a)"
   ]
  },
  {
   "cell_type": "code",
   "execution_count": null,
   "outputs": [],
   "source": [],
   "metadata": {
    "collapsed": false
   },
   "id": "9ee4784d3de409ff"
  }
 ],
 "metadata": {
  "kernelspec": {
   "display_name": "Python 3",
   "language": "python",
   "name": "python3"
  },
  "language_info": {
   "codemirror_mode": {
    "name": "ipython",
    "version": 2
   },
   "file_extension": ".py",
   "mimetype": "text/x-python",
   "name": "python",
   "nbconvert_exporter": "python",
   "pygments_lexer": "ipython2",
   "version": "2.7.6"
  }
 },
 "nbformat": 4,
 "nbformat_minor": 5
}
