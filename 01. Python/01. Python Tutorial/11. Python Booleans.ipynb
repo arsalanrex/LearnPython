{
 "cells": [
  {
   "cell_type": "markdown",
   "source": [
    "## Python Booleans\n",
    "\n",
    "Booleans represent one of two values: **True** or **False**."
   ],
   "metadata": {
    "collapsed": false
   },
   "id": "3db3ca6594766709"
  },
  {
   "cell_type": "markdown",
   "source": [
    "### Boolean Values\n",
    "\n",
    "In programming you often need to know if an expression is **True** or **False**.\n",
    "\n",
    "You can evaluate any expression in Python, and get one of two answers, **True** or **False**.\n",
    "\n",
    "When you compare two values, the expression is evaluated and Python returns the Boolean answer:"
   ],
   "metadata": {
    "collapsed": false
   },
   "id": "51409aa2b3661ff8"
  },
  {
   "cell_type": "code",
   "execution_count": 1,
   "id": "initial_id",
   "metadata": {
    "collapsed": true,
    "ExecuteTime": {
     "end_time": "2024-09-07T12:46:31.411340Z",
     "start_time": "2024-09-07T12:46:31.408102Z"
    }
   },
   "outputs": [
    {
     "name": "stdout",
     "output_type": "stream",
     "text": [
      "True\n",
      "False\n",
      "False\n"
     ]
    }
   ],
   "source": [
    "print(10 > 9)\n",
    "print(10 == 9)\n",
    "print(10 < 9)"
   ]
  },
  {
   "cell_type": "markdown",
   "source": [
    "When you run a condition in an if statement, Python returns **True** or **False**:"
   ],
   "metadata": {
    "collapsed": false
   },
   "id": "9bd5e42c08e9698c"
  },
  {
   "cell_type": "code",
   "execution_count": 2,
   "outputs": [
    {
     "name": "stdout",
     "output_type": "stream",
     "text": [
      "b is not greater than a\n"
     ]
    }
   ],
   "source": [
    "# Print a message based on whether the condition is True or False\n",
    "\n",
    "a = 200\n",
    "b = 33\n",
    "\n",
    "if b > a:\n",
    "  print(\"b is greater than a\")\n",
    "else:\n",
    "  print(\"b is not greater than a\")"
   ],
   "metadata": {
    "collapsed": false,
    "ExecuteTime": {
     "end_time": "2024-09-07T12:47:10.227021Z",
     "start_time": "2024-09-07T12:47:10.212736Z"
    }
   },
   "id": "9ee4784d3de409ff"
  },
  {
   "cell_type": "markdown",
   "source": [
    "### Evaluate Values and Variables\n",
    "\n",
    "The **bool()** function allows you to evaluate any value, and give you **True** or **False** in return,"
   ],
   "metadata": {
    "collapsed": false
   },
   "id": "1d15db80ee395fb7"
  },
  {
   "cell_type": "code",
   "execution_count": 3,
   "outputs": [
    {
     "name": "stdout",
     "output_type": "stream",
     "text": [
      "True\n",
      "True\n"
     ]
    }
   ],
   "source": [
    "# Evaluate a string and a number\n",
    "\n",
    "print(bool(\"Hello\"))\n",
    "print(bool(15))"
   ],
   "metadata": {
    "collapsed": false,
    "ExecuteTime": {
     "end_time": "2024-09-07T12:48:05.201261Z",
     "start_time": "2024-09-07T12:48:05.191031Z"
    }
   },
   "id": "fdbe9b50f9117ae0"
  },
  {
   "cell_type": "code",
   "execution_count": 4,
   "outputs": [
    {
     "name": "stdout",
     "output_type": "stream",
     "text": [
      "True\n",
      "True\n"
     ]
    }
   ],
   "source": [
    "# Evaluate two variables\n",
    "\n",
    "x = \"Hello\"\n",
    "y = 15\n",
    "\n",
    "print(bool(x))\n",
    "print(bool(y))"
   ],
   "metadata": {
    "collapsed": false,
    "ExecuteTime": {
     "end_time": "2024-09-07T12:48:25.384031Z",
     "start_time": "2024-09-07T12:48:25.373843Z"
    }
   },
   "id": "965fe20c99155c3b"
  },
  {
   "cell_type": "markdown",
   "source": [
    "### Most Values are True\n",
    "\n",
    "Almost any value is evaluated to **True** if it has some sort of content.\n",
    "\n",
    "Any string is **True**, except empty strings.\n",
    "\n",
    "Any number is **True**, except 0.\n",
    "\n",
    "Any list, tuple, set, and dictionary are **True**, except empty ones."
   ],
   "metadata": {
    "collapsed": false
   },
   "id": "c1fdedc854a417a8"
  },
  {
   "cell_type": "code",
   "execution_count": 5,
   "outputs": [
    {
     "name": "stdout",
     "output_type": "stream",
     "text": [
      "True\n",
      "True\n",
      "True\n"
     ]
    }
   ],
   "source": [
    "# Evaluate some values\n",
    "\n",
    "print(bool(\"abc\"))\n",
    "print(bool(123))\n",
    "print(bool([\"apple\", \"cherry\", \"banana\"]))"
   ],
   "metadata": {
    "collapsed": false,
    "ExecuteTime": {
     "end_time": "2024-09-07T12:48:58.180723Z",
     "start_time": "2024-09-07T12:48:58.160297Z"
    }
   },
   "id": "955754b72914c726"
  },
  {
   "cell_type": "markdown",
   "source": [
    "### Some Values are False\n",
    "\n",
    "In fact, there are not many values that evaluate to **False**, except empty values, such as **(), [], {}, \"\"**, the number **0**, and the value **None**. And of course the value **False** evaluates to **False**."
   ],
   "metadata": {
    "collapsed": false
   },
   "id": "eb77f3cbd8f2d983"
  },
  {
   "cell_type": "code",
   "execution_count": 6,
   "outputs": [
    {
     "name": "stdout",
     "output_type": "stream",
     "text": [
      "False\n",
      "False\n",
      "False\n",
      "False\n",
      "False\n",
      "False\n",
      "False\n"
     ]
    }
   ],
   "source": [
    "# The following will return False:\n",
    "\n",
    "print(bool(False))\n",
    "print(bool(None))\n",
    "print(bool(0))\n",
    "print(bool(\"\"))\n",
    "print(bool(()))\n",
    "print(bool([]))\n",
    "print(bool({}))"
   ],
   "metadata": {
    "collapsed": false,
    "ExecuteTime": {
     "end_time": "2024-09-07T12:50:07.259242Z",
     "start_time": "2024-09-07T12:50:07.237939Z"
    }
   },
   "id": "9d9e3445ff92160f"
  },
  {
   "cell_type": "markdown",
   "source": [
    "One more value, or object in this case, evaluates to **False**, and that is if you have an object that is made from a class with a **\\_\\_len\\_\\_** function that returns **0** or **False**:"
   ],
   "metadata": {
    "collapsed": false
   },
   "id": "1dccc30beb0df580"
  },
  {
   "cell_type": "code",
   "execution_count": 7,
   "outputs": [
    {
     "name": "stdout",
     "output_type": "stream",
     "text": [
      "False\n"
     ]
    }
   ],
   "source": [
    "class myclass():\n",
    "  def __len__(self):\n",
    "    return 0\n",
    "  \n",
    "myobj = myclass()\n",
    "print(bool(myobj))"
   ],
   "metadata": {
    "collapsed": false,
    "ExecuteTime": {
     "end_time": "2024-09-07T12:51:06.732938Z",
     "start_time": "2024-09-07T12:51:06.714292Z"
    }
   },
   "id": "c780027f78bb05f1"
  },
  {
   "cell_type": "markdown",
   "source": [
    "### Functions can Return a Boolean\n",
    "\n",
    "You can create functions that returns a Boolean Value:"
   ],
   "metadata": {
    "collapsed": false
   },
   "id": "7a780a474a07fbdb"
  },
  {
   "cell_type": "code",
   "execution_count": 8,
   "outputs": [
    {
     "name": "stdout",
     "output_type": "stream",
     "text": [
      "True\n"
     ]
    }
   ],
   "source": [
    "# Print the answer of a function:\n",
    "\n",
    "def myFunction():\n",
    "  return True\n",
    "\n",
    "print(myFunction())"
   ],
   "metadata": {
    "collapsed": false,
    "ExecuteTime": {
     "end_time": "2024-09-07T12:52:05.421091Z",
     "start_time": "2024-09-07T12:52:05.407570Z"
    }
   },
   "id": "6ea1258e7d97b0a6"
  },
  {
   "cell_type": "markdown",
   "source": [
    "You can execute code based on the Boolean answer of a function:"
   ],
   "metadata": {
    "collapsed": false
   },
   "id": "25cbd66c0f3b5900"
  },
  {
   "cell_type": "code",
   "execution_count": 9,
   "outputs": [
    {
     "name": "stdout",
     "output_type": "stream",
     "text": [
      "YES!\n"
     ]
    }
   ],
   "source": [
    "# Print \"YES!\" if the function returns True, otherwise print \"NO!\"\n",
    "\n",
    "def myFunction():\n",
    "  return True\n",
    "\n",
    "if myFunction():\n",
    "    print(\"YES!\")\n",
    "else:\n",
    "    print(\"NO!\")"
   ],
   "metadata": {
    "collapsed": false,
    "ExecuteTime": {
     "end_time": "2024-09-07T12:52:36.570177Z",
     "start_time": "2024-09-07T12:52:36.548973Z"
    }
   },
   "id": "88909a581b1e6035"
  },
  {
   "cell_type": "markdown",
   "source": [
    "Python also has many built-in functions that return a boolean value, like the **isinstance()** function, which can be used to determine if an object is of a certain data type:"
   ],
   "metadata": {
    "collapsed": false
   },
   "id": "c39eb221a5004be6"
  },
  {
   "cell_type": "code",
   "execution_count": 10,
   "outputs": [
    {
     "name": "stdout",
     "output_type": "stream",
     "text": [
      "True\n"
     ]
    }
   ],
   "source": [
    "# Check if an object is an integer or not:\n",
    "\n",
    "x = 200\n",
    "print(isinstance(x, int))"
   ],
   "metadata": {
    "collapsed": false,
    "ExecuteTime": {
     "end_time": "2024-09-07T12:53:11.495092Z",
     "start_time": "2024-09-07T12:53:11.473318Z"
    }
   },
   "id": "84892b9ae024d1eb"
  },
  {
   "cell_type": "code",
   "execution_count": null,
   "outputs": [],
   "source": [],
   "metadata": {
    "collapsed": false
   },
   "id": "2d95c94d8e14a90d"
  }
 ],
 "metadata": {
  "kernelspec": {
   "display_name": "Python 3",
   "language": "python",
   "name": "python3"
  },
  "language_info": {
   "codemirror_mode": {
    "name": "ipython",
    "version": 2
   },
   "file_extension": ".py",
   "mimetype": "text/x-python",
   "name": "python",
   "nbconvert_exporter": "python",
   "pygments_lexer": "ipython2",
   "version": "2.7.6"
  }
 },
 "nbformat": 4,
 "nbformat_minor": 5
}
