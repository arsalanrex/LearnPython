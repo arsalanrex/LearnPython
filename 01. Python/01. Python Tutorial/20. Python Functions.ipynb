{
 "cells": [
  {
   "cell_type": "markdown",
   "source": [
    "### Python Functions\n",
    "\n",
    "A function is a block of code which only runs when it is called.\n",
    "\n",
    "You can pass data, known as parameters, into a function.\n",
    "\n",
    "A function can return data as a result."
   ],
   "metadata": {
    "collapsed": false
   },
   "id": "5d9ba0d119d8df36"
  },
  {
   "cell_type": "markdown",
   "source": [
    "#### Creating a Function\n",
    "\n",
    "In Python a function is defined using the **def** keyword."
   ],
   "metadata": {
    "collapsed": false
   },
   "id": "fdfabe0029ab57f0"
  },
  {
   "cell_type": "markdown",
   "source": [
    "#### Calling a Function\n",
    "\n",
    "To call a function, use the function name followed by parenthesis."
   ],
   "metadata": {
    "collapsed": false
   },
   "id": "56cabc1fa8a0a889"
  },
  {
   "cell_type": "code",
   "execution_count": 1,
   "id": "initial_id",
   "metadata": {
    "collapsed": true,
    "ExecuteTime": {
     "end_time": "2024-09-08T07:43:02.382326Z",
     "start_time": "2024-09-08T07:43:02.377261Z"
    }
   },
   "outputs": [
    {
     "name": "stdout",
     "output_type": "stream",
     "text": [
      "Hello from a function\n"
     ]
    }
   ],
   "source": [
    "def my_function():\n",
    "  print(\"Hello from a function\")\n",
    "\n",
    "my_function()"
   ]
  },
  {
   "cell_type": "markdown",
   "source": [
    "#### Arguments\n",
    "\n",
    "Information can be passed into functions as arguments.\n",
    "\n",
    "Arguments are specified after the function name, inside the parentheses. You can add as many arguments as you want, just separate them with a comma.\n",
    "\n",
    "The following example has a function with one argument (fname). When the function is called, we pass along a first name, which is used inside the function to print the full name:"
   ],
   "metadata": {
    "collapsed": false
   },
   "id": "d4699efe288706b5"
  },
  {
   "cell_type": "code",
   "execution_count": 3,
   "outputs": [
    {
     "name": "stdout",
     "output_type": "stream",
     "text": [
      "Hello World\n",
      "Hi World\n",
      "123 World\n"
     ]
    }
   ],
   "source": [
    "def my_function(fname):\n",
    "    print(fname + \" World\")\n",
    "    \n",
    "my_function(\"Hello\")\n",
    "my_function(\"Hi\")\n",
    "my_function(\"123\")"
   ],
   "metadata": {
    "collapsed": false,
    "ExecuteTime": {
     "end_time": "2024-09-08T07:45:32.544958Z",
     "start_time": "2024-09-08T07:45:32.536430Z"
    }
   },
   "id": "9ee4784d3de409ff"
  },
  {
   "cell_type": "markdown",
   "source": [
    "> Arguments are often shortened to args in Python documentations."
   ],
   "metadata": {
    "collapsed": false
   },
   "id": "82072b930ed73ff9"
  },
  {
   "cell_type": "markdown",
   "source": [
    "#### Parameters or Arguments?\n",
    "\n",
    "The terms parameter and argument can be used for the same thing: information that are passed into a function."
   ],
   "metadata": {
    "collapsed": false
   },
   "id": "5ccbdf85449fc500"
  },
  {
   "cell_type": "markdown",
   "source": [
    "> From a function's perspective:\n",
    "\n",
    "> A parameter is the variable listed inside the parentheses in the function definition.\n",
    "\n",
    "> An argument is the value that is sent to the function when it is called."
   ],
   "metadata": {
    "collapsed": false
   },
   "id": "f31d3454b938624d"
  },
  {
   "cell_type": "markdown",
   "source": [
    "#### Number of Arguments\n",
    "\n",
    "By default, a function must be called with the correct number of arguments. Meaning that if your function expects 2 arguments, you have to call the function with 2 arguments, not more, and not less."
   ],
   "metadata": {
    "collapsed": false
   },
   "id": "13b2db323f8ec944"
  },
  {
   "cell_type": "code",
   "execution_count": 4,
   "outputs": [
    {
     "name": "stdout",
     "output_type": "stream",
     "text": [
      "Arsalan Abid\n"
     ]
    }
   ],
   "source": [
    "# This function expects 2 arguments, and gets 2 arguments:\n",
    "\n",
    "def my_function(fname, lname):\n",
    "    print(fname + \" \" + lname)\n",
    "    \n",
    "my_function(\"Arsalan\", \"Abid\")"
   ],
   "metadata": {
    "collapsed": false,
    "ExecuteTime": {
     "end_time": "2024-09-08T07:48:39.965187Z",
     "start_time": "2024-09-08T07:48:39.940273Z"
    }
   },
   "id": "516d7a1dd9e68cc6"
  },
  {
   "cell_type": "code",
   "execution_count": 5,
   "outputs": [
    {
     "ename": "TypeError",
     "evalue": "my_function() missing 1 required positional argument: 'lname'",
     "output_type": "error",
     "traceback": [
      "\u001B[0;31m---------------------------------------------------------------------------\u001B[0m",
      "\u001B[0;31mTypeError\u001B[0m                                 Traceback (most recent call last)",
      "Cell \u001B[0;32mIn[5], line 6\u001B[0m\n\u001B[1;32m      3\u001B[0m \u001B[38;5;28;01mdef\u001B[39;00m \u001B[38;5;21mmy_function\u001B[39m(fname, lname):\n\u001B[1;32m      4\u001B[0m     \u001B[38;5;28mprint\u001B[39m(fname \u001B[38;5;241m+\u001B[39m \u001B[38;5;124m\"\u001B[39m\u001B[38;5;124m \u001B[39m\u001B[38;5;124m\"\u001B[39m \u001B[38;5;241m+\u001B[39m lname)\n\u001B[0;32m----> 6\u001B[0m \u001B[43mmy_function\u001B[49m\u001B[43m(\u001B[49m\u001B[38;5;124;43m\"\u001B[39;49m\u001B[38;5;124;43mArsalan\u001B[39;49m\u001B[38;5;124;43m\"\u001B[39;49m\u001B[43m)\u001B[49m\n",
      "\u001B[0;31mTypeError\u001B[0m: my_function() missing 1 required positional argument: 'lname'"
     ]
    }
   ],
   "source": [
    "# If you try to call the function with 1 or 3 arguments, you will get an error:\n",
    "\n",
    "def my_function(fname, lname):\n",
    "    print(fname + \" \" + lname)\n",
    "    \n",
    "my_function(\"Arsalan\")"
   ],
   "metadata": {
    "collapsed": false,
    "ExecuteTime": {
     "end_time": "2024-09-08T07:48:58.763533Z",
     "start_time": "2024-09-08T07:48:58.606989Z"
    }
   },
   "id": "78664ac5b7e8a679"
  },
  {
   "cell_type": "markdown",
   "source": [
    "#### Arbitrary Arguments, *args\n",
    "\n",
    "If you do not know how many arguments that will be passed into your function, add a * before the parameter name in the function definition.\n",
    "\n",
    "This way the function will receive a tuple of arguments, and can access the items accordingly:"
   ],
   "metadata": {
    "collapsed": false
   },
   "id": "ea2dd0af8955536e"
  },
  {
   "cell_type": "code",
   "execution_count": 6,
   "outputs": [
    {
     "name": "stdout",
     "output_type": "stream",
     "text": [
      "My last name is Abid\n"
     ]
    }
   ],
   "source": [
    "# If the number of arguments is unknown, add a * before the parameter name:\n",
    "\n",
    "def my_function(*names):\n",
    "    print(\"My last name is \" + names[1])\n",
    "    \n",
    "my_function(\"Arsalan\", \"Abid\")"
   ],
   "metadata": {
    "collapsed": false,
    "ExecuteTime": {
     "end_time": "2024-09-08T07:50:37.903370Z",
     "start_time": "2024-09-08T07:50:37.875074Z"
    }
   },
   "id": "e4426438b0b83afc"
  },
  {
   "cell_type": "markdown",
   "source": [
    "> Arbitrary Arguments are often shortened to *args in Python documentations."
   ],
   "metadata": {
    "collapsed": false
   },
   "id": "9d7fabd2ded7931e"
  },
  {
   "cell_type": "markdown",
   "source": [
    "#### Keyword Arguments\n",
    "\n",
    "You can also send arguments with the key = value syntax.\n",
    "\n",
    "This way the order of the arguments does not matter."
   ],
   "metadata": {
    "collapsed": false
   },
   "id": "b31e3e5dda69b480"
  },
  {
   "cell_type": "code",
   "execution_count": 7,
   "outputs": [
    {
     "name": "stdout",
     "output_type": "stream",
     "text": [
      "My last name is Abid\n"
     ]
    }
   ],
   "source": [
    "def my_function(fname, lname):\n",
    "    print(\"My last name is \" + lname)\n",
    "\n",
    "my_function(fname = \"Arsalan\", lname = \"Abid\")"
   ],
   "metadata": {
    "collapsed": false,
    "ExecuteTime": {
     "end_time": "2024-09-08T07:52:20.825428Z",
     "start_time": "2024-09-08T07:52:20.796588Z"
    }
   },
   "id": "a9b47b4ad4add92c"
  },
  {
   "cell_type": "markdown",
   "source": [
    "> The phrase Keyword Arguments are often shortened to kwargs in Python documentations."
   ],
   "metadata": {
    "collapsed": false
   },
   "id": "129a0e0fc412cdc7"
  },
  {
   "cell_type": "markdown",
   "source": [
    "#### Arbitrary Keyword Arguments, **kwargs\n",
    "\n",
    "If you do not know how many keyword arguments that will be passed into your function, add two asterisk: ** before the parameter name in the function definition.\n",
    "\n",
    "This way the function will receive a dictionary of arguments, and can access the items accordingly:"
   ],
   "metadata": {
    "collapsed": false
   },
   "id": "f2796542b3a2b21b"
  },
  {
   "cell_type": "code",
   "execution_count": 8,
   "outputs": [
    {
     "name": "stdout",
     "output_type": "stream",
     "text": [
      "My last name is Abid\n"
     ]
    }
   ],
   "source": [
    "# If the number of keyword arguments is unknown, add a double ** before the parameter name:\n",
    "\n",
    "def my_function(**names):\n",
    "    print(\"My last name is \" + names[\"lname\"])\n",
    "    \n",
    "my_function(fname = \"Arsalan\", lname = \"Abid\")"
   ],
   "metadata": {
    "collapsed": false,
    "ExecuteTime": {
     "end_time": "2024-09-08T07:53:52.907078Z",
     "start_time": "2024-09-08T07:53:52.875396Z"
    }
   },
   "id": "1e1c31511f67fce6"
  },
  {
   "cell_type": "markdown",
   "source": [
    "> Arbitrary Kword Arguments are often shortened to **kwargs in Python documentations."
   ],
   "metadata": {
    "collapsed": false
   },
   "id": "a227a8dac5e2b6f3"
  },
  {
   "cell_type": "markdown",
   "source": [
    "#### Default Parameter Value\n",
    "\n",
    "The following example shows how to use a default parameter value.\n",
    "\n",
    "If we call the function without argument, it uses the default value:"
   ],
   "metadata": {
    "collapsed": false
   },
   "id": "f1dc9363b89fbb04"
  },
  {
   "cell_type": "code",
   "execution_count": 9,
   "outputs": [
    {
     "name": "stdout",
     "output_type": "stream",
     "text": [
      "I am from Bihar\n",
      "I am from India\n"
     ]
    }
   ],
   "source": [
    "def my_function(country = \"India\"):\n",
    "    print(\"I am from \" + country)\n",
    "    \n",
    "my_function(\"Bihar\")\n",
    "my_function()"
   ],
   "metadata": {
    "collapsed": false,
    "ExecuteTime": {
     "end_time": "2024-09-08T07:55:27.099252Z",
     "start_time": "2024-09-08T07:55:27.067361Z"
    }
   },
   "id": "23b9bb2600723487"
  },
  {
   "cell_type": "markdown",
   "source": [
    "#### Passing a List as an Argument\n",
    "\n",
    "You can send any data types of argument to a function (string, number, list, dictionary etc.), and it will be treated as the same data type inside the function.\n",
    "\n",
    "E.g. if you send a List as an argument, it will still be a List when it reaches the function:"
   ],
   "metadata": {
    "collapsed": false
   },
   "id": "805b944b12c1c4c2"
  },
  {
   "cell_type": "code",
   "execution_count": 11,
   "outputs": [
    {
     "name": "stdout",
     "output_type": "stream",
     "text": [
      "apple\n",
      "banana\n",
      "cherry\n",
      "1\n",
      "2\n",
      "3\n",
      "True\n",
      "False\n"
     ]
    }
   ],
   "source": [
    "def my_function(food):\n",
    "    for x in food:\n",
    "        print(x)\n",
    "\n",
    "food = [\"apple\", \"banana\", \"cherry\", 1, 2, 3, True, False]\n",
    "my_function(food)"
   ],
   "metadata": {
    "collapsed": false,
    "ExecuteTime": {
     "end_time": "2024-09-08T07:57:49.438376Z",
     "start_time": "2024-09-08T07:57:49.419827Z"
    }
   },
   "id": "8b5afcc56b7f9744"
  },
  {
   "cell_type": "markdown",
   "source": [
    "#### Return Values\n",
    "\n",
    "To let a function return a value, use the return statement:"
   ],
   "metadata": {
    "collapsed": false
   },
   "id": "2f2546d8992b0669"
  },
  {
   "cell_type": "code",
   "execution_count": 12,
   "outputs": [
    {
     "name": "stdout",
     "output_type": "stream",
     "text": [
      "15\n"
     ]
    }
   ],
   "source": [
    "def my_function(x):\n",
    "    return 5 * x\n",
    "\n",
    "print(my_function(3))"
   ],
   "metadata": {
    "collapsed": false,
    "ExecuteTime": {
     "end_time": "2024-09-08T07:58:27.944359Z",
     "start_time": "2024-09-08T07:58:27.922441Z"
    }
   },
   "id": "f0145ff01e1936be"
  },
  {
   "cell_type": "markdown",
   "source": [
    "#### The pass Statement\n",
    "\n",
    "**function** definitions cannot be empty, but if you for some reason have a function definition with no content, put in the **pass** statement"
   ],
   "metadata": {
    "collapsed": false
   },
   "id": "5e6e8dc772f5de2e"
  },
  {
   "cell_type": "code",
   "execution_count": 14,
   "outputs": [
    {
     "name": "stdout",
     "output_type": "stream",
     "text": [
      "my_function() is empty\n"
     ]
    }
   ],
   "source": [
    "def myfunction(x):\n",
    "    pass\n",
    "\n",
    "my_function(1)\n",
    "print(\"my_function() is empty\")"
   ],
   "metadata": {
    "collapsed": false,
    "ExecuteTime": {
     "end_time": "2024-09-08T07:59:43.437874Z",
     "start_time": "2024-09-08T07:59:43.429703Z"
    }
   },
   "id": "7f75ba0fc062ceb9"
  },
  {
   "cell_type": "markdown",
   "source": [
    "#### Positional-Only Arguments\n",
    "\n",
    "You can specify that a function can have ONLY positional arguments, or ONLY keyword arguments.\n",
    "\n",
    "To specify that a function can have only positional arguments, add , / after the arguments:"
   ],
   "metadata": {
    "collapsed": false
   },
   "id": "c3234f91e82e1111"
  },
  {
   "cell_type": "markdown",
   "source": [
    "Without the **, /** the function will accept both positional and keyword arguments."
   ],
   "metadata": {
    "collapsed": false
   },
   "id": "dbdebcc04e648f93"
  },
  {
   "cell_type": "code",
   "execution_count": 16,
   "outputs": [
    {
     "name": "stdout",
     "output_type": "stream",
     "text": [
      "Arsalan\n",
      "Arsalan\n"
     ]
    }
   ],
   "source": [
    "def my_function(fname):\n",
    "    print(fname)\n",
    "    \n",
    "my_function(\"Arsalan\")\n",
    "my_function(fname = \"Arsalan\")"
   ],
   "metadata": {
    "collapsed": false,
    "ExecuteTime": {
     "end_time": "2024-09-08T08:02:56.081694Z",
     "start_time": "2024-09-08T08:02:56.049817Z"
    }
   },
   "id": "ca7180b63f228b9"
  },
  {
   "cell_type": "markdown",
   "source": [
    "But with the **, /**, the function will only accept positional arguments, and the keyword arguments will not be recognized:"
   ],
   "metadata": {
    "collapsed": false
   },
   "id": "e859d7ff7f47a421"
  },
  {
   "cell_type": "code",
   "execution_count": 17,
   "outputs": [
    {
     "name": "stdout",
     "output_type": "stream",
     "text": [
      "Arsalan\n"
     ]
    },
    {
     "ename": "TypeError",
     "evalue": "my_function() got some positional-only arguments passed as keyword arguments: 'fname'",
     "output_type": "error",
     "traceback": [
      "\u001B[0;31m---------------------------------------------------------------------------\u001B[0m",
      "\u001B[0;31mTypeError\u001B[0m                                 Traceback (most recent call last)",
      "Cell \u001B[0;32mIn[17], line 5\u001B[0m\n\u001B[1;32m      2\u001B[0m     \u001B[38;5;28mprint\u001B[39m(fname)\n\u001B[1;32m      4\u001B[0m my_function(\u001B[38;5;124m\"\u001B[39m\u001B[38;5;124mArsalan\u001B[39m\u001B[38;5;124m\"\u001B[39m)\n\u001B[0;32m----> 5\u001B[0m \u001B[43mmy_function\u001B[49m\u001B[43m(\u001B[49m\u001B[43mfname\u001B[49m\u001B[43m \u001B[49m\u001B[38;5;241;43m=\u001B[39;49m\u001B[43m \u001B[49m\u001B[38;5;124;43m\"\u001B[39;49m\u001B[38;5;124;43mArsalan\u001B[39;49m\u001B[38;5;124;43m\"\u001B[39;49m\u001B[43m)\u001B[49m\n",
      "\u001B[0;31mTypeError\u001B[0m: my_function() got some positional-only arguments passed as keyword arguments: 'fname'"
     ]
    }
   ],
   "source": [
    "def my_function(fname, /):\n",
    "    print(fname)\n",
    "    \n",
    "my_function(\"Arsalan\")\n",
    "my_function(fname = \"Arsalan\")"
   ],
   "metadata": {
    "collapsed": false,
    "ExecuteTime": {
     "end_time": "2024-09-08T08:03:32.542195Z",
     "start_time": "2024-09-08T08:03:32.496974Z"
    }
   },
   "id": "994e606d8371052"
  },
  {
   "cell_type": "markdown",
   "source": [
    "#### Keyword-Only Arguments\n",
    "\n",
    "To specify that a function can only be called with keyword arguments, use the * , syntax in the function definition:"
   ],
   "metadata": {
    "collapsed": false
   },
   "id": "61970a21205257cc"
  },
  {
   "cell_type": "markdown",
   "source": [
    "Without the * , the function will accept both positional and keyword arguments."
   ],
   "metadata": {
    "collapsed": false
   },
   "id": "eea048cd1e1ea64e"
  },
  {
   "cell_type": "code",
   "execution_count": 18,
   "outputs": [
    {
     "name": "stdout",
     "output_type": "stream",
     "text": [
      "Arsalan\n",
      "Arsalan\n"
     ]
    }
   ],
   "source": [
    "def my_function(fname):\n",
    "    print(fname)\n",
    "    \n",
    "my_function(\"Arsalan\")\n",
    "my_function(fname = \"Arsalan\")"
   ],
   "metadata": {
    "collapsed": false,
    "ExecuteTime": {
     "end_time": "2024-09-08T08:06:11.628207Z",
     "start_time": "2024-09-08T08:06:11.603068Z"
    }
   },
   "id": "5a9c95a7fac8264"
  },
  {
   "cell_type": "markdown",
   "source": [
    "But with the * , the function will only accept keyword arguments, and will raise an error if called with a positional argument:"
   ],
   "metadata": {
    "collapsed": false
   },
   "id": "f53bf89069922667"
  },
  {
   "cell_type": "code",
   "execution_count": 19,
   "outputs": [
    {
     "name": "stdout",
     "output_type": "stream",
     "text": [
      "Arsalan\n"
     ]
    },
    {
     "ename": "TypeError",
     "evalue": "my_function() takes 0 positional arguments but 1 was given",
     "output_type": "error",
     "traceback": [
      "\u001B[0;31m---------------------------------------------------------------------------\u001B[0m",
      "\u001B[0;31mTypeError\u001B[0m                                 Traceback (most recent call last)",
      "Cell \u001B[0;32mIn[19], line 5\u001B[0m\n\u001B[1;32m      2\u001B[0m     \u001B[38;5;28mprint\u001B[39m(fname)\n\u001B[1;32m      4\u001B[0m my_function(fname \u001B[38;5;241m=\u001B[39m \u001B[38;5;124m\"\u001B[39m\u001B[38;5;124mArsalan\u001B[39m\u001B[38;5;124m\"\u001B[39m)\n\u001B[0;32m----> 5\u001B[0m \u001B[43mmy_function\u001B[49m\u001B[43m(\u001B[49m\u001B[38;5;124;43m\"\u001B[39;49m\u001B[38;5;124;43mArsalan\u001B[39;49m\u001B[38;5;124;43m\"\u001B[39;49m\u001B[43m)\u001B[49m\n",
      "\u001B[0;31mTypeError\u001B[0m: my_function() takes 0 positional arguments but 1 was given"
     ]
    }
   ],
   "source": [
    "def my_function(*, fname):\n",
    "    print(fname)\n",
    "    \n",
    "my_function(fname = \"Arsalan\")\n",
    "my_function(\"Arsalan\")"
   ],
   "metadata": {
    "collapsed": false,
    "ExecuteTime": {
     "end_time": "2024-09-08T08:06:55.720696Z",
     "start_time": "2024-09-08T08:06:55.698841Z"
    }
   },
   "id": "8c897b14217dc538"
  },
  {
   "cell_type": "markdown",
   "source": [
    "#### Combining Positional-Only and Keyword-Only Arguments"
   ],
   "metadata": {
    "collapsed": false
   },
   "id": "5995fc05e3fac56c"
  },
  {
   "cell_type": "markdown",
   "source": [
    "You can combine positional-only, positional-or-keyword, and keyword-only arguments in a single function definition.\n",
    "\n",
    "But the order should be:\n",
    "- Positional-only arguments\n",
    "- Keyword-only arguments\n",
    "\n",
    "Any argument before the , / is positional-only.\n",
    "Any argument after the * , is keyword-only."
   ],
   "metadata": {
    "collapsed": false
   },
   "id": "af682ad809246a2b"
  },
  {
   "cell_type": "code",
   "execution_count": 24,
   "outputs": [
    {
     "name": "stdout",
     "output_type": "stream",
     "text": [
      "1 2 3 4\n"
     ]
    }
   ],
   "source": [
    "def my_function(a, b, /, *, c, d):\n",
    "    print(a, b, c, d)\n",
    "    \n",
    "my_function(1, 2, c = 3, d = 4)\n"
   ],
   "metadata": {
    "collapsed": false,
    "ExecuteTime": {
     "end_time": "2024-09-08T08:11:55.546752Z",
     "start_time": "2024-09-08T08:11:55.524117Z"
    }
   },
   "id": "1db077503fec7802"
  },
  {
   "cell_type": "markdown",
   "source": [
    "#### Recursion\n",
    "\n",
    "Python also accepts function recursion, which means a defined function can call itself.\n",
    "\n",
    "Recursion is a common mathematical and programming concept. It means that a function calls itself. This has the benefit of meaning that you can loop through data to reach a result.\n",
    "\n",
    "The developer should be very careful with recursion as it can be quite easy to slip into writing a function which never terminates, or one that uses excess amounts of memory or processor power. However, when written correctly recursion can be a very efficient and mathematically-elegant approach to programming.\n",
    "\n",
    "In this example, **tri_recursion()** is a function that we have defined to call itself (\"recurse\"). We use the **k** variable as the data, which decrements **(-1)** every time we recurse. The recursion ends when the condition is not greater than 0 (i.e. when it is 0)."
   ],
   "metadata": {
    "collapsed": false
   },
   "id": "a72daa552f2b9896"
  },
  {
   "cell_type": "code",
   "execution_count": 26,
   "outputs": [
    {
     "name": "stdout",
     "output_type": "stream",
     "text": [
      "1\n",
      "3\n",
      "6\n",
      "10\n",
      "15\n",
      "21\n",
      "21\n"
     ]
    }
   ],
   "source": [
    "def tri_recursion(k):\n",
    "    if k > 0:\n",
    "        result = k + tri_recursion(k - 1)\n",
    "        print(result)\n",
    "    else:\n",
    "        result = 0\n",
    "    return result\n",
    "\n",
    "print(tri_recursion(6))"
   ],
   "metadata": {
    "collapsed": false,
    "ExecuteTime": {
     "end_time": "2024-09-08T08:14:17.205275Z",
     "start_time": "2024-09-08T08:14:17.193285Z"
    }
   },
   "id": "120f412d55a12aeb"
  },
  {
   "cell_type": "code",
   "execution_count": null,
   "outputs": [],
   "source": [
    "    "
   ],
   "metadata": {
    "collapsed": false
   },
   "id": "dda8444cf6371e55"
  }
 ],
 "metadata": {
  "kernelspec": {
   "display_name": "Python 3",
   "language": "python",
   "name": "python3"
  },
  "language_info": {
   "codemirror_mode": {
    "name": "ipython",
    "version": 2
   },
   "file_extension": ".py",
   "mimetype": "text/x-python",
   "name": "python",
   "nbconvert_exporter": "python",
   "pygments_lexer": "ipython2",
   "version": "2.7.6"
  }
 },
 "nbformat": 4,
 "nbformat_minor": 5
}
