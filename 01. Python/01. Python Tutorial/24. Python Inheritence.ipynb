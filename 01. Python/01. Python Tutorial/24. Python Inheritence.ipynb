{
 "cells": [
  {
   "cell_type": "markdown",
   "source": [
    "### Python Inheritance"
   ],
   "metadata": {
    "collapsed": false
   },
   "id": "65709cab24d3d4db"
  },
  {
   "cell_type": "markdown",
   "source": [
    "#### Python Inheritance\n",
    "\n",
    "Inheritance allows us to define a class that inherits all the methods and properties from another class.\n",
    "\n",
    "**Parent class** is the class being inherited from, also called base class.\n",
    "\n",
    "**Child class** is the class that inherits from another class, also called derived class."
   ],
   "metadata": {
    "collapsed": false
   },
   "id": "461be471975a3f8b"
  },
  {
   "cell_type": "markdown",
   "source": [
    "#### Create a Parent Class\n",
    "\n",
    "Any class can be a parent class, so the syntax is the same as creating any other class:"
   ],
   "metadata": {
    "collapsed": false
   },
   "id": "c68ba9d1387222f9"
  },
  {
   "cell_type": "code",
   "execution_count": 2,
   "id": "initial_id",
   "metadata": {
    "collapsed": true,
    "ExecuteTime": {
     "end_time": "2024-09-12T08:03:01.317397Z",
     "start_time": "2024-09-12T08:03:01.291137Z"
    }
   },
   "outputs": [
    {
     "name": "stdout",
     "output_type": "stream",
     "text": [
      "Arsalan Abid\n"
     ]
    }
   ],
   "source": [
    "# Create a class named Person, with firstname and lastname properties, and a printname method:\n",
    "\n",
    "class Person:\n",
    "    def __init__(self, fname, lname):\n",
    "        self.firstname = fname\n",
    "        self.lastname = lname\n",
    "    \n",
    "    def printname(self):\n",
    "        print(self.firstname, self.lastname)\n",
    "        \n",
    "# Use the Person class to create an object, and then execute the printname method:\n",
    "\n",
    "x = Person(\"Arsalan\", \"Abid\")\n",
    "x.printname()"
   ]
  },
  {
   "cell_type": "markdown",
   "source": [
    "#### Create a Child Class\n",
    "\n",
    "To create a class that inherits the functionality from another class, send the parent class as a parameter when creating the child class:"
   ],
   "metadata": {
    "collapsed": false
   },
   "id": "783d1e74002e0691"
  },
  {
   "cell_type": "code",
   "execution_count": 3,
   "outputs": [],
   "source": [
    "# Create a class named Student, which will inherit the properties and methods from the Person class:\n",
    "\n",
    "class Student(Person):\n",
    "    pass"
   ],
   "metadata": {
    "collapsed": false,
    "ExecuteTime": {
     "end_time": "2024-09-12T08:03:45.121825Z",
     "start_time": "2024-09-12T08:03:45.086151Z"
    }
   },
   "id": "9ee4784d3de409ff"
  },
  {
   "cell_type": "markdown",
   "source": [
    "> **Note:** Use the **pass** keyword when you do not want to add any other properties or methods to the class."
   ],
   "metadata": {
    "collapsed": false
   },
   "id": "524a76250c3167f6"
  },
  {
   "cell_type": "markdown",
   "source": [
    "Now the Student class has the same properties and methods as the Person class."
   ],
   "metadata": {
    "collapsed": false
   },
   "id": "2335d8dd55e924ae"
  },
  {
   "cell_type": "code",
   "execution_count": 4,
   "outputs": [
    {
     "name": "stdout",
     "output_type": "stream",
     "text": [
      "Arsalan Abid\n"
     ]
    }
   ],
   "source": [
    "# Use the Student class to create an object, and then execute the printname method:\n",
    "\n",
    "class Person:\n",
    "    def __init__(self, fname, lname):\n",
    "        self.firstname = fname\n",
    "        self.lastname = lname\n",
    "    \n",
    "    def printname(self):\n",
    "        print(self.firstname, self.lastname)\n",
    "        \n",
    "class Student(Person):\n",
    "    pass\n",
    "\n",
    "x = Student(\"Arsalan\", \"Abid\")\n",
    "x.printname()"
   ],
   "metadata": {
    "collapsed": false,
    "ExecuteTime": {
     "end_time": "2024-09-12T08:05:04.302912Z",
     "start_time": "2024-09-12T08:05:04.264892Z"
    }
   },
   "id": "50cb99757e1266f1"
  },
  {
   "cell_type": "markdown",
   "source": [
    "#### Add the __init__() Function\n",
    "\n",
    "So far we have created a child class that inherits the properties and methods from its parent.\n",
    "\n",
    "We want to add the **\\_\\_init__()** function to the child class (instead of the pass keyword)."
   ],
   "metadata": {
    "collapsed": false
   },
   "id": "7745c76e5ef3737e"
  },
  {
   "cell_type": "markdown",
   "source": [
    "> **Note:** The **\\_\\_init__()** function is called automatically every time the class is being used to create a new object."
   ],
   "metadata": {
    "collapsed": false
   },
   "id": "8624fe5b6495d8e2"
  },
  {
   "cell_type": "code",
   "execution_count": 6,
   "outputs": [],
   "source": [
    "# Adding the __init__() function to the Student class:\n",
    "\n",
    "class Student(Person):\n",
    "    def __init__(self, fname, lname):\n",
    "        pass\n",
    "        # add properties etc."
   ],
   "metadata": {
    "collapsed": false,
    "ExecuteTime": {
     "end_time": "2024-09-12T08:07:56.269860Z",
     "start_time": "2024-09-12T08:07:56.241599Z"
    }
   },
   "id": "cd2e191a400a0304"
  },
  {
   "cell_type": "markdown",
   "source": [
    "When you add the **\\_\\_init__()** function, the child class will no longer inherit the parent's **\\_\\_init__()** function."
   ],
   "metadata": {
    "collapsed": false
   },
   "id": "9986a8b6c0b9ee08"
  },
  {
   "cell_type": "markdown",
   "source": [
    "> **Note:** The child's **\\_\\_init__()** function overrides the inheritance of the parent's **\\_\\_init__()** function."
   ],
   "metadata": {
    "collapsed": false
   },
   "id": "c33ac9dbea871b30"
  },
  {
   "cell_type": "markdown",
   "source": [
    "To keep the inheritance of the parent's **\\_\\_init__()** function, add a call to the parent's **\\_\\_init__()** function:"
   ],
   "metadata": {
    "collapsed": false
   },
   "id": "8379c27003895af2"
  },
  {
   "cell_type": "code",
   "execution_count": 8,
   "outputs": [],
   "source": [
    "class Student(Person):\n",
    "    def __init__(self, fname, lname):\n",
    "        Person.__init__(self, fname, lname)"
   ],
   "metadata": {
    "collapsed": false,
    "ExecuteTime": {
     "end_time": "2024-09-12T08:09:25.118227Z",
     "start_time": "2024-09-12T08:09:25.090049Z"
    }
   },
   "id": "6a169721fa7ac86"
  },
  {
   "cell_type": "markdown",
   "source": [
    "Now we have successfully added the **\\_\\_init__()** function, and kept the inheritance of the parent class, and we are ready to add functionality in the **\\_\\_init__()** function."
   ],
   "metadata": {
    "collapsed": false
   },
   "id": "a48196be19308d71"
  },
  {
   "cell_type": "markdown",
   "source": [
    "#### Use the super() Function\n",
    "\n",
    "Python also has a super() function that will make the child class inherit all the methods and properties from its parent:"
   ],
   "metadata": {
    "collapsed": false
   },
   "id": "a7a783dd37d0cedd"
  },
  {
   "cell_type": "code",
   "execution_count": 9,
   "outputs": [],
   "source": [
    "class Student(Person):\n",
    "    def __init__(self, fname, lname):\n",
    "        super().__init__(fname, lname)"
   ],
   "metadata": {
    "collapsed": false,
    "ExecuteTime": {
     "end_time": "2024-09-12T08:11:19.043709Z",
     "start_time": "2024-09-12T08:11:19.005355Z"
    }
   },
   "id": "b01d1c107f0b6b53"
  },
  {
   "cell_type": "markdown",
   "source": [
    "By using the super() function, you do not have to use the name of the parent element, it will automatically inherit the methods and properties from its parent."
   ],
   "metadata": {
    "collapsed": false
   },
   "id": "7135244bdb345021"
  },
  {
   "cell_type": "markdown",
   "source": [
    "#### Add Properties"
   ],
   "metadata": {
    "collapsed": false
   },
   "id": "aff63ac3ff07fc01"
  },
  {
   "cell_type": "code",
   "execution_count": 10,
   "outputs": [],
   "source": [
    "# Add a property called graduationyear to the Student class:\n",
    "\n",
    "class Student(Person):\n",
    "    def __init__(self, fname, lname):\n",
    "        super().__init__(fname, lname)\n",
    "        self.graduationyear = 2020"
   ],
   "metadata": {
    "collapsed": false,
    "ExecuteTime": {
     "end_time": "2024-09-12T08:12:30.136596Z",
     "start_time": "2024-09-12T08:12:30.099585Z"
    }
   },
   "id": "5442e7a0f2993e26"
  },
  {
   "cell_type": "markdown",
   "source": [
    "In the example below, the year 2020 should be a variable, and passed into the Student class when creating student objects. To do so, add another parameter in the **\\_\\_init__()** function:"
   ],
   "metadata": {
    "collapsed": false
   },
   "id": "29fa61ec7a238698"
  },
  {
   "cell_type": "code",
   "execution_count": 15,
   "outputs": [
    {
     "name": "stdout",
     "output_type": "stream",
     "text": [
      "2020\n"
     ]
    }
   ],
   "source": [
    "class Person:\n",
    "    def __init__(self, fname, lname):\n",
    "        self.firstname = fname\n",
    "        self.lastname = lname\n",
    "    \n",
    "    def printname(self):\n",
    "        print(self.firstname, self.lastname)\n",
    "\n",
    "class Student(Person):\n",
    "    def __init__(self, fname, lname, year):\n",
    "        super().__init__(fname, lname)\n",
    "        self.graduationyear = year\n",
    "\n",
    "x = Student(\"Arsalan\", \"Abid\", 2020)\n",
    "print(x.graduationyear)"
   ],
   "metadata": {
    "collapsed": false,
    "ExecuteTime": {
     "end_time": "2024-09-12T08:14:32.971546Z",
     "start_time": "2024-09-12T08:14:32.940811Z"
    }
   },
   "id": "28ba54f4a2fe75ff"
  },
  {
   "cell_type": "markdown",
   "source": [
    "#### Add Methods"
   ],
   "metadata": {
    "collapsed": false
   },
   "id": "bca8ed0e15502ba1"
  },
  {
   "cell_type": "code",
   "execution_count": 16,
   "outputs": [
    {
     "name": "stdout",
     "output_type": "stream",
     "text": [
      "Welcome Arsalan Abid to the class of 2020\n"
     ]
    }
   ],
   "source": [
    "# Add a method called welcome to the Student class:\n",
    "\n",
    "class Person:\n",
    "    def __init__(self, fname, lname):\n",
    "        self.firstname = fname\n",
    "        self.lastname = lname\n",
    "    \n",
    "    def printname(self):\n",
    "        print(self.firstname, self.lastname)\n",
    "\n",
    "class Student(Person):\n",
    "    def __init__(self, fname, lname, year):\n",
    "        super().__init__(fname, lname)\n",
    "        self.graduationyear = year\n",
    "    \n",
    "    def welcome(self):\n",
    "        print(\"Welcome\", self.firstname, self.lastname, \"to the class of\", self.graduationyear)\n",
    "        \n",
    "x = Student(\"Arsalan\", \"Abid\", 2020)\n",
    "x.welcome()"
   ],
   "metadata": {
    "collapsed": false,
    "ExecuteTime": {
     "end_time": "2024-09-12T08:21:08.827581Z",
     "start_time": "2024-09-12T08:21:08.786765Z"
    }
   },
   "id": "ed3d92f91b05df88"
  },
  {
   "cell_type": "markdown",
   "source": [
    "If you add a method in the child class with the same name as a function in the parent class, the inheritance of the parent method will be overridden."
   ],
   "metadata": {
    "collapsed": false
   },
   "id": "1023e81d9b75aa6f"
  },
  {
   "cell_type": "code",
   "execution_count": null,
   "outputs": [],
   "source": [],
   "metadata": {
    "collapsed": false
   },
   "id": "291b64c2ee0158b2"
  }
 ],
 "metadata": {
  "kernelspec": {
   "display_name": "Python 3",
   "language": "python",
   "name": "python3"
  },
  "language_info": {
   "codemirror_mode": {
    "name": "ipython",
    "version": 2
   },
   "file_extension": ".py",
   "mimetype": "text/x-python",
   "name": "python",
   "nbconvert_exporter": "python",
   "pygments_lexer": "ipython2",
   "version": "2.7.6"
  }
 },
 "nbformat": 4,
 "nbformat_minor": 5
}
