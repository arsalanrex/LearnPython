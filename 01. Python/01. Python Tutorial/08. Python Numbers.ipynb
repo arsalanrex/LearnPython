{
 "cells": [
  {
   "cell_type": "markdown",
   "source": [
    "## Python Numbers"
   ],
   "metadata": {
    "collapsed": false
   },
   "id": "125cc282d9dcfe2"
  },
  {
   "cell_type": "markdown",
   "source": [
    "### Python Numbers\n",
    "\n",
    "There are three numeric types in Python:\n",
    "\n",
    "    int\n",
    "    float\n",
    "    complex\n",
    "\n",
    "Variables of numeric types are created when you assign a value to them:"
   ],
   "metadata": {
    "collapsed": false
   },
   "id": "8db7fe2c0253334b"
  },
  {
   "cell_type": "code",
   "execution_count": 1,
   "outputs": [],
   "source": [
    "x = 1    # int\n",
    "y = 2.8  # float\n",
    "z = 1j   # complex"
   ],
   "metadata": {
    "collapsed": false,
    "ExecuteTime": {
     "end_time": "2024-09-05T06:49:31.913206Z",
     "start_time": "2024-09-05T06:49:31.910751Z"
    }
   },
   "id": "79bfc94a92023d69"
  },
  {
   "cell_type": "markdown",
   "source": [
    "To verify the type of any object in Python, use the **type()** function:"
   ],
   "metadata": {
    "collapsed": false
   },
   "id": "395b62fea0097c35"
  },
  {
   "cell_type": "code",
   "execution_count": 2,
   "outputs": [
    {
     "name": "stdout",
     "output_type": "stream",
     "text": [
      "<class 'int'>\n",
      "<class 'float'>\n",
      "<class 'complex'>\n"
     ]
    }
   ],
   "source": [
    "print(type(x))\n",
    "print(type(y))\n",
    "print(type(z))"
   ],
   "metadata": {
    "collapsed": false,
    "ExecuteTime": {
     "end_time": "2024-09-05T06:49:33.402368Z",
     "start_time": "2024-09-05T06:49:33.396616Z"
    }
   },
   "id": "70ee063746a0c0ed"
  },
  {
   "cell_type": "markdown",
   "source": [
    "### Int\n",
    "\n",
    "Int, or integer, is a whole number, positive or negative, without decimals, of unlimited length."
   ],
   "metadata": {
    "collapsed": false
   },
   "id": "8e2be90365961aa9"
  },
  {
   "cell_type": "code",
   "execution_count": 4,
   "outputs": [
    {
     "name": "stdout",
     "output_type": "stream",
     "text": [
      "<class 'int'>\n",
      "<class 'int'>\n",
      "<class 'int'>\n"
     ]
    }
   ],
   "source": [
    "# Integers:\n",
    "\n",
    "x = 1\n",
    "y = 35656222554887711\n",
    "z = -3255522\n",
    "\n",
    "print(type(x))\n",
    "print(type(y))\n",
    "print(type(z)) "
   ],
   "metadata": {
    "collapsed": false,
    "ExecuteTime": {
     "end_time": "2024-09-05T06:50:18.448215Z",
     "start_time": "2024-09-05T06:50:18.440949Z"
    }
   },
   "id": "95f65cba8754dc30"
  },
  {
   "cell_type": "markdown",
   "source": [
    "### Float\n",
    "\n",
    "Float, or \"floating point number\" is a number, positive or negative, containing one or more decimals."
   ],
   "metadata": {
    "collapsed": false
   },
   "id": "a8934459b27b9d7d"
  },
  {
   "cell_type": "code",
   "execution_count": 5,
   "outputs": [
    {
     "name": "stdout",
     "output_type": "stream",
     "text": [
      "<class 'float'>\n",
      "<class 'float'>\n",
      "<class 'float'>\n"
     ]
    }
   ],
   "source": [
    "# Floats:\n",
    "\n",
    "x = 1.10\n",
    "y = 1.0\n",
    "z = -35.59\n",
    "\n",
    "print(type(x))\n",
    "print(type(y))\n",
    "print(type(z)) "
   ],
   "metadata": {
    "collapsed": false,
    "ExecuteTime": {
     "end_time": "2024-09-05T06:50:57.930213Z",
     "start_time": "2024-09-05T06:50:57.922630Z"
    }
   },
   "id": "4355af38671bb51e"
  },
  {
   "cell_type": "markdown",
   "source": [
    "Float can also be scientific numbers with an \"e\" to indicate the power of 10."
   ],
   "metadata": {
    "collapsed": false
   },
   "id": "4c2828cf0c8e75c5"
  },
  {
   "cell_type": "code",
   "execution_count": 6,
   "outputs": [
    {
     "name": "stdout",
     "output_type": "stream",
     "text": [
      "<class 'float'>\n",
      "<class 'float'>\n",
      "<class 'float'>\n"
     ]
    }
   ],
   "source": [
    "x = 35e3\n",
    "y = 12E4\n",
    "z = -87.7e100\n",
    "\n",
    "print(type(x))\n",
    "print(type(y))\n",
    "print(type(z))"
   ],
   "metadata": {
    "collapsed": false,
    "ExecuteTime": {
     "end_time": "2024-09-05T06:51:23.380601Z",
     "start_time": "2024-09-05T06:51:23.373725Z"
    }
   },
   "id": "63edb967bde80580"
  },
  {
   "cell_type": "markdown",
   "source": [
    "### Complex\n",
    "\n",
    "Complex numbers are written with a \"j\" as the imaginary part:"
   ],
   "metadata": {
    "collapsed": false
   },
   "id": "54351e6a2cee4b45"
  },
  {
   "cell_type": "code",
   "execution_count": 7,
   "outputs": [
    {
     "name": "stdout",
     "output_type": "stream",
     "text": [
      "<class 'complex'>\n",
      "<class 'complex'>\n",
      "<class 'complex'>\n"
     ]
    }
   ],
   "source": [
    "# Complex:\n",
    "\n",
    "x = 3+5j\n",
    "y = 5j\n",
    "z = -5j\n",
    "\n",
    "print(type(x))\n",
    "print(type(y))\n",
    "print(type(z)) "
   ],
   "metadata": {
    "collapsed": false,
    "ExecuteTime": {
     "end_time": "2024-09-05T06:51:53.965071Z",
     "start_time": "2024-09-05T06:51:53.957889Z"
    }
   },
   "id": "eb166ee728b60e01"
  },
  {
   "cell_type": "markdown",
   "source": [
    "### Type Conversion\n",
    "\n",
    "You can convert from one type to another with the **int()**, **float()**, and **complex()** methods:"
   ],
   "metadata": {
    "collapsed": false
   },
   "id": "b693e26b81d616bb"
  },
  {
   "cell_type": "code",
   "execution_count": 12,
   "outputs": [
    {
     "name": "stdout",
     "output_type": "stream",
     "text": [
      "1.0 <class 'float'>\n",
      "2 <class 'int'>\n",
      "(1+0j) <class 'complex'>\n"
     ]
    }
   ],
   "source": [
    "# Convert from one type to another:\n",
    "\n",
    "x = 1    # int\n",
    "y = 2.8  # float\n",
    "z = 1j   # complex\n",
    "\n",
    "#convert from int to float:\n",
    "a = float(x)\n",
    "\n",
    "#convert from float to int:\n",
    "b = int(y)\n",
    "\n",
    "#convert from int to complex:\n",
    "c = complex(x)\n",
    "\n",
    "print(a, type(a))\n",
    "print(b, type(b))\n",
    "print(c, type(c)) "
   ],
   "metadata": {
    "collapsed": false,
    "ExecuteTime": {
     "end_time": "2024-09-05T06:54:34.698264Z",
     "start_time": "2024-09-05T06:54:34.691934Z"
    }
   },
   "id": "a16832c63de65bc7"
  },
  {
   "cell_type": "markdown",
   "source": [
    "> **Note:** You cannot convert complex numbers into another number type."
   ],
   "metadata": {
    "collapsed": false
   },
   "id": "b591c308cc570123"
  },
  {
   "cell_type": "markdown",
   "source": [
    "### Random Number\n",
    "\n",
    "Python does not have a **random()** function to make a random number, but Python has a built-in module called **random** that can be used to make random numbers:"
   ],
   "metadata": {
    "collapsed": false
   },
   "id": "9177617fc11f630f"
  },
  {
   "cell_type": "code",
   "execution_count": 14,
   "outputs": [
    {
     "name": "stdout",
     "output_type": "stream",
     "text": [
      "4\n"
     ]
    }
   ],
   "source": [
    "# Import the random module, and display a random number between 1 and 9:\n",
    "\n",
    "import random\n",
    "\n",
    "\n",
    "print(random.randrange(1, 10))"
   ],
   "metadata": {
    "collapsed": false,
    "ExecuteTime": {
     "end_time": "2024-09-05T06:55:53.698843Z",
     "start_time": "2024-09-05T06:55:53.694139Z"
    }
   },
   "id": "f1ff983a22e03a1d"
  },
  {
   "cell_type": "code",
   "execution_count": null,
   "outputs": [],
   "source": [],
   "metadata": {
    "collapsed": false
   },
   "id": "6b68a0acdbc4884a"
  }
 ],
 "metadata": {
  "kernelspec": {
   "display_name": "Python 3",
   "language": "python",
   "name": "python3"
  },
  "language_info": {
   "codemirror_mode": {
    "name": "ipython",
    "version": 2
   },
   "file_extension": ".py",
   "mimetype": "text/x-python",
   "name": "python",
   "nbconvert_exporter": "python",
   "pygments_lexer": "ipython2",
   "version": "2.7.6"
  }
 },
 "nbformat": 4,
 "nbformat_minor": 5
}
