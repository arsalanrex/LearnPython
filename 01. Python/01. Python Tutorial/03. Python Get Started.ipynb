{
 "cells": [
  {
   "cell_type": "markdown",
   "source": [
    "## Python Getting Started"
   ],
   "metadata": {
    "collapsed": false
   },
   "id": "3909b248a7ab4f42"
  },
  {
   "cell_type": "code",
   "execution_count": 1,
   "id": "initial_id",
   "metadata": {
    "collapsed": true,
    "ExecuteTime": {
     "end_time": "2023-09-27T15:02:47.315746Z",
     "start_time": "2023-09-27T15:02:47.312697Z"
    }
   },
   "outputs": [
    {
     "name": "stdout",
     "output_type": "stream",
     "text": [
      "Hello, World!\n"
     ]
    }
   ],
   "source": [
    "print(\"Hello, World!\")"
   ]
  },
  {
   "cell_type": "markdown",
   "source": [
    "### to check python version in terminal \n",
    "\n",
    "    python --version\n",
    "\n",
    "### or if within code"
   ],
   "metadata": {
    "collapsed": false
   },
   "id": "a96b1d57264dddb7"
  },
  {
   "cell_type": "code",
   "execution_count": 1,
   "outputs": [
    {
     "name": "stdout",
     "output_type": "stream",
     "text": [
      "3.9.6 (default, Mar 29 2024, 10:51:09) \n",
      "[Clang 15.0.0 (clang-1500.3.9.4)]\n"
     ]
    }
   ],
   "source": [
    "import sys\n",
    "\n",
    "print(sys.version)"
   ],
   "metadata": {
    "collapsed": false,
    "ExecuteTime": {
     "start_time": "2024-09-05T05:25:16.129278Z"
    }
   },
   "id": "31474a956b32fe19"
  },
  {
   "cell_type": "markdown",
   "source": [
    "### to start python from terminal\n",
    "\n",
    "    # python\n",
    "   \n",
    "    # python3\n",
    "    \n",
    "    # py"
   ],
   "metadata": {
    "collapsed": false
   },
   "id": "50537ec28a6291ef"
  },
  {
   "cell_type": "markdown",
   "source": [
    "### to exit python from terminal\n",
    "\n",
    "    exit()\n",
    "\n",
    "    quit()"
   ],
   "metadata": {
    "collapsed": false
   },
   "id": "de5611c879e6fb51"
  },
  {
   "cell_type": "markdown",
   "source": [
    "![](03_terminal.png)"
   ],
   "metadata": {
    "collapsed": false
   },
   "id": "7af8feaf55f94c34"
  },
  {
   "cell_type": "code",
   "execution_count": 2,
   "outputs": [],
   "source": [],
   "metadata": {
    "collapsed": false,
    "ExecuteTime": {
     "start_time": "2023-09-27T15:03:14.065632Z"
    }
   },
   "id": "84383ea1d4b17a1d"
  }
 ],
 "metadata": {
  "kernelspec": {
   "display_name": "Python 3",
   "language": "python",
   "name": "python3"
  },
  "language_info": {
   "codemirror_mode": {
    "name": "ipython",
    "version": 2
   },
   "file_extension": ".py",
   "mimetype": "text/x-python",
   "name": "python",
   "nbconvert_exporter": "python",
   "pygments_lexer": "ipython2",
   "version": "2.7.6"
  }
 },
 "nbformat": 4,
 "nbformat_minor": 5
}
