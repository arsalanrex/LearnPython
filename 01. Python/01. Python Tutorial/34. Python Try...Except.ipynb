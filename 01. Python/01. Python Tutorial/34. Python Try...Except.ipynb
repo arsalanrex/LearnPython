{
 "cells": [
  {
   "cell_type": "markdown",
   "source": [
    "## Python Try Except\n",
    "\n",
    "The **try** block lets you test a block of code for errors.\n",
    "\n",
    "The **except** block lets you handle the error.\n",
    "\n",
    "The **else** block lets you execute the code if the try block does not raise any errors.\n",
    "\n",
    "The **finally** block lets you execute code, regardless of the result of the try- and except blocks."
   ],
   "metadata": {
    "collapsed": false
   },
   "id": "2fd3c3cb3bcb30a9"
  },
  {
   "cell_type": "markdown",
   "source": [
    "### Exception Handling\n",
    "\n",
    "When an error occurs, or exception as we call it, Python will normally stop and generate an error message.\n",
    "\n",
    "These exceptions can be handled using the try statement:"
   ],
   "metadata": {
    "collapsed": false
   },
   "id": "3c49f5c82f91fe4c"
  },
  {
   "cell_type": "code",
   "execution_count": 1,
   "id": "initial_id",
   "metadata": {
    "collapsed": true,
    "ExecuteTime": {
     "end_time": "2023-09-26T12:30:03.373749Z",
     "start_time": "2023-09-26T12:30:03.368780Z"
    }
   },
   "outputs": [
    {
     "name": "stdout",
     "output_type": "stream",
     "text": [
      "Hello World!\n"
     ]
    }
   ],
   "source": [
    "# This is a Comment\n",
    "print(\"Hello World!\")"
   ]
  },
  {
   "cell_type": "code",
   "execution_count": null,
   "outputs": [],
   "source": [],
   "metadata": {
    "collapsed": false
   },
   "id": "9ee4784d3de409ff"
  }
 ],
 "metadata": {
  "kernelspec": {
   "display_name": "Python 3",
   "language": "python",
   "name": "python3"
  },
  "language_info": {
   "codemirror_mode": {
    "name": "ipython",
    "version": 2
   },
   "file_extension": ".py",
   "mimetype": "text/x-python",
   "name": "python",
   "nbconvert_exporter": "python",
   "pygments_lexer": "ipython2",
   "version": "2.7.6"
  }
 },
 "nbformat": 4,
 "nbformat_minor": 5
}
