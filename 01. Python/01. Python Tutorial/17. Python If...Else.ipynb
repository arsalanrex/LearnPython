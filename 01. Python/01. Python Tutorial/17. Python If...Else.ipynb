{
 "cells": [
  {
   "cell_type": "markdown",
   "source": [
    "## Python If ... Else"
   ],
   "metadata": {
    "collapsed": false
   },
   "id": "b2b3c5096c19ab20"
  },
  {
   "cell_type": "markdown",
   "source": [
    "#### Python Conditions and If statements\n",
    "\n",
    "Python supports the usual logical conditions from mathematics:\n",
    "- Equals                  : **a == b**\n",
    "- Not Equals              : **a != b**\n",
    "- Less than               : **a < b**\n",
    "- Less than or equal to   : **a <= b**\n",
    "- Greater than            : **a > b**\n",
    "- Greater than or equal to: **a >= b**\n",
    "\n",
    "These conditions can be used in several ways, most commonly in \"if statements\" and loops.\n",
    "\n",
    "An \"if statement\" is written by using the **if** keyword."
   ],
   "metadata": {
    "collapsed": false
   },
   "id": "454d258b316f8441"
  },
  {
   "cell_type": "code",
   "execution_count": 1,
   "id": "initial_id",
   "metadata": {
    "collapsed": true,
    "ExecuteTime": {
     "end_time": "2024-09-07T19:22:32.649776Z",
     "start_time": "2024-09-07T19:22:32.640140Z"
    }
   },
   "outputs": [
    {
     "name": "stdout",
     "output_type": "stream",
     "text": [
      "b is greater than a\n"
     ]
    }
   ],
   "source": [
    "# if statement\n",
    "\n",
    "a = 33\n",
    "b = 200\n",
    "if b > a:\n",
    "  print(\"b is greater than a\")"
   ]
  },
  {
   "cell_type": "markdown",
   "source": [
    "In this example we use two variables, **a** and **b**, which are used as part of the if statement to test whether **b** is greater than **a**. As a is 33, and b is 200, we know that 200 is greater than 33, and so we print that \"b is greater than a\"."
   ],
   "metadata": {
    "collapsed": false
   },
   "id": "6996b90f40562a74"
  },
  {
   "cell_type": "markdown",
   "source": [
    "#### Indentation\n",
    "\n",
    "Python relies on indentation (whitespace at the beginning of a line) to define scope in the code. Other programming languages often use curly-brackets for this purpose."
   ],
   "metadata": {
    "collapsed": false
   },
   "id": "7fdd6cf468d41a2b"
  },
  {
   "cell_type": "code",
   "execution_count": 2,
   "outputs": [
    {
     "ename": "IndentationError",
     "evalue": "expected an indented block (1529265452.py, line 6)",
     "output_type": "error",
     "traceback": [
      "\u001B[0;36m  Cell \u001B[0;32mIn[2], line 6\u001B[0;36m\u001B[0m\n\u001B[0;31m    print(\"b is greater than a\")\u001B[0m\n\u001B[0m    ^\u001B[0m\n\u001B[0;31mIndentationError\u001B[0m\u001B[0;31m:\u001B[0m expected an indented block\n"
     ]
    }
   ],
   "source": [
    "# If statement without indentation will raise error\n",
    "\n",
    "a = 33\n",
    "b = 200\n",
    "if b > a:\n",
    "print(\"b is greater than a\")"
   ],
   "metadata": {
    "collapsed": false,
    "ExecuteTime": {
     "end_time": "2024-09-07T19:27:14.506346Z",
     "start_time": "2024-09-07T19:27:14.466914Z"
    }
   },
   "id": "9ee4784d3de409ff"
  },
  {
   "cell_type": "markdown",
   "source": [
    "#### Elif\n",
    "\n",
    "The **elif** keyword is Python's way of saying \"if the previous conditions were not true, then try this condition\".\n",
    "\n",
    "It's short for **else if**"
   ],
   "metadata": {
    "collapsed": false
   },
   "id": "ca0f90efc7e2a2cb"
  },
  {
   "cell_type": "code",
   "execution_count": 3,
   "outputs": [
    {
     "name": "stdout",
     "output_type": "stream",
     "text": [
      "a and b are equal\n"
     ]
    }
   ],
   "source": [
    "a = 33\n",
    "b = 33\n",
    "if b > a:\n",
    "  print(\"b is greater than a\")\n",
    "elif a == b:\n",
    "  print(\"a and b are equal\")"
   ],
   "metadata": {
    "collapsed": false,
    "ExecuteTime": {
     "end_time": "2024-09-07T19:37:44.230070Z",
     "start_time": "2024-09-07T19:37:44.198182Z"
    }
   },
   "id": "7174710f50744d29"
  },
  {
   "cell_type": "markdown",
   "source": [
    "In this example **a** is equal to **b**, so the first condition is not true, but the **elif** condition is true, so we print that \"a and b are equal\"."
   ],
   "metadata": {
    "collapsed": false
   },
   "id": "2e024fbcf71f0741"
  },
  {
   "cell_type": "markdown",
   "source": [
    "#### Else\n",
    "\n",
    "The **else** keyword catches anything which isn't caught by the preceding conditions."
   ],
   "metadata": {
    "collapsed": false
   },
   "id": "ecf3a2ef61abffa3"
  },
  {
   "cell_type": "code",
   "execution_count": 4,
   "outputs": [
    {
     "name": "stdout",
     "output_type": "stream",
     "text": [
      "a is greater than b\n"
     ]
    }
   ],
   "source": [
    "a = 200\n",
    "b = 33\n",
    "if b > a:\n",
    "  print(\"b is greater than a\")\n",
    "elif a == b:\n",
    "  print(\"a and b are equal\")\n",
    "else:\n",
    "  print(\"a is greater than b\")"
   ],
   "metadata": {
    "collapsed": false,
    "ExecuteTime": {
     "end_time": "2024-09-07T19:38:53.639680Z",
     "start_time": "2024-09-07T19:38:53.601594Z"
    }
   },
   "id": "535b257b23480b8e"
  },
  {
   "cell_type": "markdown",
   "source": [
    "In this example **a** is greater than **b**, so the first condition is not true, also the **elif** condition is not true, so we go to the **else** condition and print that \"a is greater than b\".\n",
    "\n",
    "You can also have an **else** without the **elif**:"
   ],
   "metadata": {
    "collapsed": false
   },
   "id": "dfde04e7afc6efcf"
  },
  {
   "cell_type": "code",
   "execution_count": 5,
   "outputs": [
    {
     "name": "stdout",
     "output_type": "stream",
     "text": [
      "b is not greater than a\n"
     ]
    }
   ],
   "source": [
    "a = 200\n",
    "b = 33\n",
    "if b > a:\n",
    "  print(\"b is greater than a\")\n",
    "else:\n",
    "  print(\"b is not greater than a\")"
   ],
   "metadata": {
    "collapsed": false,
    "ExecuteTime": {
     "end_time": "2024-09-07T19:39:21.749795Z",
     "start_time": "2024-09-07T19:39:21.710989Z"
    }
   },
   "id": "2fd76dbc36a74f4d"
  },
  {
   "cell_type": "markdown",
   "source": [
    "#### Short Hand If\n",
    "\n",
    "If you have only one statement to execute, you can put it on the same line as the **if** statement."
   ],
   "metadata": {
    "collapsed": false
   },
   "id": "ec33bc59d1db9a29"
  },
  {
   "cell_type": "code",
   "execution_count": 6,
   "outputs": [
    {
     "name": "stdout",
     "output_type": "stream",
     "text": [
      "a is greater than b\n"
     ]
    }
   ],
   "source": [
    "a = 200\n",
    "b = 33\n",
    "\n",
    "if a > b: print(\"a is greater than b\")"
   ],
   "metadata": {
    "collapsed": false,
    "ExecuteTime": {
     "end_time": "2024-09-07T19:39:54.733120Z",
     "start_time": "2024-09-07T19:39:54.683616Z"
    }
   },
   "id": "5ff8c718e077dfeb"
  },
  {
   "cell_type": "markdown",
   "source": [
    "#### Short Hand If ... Else\n",
    "\n",
    "If you have only one statement to execute, one for **if**, and one for **else**, you can put it all on the same line."
   ],
   "metadata": {
    "collapsed": false
   },
   "id": "74ec1b83a86dc68"
  },
  {
   "cell_type": "code",
   "execution_count": 8,
   "outputs": [
    {
     "name": "stdout",
     "output_type": "stream",
     "text": [
      "b is greater than a\n"
     ]
    }
   ],
   "source": [
    "a = 2\n",
    "b = 330\n",
    "print(\"a is greater than b\") if a > b else print(\"b is greater than a\")"
   ],
   "metadata": {
    "collapsed": false,
    "ExecuteTime": {
     "end_time": "2024-09-07T19:40:59.189723Z",
     "start_time": "2024-09-07T19:40:59.150841Z"
    }
   },
   "id": "56f6f7cf24822015"
  },
  {
   "cell_type": "markdown",
   "source": [
    "> This technique is known as **Ternary Operators**, or **Conditional Expressions**."
   ],
   "metadata": {
    "collapsed": false
   },
   "id": "919a4ba0e8065b26"
  },
  {
   "cell_type": "markdown",
   "source": [
    "You can also have multiple else statements on the same line:"
   ],
   "metadata": {
    "collapsed": false
   },
   "id": "7d7a788a4d0de1e2"
  },
  {
   "cell_type": "code",
   "execution_count": 9,
   "outputs": [
    {
     "name": "stdout",
     "output_type": "stream",
     "text": [
      "=\n"
     ]
    }
   ],
   "source": [
    "a = 330\n",
    "b = 330\n",
    "print(\"A\") if a > b else print(\"=\") if a == b else print(\"B\")"
   ],
   "metadata": {
    "collapsed": false,
    "ExecuteTime": {
     "end_time": "2024-09-07T19:41:49.728517Z",
     "start_time": "2024-09-07T19:41:49.682908Z"
    }
   },
   "id": "7cf17cc6e2bea584"
  },
  {
   "cell_type": "markdown",
   "source": [
    "#### And, Or, Not\n",
    "\n",
    "The **and** keyword is a logical operator, and is used to combine conditional statements.\n",
    "\n",
    "The **or** keyword is a logical operator, and is used to combine conditional statements.\n",
    "\n",
    "The **not** keyword is a logical operator, and is used to reverse the logical state of the operand."
   ],
   "metadata": {
    "collapsed": false
   },
   "id": "18a5bfbd3c976d00"
  },
  {
   "cell_type": "code",
   "execution_count": 15,
   "outputs": [
    {
     "name": "stdout",
     "output_type": "stream",
     "text": [
      "Both conditions are True\n",
      "At least one of the conditions is True\n",
      "a is greater than b\n"
     ]
    }
   ],
   "source": [
    "# Test if a is greater than b, AND if c is greater than a:\n",
    "\n",
    "a = 200\n",
    "b = 33\n",
    "c = 500\n",
    "\n",
    "if a > b and c > a:\n",
    "  print(\"Both conditions are True\")\n",
    "\n",
    "if a > b or a > c:\n",
    "  print(\"At least one of the conditions is True\")\n",
    "  \n",
    "if not a > b:\n",
    "    print(\"a is not greater than b\")\n",
    "else:\n",
    "    print(\"a is greater than b\")"
   ],
   "metadata": {
    "collapsed": false,
    "ExecuteTime": {
     "end_time": "2024-09-07T19:45:35.476696Z",
     "start_time": "2024-09-07T19:45:35.447804Z"
    }
   },
   "id": "23832c5772db4ec0"
  },
  {
   "cell_type": "markdown",
   "source": [
    "#### Nested If\n",
    "\n",
    "You can have **if** statements inside **if** statements, this is called nested if statements."
   ],
   "metadata": {
    "collapsed": false
   },
   "id": "81df559e80796c73"
  },
  {
   "cell_type": "code",
   "execution_count": 16,
   "outputs": [
    {
     "name": "stdout",
     "output_type": "stream",
     "text": [
      "Above ten,\n",
      "and also above 20!\n"
     ]
    }
   ],
   "source": [
    "x = 41\n",
    "\n",
    "if x > 10:\n",
    "  print(\"Above ten,\")\n",
    "  if x > 20:\n",
    "    print(\"and also above 20!\")\n",
    "  else:\n",
    "    print(\"but not above 20.\")"
   ],
   "metadata": {
    "collapsed": false,
    "ExecuteTime": {
     "end_time": "2024-09-07T19:46:26.355340Z",
     "start_time": "2024-09-07T19:46:26.315361Z"
    }
   },
   "id": "bc8a87df0609911b"
  },
  {
   "cell_type": "markdown",
   "source": [
    "#### The pass Statement\n",
    "\n",
    "if statements cannot be empty, but if you for some reason have an if statement with no content, put in the **pass** statement"
   ],
   "metadata": {
    "collapsed": false
   },
   "id": "5972a81b0018cae1"
  },
  {
   "cell_type": "code",
   "execution_count": 18,
   "outputs": [
    {
     "name": "stdout",
     "output_type": "stream",
     "text": [
      "Pass does nothing, but makes the code syntactically correct.\n"
     ]
    }
   ],
   "source": [
    "a = 33\n",
    "b = 200\n",
    "\n",
    "if b > a:\n",
    "  pass\n",
    "  \n",
    "print(\"Pass does nothing, but makes the code syntactically correct.\")"
   ],
   "metadata": {
    "collapsed": false,
    "ExecuteTime": {
     "end_time": "2024-09-07T19:48:14.350697Z",
     "start_time": "2024-09-07T19:48:14.329865Z"
    }
   },
   "id": "b72665230d3f0922"
  },
  {
   "cell_type": "code",
   "execution_count": null,
   "outputs": [],
   "source": [],
   "metadata": {
    "collapsed": false
   },
   "id": "fdd260c5b780bcc6"
  }
 ],
 "metadata": {
  "kernelspec": {
   "display_name": "Python 3",
   "language": "python",
   "name": "python3"
  },
  "language_info": {
   "codemirror_mode": {
    "name": "ipython",
    "version": 2
   },
   "file_extension": ".py",
   "mimetype": "text/x-python",
   "name": "python",
   "nbconvert_exporter": "python",
   "pygments_lexer": "ipython2",
   "version": "2.7.6"
  }
 },
 "nbformat": 4,
 "nbformat_minor": 5
}
