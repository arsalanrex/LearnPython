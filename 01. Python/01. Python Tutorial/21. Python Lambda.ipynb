{
 "cells": [
  {
   "cell_type": "markdown",
   "source": [
    "### Python Lambda\n",
    "\n",
    "A lambda function is a small anonymous function.    \n",
    "\n",
    "A lambda function can take any number of arguments, but can only have one expression."
   ],
   "metadata": {
    "collapsed": false
   },
   "id": "4826470a79db62a3"
  },
  {
   "cell_type": "code",
   "execution_count": 2,
   "id": "initial_id",
   "metadata": {
    "collapsed": true,
    "ExecuteTime": {
     "end_time": "2024-09-08T10:19:37.635142Z",
     "start_time": "2024-09-08T10:19:37.624401Z"
    }
   },
   "outputs": [
    {
     "name": "stdout",
     "output_type": "stream",
     "text": [
      "15\n"
     ]
    }
   ],
   "source": [
    "x = lambda a : a + 10\n",
    "print(x(5))"
   ]
  },
  {
   "cell_type": "markdown",
   "source": [
    "Lambda functions can take any number of arguments:"
   ],
   "metadata": {
    "collapsed": false
   },
   "id": "db7664129254b24a"
  },
  {
   "cell_type": "code",
   "execution_count": 4,
   "outputs": [
    {
     "name": "stdout",
     "output_type": "stream",
     "text": [
      "30\n"
     ]
    }
   ],
   "source": [
    "x = lambda a, b : a * b\n",
    "\n",
    "print(x(5, 6))"
   ],
   "metadata": {
    "collapsed": false,
    "ExecuteTime": {
     "end_time": "2024-09-08T10:20:05.495503Z",
     "start_time": "2024-09-08T10:20:05.483369Z"
    }
   },
   "id": "9ee4784d3de409ff"
  },
  {
   "cell_type": "markdown",
   "source": [
    "#### Why Use Lambda Functions?\n",
    "\n",
    "The power of lambda is better shown when you use them as an anonymous function inside another function.\n",
    "\n",
    "Say you have a function definition that takes one argument, and that argument will be multiplied with an unknown number:"
   ],
   "metadata": {
    "collapsed": false
   },
   "id": "6a229172cdb4cd81"
  },
  {
   "cell_type": "code",
   "execution_count": 7,
   "outputs": [
    {
     "name": "stdout",
     "output_type": "stream",
     "text": [
      "22\n"
     ]
    }
   ],
   "source": [
    "def myfunc(n):\n",
    "    return lambda a : a * n\n",
    "\n",
    "mydoubler = myfunc(2)\n",
    "\n",
    "print(mydoubler(11))\n"
   ],
   "metadata": {
    "collapsed": false,
    "ExecuteTime": {
     "end_time": "2024-09-08T10:24:29.528041Z",
     "start_time": "2024-09-08T10:24:29.516413Z"
    }
   },
   "id": "59b1b9f429c17151"
  },
  {
   "cell_type": "markdown",
   "source": [
    "> Use lambda functions when an anonymous function is required for a short period of time."
   ],
   "metadata": {
    "collapsed": false
   },
   "id": "28a4c6ede609cafd"
  },
  {
   "cell_type": "code",
   "execution_count": null,
   "outputs": [],
   "source": [],
   "metadata": {
    "collapsed": false
   },
   "id": "e02916be78bfc1e1"
  }
 ],
 "metadata": {
  "kernelspec": {
   "display_name": "Python 3",
   "language": "python",
   "name": "python3"
  },
  "language_info": {
   "codemirror_mode": {
    "name": "ipython",
    "version": 2
   },
   "file_extension": ".py",
   "mimetype": "text/x-python",
   "name": "python",
   "nbconvert_exporter": "python",
   "pygments_lexer": "ipython2",
   "version": "2.7.6"
  }
 },
 "nbformat": 4,
 "nbformat_minor": 5
}
