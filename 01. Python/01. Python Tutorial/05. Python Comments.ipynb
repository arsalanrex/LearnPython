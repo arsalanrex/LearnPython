{
 "cells": [
  {
   "cell_type": "markdown",
   "source": [
    "## Comments in Python\n",
    "\n",
    "Comments are lines that exist in computer programs that are ignored by compilers and interpreters. Including comments in programs makes code more readable for humans as it provides some information or explanation about what each part of a program is doing.\n",
    "\n",
    "Comments can be used to prevent execution when testing code."
   ],
   "metadata": {
    "collapsed": false
   },
   "id": "3e6c8e54821081ac"
  },
  {
   "cell_type": "markdown",
   "source": [
    "### Creating a Comment \n",
    "\n",
    "Python will ignore anything starting with **'#'**"
   ],
   "metadata": {
    "collapsed": false
   },
   "id": "8886bfa5d5681fec"
  },
  {
   "cell_type": "code",
   "execution_count": 1,
   "id": "initial_id",
   "metadata": {
    "collapsed": true,
    "ExecuteTime": {
     "end_time": "2023-09-26T12:30:03.373749Z",
     "start_time": "2023-09-26T12:30:03.368780Z"
    }
   },
   "outputs": [
    {
     "name": "stdout",
     "output_type": "stream",
     "text": [
      "Hello World!\n"
     ]
    }
   ],
   "source": [
    "# This is a Comment\n",
    "print(\"Hello World!\")"
   ]
  },
  {
   "cell_type": "markdown",
   "source": [
    "Comments can be placed at the end of a line, and Python will ignore the rest of the line."
   ],
   "metadata": {
    "collapsed": false
   },
   "id": "d4fba2b3889477c3"
  },
  {
   "cell_type": "code",
   "execution_count": 1,
   "outputs": [
    {
     "name": "stdout",
     "output_type": "stream",
     "text": [
      "Hello, World!\n"
     ]
    }
   ],
   "source": [
    "print(\"Hello, World!\") #This is a comment"
   ],
   "metadata": {
    "collapsed": false,
    "ExecuteTime": {
     "end_time": "2023-09-27T16:09:16.991400Z",
     "start_time": "2023-09-27T16:09:16.987012Z"
    }
   },
   "id": "9ee4784d3de409ff"
  },
  {
   "cell_type": "markdown",
   "source": [
    "Comments can be used to prevent execution when testing code."
   ],
   "metadata": {
    "collapsed": false
   },
   "id": "42ebcb52d4453b43"
  },
  {
   "cell_type": "code",
   "execution_count": 1,
   "outputs": [
    {
     "name": "stdout",
     "output_type": "stream",
     "text": [
      "Cheers, Mate!\n"
     ]
    }
   ],
   "source": [
    "# print(\"Hello, World!\")\n",
    "print(\"Cheers, Mate!\")"
   ],
   "metadata": {
    "collapsed": false,
    "ExecuteTime": {
     "end_time": "2024-09-07T12:32:48.792510Z",
     "start_time": "2024-09-07T12:32:48.788744Z"
    }
   },
   "id": "e464a10aeb7db58f"
  },
  {
   "cell_type": "markdown",
   "source": [
    "### Multiline comment \n",
    "\n",
    "Python does not have a syntax for multiline comments. To add a multiline comment you could insert a # for each line."
   ],
   "metadata": {
    "collapsed": false
   },
   "id": "8988ae0827f1e30e"
  },
  {
   "cell_type": "code",
   "execution_count": 2,
   "outputs": [
    {
     "name": "stdout",
     "output_type": "stream",
     "text": [
      "Hello, World!\n"
     ]
    }
   ],
   "source": [
    "# using # for multiline comment \n",
    "\n",
    "# Line 1\n",
    "# Line 2\n",
    "\n",
    "print(\"Hello, World!\")"
   ],
   "metadata": {
    "collapsed": false,
    "ExecuteTime": {
     "end_time": "2024-09-07T12:33:50.096270Z",
     "start_time": "2024-09-07T12:33:50.092755Z"
    }
   },
   "id": "3a729c54635c90f7"
  },
  {
   "cell_type": "markdown",
   "source": [
    "You can use multiline strings as comments.\n",
    "\n",
    "Since Python will ignore string literals that are not assigned to a variable, you can add a multiline string (triple quotes) in your code, and place your comment inside it:"
   ],
   "metadata": {
    "collapsed": false
   },
   "id": "1ff9c2daf2b72f79"
  },
  {
   "cell_type": "code",
   "execution_count": 4,
   "outputs": [
    {
     "name": "stdout",
     "output_type": "stream",
     "text": [
      "Hello, World!\n"
     ]
    }
   ],
   "source": [
    "# using ''' ''' for multiline comment\n",
    "\n",
    "''' \n",
    "Line 1\n",
    "Line 2\n",
    "'''\n",
    "\n",
    "# using \"\"\" \"\"\" for multiline comment\n",
    "\n",
    "\"\"\"\n",
    "Line 3\n",
    "Line 4 \n",
    "\"\"\"\n",
    "\n",
    "print(\"Hello, World!\")"
   ],
   "metadata": {
    "collapsed": false,
    "ExecuteTime": {
     "end_time": "2024-09-07T12:34:28.860617Z",
     "start_time": "2024-09-07T12:34:28.855835Z"
    }
   },
   "id": "9ca31ab6353acdc3"
  },
  {
   "cell_type": "markdown",
   "source": [
    "> **Note:** It is not recommended to use multiline strings as comments. It is better to use # for multiline comments.\n",
    "\n",
    "> These are generally used as docstrings."
   ],
   "metadata": {
    "collapsed": false
   },
   "id": "8bec0aa0d6261e8"
  },
  {
   "cell_type": "code",
   "execution_count": null,
   "outputs": [],
   "source": [],
   "metadata": {
    "collapsed": false
   },
   "id": "2b7d03cc2a7cd06"
  }
 ],
 "metadata": {
  "kernelspec": {
   "display_name": "Python 3",
   "language": "python",
   "name": "python3"
  },
  "language_info": {
   "codemirror_mode": {
    "name": "ipython",
    "version": 2
   },
   "file_extension": ".py",
   "mimetype": "text/x-python",
   "name": "python",
   "nbconvert_exporter": "python",
   "pygments_lexer": "ipython2",
   "version": "2.7.6"
  }
 },
 "nbformat": 4,
 "nbformat_minor": 5
}
