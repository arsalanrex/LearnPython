{
 "cells": [
  {
   "cell_type": "markdown",
   "source": [
    "## Python Loops\n",
    "\n",
    "Python has two primitive loop commands:\n",
    "\n",
    "- **while** loops\n",
    "- **for** loops"
   ],
   "metadata": {
    "collapsed": false
   },
   "id": "5dea4c9a1d82fcbf"
  },
  {
   "cell_type": "markdown",
   "source": [
    "### The while Loop\n",
    "\n",
    "With the **while** loop we can execute a set of statements as long as a condition is true."
   ],
   "metadata": {
    "collapsed": false
   },
   "id": "d41d7a9927f85dda"
  },
  {
   "cell_type": "code",
   "execution_count": 1,
   "id": "initial_id",
   "metadata": {
    "collapsed": true,
    "ExecuteTime": {
     "end_time": "2024-09-07T19:59:32.179766Z",
     "start_time": "2024-09-07T19:59:32.177333Z"
    }
   },
   "outputs": [
    {
     "name": "stdout",
     "output_type": "stream",
     "text": [
      "1\n",
      "2\n",
      "3\n",
      "4\n",
      "5\n"
     ]
    }
   ],
   "source": [
    "# Print i as long as i is less than 6:\n",
    "\n",
    "i = 1\n",
    "while i < 6:\n",
    "  print(i)\n",
    "  i += 1"
   ]
  },
  {
   "cell_type": "markdown",
   "source": [
    "> **Note:** remember to increment i, or else the loop will continue forever."
   ],
   "metadata": {
    "collapsed": false
   },
   "id": "bbc90f6d4fe405eb"
  },
  {
   "cell_type": "markdown",
   "source": [
    "The while loop requires relevant variables to be ready, in this example we need to define an indexing variable, i, which we set to 1."
   ],
   "metadata": {
    "collapsed": false
   },
   "id": "460ecb5e17ce13f0"
  },
  {
   "cell_type": "markdown",
   "source": [
    "### The break Statement\n",
    "\n",
    "With the **break** statement we can stop the loop even if the while condition is true:"
   ],
   "metadata": {
    "collapsed": false
   },
   "id": "ccbe409cef160a13"
  },
  {
   "cell_type": "code",
   "execution_count": 5,
   "outputs": [
    {
     "name": "stdout",
     "output_type": "stream",
     "text": [
      "1\n",
      "2\n",
      "3\n"
     ]
    }
   ],
   "source": [
    "# Exit the loop when i is 3:\n",
    "\n",
    "i = 1\n",
    "while i < 6:\n",
    "  print(i)\n",
    "  if i == 3: \n",
    "      break\n",
    "  i += 1"
   ],
   "metadata": {
    "collapsed": false,
    "ExecuteTime": {
     "end_time": "2024-09-07T20:01:43.768213Z",
     "start_time": "2024-09-07T20:01:43.736378Z"
    }
   },
   "id": "9ee4784d3de409ff"
  },
  {
   "cell_type": "markdown",
   "source": [
    "### The continue Statement\n",
    "\n",
    "With the **continue** statement we can stop the current iteration, and continue with the next:"
   ],
   "metadata": {
    "collapsed": false
   },
   "id": "e5b181fa56c3d8d9"
  },
  {
   "cell_type": "code",
   "execution_count": 6,
   "outputs": [
    {
     "name": "stdout",
     "output_type": "stream",
     "text": [
      "1\n",
      "2\n",
      "4\n",
      "5\n",
      "6\n"
     ]
    }
   ],
   "source": [
    "# Continue to the next iteration if i is 3:\n",
    "\n",
    "i = 0\n",
    "while i < 6:\n",
    "  i += 1\n",
    "  if i == 3:\n",
    "    continue\n",
    "  print(i)"
   ],
   "metadata": {
    "collapsed": false,
    "ExecuteTime": {
     "end_time": "2024-09-07T20:02:16.101252Z",
     "start_time": "2024-09-07T20:02:16.063784Z"
    }
   },
   "id": "518534b51fbcc7ae"
  },
  {
   "cell_type": "markdown",
   "source": [
    "### The else Statement\n",
    "\n",
    "With the **else** statement we can run a block of code once when the condition no longer is true:"
   ],
   "metadata": {
    "collapsed": false
   },
   "id": "a2366a79453fcf07"
  },
  {
   "cell_type": "code",
   "execution_count": 7,
   "outputs": [
    {
     "name": "stdout",
     "output_type": "stream",
     "text": [
      "1\n",
      "2\n",
      "3\n",
      "4\n",
      "5\n",
      "i is no longer less than 6\n"
     ]
    }
   ],
   "source": [
    "# Print a message once the condition is false:\n",
    "\n",
    "i = 1\n",
    "while i < 6:\n",
    "  print(i)\n",
    "  i += 1\n",
    "else:\n",
    "  print(\"i is no longer less than 6\")"
   ],
   "metadata": {
    "collapsed": false,
    "ExecuteTime": {
     "end_time": "2024-09-07T20:02:47.805844Z",
     "start_time": "2024-09-07T20:02:47.772669Z"
    }
   },
   "id": "364f13e5ce001716"
  },
  {
   "cell_type": "code",
   "execution_count": null,
   "outputs": [],
   "source": [],
   "metadata": {
    "collapsed": false
   },
   "id": "b79fdfa17027280f"
  }
 ],
 "metadata": {
  "kernelspec": {
   "display_name": "Python 3",
   "language": "python",
   "name": "python3"
  },
  "language_info": {
   "codemirror_mode": {
    "name": "ipython",
    "version": 2
   },
   "file_extension": ".py",
   "mimetype": "text/x-python",
   "name": "python",
   "nbconvert_exporter": "python",
   "pygments_lexer": "ipython2",
   "version": "2.7.6"
  }
 },
 "nbformat": 4,
 "nbformat_minor": 5
}
