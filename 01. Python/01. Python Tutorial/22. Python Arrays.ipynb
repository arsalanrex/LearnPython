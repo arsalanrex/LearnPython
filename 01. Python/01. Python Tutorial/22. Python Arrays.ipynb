{
 "cells": [
  {
   "cell_type": "markdown",
   "source": [
    "### Python Arrays\n",
    "\n",
    "> Python does not have built-in support for Arrays, but Python Lists can be used instead."
   ],
   "metadata": {
    "collapsed": false
   },
   "id": "6c5979b42feff690"
  },
  {
   "cell_type": "markdown",
   "source": [
    "#### Arrays\n",
    "\n",
    "Arrays are used to store multiple values in one single variable:"
   ],
   "metadata": {
    "collapsed": false
   },
   "id": "9283be131df022b8"
  },
  {
   "cell_type": "code",
   "execution_count": 2,
   "id": "initial_id",
   "metadata": {
    "collapsed": true,
    "ExecuteTime": {
     "end_time": "2024-09-08T10:41:00.144156Z",
     "start_time": "2024-09-08T10:41:00.138286Z"
    }
   },
   "outputs": [
    {
     "name": "stdout",
     "output_type": "stream",
     "text": [
      "['Ford', 'Volvo', 'BMW']\n"
     ]
    }
   ],
   "source": [
    "# Create an array containing car names:\n",
    "\n",
    "cars = [\"Ford\", \"Volvo\", \"BMW\"]\n",
    "\n",
    "print(cars)"
   ]
  },
  {
   "cell_type": "markdown",
   "source": [
    "#### What is an Array?\n",
    "\n",
    "An array is a special variable, which can hold more than one value at a time.\n",
    "\n",
    "If you have a list of items (a list of car names, for example), storing the cars in single variables could look like this:\n",
    "\n",
    "    car1 = \"Ford\"\n",
    "    car2 = \"Volvo\"\n",
    "    car3 = \"BMW\"\n",
    "\n",
    "However, what if you want to loop through the cars and find a specific one? And what if you had not 3 cars, but 300?\n",
    "\n",
    "The solution is an array!\n",
    "\n",
    "An array can hold many values under a single name, and you can access the values by referring to an index number."
   ],
   "metadata": {
    "collapsed": false
   },
   "id": "38d6352025e2fc5e"
  },
  {
   "cell_type": "markdown",
   "source": [
    "#### Access the Elements of an Array\n",
    "\n",
    "You refer to an array element by referring to the **index number**."
   ],
   "metadata": {
    "collapsed": false
   },
   "id": "f0f32b686e717fa8"
  },
  {
   "cell_type": "code",
   "execution_count": 3,
   "outputs": [
    {
     "name": "stdout",
     "output_type": "stream",
     "text": [
      "Ford\n",
      "['Toyota', 'Volvo', 'BMW']\n"
     ]
    }
   ],
   "source": [
    "cars = [\"Ford\", \"Volvo\", \"BMW\"]\n",
    "\n",
    "print(cars[0])\n",
    "\n",
    "# Modify the value of the first array item:\n",
    "\n",
    "cars[0] = \"Toyota\"\n",
    "\n",
    "print(cars)"
   ],
   "metadata": {
    "collapsed": false,
    "ExecuteTime": {
     "end_time": "2024-09-08T10:42:45.170635Z",
     "start_time": "2024-09-08T10:42:45.146981Z"
    }
   },
   "id": "9ee4784d3de409ff"
  },
  {
   "cell_type": "markdown",
   "source": [
    "#### The Length of an Array\n",
    "\n",
    "Use the **len()** method to return the length of an array (the number of elements in an array)."
   ],
   "metadata": {
    "collapsed": false
   },
   "id": "d797c57daa281a7b"
  },
  {
   "cell_type": "code",
   "execution_count": 4,
   "outputs": [
    {
     "name": "stdout",
     "output_type": "stream",
     "text": [
      "3\n"
     ]
    }
   ],
   "source": [
    "cars = [\"Ford\", \"Volvo\", \"BMW\"]\n",
    "\n",
    "print(len(cars))"
   ],
   "metadata": {
    "collapsed": false,
    "ExecuteTime": {
     "end_time": "2024-09-08T10:43:21.075827Z",
     "start_time": "2024-09-08T10:43:21.053108Z"
    }
   },
   "id": "d06a21b07e8df032"
  },
  {
   "cell_type": "markdown",
   "source": [
    "> **Note:** The length of an array is always one more than the highest array index."
   ],
   "metadata": {
    "collapsed": false
   },
   "id": "4e87190f65cbf78d"
  },
  {
   "cell_type": "markdown",
   "source": [
    "#### Looping Array Elements\n",
    "\n",
    "You can use the **for in** loop to loop through all the elements of an array."
   ],
   "metadata": {
    "collapsed": false
   },
   "id": "ebb5c98a3c9f026a"
  },
  {
   "cell_type": "code",
   "execution_count": 5,
   "outputs": [
    {
     "name": "stdout",
     "output_type": "stream",
     "text": [
      "Ford\n",
      "Volvo\n",
      "BMW\n"
     ]
    }
   ],
   "source": [
    "cars = [\"Ford\", \"Volvo\", \"BMW\"]\n",
    "\n",
    "for x in cars:\n",
    "  print(x)"
   ],
   "metadata": {
    "collapsed": false,
    "ExecuteTime": {
     "end_time": "2024-09-08T10:43:58.132399Z",
     "start_time": "2024-09-08T10:43:58.107425Z"
    }
   },
   "id": "7d8c93c4571e4145"
  },
  {
   "cell_type": "markdown",
   "source": [
    "#### Adding Array Elements\n",
    "\n",
    "You can use the **append()** method to add an element to an array."
   ],
   "metadata": {
    "collapsed": false
   },
   "id": "f1527468047c397d"
  },
  {
   "cell_type": "code",
   "execution_count": 6,
   "outputs": [
    {
     "name": "stdout",
     "output_type": "stream",
     "text": [
      "['Ford', 'Volvo', 'BMW', 'Honda']\n"
     ]
    }
   ],
   "source": [
    "cars = [\"Ford\", \"Volvo\", \"BMW\"]\n",
    "\n",
    "cars.append(\"Honda\")\n",
    "\n",
    "print(cars)"
   ],
   "metadata": {
    "collapsed": false,
    "ExecuteTime": {
     "end_time": "2024-09-08T10:44:21.603572Z",
     "start_time": "2024-09-08T10:44:21.574604Z"
    }
   },
   "id": "ebe722b1b91a244b"
  },
  {
   "cell_type": "markdown",
   "source": [
    "#### Removing Array Elements\n",
    "\n",
    "You can use the **pop()** method to remove an element from the array."
   ],
   "metadata": {
    "collapsed": false
   },
   "id": "f1630cfe61b8a7ba"
  },
  {
   "cell_type": "code",
   "execution_count": 8,
   "outputs": [
    {
     "name": "stdout",
     "output_type": "stream",
     "text": [
      "['Ford', 'Volvo', 'BMW']\n",
      "['Ford', 'BMW']\n"
     ]
    }
   ],
   "source": [
    "cars = [\"Ford\", \"Volvo\", \"BMW\"]\n",
    "print(cars)\n",
    "\n",
    "cars.pop(1)\n",
    "print(cars)"
   ],
   "metadata": {
    "collapsed": false,
    "ExecuteTime": {
     "end_time": "2024-09-08T10:44:55.216329Z",
     "start_time": "2024-09-08T10:44:55.195726Z"
    }
   },
   "id": "144512ba49a3899"
  },
  {
   "cell_type": "markdown",
   "source": [
    "Use the **remove()** method to remove an element from the array using the value of the element."
   ],
   "metadata": {
    "collapsed": false
   },
   "id": "9b961c21097c0cf"
  },
  {
   "cell_type": "code",
   "execution_count": 11,
   "outputs": [
    {
     "name": "stdout",
     "output_type": "stream",
     "text": [
      "['Ford', 'Volvo', 'BMW']\n",
      "['Ford', 'BMW']\n"
     ]
    }
   ],
   "source": [
    "cars = [\"Ford\", \"Volvo\", \"BMW\"]\n",
    "print(cars)\n",
    "\n",
    "cars.remove(\"Volvo\")\n",
    "print(cars)"
   ],
   "metadata": {
    "collapsed": false,
    "ExecuteTime": {
     "end_time": "2024-09-08T10:46:46.361842Z",
     "start_time": "2024-09-08T10:46:46.347571Z"
    }
   },
   "id": "98e557825f44dad8"
  },
  {
   "cell_type": "markdown",
   "source": [
    "> **Note:** The list's remove() method only removes the first occurrence of the specified value."
   ],
   "metadata": {
    "collapsed": false
   },
   "id": "7a4a3a655f160590"
  },
  {
   "cell_type": "markdown",
   "source": [
    "#### Array Methods\n",
    "\n",
    "Python has a set of built-in methods that you can use on lists/arrays.\n",
    "\n",
    "Please check List Methods for a complete reference."
   ],
   "metadata": {
    "collapsed": false
   },
   "id": "26e55cd4c350a3c4"
  },
  {
   "cell_type": "markdown",
   "source": [
    "> **Note:** Python does not have built-in support for Arrays, but Python Lists can be used instead."
   ],
   "metadata": {
    "collapsed": false
   },
   "id": "95907d6d8b446b06"
  },
  {
   "cell_type": "code",
   "execution_count": null,
   "outputs": [],
   "source": [],
   "metadata": {
    "collapsed": false
   },
   "id": "c34d8f5725a278e8"
  }
 ],
 "metadata": {
  "kernelspec": {
   "display_name": "Python 3",
   "language": "python",
   "name": "python3"
  },
  "language_info": {
   "codemirror_mode": {
    "name": "ipython",
    "version": 2
   },
   "file_extension": ".py",
   "mimetype": "text/x-python",
   "name": "python",
   "nbconvert_exporter": "python",
   "pygments_lexer": "ipython2",
   "version": "2.7.6"
  }
 },
 "nbformat": 4,
 "nbformat_minor": 5
}
