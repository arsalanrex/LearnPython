{
 "cells": [
  {
   "cell_type": "markdown",
   "source": [
    "## Python Operators"
   ],
   "metadata": {
    "collapsed": false
   },
   "id": "dba90f7d4c4d8873"
  },
  {
   "cell_type": "markdown",
   "source": [
    "### Python Operators\n",
    "\n",
    "Operators are used to perform operations on variables and values.\n",
    "\n",
    "We can use + operator to add two numbers."
   ],
   "metadata": {
    "collapsed": false
   },
   "id": "16f8a00aca37ac0c"
  },
  {
   "cell_type": "code",
   "execution_count": 1,
   "id": "initial_id",
   "metadata": {
    "collapsed": true,
    "ExecuteTime": {
     "end_time": "2024-09-07T12:55:18.668570Z",
     "start_time": "2024-09-07T12:55:18.664799Z"
    }
   },
   "outputs": [
    {
     "name": "stdout",
     "output_type": "stream",
     "text": [
      "15\n"
     ]
    }
   ],
   "source": [
    "print(10 + 5)"
   ]
  },
  {
   "cell_type": "markdown",
   "source": [
    "### Types of Operators\n",
    "\n",
    "Python language supports the following types of operators.\n",
    "- Arithmetic Operators\n",
    "- Assignment Operators\n",
    "- Comparison Operators\n",
    "- Logical Operators\n",
    "- Identity Operators\n",
    "- Membership Operators\n",
    "- Bitwise Operators"
   ],
   "metadata": {
    "collapsed": false
   },
   "id": "23653efe1fbfe304"
  },
  {
   "cell_type": "markdown",
   "source": [
    "### Python Arithmetic Operators\n",
    "\n",
    "Arithmetic operators are used with numeric values to perform common mathematical operations."
   ],
   "metadata": {
    "collapsed": false
   },
   "id": "1784b3af325cca25"
  },
  {
   "cell_type": "code",
   "execution_count": 25,
   "outputs": [
    {
     "name": "stdout",
     "output_type": "stream",
     "text": [
      "a =  10\n",
      "b =  5 \n",
      "\n",
      "Addition (+)         = 15\n",
      "Subtraction (-)      = 5\n",
      "Multiplication (*)   = 50\n",
      "Division (/)         = 2.0\n",
      "Modulus (%)          = 0\n",
      "Exponentiation (**)  = 100000\n",
      "Floor Division (//)  = 2\n"
     ]
    }
   ],
   "source": [
    "a = 10\n",
    "b = 5\n",
    "print(\"a = \", a)\n",
    "print(\"b = \", b,\"\\n\")\n",
    "\n",
    "print(f\"{'Addition (+)':<20} = {a + b}\")\n",
    "print(f\"{'Subtraction (-)':<20} = {a - b}\")\n",
    "print(f\"{'Multiplication (*)':<20} = {a * b}\")\n",
    "print(f\"{'Division (/)':<20} = {a / b}\")\n",
    "print(f\"{'Modulus (%)':<20} = {a % b}\")\n",
    "print(f\"{'Exponentiation (**)':<20} = {a ** b}\")\n",
    "print(f\"{'Floor Division (//)':<20} = {a // b}\")"
   ],
   "metadata": {
    "collapsed": false,
    "ExecuteTime": {
     "end_time": "2024-09-07T13:12:50.189793Z",
     "start_time": "2024-09-07T13:12:50.175426Z"
    }
   },
   "id": "9ee4784d3de409ff"
  },
  {
   "cell_type": "markdown",
   "source": [
    "### Python Assignment Operators\n",
    "\n",
    "Assignment operators are used to assign values to variables."
   ],
   "metadata": {
    "collapsed": false
   },
   "id": "918a5ab55dc212c9"
  },
  {
   "cell_type": "code",
   "execution_count": 67,
   "outputs": [
    {
     "name": "stdout",
     "output_type": "stream",
     "text": [
      "a =  10\n",
      "b =  5 \n",
      "\n",
      "Operator        Same As         Value\n",
      "a = b            a = b          5\n",
      "a += b           a = a + b      15\n",
      "a -= b           a = a - b      5\n",
      "a *= b           a = a * b      50\n",
      "a /= b           a = a / b      2.0\n",
      "a %= b           a = a % b      0\n",
      "a //= b          a = a // b     2\n",
      "a **= b          a = a ** b     100000\n",
      "a &= b           a = a & b      0\n",
      "a |= b           a = a | b      15\n",
      "a ^= b           a = a ^ b      15\n",
      "a >>= b          a = a >> b     0\n",
      "a <<= b          a = a << b     320\n",
      "print(a := 15)   print(a)       10\n"
     ]
    }
   ],
   "source": [
    "a = 10\n",
    "b = 5\n",
    "print(\"a = \", a)\n",
    "print(\"b = \", b,\"\\n\")\n",
    "\n",
    "print(f\"{'Operator ':<15} {'Same As ':<15} {'Value'}\")\n",
    "\n",
    "# Assignment\n",
    "a = b\n",
    "print(f\"{'a = b ':<15} {' a = b ':<15} {a}\")\n",
    "a=10\n",
    "\n",
    "# Addition Assignment\n",
    "a += b\n",
    "print(f\"{'a += b ':<15} {' a = a + b ':<15} {a}\")\n",
    "a=10\n",
    "\n",
    "# Subtraction Assignment\n",
    "a -= b\n",
    "print(f\"{'a -= b ':<15} {' a = a - b ':<15} {a}\")\n",
    "a=10\n",
    "\n",
    "# Multiplication Assignment\n",
    "a *= b\n",
    "print(f\"{'a *= b ':<15} {' a = a * b ':<15} {a}\")\n",
    "a=10\n",
    "\n",
    "# Division Assignment\n",
    "a /= b\n",
    "print(f\"{'a /= b ':<15} {' a = a / b ':<15} {a}\")\n",
    "a=10\n",
    "\n",
    "# Modulus Assignment\n",
    "a %= b\n",
    "print(f\"{'a %= b ':<15} {' a = a % b ':<15} {a}\")\n",
    "a=10\n",
    "\n",
    "# Floor Division Assignment\n",
    "a //= b\n",
    "print(f\"{'a //= b ':<15} {' a = a // b ':<15} {a}\")\n",
    "a=10\n",
    "\n",
    "# Exponentiation Assignment\n",
    "a **= b\n",
    "print(f\"{'a **= b ':<15} {' a = a ** b ':<15} {a}\")\n",
    "a=10\n",
    "\n",
    "# Bitwise AND Assignment\n",
    "a &= b\n",
    "print(f\"{'a &= b ':<15} {' a = a & b ':<15} {a}\")\n",
    "a=10\n",
    "\n",
    "# Bitwise OR Assignment\n",
    "a |= b\n",
    "print(f\"{'a |= b ':<15} {' a = a | b ':<15} {a}\")\n",
    "a=10\n",
    "\n",
    "# Bitwise XOR Assignment\n",
    "a ^= b\n",
    "print(f\"{'a ^= b ':<15} {' a = a ^ b ':<15} {a}\")\n",
    "a=10\n",
    "\n",
    "# Bitwise Right Shift Assignment\n",
    "a >>= b\n",
    "print(f\"{'a >>= b ':<15} {' a = a >> b ':<15} {a}\")\n",
    "a=10\n",
    "\n",
    "# Bitwise Left Shift Assignment\n",
    "a <<= b\n",
    "print(f\"{'a <<= b ':<15} {' a = a << b ':<15} {a}\")\n",
    "\n",
    "# Walrus Operator\n",
    "a = 10\n",
    "print(f\"{'print(a := 15) ':<10} {' print(a) ':<15} {a}\")"
   ],
   "metadata": {
    "collapsed": false,
    "ExecuteTime": {
     "end_time": "2024-09-07T13:38:49.359146Z",
     "start_time": "2024-09-07T13:38:49.337737Z"
    }
   },
   "id": "2dae4524ef3d471f"
  },
  {
   "cell_type": "markdown",
   "source": [
    "### Python Comparison Operators\n",
    "\n",
    "Comparison operators are used to compare two values."
   ],
   "metadata": {
    "collapsed": false
   },
   "id": "17f731d3dead24bb"
  },
  {
   "cell_type": "code",
   "execution_count": 59,
   "outputs": [
    {
     "name": "stdout",
     "output_type": "stream",
     "text": [
      "a =  10\n",
      "b =  5 \n",
      "\n",
      "Equal                     a == b     False\n",
      "Not Equal                 a != b     True\n",
      "Greater Than              a > b      True\n",
      "Less Than                 a < b      False\n",
      "Greater Than or Equal To  a >= b     True\n",
      "Less Than or Equal To     a <= b     False\n"
     ]
    }
   ],
   "source": [
    "a = 10\n",
    "b = 5\n",
    "print(\"a = \", a)\n",
    "print(\"b = \", b,\"\\n\")\n",
    "\n",
    "print(f\"{'Equal ':<25} {'a == b':<10} {a == b}\")\n",
    "print(f\"{'Not Equal ':<25} {'a != b':<10} {a != b}\")\n",
    "print(f\"{'Greater Than ':<25} {'a > b':<10} {a > b}\")\n",
    "print(f\"{'Less Than ':<25} {'a < b':<10} {a < b}\")\n",
    "print(f\"{'Greater Than or Equal To ':<25} {'a >= b':<10} {a >= b}\")\n",
    "print(f\"{'Less Than or Equal To ':<25} {'a <= b':<10} {a <= b}\")"
   ],
   "metadata": {
    "collapsed": false,
    "ExecuteTime": {
     "end_time": "2024-09-07T13:32:33.744814Z",
     "start_time": "2024-09-07T13:32:33.723502Z"
    }
   },
   "id": "4d82740b31695731"
  },
  {
   "cell_type": "markdown",
   "source": [
    "### Python Logical Operators\n",
    "\n",
    "Logical operators are used to combine conditional statements."
   ],
   "metadata": {
    "collapsed": false
   },
   "id": "395a75d523fa25c7"
  },
  {
   "cell_type": "code",
   "execution_count": 118,
   "outputs": [
    {
     "name": "stdout",
     "output_type": "stream",
     "text": [
      "AND        a > 5 and a < 15          True\n",
      "OR         a > 5 or a < 15           True\n",
      "NOT        not(a > 5 and a < 15)     False\n"
     ]
    }
   ],
   "source": [
    "a = 10\n",
    "\n",
    "# AND Operator : Returns True if both statements are true\n",
    "print(f\"{'AND ':<10} {'a > 5 and a < 15':<25} {a > 5 and a < 15}\")\n",
    "\n",
    "# OR Operator : Returns True if one of the statements is true\n",
    "print(f\"{'OR ':<10} {'a > 5 or a < 15':<25} {a > 5 or a < 15}\")\n",
    "\n",
    "# NOT Operator : Reverse the result, returns False if the result is true\n",
    "print(f\"{'NOT ':<10} {'not(a > 5 and a < 15)':<25} {not(a > 5 and a < 15)}\")"
   ],
   "metadata": {
    "collapsed": false,
    "ExecuteTime": {
     "end_time": "2024-09-07T14:09:59.652899Z",
     "start_time": "2024-09-07T14:09:59.623362Z"
    }
   },
   "id": "90a131e0351c15af"
  },
  {
   "cell_type": "markdown",
   "source": [
    "### Python Identity Operators\n",
    "\n",
    "Identity operators are used to compare the objects, not if they are equal, but if they are actually the same object, with the same memory location."
   ],
   "metadata": {
    "collapsed": false
   },
   "id": "fc394d3c7fe1d805"
  },
  {
   "cell_type": "code",
   "execution_count": 83,
   "outputs": [
    {
     "name": "stdout",
     "output_type": "stream",
     "text": [
      "a =  ['apple', 'banana', 'cherry']\n",
      "b =  ['apple', 'banana', 'cherry']\n",
      "c =  a\n",
      "\n",
      "a == b          True\n",
      "a is b          False\n",
      "a is c          True\n",
      "\n",
      "a != b          False\n",
      "a is not b      True\n",
      "a is not c      False\n"
     ]
    }
   ],
   "source": [
    "a = ['apple', 'banana', 'cherry']\n",
    "b = ['apple', 'banana', 'cherry']\n",
    "c = a\n",
    "\n",
    "print(\"a = \", a)\n",
    "print(\"b = \", b)\n",
    "print(\"c =  a\\n\")\n",
    "\n",
    "# \"is\" and \"==\" are not the same\n",
    "print(f\"{'a == b':<15} {a == b}\")\n",
    "print(f\"{'a is b':<15} {a is b}\")\n",
    "print(f\"{'a is c':<15} {a is c}\\n\")\n",
    "\n",
    "# \"is not\" and \"!=\" are not the same\n",
    "print(f\"{'a != b':<15} {a != b}\")\n",
    "print(f\"{'a is not b':<15} {a is not b}\")\n",
    "print(f\"{'a is not c':<15} {a is not c}\")"
   ],
   "metadata": {
    "collapsed": false,
    "ExecuteTime": {
     "end_time": "2024-09-07T13:50:06.961977Z",
     "start_time": "2024-09-07T13:50:06.938547Z"
    }
   },
   "id": "88e805959cea2fe4"
  },
  {
   "cell_type": "markdown",
   "source": [
    "### Python Membership Operators\n",
    "\n",
    "Membership operators are used to test if a sequence is presented in an object."
   ],
   "metadata": {
    "collapsed": false
   },
   "id": "a1f36cafa2ef1f43"
  },
  {
   "cell_type": "code",
   "execution_count": 90,
   "outputs": [
    {
     "name": "stdout",
     "output_type": "stream",
     "text": [
      "a =  ['apple', 'banana', 'cherry'] \n",
      "\n",
      "apple in a           True\n",
      "orange in a          False\n",
      "\n",
      "apple not in a       False\n",
      "orange not in a      True\n"
     ]
    }
   ],
   "source": [
    "a = ['apple', 'banana', 'cherry']\n",
    "\n",
    "print(\"a = \", a,\"\\n\")\n",
    "\n",
    "print(f\"{'apple in a':<20} {'apple' in a}\")\n",
    "print(f\"{'orange in a':<20} {'orange' in a}\\n\")\n",
    "\n",
    "print(f\"{'apple not in a':<20} {'apple' not in a}\")\n",
    "print(f\"{'orange not in a':<20} {'orange' not in a}\")"
   ],
   "metadata": {
    "collapsed": false,
    "ExecuteTime": {
     "end_time": "2024-09-07T13:58:22.403448Z",
     "start_time": "2024-09-07T13:58:22.380657Z"
    }
   },
   "id": "271fbf49c903c986"
  },
  {
   "cell_type": "markdown",
   "source": [
    "### Python Bitwise Operators\n",
    "\n",
    "Bitwise operators are used to compare (binary) numbers."
   ],
   "metadata": {
    "collapsed": false
   },
   "id": "d426edc7e1f40f1a"
  },
  {
   "cell_type": "code",
   "execution_count": 117,
   "outputs": [
    {
     "name": "stdout",
     "output_type": "stream",
     "text": [
      "a = 10    = 1010\n",
      "b = 5     = 101\n",
      "\n",
      "AND (&)              a & b      = 0\n",
      "OR (|)               a | b      = 15\n",
      "XOR (^)              a ^ b      = 15\n",
      "NOT (~)              ~a         = -11\n",
      "Left Shift (<<)      a << 2     = 20\n",
      "Right Shift (>>)     a >> 2     = 5\n"
     ]
    }
   ],
   "source": [
    "a = 10\n",
    "b = 5\n",
    "print(f\"a = {a:<5} = {a:b}\")\n",
    "print(f\"b = {b:<5} = {b:b}\\n\")\n",
    "\n",
    "# AND : Sets each bit to 1 if both bits are 1\n",
    "print(f\"{'AND (&)':<20} {'a & b':<10} = {a & b}\")\n",
    "\n",
    "# OR : Sets each bit to 1 if one of two bits is 1\n",
    "print(f\"{'OR (|)':<20} {'a | b':<10} = {a | b}\")\n",
    "\n",
    "# XOR : Sets each bit to 1 if only one of two bits is 1 \n",
    "print(f\"{'XOR (^)':<20} {'a ^ b':<10} = {a ^ b}\")\n",
    "\n",
    "# NOT : Inverts all the bits    \n",
    "print(f\"{'NOT (~)':<20} {'~a':<10} = {~a}\")\n",
    "\n",
    "# Zero fill left Shift : Shift left by pushing zeros in from the right and let the leftmost bits fall off\n",
    "print(f\"{'Left Shift (<<)':<20} {'a << 2':<10} = {a << 1}\")\n",
    "\n",
    "# Zero fill right Shift : Shift right by pushing copies of the leftmost bit in from the left, and let the rightmost bits fall off\n",
    "print(f\"{'Right Shift (>>)':<20} {'a >> 2':<10} = {a >> 1}\")"
   ],
   "metadata": {
    "collapsed": false,
    "ExecuteTime": {
     "end_time": "2024-09-07T14:09:39.563803Z",
     "start_time": "2024-09-07T14:09:39.547898Z"
    }
   },
   "id": "d2656b7ebe0d94c7"
  },
  {
   "cell_type": "markdown",
   "source": [
    "### Python Operator Precedence\n",
    "\n",
    "The following lists all operators from highest precedence to lowest."
   ],
   "metadata": {
    "collapsed": false
   },
   "id": "48641735b52de969"
  },
  {
   "cell_type": "code",
   "execution_count": 142,
   "outputs": [
    {
     "name": "stdout",
     "output_type": "stream",
     "text": [
      "a = 10    = 1010\n",
      "b = 5     = 101\n",
      "x = [1, 2, 3, 4, 5]\n",
      "\n",
      "01.   ()         ( a + b ) * a        = 150\n",
      "02.   **         a ** b               = 100000\n",
      "03.a. +x         a + +b               = 15\n",
      "03.b. -x         a + -b               = 5\n",
      "03.c. ~x         a + ~b               = 4\n",
      "04.a. *          a * b                = 50\n",
      "04.b. /          a / b                = 2.0\n",
      "04.c. //         a // b               = 2\n",
      "04.d. %          a % b                = 0\n",
      "05.a. +          a + b                = 15\n",
      "05.b. -          a - b                = 5\n",
      "06.a. <<         a << b               = 320\n",
      "06.b. >>         a >> b               = 0\n",
      "07.   &          a & b                = 0\n",
      "08.   ^          a ^ b                = 15\n",
      "09.   |          a | b                = 15\n",
      "10.a. ==         a == b               = False\n",
      "10.b. !=         a != b               = True\n",
      "10.c. >          a > b                = True\n",
      "10.d. <          a < b                = False\n",
      "10.e. >=         a >= b               = True\n",
      "10.f. <=         a <= b               = False\n",
      "10.g. is         a is b               = False\n",
      "10.h. is not     a is not b           = True\n",
      "10.i. in         a in x               = False\n",
      "10.j. not in     a not in x           = True\n",
      "11.   not        not(a > b)           = False\n",
      "12.   and        a > 5 and a < 15     = True\n",
      "13.   or         a > 5 or a < 15      = True\n"
     ]
    }
   ],
   "source": [
    "a = 10\n",
    "b = 5\n",
    "x = [1, 2, 3, 4, 5]\n",
    "print(f\"a = {a:<5} = {a:b}\")\n",
    "print(f\"b = {b:<5} = {b:b}\")\n",
    "print(f\"x = {x}\\n\")\n",
    "\n",
    "# Parentheses\n",
    "print(f\"01.   {'()':<10} {'( a + b ) * a':<20} = {(a+b)*a}\")\n",
    "\n",
    "# Exponentiation\n",
    "print(f\"02.   {'**':<10} {'a ** b':<20} = {a**b}\")\n",
    "\n",
    "# Unary plus, unary minus and bitwise NOT\n",
    "print(f\"03.a. {'+x':<10} {'a + +b':<20} = {a + +b}\")\n",
    "print(f\"03.b. {'-x':<10} {'a + -b':<20} = {a + -b}\")\n",
    "print(f\"03.c. {'~x':<10} {'a + ~b':<20} = {a + ~b}\")\n",
    "\n",
    "# Multiplication, division, floor division and modulo\n",
    "print(f\"04.a. {'*':<10} {'a * b':<20} = {a*b}\")\n",
    "print(f\"04.b. {'/':<10} {'a / b':<20} = {a/b}\")\n",
    "print(f\"04.c. {'//':<10} {'a // b':<20} = {a//b}\")\n",
    "print(f\"04.d. {'%':<10} {'a % b':<20} = {a%b}\")\n",
    "\n",
    "# Addition and subtraction\n",
    "print(f\"05.a. {'+':<10} {'a + b':<20} = {a+b}\")\n",
    "print(f\"05.b. {'-':<10} {'a - b':<20} = {a-b}\")\n",
    "\n",
    "# Bitwise shift operators\n",
    "print(f\"06.a. {'<<':<10} {'a << b':<20} = {a<<b}\")\n",
    "print(f\"06.b. {'>>':<10} {'a >> b':<20} = {a>>b}\")\n",
    "\n",
    "# Bitwise AND\n",
    "print(f\"07.   {'&':<10} {'a & b':<20} = {a&b}\")\n",
    "\n",
    "# Bitwise XOR\n",
    "print(f\"08.   {'^':<10} {'a ^ b':<20} = {a^b}\")\n",
    "\n",
    "# Bitwise OR\n",
    "print(f\"09.   {'|':<10} {'a | b':<20} = {a|b}\")\n",
    "\n",
    "# Comparison operators\n",
    "print(f\"10.a. {'==':<10} {'a == b':<20} = {a==b}\")\n",
    "print(f\"10.b. {'!=':<10} {'a != b':<20} = {a!=b}\")\n",
    "print(f\"10.c. {'>':<10} {'a > b':<20} = {a>b}\")\n",
    "print(f\"10.d. {'<':<10} {'a < b':<20} = {a<b}\")\n",
    "print(f\"10.e. {'>=':<10} {'a >= b':<20} = {a>=b}\")\n",
    "print(f\"10.f. {'<=':<10} {'a <= b':<20} = {a<=b}\")\n",
    "print(f\"10.g. {'is':<10} {'a is b':<20} = {a is b}\")\n",
    "print(f\"10.h. {'is not':<10} {'a is not b':<20} = {a is not b}\")\n",
    "print(f\"10.i. {'in':<10} {'a in x':<20} = {a in x}\")\n",
    "print(f\"10.j. {'not in':<10} {'a not in x':<20} = {a not in x}\")\n",
    "\n",
    "# Logical NOT\n",
    "print(f\"11.   {'not':<10} {'not(a > b)':<20} = {not(a > b)}\")\n",
    "\n",
    "# Logical AND\n",
    "print(f\"12.   {'and':<10} {'a > 5 and a < 15':<20} = {a > 5 and a < 15}\")\n",
    "\n",
    "# Logical OR\n",
    "print(f\"13.   {'or':<10} {'a > 5 or a < 15':<20} = {a > 5 or a < 15}\")"
   ],
   "metadata": {
    "collapsed": false,
    "ExecuteTime": {
     "end_time": "2024-09-07T14:41:30.724343Z",
     "start_time": "2024-09-07T14:41:30.706355Z"
    }
   },
   "id": "b83f6cad42b465ca"
  },
  {
   "cell_type": "markdown",
   "source": [
    "> **Note:** If two operators have the same precedence then the expression is evaluated from left to right."
   ],
   "metadata": {
    "collapsed": false
   },
   "id": "64b72e132df7b080"
  },
  {
   "cell_type": "code",
   "execution_count": 143,
   "outputs": [
    {
     "name": "stdout",
     "output_type": "stream",
     "text": [
      "5 + 4 - 3 = 6\n"
     ]
    }
   ],
   "source": [
    "# Addition and subtraction have the same precedence\n",
    "\n",
    "print(\"5 + 4 - 3 =\", 5 + 4 - 3)"
   ],
   "metadata": {
    "collapsed": false,
    "ExecuteTime": {
     "end_time": "2024-09-07T14:43:24.924520Z",
     "start_time": "2024-09-07T14:43:24.878676Z"
    }
   },
   "id": "e79fc51a890f25f5"
  },
  {
   "cell_type": "code",
   "execution_count": null,
   "outputs": [],
   "source": [],
   "metadata": {
    "collapsed": false
   },
   "id": "cf04a055e5290928"
  }
 ],
 "metadata": {
  "kernelspec": {
   "display_name": "Python 3",
   "language": "python",
   "name": "python3"
  },
  "language_info": {
   "codemirror_mode": {
    "name": "ipython",
    "version": 2
   },
   "file_extension": ".py",
   "mimetype": "text/x-python",
   "name": "python",
   "nbconvert_exporter": "python",
   "pygments_lexer": "ipython2",
   "version": "2.7.6"
  }
 },
 "nbformat": 4,
 "nbformat_minor": 5
}
