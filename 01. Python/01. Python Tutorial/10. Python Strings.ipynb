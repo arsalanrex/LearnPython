{
 "cells": [
  {
   "cell_type": "markdown",
   "source": [
    "# Python Strings"
   ],
   "metadata": {
    "collapsed": false
   },
   "id": "48e1c38531770d5d"
  },
  {
   "cell_type": "markdown",
   "source": [
    "## Python Strings"
   ],
   "metadata": {
    "collapsed": false
   },
   "id": "780761284f9b0883"
  },
  {
   "cell_type": "markdown",
   "source": [
    "### Strings\n",
    "\n",
    "Strings in python are surrounded by either single quotation marks, or double quotation marks.\n",
    "\n",
    "**'hello'** is the same as **\"hello\"**.\n",
    "\n",
    "You can display a string literal with the **print()** function:"
   ],
   "metadata": {
    "collapsed": false
   },
   "id": "6ebf12527494ccf8"
  },
  {
   "cell_type": "code",
   "execution_count": 1,
   "outputs": [
    {
     "name": "stdout",
     "output_type": "stream",
     "text": [
      "Hello\n",
      "Hello\n"
     ]
    }
   ],
   "source": [
    "print(\"Hello\")\n",
    "print('Hello')"
   ],
   "metadata": {
    "collapsed": false,
    "ExecuteTime": {
     "end_time": "2024-09-05T07:03:16.358519Z",
     "start_time": "2024-09-05T07:03:16.354212Z"
    }
   },
   "id": "a375b22c722fd670"
  },
  {
   "cell_type": "markdown",
   "source": [
    "### Quotes Inside Quotes\n",
    "\n",
    "You can use quotes inside a string, as long as they don't match the quotes surrounding the string:"
   ],
   "metadata": {
    "collapsed": false
   },
   "id": "7e7a4487537aef6d"
  },
  {
   "cell_type": "code",
   "execution_count": 2,
   "outputs": [
    {
     "name": "stdout",
     "output_type": "stream",
     "text": [
      "It's alright\n",
      "He is called 'Johnny'\n",
      "He is called \"Johnny\"\n"
     ]
    }
   ],
   "source": [
    "print(\"It's alright\")\n",
    "print(\"He is called 'Johnny'\")\n",
    "print('He is called \"Johnny\"')"
   ],
   "metadata": {
    "collapsed": false,
    "ExecuteTime": {
     "end_time": "2024-09-05T07:03:46.335127Z",
     "start_time": "2024-09-05T07:03:46.319369Z"
    }
   },
   "id": "fd76e83d65747e1"
  },
  {
   "cell_type": "markdown",
   "source": [
    "### Assign String to a Variable\n",
    "\n",
    "Assigning a string to a variable is done with the variable name followed by an equal sign and the string:"
   ],
   "metadata": {
    "collapsed": false
   },
   "id": "1e2c4bdab8cbdb1d"
  },
  {
   "cell_type": "code",
   "execution_count": 3,
   "outputs": [
    {
     "name": "stdout",
     "output_type": "stream",
     "text": [
      "Hello\n"
     ]
    }
   ],
   "source": [
    "a = \"Hello\"\n",
    "print(a) "
   ],
   "metadata": {
    "collapsed": false,
    "ExecuteTime": {
     "end_time": "2024-09-05T07:04:04.986414Z",
     "start_time": "2024-09-05T07:04:04.969258Z"
    }
   },
   "id": "5849240117553661"
  },
  {
   "cell_type": "markdown",
   "source": [
    "### Multiline Strings\n",
    "\n",
    "You can assign a multiline string to a variable by using three quotes:"
   ],
   "metadata": {
    "collapsed": false
   },
   "id": "87888765ffc69a1f"
  },
  {
   "cell_type": "code",
   "execution_count": 4,
   "outputs": [
    {
     "name": "stdout",
     "output_type": "stream",
     "text": [
      "Lorem ipsum dolor sit amet,\n",
      "consectetur adipiscing elit,\n",
      "sed do eiusmod tempor incididunt\n",
      "ut labore et dolore magna aliqua.\n"
     ]
    }
   ],
   "source": [
    "a = \"\"\"Lorem ipsum dolor sit amet,\n",
    "consectetur adipiscing elit,\n",
    "sed do eiusmod tempor incididunt\n",
    "ut labore et dolore magna aliqua.\"\"\"\n",
    "print(a) "
   ],
   "metadata": {
    "collapsed": false,
    "ExecuteTime": {
     "end_time": "2024-09-05T07:04:26.808528Z",
     "start_time": "2024-09-05T07:04:26.798783Z"
    }
   },
   "id": "b8d2e629394b81f"
  },
  {
   "cell_type": "markdown",
   "source": [
    "Or three single quotes:"
   ],
   "metadata": {
    "collapsed": false
   },
   "id": "6a0c1d3fffcf600b"
  },
  {
   "cell_type": "code",
   "execution_count": 5,
   "outputs": [
    {
     "name": "stdout",
     "output_type": "stream",
     "text": [
      "Lorem ipsum dolor sit amet,\n",
      "consectetur adipiscing elit,\n",
      "sed do eiusmod tempor incididunt\n",
      "ut labore et dolore magna aliqua.\n"
     ]
    }
   ],
   "source": [
    "a = '''Lorem ipsum dolor sit amet,\n",
    "consectetur adipiscing elit,\n",
    "sed do eiusmod tempor incididunt\n",
    "ut labore et dolore magna aliqua.'''\n",
    "print(a) "
   ],
   "metadata": {
    "collapsed": false,
    "ExecuteTime": {
     "end_time": "2024-09-05T07:04:48.406959Z",
     "start_time": "2024-09-05T07:04:48.388587Z"
    }
   },
   "id": "6c6978fa36511809"
  },
  {
   "cell_type": "markdown",
   "source": [
    "> **Note:** In the result, the line breaks are inserted at the same position as in the code."
   ],
   "metadata": {
    "collapsed": false
   },
   "id": "b0ff55f7d826ba31"
  },
  {
   "cell_type": "markdown",
   "source": [
    "### Strings are Arrays\n",
    "\n",
    "Like many other popular programming languages, strings in Python are arrays of bytes representing unicode characters.\n",
    "\n",
    "However, Python does not have a character data type, a single character is simply a string with a length of 1.\n",
    "\n",
    "Square brackets can be used to access elements of the string."
   ],
   "metadata": {
    "collapsed": false
   },
   "id": "332c777ec73875d6"
  },
  {
   "cell_type": "code",
   "execution_count": 6,
   "outputs": [
    {
     "name": "stdout",
     "output_type": "stream",
     "text": [
      "e\n"
     ]
    }
   ],
   "source": [
    "# Get the character at position 1 (remember that the first character has the position 0):\n",
    "\n",
    "a = \"Hello, World!\"\n",
    "print(a[1])"
   ],
   "metadata": {
    "collapsed": false,
    "ExecuteTime": {
     "end_time": "2024-09-05T07:05:50.606011Z",
     "start_time": "2024-09-05T07:05:50.587248Z"
    }
   },
   "id": "38833aa7f4f44352"
  },
  {
   "cell_type": "markdown",
   "source": [
    "### Looping Through a String\n",
    "\n",
    "Since strings are arrays, we can loop through the characters in a string, with a **for** loop."
   ],
   "metadata": {
    "collapsed": false
   },
   "id": "33870064079b9ec6"
  },
  {
   "cell_type": "code",
   "execution_count": 7,
   "outputs": [
    {
     "name": "stdout",
     "output_type": "stream",
     "text": [
      "b\n",
      "a\n",
      "n\n",
      "a\n",
      "n\n",
      "a\n"
     ]
    }
   ],
   "source": [
    "# Loop through the letters in the word \"banana\":\n",
    "\n",
    "for x in \"banana\":\n",
    "  print(x)"
   ],
   "metadata": {
    "collapsed": false,
    "ExecuteTime": {
     "end_time": "2024-09-05T07:06:27.207857Z",
     "start_time": "2024-09-05T07:06:27.187502Z"
    }
   },
   "id": "6db2abc73ea84c68"
  },
  {
   "cell_type": "markdown",
   "source": [
    "### String Length\n",
    "\n",
    "To get the length of a string, use the **len()** function."
   ],
   "metadata": {
    "collapsed": false
   },
   "id": "13f54c95c5f37"
  },
  {
   "cell_type": "code",
   "execution_count": 8,
   "outputs": [
    {
     "name": "stdout",
     "output_type": "stream",
     "text": [
      "13\n"
     ]
    }
   ],
   "source": [
    "# The len() function returns the length of a string:\n",
    "\n",
    "a = \"Hello, World!\"\n",
    "print(len(a))"
   ],
   "metadata": {
    "collapsed": false,
    "ExecuteTime": {
     "end_time": "2024-09-05T07:07:06.472007Z",
     "start_time": "2024-09-05T07:07:06.452648Z"
    }
   },
   "id": "748b5f2a995ae567"
  },
  {
   "cell_type": "markdown",
   "source": [
    "### Check String\n",
    "\n",
    "To check if a certain phrase or character is present in a string, we can use the keyword **in**."
   ],
   "metadata": {
    "collapsed": false
   },
   "id": "f593db84803886bc"
  },
  {
   "cell_type": "code",
   "execution_count": 9,
   "outputs": [
    {
     "name": "stdout",
     "output_type": "stream",
     "text": [
      "True\n"
     ]
    }
   ],
   "source": [
    "# Check if \"free\" is present in the following text:\n",
    "\n",
    "txt = \"The best things in life are free!\"\n",
    "print(\"free\" in txt)"
   ],
   "metadata": {
    "collapsed": false,
    "ExecuteTime": {
     "end_time": "2024-09-05T07:08:02.236912Z",
     "start_time": "2024-09-05T07:08:02.220438Z"
    }
   },
   "id": "9a064913608f89cc"
  },
  {
   "cell_type": "markdown",
   "source": [
    "Use it in an **if** statement:"
   ],
   "metadata": {
    "collapsed": false
   },
   "id": "7ea2302a4dc105c7"
  },
  {
   "cell_type": "code",
   "execution_count": 10,
   "outputs": [
    {
     "name": "stdout",
     "output_type": "stream",
     "text": [
      "Yes, 'free' is present.\n"
     ]
    }
   ],
   "source": [
    "# Print only if \"free\" is present:\n",
    "\n",
    "txt = \"The best things in life are free!\"\n",
    "if \"free\" in txt:\n",
    "  print(\"Yes, 'free' is present.\")"
   ],
   "metadata": {
    "collapsed": false,
    "ExecuteTime": {
     "end_time": "2024-09-05T07:08:32.417502Z",
     "start_time": "2024-09-05T07:08:32.400494Z"
    }
   },
   "id": "46177de3dd60abc"
  },
  {
   "cell_type": "markdown",
   "source": [
    "### Check if NOT\n",
    "\n",
    "To check if a certain phrase or character is **NOT** present in a string, we can use the keyword **not in**."
   ],
   "metadata": {
    "collapsed": false
   },
   "id": "e7ba7c00170818e7"
  },
  {
   "cell_type": "code",
   "execution_count": 11,
   "outputs": [
    {
     "name": "stdout",
     "output_type": "stream",
     "text": [
      "True\n"
     ]
    }
   ],
   "source": [
    "# Check if \"expensive\" is NOT present in the following text:\n",
    "\n",
    "txt = \"The best things in life are free!\"\n",
    "print(\"expensive\" not in txt)"
   ],
   "metadata": {
    "collapsed": false,
    "ExecuteTime": {
     "end_time": "2024-09-05T07:09:20.375303Z",
     "start_time": "2024-09-05T07:09:20.353659Z"
    }
   },
   "id": "235de3883e7a373e"
  },
  {
   "cell_type": "markdown",
   "source": [
    "Use it in an **if** statement:"
   ],
   "metadata": {
    "collapsed": false
   },
   "id": "e7809ff63972860"
  },
  {
   "cell_type": "code",
   "execution_count": 12,
   "outputs": [
    {
     "name": "stdout",
     "output_type": "stream",
     "text": [
      "Yes, 'expensive' is NOT present.\n"
     ]
    }
   ],
   "source": [
    "# Print only if \"expensive\" is NOT present:\n",
    "\n",
    "txt = \"The best things in life are free!\"\n",
    "if \"expensive\" not in txt:\n",
    "  print(\"Yes, 'expensive' is NOT present.\")"
   ],
   "metadata": {
    "collapsed": false,
    "ExecuteTime": {
     "end_time": "2024-09-05T07:09:56.024822Z",
     "start_time": "2024-09-05T07:09:56.002472Z"
    }
   },
   "id": "f3260de260919e53"
  },
  {
   "cell_type": "markdown",
   "source": [
    "## Python - Slicing Strings"
   ],
   "metadata": {
    "collapsed": false
   },
   "id": "acc97cdda493c271"
  },
  {
   "cell_type": "markdown",
   "source": [
    "### Slicing\n",
    "\n",
    "You can return a range of characters by using the slice syntax.\n",
    "\n",
    "Specify the start index and the end index, separated by a colon, to return a part of the string."
   ],
   "metadata": {
    "collapsed": false
   },
   "id": "2f97c0aa9872c1ba"
  },
  {
   "cell_type": "code",
   "execution_count": 13,
   "outputs": [
    {
     "name": "stdout",
     "output_type": "stream",
     "text": [
      "llo\n"
     ]
    }
   ],
   "source": [
    "# Get the characters from position 2 to position 5 (not included):\n",
    "\n",
    "b = \"Hello, World!\"\n",
    "print(b[2:5])"
   ],
   "metadata": {
    "collapsed": false,
    "ExecuteTime": {
     "end_time": "2024-09-05T07:11:02.590274Z",
     "start_time": "2024-09-05T07:11:02.572742Z"
    }
   },
   "id": "cafa0945d0a0ef79"
  },
  {
   "cell_type": "markdown",
   "source": [
    "> **Note:** The first character has index 0."
   ],
   "metadata": {
    "collapsed": false
   },
   "id": "164332f69063efb9"
  },
  {
   "cell_type": "markdown",
   "source": [
    "### Slice From the Start\n",
    "\n",
    "By leaving out the start index, the range will start at the first character:"
   ],
   "metadata": {
    "collapsed": false
   },
   "id": "9f21e451fa854a83"
  },
  {
   "cell_type": "code",
   "execution_count": 14,
   "outputs": [
    {
     "name": "stdout",
     "output_type": "stream",
     "text": [
      "Hello\n"
     ]
    }
   ],
   "source": [
    "# Get the characters from the start to position 5 (not included):\n",
    "\n",
    "b = \"Hello, World!\"\n",
    "print(b[:5])"
   ],
   "metadata": {
    "collapsed": false,
    "ExecuteTime": {
     "end_time": "2024-09-05T07:12:06.688262Z",
     "start_time": "2024-09-05T07:12:06.669961Z"
    }
   },
   "id": "68e0dc8d5440c10f"
  },
  {
   "cell_type": "markdown",
   "source": [
    "### Slice To the End\n",
    "\n",
    "By leaving out the end index, the range will go to the end:"
   ],
   "metadata": {
    "collapsed": false
   },
   "id": "123c42b538cdaede"
  },
  {
   "cell_type": "code",
   "execution_count": 15,
   "outputs": [
    {
     "name": "stdout",
     "output_type": "stream",
     "text": [
      "llo, World!\n"
     ]
    }
   ],
   "source": [
    "# Get the characters from position 2, and all the way to the end:\n",
    "\n",
    "b = \"Hello, World!\"\n",
    "print(b[2:])"
   ],
   "metadata": {
    "collapsed": false,
    "ExecuteTime": {
     "end_time": "2024-09-05T07:12:34.323253Z",
     "start_time": "2024-09-05T07:12:34.304390Z"
    }
   },
   "id": "1e4a7749b67487c0"
  },
  {
   "cell_type": "markdown",
   "source": [
    "### Negative Indexing\n",
    "\n",
    "Use negative indexes to start the slice from the end of the string:"
   ],
   "metadata": {
    "collapsed": false
   },
   "id": "24080862110854cf"
  },
  {
   "cell_type": "code",
   "execution_count": 16,
   "outputs": [
    {
     "name": "stdout",
     "output_type": "stream",
     "text": [
      "orl\n"
     ]
    }
   ],
   "source": [
    "# Get the characters:\n",
    "# From: \"o\" in \"World!\" (position -5)\n",
    "# To, but not included: \"d\" in \"World!\" (position -2):\n",
    "\n",
    "b = \"Hello, World!\"\n",
    "print(b[-5:-2])"
   ],
   "metadata": {
    "collapsed": false,
    "ExecuteTime": {
     "end_time": "2024-09-05T07:13:50.797603Z",
     "start_time": "2024-09-05T07:13:50.773547Z"
    }
   },
   "id": "e9db4ed6d532ac8a"
  },
  {
   "cell_type": "markdown",
   "source": [
    "## Python - Modify Strings\n",
    "\n",
    "Python has a set of built-in methods that you can use on strings."
   ],
   "metadata": {
    "collapsed": false
   },
   "id": "a2d507d592a760c0"
  },
  {
   "cell_type": "markdown",
   "source": [
    "### Upper Case"
   ],
   "metadata": {
    "collapsed": false
   },
   "id": "55268110b774bffd"
  },
  {
   "cell_type": "code",
   "execution_count": 17,
   "outputs": [
    {
     "name": "stdout",
     "output_type": "stream",
     "text": [
      "HELLO, WORLD!\n"
     ]
    }
   ],
   "source": [
    "# The upper() method returns the string in upper case:\n",
    "\n",
    "a = \"Hello, World!\"\n",
    "print(a.upper())"
   ],
   "metadata": {
    "collapsed": false,
    "ExecuteTime": {
     "end_time": "2024-09-05T07:14:33.439654Z",
     "start_time": "2024-09-05T07:14:33.419483Z"
    }
   },
   "id": "6e57a5e4b884e764"
  },
  {
   "cell_type": "markdown",
   "source": [
    "### Lower Case"
   ],
   "metadata": {
    "collapsed": false
   },
   "id": "cfcda93132ca3278"
  },
  {
   "cell_type": "code",
   "execution_count": 18,
   "outputs": [
    {
     "name": "stdout",
     "output_type": "stream",
     "text": [
      "hello, world!\n"
     ]
    }
   ],
   "source": [
    "# The lower() method returns the string in lower case:\n",
    "\n",
    "a = \"Hello, World!\"\n",
    "print(a.lower())"
   ],
   "metadata": {
    "collapsed": false,
    "ExecuteTime": {
     "end_time": "2024-09-05T07:14:51.065200Z",
     "start_time": "2024-09-05T07:14:51.041685Z"
    }
   },
   "id": "27e05cc75b70d552"
  },
  {
   "cell_type": "markdown",
   "source": [
    "### Remove Whitespace\n",
    "\n",
    "Whitespace is the space before and/or after the actual text, and very often you want to remove this space."
   ],
   "metadata": {
    "collapsed": false
   },
   "id": "2f91e09641684b0"
  },
  {
   "cell_type": "code",
   "execution_count": 19,
   "outputs": [
    {
     "name": "stdout",
     "output_type": "stream",
     "text": [
      "Hello, World!\n"
     ]
    }
   ],
   "source": [
    "# The strip() method removes any whitespace from the beginning or the end:\n",
    "\n",
    "a = \" Hello, World! \"\n",
    "print(a.strip()) # returns \"Hello, World!\""
   ],
   "metadata": {
    "collapsed": false,
    "ExecuteTime": {
     "end_time": "2024-09-05T07:15:21.846019Z",
     "start_time": "2024-09-05T07:15:21.826225Z"
    }
   },
   "id": "52a8abfb3e501c36"
  },
  {
   "cell_type": "markdown",
   "source": [
    "### Replace String"
   ],
   "metadata": {
    "collapsed": false
   },
   "id": "44871c93fef62040"
  },
  {
   "cell_type": "code",
   "execution_count": 20,
   "outputs": [
    {
     "name": "stdout",
     "output_type": "stream",
     "text": [
      "Jello, World!\n"
     ]
    }
   ],
   "source": [
    "# The replace() method replaces a string with another string:\n",
    "\n",
    "a = \"Hello, World!\"\n",
    "print(a.replace(\"H\", \"J\"))"
   ],
   "metadata": {
    "collapsed": false,
    "ExecuteTime": {
     "end_time": "2024-09-05T07:15:53.262519Z",
     "start_time": "2024-09-05T07:15:53.241606Z"
    }
   },
   "id": "455fd7cd814ce012"
  },
  {
   "cell_type": "markdown",
   "source": [
    "### Split String\n",
    "\n",
    "The **split()** method returns a list where the text between the specified separator becomes the list items."
   ],
   "metadata": {
    "collapsed": false
   },
   "id": "ddb3c0f2228d16d5"
  },
  {
   "cell_type": "code",
   "execution_count": 22,
   "outputs": [
    {
     "name": "stdout",
     "output_type": "stream",
     "text": [
      "['Hello', ' World!']\n"
     ]
    }
   ],
   "source": [
    "# The split() method splits the string into substrings if it finds instances of the separator:\n",
    "\n",
    "a = \"Hello, World!\"\n",
    "print(a.split(\",\")) "
   ],
   "metadata": {
    "collapsed": false,
    "ExecuteTime": {
     "end_time": "2024-09-05T07:16:30.805702Z",
     "start_time": "2024-09-05T07:16:30.771854Z"
    }
   },
   "id": "74ab09677b5b948"
  },
  {
   "cell_type": "markdown",
   "source": [
    "### Python - String Concatenation"
   ],
   "metadata": {
    "collapsed": false
   },
   "id": "2617a266869921a3"
  },
  {
   "cell_type": "markdown",
   "source": [
    "### String Concatenation\n",
    "\n",
    "To concatenate, or combine, two strings you can use the + operator."
   ],
   "metadata": {
    "collapsed": false
   },
   "id": "6738b562731376e1"
  },
  {
   "cell_type": "code",
   "execution_count": 23,
   "outputs": [
    {
     "name": "stdout",
     "output_type": "stream",
     "text": [
      "HelloWorld\n"
     ]
    }
   ],
   "source": [
    "# Merge variable a with variable b into variable c:\n",
    "\n",
    "a = \"Hello\"\n",
    "b = \"World\"\n",
    "c = a + b\n",
    "print(c)"
   ],
   "metadata": {
    "collapsed": false,
    "ExecuteTime": {
     "end_time": "2024-09-05T07:17:35.231839Z",
     "start_time": "2024-09-05T07:17:35.209488Z"
    }
   },
   "id": "7c7e4d58d9245177"
  },
  {
   "cell_type": "code",
   "execution_count": 24,
   "outputs": [
    {
     "name": "stdout",
     "output_type": "stream",
     "text": [
      "Hello World\n"
     ]
    }
   ],
   "source": [
    "# To add a space between them, add a \" \":\n",
    "\n",
    "a = \"Hello\"\n",
    "b = \"World\"\n",
    "c = a + \" \" + b\n",
    "print(c)"
   ],
   "metadata": {
    "collapsed": false,
    "ExecuteTime": {
     "end_time": "2024-09-05T07:17:53.228880Z",
     "start_time": "2024-09-05T07:17:53.208573Z"
    }
   },
   "id": "cb203378f4daf63f"
  },
  {
   "cell_type": "markdown",
   "source": [
    "## Python - Format - Strings"
   ],
   "metadata": {
    "collapsed": false
   },
   "id": "5835cdf58ffd6daf"
  },
  {
   "cell_type": "markdown",
   "source": [
    "### String Format\n",
    "\n",
    "As we learned in the Python Variables chapter, we cannot combine strings and numbers like this:"
   ],
   "metadata": {
    "collapsed": false
   },
   "id": "89b887646c1dafea"
  },
  {
   "cell_type": "code",
   "execution_count": 25,
   "outputs": [
    {
     "ename": "TypeError",
     "evalue": "can only concatenate str (not \"int\") to str",
     "output_type": "error",
     "traceback": [
      "\u001B[0;31m---------------------------------------------------------------------------\u001B[0m",
      "\u001B[0;31mTypeError\u001B[0m                                 Traceback (most recent call last)",
      "Cell \u001B[0;32mIn[25], line 2\u001B[0m\n\u001B[1;32m      1\u001B[0m age \u001B[38;5;241m=\u001B[39m \u001B[38;5;241m36\u001B[39m\n\u001B[0;32m----> 2\u001B[0m txt \u001B[38;5;241m=\u001B[39m \u001B[38;5;124;43m\"\u001B[39;49m\u001B[38;5;124;43mMy name is John, I am \u001B[39;49m\u001B[38;5;124;43m\"\u001B[39;49m\u001B[43m \u001B[49m\u001B[38;5;241;43m+\u001B[39;49m\u001B[43m \u001B[49m\u001B[43mage\u001B[49m\n\u001B[1;32m      3\u001B[0m \u001B[38;5;28mprint\u001B[39m(txt)\n",
      "\u001B[0;31mTypeError\u001B[0m: can only concatenate str (not \"int\") to str"
     ]
    }
   ],
   "source": [
    "age = 36\n",
    "txt = \"My name is John, I am \" + age\n",
    "print(txt)"
   ],
   "metadata": {
    "collapsed": false,
    "ExecuteTime": {
     "end_time": "2024-09-05T07:18:37.215247Z",
     "start_time": "2024-09-05T07:18:37.059185Z"
    }
   },
   "id": "4608bb1cb9021263"
  },
  {
   "cell_type": "markdown",
   "source": [
    "But we can combine strings and numbers by using the *f-strings* or **format()** method!"
   ],
   "metadata": {
    "collapsed": false
   },
   "id": "7595462c6af1562d"
  },
  {
   "cell_type": "markdown",
   "source": [
    "### F-Strings\n",
    "\n",
    "The **f** stands for **format**, and it is used to format a string.\n",
    "\n",
    "F-String was introduced in Python 3.6, and is the most preferred way to format strings.\n",
    "\n",
    "To specify a string as an f-string, a lowercase **'f'** is placed in front of the string literal, and curly braces **{}** as placeholders for variables and expressions."
   ],
   "metadata": {
    "collapsed": false
   },
   "id": "4c7f625f9a056d30"
  },
  {
   "cell_type": "code",
   "execution_count": 26,
   "outputs": [
    {
     "name": "stdout",
     "output_type": "stream",
     "text": [
      "My name is John, and I am 36\n"
     ]
    }
   ],
   "source": [
    "# Create an f-string:\n",
    "\n",
    "age = 36\n",
    "txt = f\"My name is John, and I am {age}\"\n",
    "print(txt)"
   ],
   "metadata": {
    "collapsed": false,
    "ExecuteTime": {
     "end_time": "2024-09-05T07:21:29.398144Z",
     "start_time": "2024-09-05T07:21:29.376838Z"
    }
   },
   "id": "cbdaa7a33a9190de"
  },
  {
   "cell_type": "markdown",
   "source": [
    "### Placeholder and Modifiers\n",
    "\n",
    "A placeholder can contain variables, operations, functions, and modifiers to format the value."
   ],
   "metadata": {
    "collapsed": false
   },
   "id": "7338bd600b43018c"
  },
  {
   "cell_type": "code",
   "execution_count": 27,
   "outputs": [
    {
     "name": "stdout",
     "output_type": "stream",
     "text": [
      "The price is 59 dollars\n"
     ]
    }
   ],
   "source": [
    "# Add a placeholder for the price variable:\n",
    "\n",
    "price = 59\n",
    "txt = f\"The price is {price} dollars\"\n",
    "print(txt)"
   ],
   "metadata": {
    "collapsed": false,
    "ExecuteTime": {
     "end_time": "2024-09-05T07:23:31.948838Z",
     "start_time": "2024-09-05T07:23:31.927018Z"
    }
   },
   "id": "d057f84a6366be18"
  },
  {
   "cell_type": "markdown",
   "source": [
    "A placeholder can include a *modifier* to format the value.\n",
    "\n",
    "A modifier is included by adding a colon **:** followed by a legal formatting type, like **.2f** which means fixed point number with 2 decimals:"
   ],
   "metadata": {
    "collapsed": false
   },
   "id": "40d3cd0c864da44b"
  },
  {
   "cell_type": "code",
   "execution_count": 28,
   "outputs": [
    {
     "name": "stdout",
     "output_type": "stream",
     "text": [
      "The price is 59.00 dollars\n"
     ]
    }
   ],
   "source": [
    "# Display the price with 2 decimals:\n",
    "\n",
    "price = 59\n",
    "txt = f\"The price is {price:.2f} dollars\"\n",
    "print(txt)"
   ],
   "metadata": {
    "collapsed": false,
    "ExecuteTime": {
     "end_time": "2024-09-05T07:25:17.083516Z",
     "start_time": "2024-09-05T07:25:17.061831Z"
    }
   },
   "id": "b29bcf72f743fafa"
  },
  {
   "cell_type": "markdown",
   "source": [
    "A placeholder can contain Python code, like math operations:"
   ],
   "metadata": {
    "collapsed": false
   },
   "id": "f843926ed184c950"
  },
  {
   "cell_type": "code",
   "execution_count": 29,
   "outputs": [
    {
     "name": "stdout",
     "output_type": "stream",
     "text": [
      "The price is 1180 dollars\n"
     ]
    }
   ],
   "source": [
    "# Perform a calculation inside the placeholder:\n",
    "\n",
    "txt = f\"The price is {20 * 59} dollars\"\n",
    "print(txt)"
   ],
   "metadata": {
    "collapsed": false,
    "ExecuteTime": {
     "end_time": "2024-09-05T07:25:46.921550Z",
     "start_time": "2024-09-05T07:25:46.896974Z"
    }
   },
   "id": "625f8edf7419f656"
  },
  {
   "cell_type": "markdown",
   "source": [
    "## Python - Escape Characters"
   ],
   "metadata": {
    "collapsed": false
   },
   "id": "8e069dcc4d744e75"
  },
  {
   "cell_type": "markdown",
   "source": [
    "### Escape Character\n",
    "\n",
    "To insert characters that are illegal in a string, use an escape character.\n",
    "\n",
    "An escape character is a backslash \\ followed by the character you want to insert.\n",
    "\n",
    "An example of an illegal character is a double quote inside a string that is surrounded by double quotes:"
   ],
   "metadata": {
    "collapsed": false
   },
   "id": "e1f91b5bb6377257"
  },
  {
   "cell_type": "code",
   "execution_count": 30,
   "outputs": [
    {
     "ename": "SyntaxError",
     "evalue": "invalid syntax (3032413535.py, line 3)",
     "output_type": "error",
     "traceback": [
      "\u001B[0;36m  Cell \u001B[0;32mIn[30], line 3\u001B[0;36m\u001B[0m\n\u001B[0;31m    txt = \"We are the so-called \"Vikings\" from the north.\"\u001B[0m\n\u001B[0m                                 ^\u001B[0m\n\u001B[0;31mSyntaxError\u001B[0m\u001B[0;31m:\u001B[0m invalid syntax\n"
     ]
    }
   ],
   "source": [
    "# You will get an error if you use double quotes inside a string that is surrounded by double quotes:\n",
    "\n",
    "txt = \"We are the so-called \"Vikings\" from the north.\""
   ],
   "metadata": {
    "collapsed": false,
    "ExecuteTime": {
     "end_time": "2024-09-05T07:28:48.022559Z",
     "start_time": "2024-09-05T07:28:47.999116Z"
    }
   },
   "id": "b01a20824b6a8e12"
  },
  {
   "cell_type": "markdown",
   "source": [
    "To fix this problem, use the escape character \\\\\":"
   ],
   "metadata": {
    "collapsed": false
   },
   "id": "a004c2b2095dc913"
  },
  {
   "cell_type": "code",
   "execution_count": 31,
   "outputs": [
    {
     "name": "stdout",
     "output_type": "stream",
     "text": [
      "We are the so-called \"Vikings\" from the north.\n"
     ]
    }
   ],
   "source": [
    "# The escape character allows you to use double quotes when you normally would not be allowed:\n",
    "\n",
    "txt = \"We are the so-called \\\"Vikings\\\" from the north.\"\n",
    "print(txt)"
   ],
   "metadata": {
    "collapsed": false,
    "ExecuteTime": {
     "end_time": "2024-09-05T07:30:27.201719Z",
     "start_time": "2024-09-05T07:30:27.179100Z"
    }
   },
   "id": "b9f2d0a4e6fe4f96"
  },
  {
   "cell_type": "markdown",
   "source": [
    "Other escape characters used in Python:"
   ],
   "metadata": {
    "collapsed": false
   },
   "id": "72ec199e6cc820b"
  },
  {
   "cell_type": "code",
   "execution_count": 33,
   "outputs": [
    {
     "name": "stdout",
     "output_type": "stream",
     "text": [
      "It's alright.\n",
      "This will insert one \\ (backslash).\n",
      "Hello\n",
      "World!\n",
      "World!\n",
      "Hello\tWorld!\n",
      "HelloWorld!\n",
      "Hello \fWorld!\n",
      "Hello\n",
      "Hello\n"
     ]
    }
   ],
   "source": [
    "a = 'It\\'s alright.'\n",
    "b = \"This will insert one \\\\ (backslash).\"\n",
    "c = \"Hello\\nWorld!\" #This will insert a new line\n",
    "d = \"Hello\\rWorld!\" #Carriage return: This example erases \"Hello\" and writes \"World!\" in its place\n",
    "e = \"Hello\\tWorld!\" #This example erases one character (tab)\n",
    "f = \"Hello \\bWorld!\" #This example erases one character (backspace)\n",
    "g = \"Hello \\fWorld!\"\n",
    "h = \"\\110\\145\\154\\154\\157\" #A backslash followed by three integers will result in a octal value\n",
    "i = \"\\x48\\x65\\x6c\\x6c\\x6f\" #A backslash followed by an 'x' and a hex number represents a hex value\n",
    "\n",
    "print(a)\n",
    "print(b)\n",
    "print(c)\n",
    "print(d)\n",
    "print(e)\n",
    "print(f)\n",
    "print(g)\n",
    "print(h)\n",
    "print(i)"
   ],
   "metadata": {
    "collapsed": false,
    "ExecuteTime": {
     "end_time": "2024-09-05T07:36:17.812083Z",
     "start_time": "2024-09-05T07:36:17.787006Z"
    }
   },
   "id": "cd8f6d11a1570293"
  },
  {
   "cell_type": "markdown",
   "source": [
    "## Python - String Methods\n",
    "\n",
    "Python has a set of built-in methods that you can use on strings."
   ],
   "metadata": {
    "collapsed": false
   },
   "id": "29907b1162f40b94"
  },
  {
   "cell_type": "markdown",
   "source": [
    "> **Note:** All string methods returns new values. They do not change the original string."
   ],
   "metadata": {
    "collapsed": false
   },
   "id": "89dc91942644070b"
  },
  {
   "cell_type": "markdown",
   "source": [
    "#### Capitalize()\n",
    "\n",
    "The **capitalize()** method returns a string where the first character is upper case, and the rest is lower case."
   ],
   "metadata": {
    "collapsed": false
   },
   "id": "6f2c31b953111a81"
  },
  {
   "cell_type": "code",
   "execution_count": 34,
   "outputs": [
    {
     "name": "stdout",
     "output_type": "stream",
     "text": [
      "Hello, and welcome to my world.\n"
     ]
    }
   ],
   "source": [
    "# Upper case the first letter in this sentence:\n",
    "\n",
    "txt = \"hello, and welcome to my world.\"\n",
    "\n",
    "x = txt.capitalize()\n",
    "\n",
    "print (x) "
   ],
   "metadata": {
    "collapsed": false,
    "ExecuteTime": {
     "end_time": "2024-09-05T07:38:35.508921Z",
     "start_time": "2024-09-05T07:38:35.484013Z"
    }
   },
   "id": "ec28182e23fff174"
  },
  {
   "cell_type": "code",
   "execution_count": 35,
   "outputs": [
    {
     "name": "stdout",
     "output_type": "stream",
     "text": [
      "Python is fun!\n"
     ]
    }
   ],
   "source": [
    "# The first character is converted to upper case, and the rest are converted to lower case:\n",
    "\n",
    "txt = \"python is FUN!\"\n",
    "\n",
    "x = txt.capitalize()\n",
    "\n",
    "print (x) "
   ],
   "metadata": {
    "collapsed": false,
    "ExecuteTime": {
     "end_time": "2024-09-05T07:39:02.816328Z",
     "start_time": "2024-09-05T07:39:02.787345Z"
    }
   },
   "id": "1d45040db0291498"
  },
  {
   "cell_type": "code",
   "execution_count": 36,
   "outputs": [
    {
     "name": "stdout",
     "output_type": "stream",
     "text": [
      "36 is my age.\n"
     ]
    }
   ],
   "source": [
    "# Nothing happens if the first character is a number:\n",
    "\n",
    "txt = \"36 is my age.\"\n",
    "\n",
    "x = txt.capitalize()\n",
    "\n",
    "print (x) "
   ],
   "metadata": {
    "collapsed": false,
    "ExecuteTime": {
     "end_time": "2024-09-05T07:39:22.559908Z",
     "start_time": "2024-09-05T07:39:22.534133Z"
    }
   },
   "id": "af9a9eb3fc364c2e"
  },
  {
   "cell_type": "markdown",
   "source": [
    "#### Casefold()\n",
    "\n",
    "The **casefold()** method returns a string where all the characters are lower case.\n",
    "\n",
    "This method is similar to the **lower()** method, but the **casefold()** method is stronger, more aggressive, meaning that it will convert more characters into lower case, and will find more matches when comparing two strings and both are converted using the **casefold()** method."
   ],
   "metadata": {
    "collapsed": false
   },
   "id": "15a21db50dd35b8f"
  },
  {
   "cell_type": "code",
   "execution_count": 37,
   "outputs": [
    {
     "name": "stdout",
     "output_type": "stream",
     "text": [
      "hello, and welcome to my world!\n"
     ]
    }
   ],
   "source": [
    "# Make the string lower case:\n",
    "\n",
    "txt = \"Hello, And Welcome To My World!\"\n",
    "\n",
    "x = txt.casefold()\n",
    "\n",
    "print(x)"
   ],
   "metadata": {
    "collapsed": false,
    "ExecuteTime": {
     "end_time": "2024-09-05T07:40:55.803431Z",
     "start_time": "2024-09-05T07:40:55.778975Z"
    }
   },
   "id": "6081a348ee3aae36"
  },
  {
   "cell_type": "markdown",
   "source": [
    "#### Center()\n",
    "\n",
    "The **center()** method will center align the string, using a specified character (space is default) as the fill character."
   ],
   "metadata": {
    "collapsed": false
   },
   "id": "aa22c693bd66c4bb"
  },
  {
   "cell_type": "markdown",
   "source": [
    "Parameters:\n",
    "\n",
    "- **length** - The length of the returned string\n",
    "- **character** (optional) - The character to fill the missing space on each side. Default is \" \" (space)."
   ],
   "metadata": {
    "collapsed": false
   },
   "id": "56d72a1c5c7dd98f"
  },
  {
   "cell_type": "code",
   "execution_count": 38,
   "outputs": [
    {
     "name": "stdout",
     "output_type": "stream",
     "text": [
      "OOOOOOObananaOOOOOOO\n"
     ]
    }
   ],
   "source": [
    "# Print the word \"banana\", taking up the space of 20 characters, with \"banana\" in the middle:\n",
    "\n",
    "txt = \"banana\"\n",
    "\n",
    "x = txt.center(20, \"O\")\n",
    "\n",
    "print(x) "
   ],
   "metadata": {
    "collapsed": false,
    "ExecuteTime": {
     "end_time": "2024-09-05T07:42:37.670911Z",
     "start_time": "2024-09-05T07:42:37.642398Z"
    }
   },
   "id": "43c7bf47b49648a7"
  },
  {
   "cell_type": "markdown",
   "source": [
    "#### Count()\n",
    "\n",
    "The **count()** method returns the number of times a specified value appears in the string."
   ],
   "metadata": {
    "collapsed": false
   },
   "id": "d7878086f9087af"
  },
  {
   "cell_type": "markdown",
   "source": [
    "Parameters:\n",
    "\n",
    "- **value** - Required. A String. The string to value to search for\n",
    "- **start** - Optional. An Integer. The position to start the search. Default is 0\n",
    "- **end** - Optional. An Integer. The position to end the search. Default is the end of the string"
   ],
   "metadata": {
    "collapsed": false
   },
   "id": "a31a029117556360"
  },
  {
   "cell_type": "code",
   "execution_count": 39,
   "outputs": [
    {
     "name": "stdout",
     "output_type": "stream",
     "text": [
      "2\n"
     ]
    }
   ],
   "source": [
    "# Return the number of times the value \"apple\" appears in the string:\n",
    "\n",
    "txt = \"I love apples, apple are my favorite fruit\"\n",
    "\n",
    "x = txt.count(\"apple\")\n",
    "\n",
    "print(x)"
   ],
   "metadata": {
    "collapsed": false,
    "ExecuteTime": {
     "end_time": "2024-09-05T07:43:23.318977Z",
     "start_time": "2024-09-05T07:43:23.292432Z"
    }
   },
   "id": "440cc79be0b61db9"
  },
  {
   "cell_type": "code",
   "execution_count": 40,
   "outputs": [
    {
     "name": "stdout",
     "output_type": "stream",
     "text": [
      "1\n"
     ]
    }
   ],
   "source": [
    "# Search from position 10 to 24:\n",
    "\n",
    "txt = \"I love apples, apple are my favorite fruit\"\n",
    "\n",
    "x = txt.count(\"apple\", 10, 24)\n",
    "\n",
    "print(x)"
   ],
   "metadata": {
    "collapsed": false,
    "ExecuteTime": {
     "end_time": "2024-09-05T07:44:14.383166Z",
     "start_time": "2024-09-05T07:44:14.358192Z"
    }
   },
   "id": "21715f4e94cf5fcd"
  },
  {
   "cell_type": "markdown",
   "source": [
    "#### Encode()\n",
    "\n",
    "The **encode()** method encodes the string, using the specified encoding. If no encoding is specified, UTF-8 will be used."
   ],
   "metadata": {
    "collapsed": false
   },
   "id": "6e6228a943eb9dd4"
  },
  {
   "cell_type": "markdown",
   "source": [
    "Parameters:\n",
    "\n",
    "- **encoding** - Optional. A String. The encoding type. Default is UTF-8\n",
    "- **errors** - Optional. A String specifying the error method. Legal values are:\n",
    "  - **'backslashreplace'** - uses a backslash instead of the character that could not be encoded\n",
    "  - **'ignore'** - ignores the characters that cannot be encoded\n",
    "  - **'namereplace'** - replaces the character with a text explaining the character\n",
    "  - **'strict'** - Default, raises an error on failure\n",
    "  - **'replace'** - replaces the character with a questionmark\n",
    "  - **'xmlcharrefreplace'** - replaces the character with an xml character"
   ],
   "metadata": {
    "collapsed": false
   },
   "id": "68be0438b05c45f0"
  },
  {
   "cell_type": "code",
   "execution_count": 41,
   "outputs": [
    {
     "name": "stdout",
     "output_type": "stream",
     "text": [
      "b'My name is St\\xc3\\xa5le'\n"
     ]
    }
   ],
   "source": [
    "# UTF-8 encode the string:\n",
    "\n",
    "txt = \"My name is Ståle\"\n",
    "\n",
    "x = txt.encode()\n",
    "\n",
    "print(x)"
   ],
   "metadata": {
    "collapsed": false,
    "ExecuteTime": {
     "end_time": "2024-09-05T07:45:39.959012Z",
     "start_time": "2024-09-05T07:45:39.938239Z"
    }
   },
   "id": "954e93289080124c"
  },
  {
   "cell_type": "code",
   "execution_count": 42,
   "outputs": [
    {
     "name": "stdout",
     "output_type": "stream",
     "text": [
      "b'My name is St\\\\xe5le'\n",
      "b'My name is Stle'\n",
      "b'My name is St\\\\N{LATIN SMALL LETTER A WITH RING ABOVE}le'\n",
      "b'My name is St?le'\n",
      "b'My name is St&#229;le'\n"
     ]
    }
   ],
   "source": [
    "# These examples uses ascii encoding, and a character that cannot be encoded, showing the result with different errors:\n",
    "\n",
    "txt = \"My name is Ståle\"\n",
    "\n",
    "\n",
    "print(txt.encode(encoding=\"ascii\",errors=\"backslashreplace\"))\n",
    "print(txt.encode(encoding=\"ascii\",errors=\"ignore\"))\n",
    "print(txt.encode(encoding=\"ascii\",errors=\"namereplace\"))\n",
    "print(txt.encode(encoding=\"ascii\",errors=\"replace\"))\n",
    "print(txt.encode(encoding=\"ascii\",errors=\"xmlcharrefreplace\"))\n"
   ],
   "metadata": {
    "collapsed": false,
    "ExecuteTime": {
     "end_time": "2024-09-05T07:46:33.407917Z",
     "start_time": "2024-09-05T07:46:33.381171Z"
    }
   },
   "id": "83559ee426028431"
  },
  {
   "cell_type": "markdown",
   "source": [
    "#### Endswith()\n",
    "\n",
    "The **endswith()** method returns **True** if the string ends with the specified value, otherwise **False**."
   ],
   "metadata": {
    "collapsed": false
   },
   "id": "10e37679e1e5fc30"
  },
  {
   "cell_type": "markdown",
   "source": [
    "Parameters:\n",
    "\n",
    "- **value** - Required. The value to check if the string ends with\n",
    "- **start** - Optional. An Integer specifying at which position to start the search\n",
    "- **end** - Optional. An Integer specifying at which position to end the search"
   ],
   "metadata": {
    "collapsed": false
   },
   "id": "62c464239a963d57"
  },
  {
   "cell_type": "code",
   "execution_count": 43,
   "outputs": [
    {
     "name": "stdout",
     "output_type": "stream",
     "text": [
      "True\n"
     ]
    }
   ],
   "source": [
    "# Check if the string ends with a punctuation sign (.)\n",
    "\n",
    "txt = \"Hello, welcome to my world.\"\n",
    "\n",
    "x = txt.endswith(\".\")\n",
    "\n",
    "print(x)"
   ],
   "metadata": {
    "collapsed": false,
    "ExecuteTime": {
     "end_time": "2024-09-05T07:47:50.440096Z",
     "start_time": "2024-09-05T07:47:50.414250Z"
    }
   },
   "id": "6517c8d5c4b22bc"
  },
  {
   "cell_type": "code",
   "execution_count": 44,
   "outputs": [
    {
     "name": "stdout",
     "output_type": "stream",
     "text": [
      "True\n"
     ]
    }
   ],
   "source": [
    "# Check if the string ends with the phrase \"my world.\"\n",
    "\n",
    "txt = \"Hello, welcome to my world.\"\n",
    "\n",
    "x = txt.endswith(\"my world.\")\n",
    "\n",
    "print(x)"
   ],
   "metadata": {
    "collapsed": false,
    "ExecuteTime": {
     "end_time": "2024-09-05T07:48:11.018865Z",
     "start_time": "2024-09-05T07:48:10.950502Z"
    }
   },
   "id": "9ee4784d3de409ff"
  },
  {
   "cell_type": "code",
   "execution_count": 45,
   "outputs": [
    {
     "name": "stdout",
     "output_type": "stream",
     "text": [
      "False\n"
     ]
    }
   ],
   "source": [
    "# Check if position 5 to 11 ends with the phrase \"my world.\"\n",
    "\n",
    "txt = \"Hello, welcome to my world.\"\n",
    "\n",
    "x = txt.endswith(\"my world.\", 5, 11)\n",
    "\n",
    "print(x)"
   ],
   "metadata": {
    "collapsed": false,
    "ExecuteTime": {
     "end_time": "2024-09-05T07:48:31.829424Z",
     "start_time": "2024-09-05T07:48:31.795381Z"
    }
   },
   "id": "99b088708e8053a1"
  },
  {
   "cell_type": "markdown",
   "source": [
    "#### Expandtabs()\n",
    "\n",
    "The **expandtabs()** method sets the tab size to the specified number of whitespaces."
   ],
   "metadata": {
    "collapsed": false
   },
   "id": "153d78bc7e5ebbfa"
  },
  {
   "cell_type": "markdown",
   "source": [
    "Parameters:\n",
    "\n",
    "- **tabsize** - Optional. A number specifying the tabsize. Default tabsize is 8"
   ],
   "metadata": {
    "collapsed": false
   },
   "id": "7a1b6ef991c0f4bd"
  },
  {
   "cell_type": "code",
   "execution_count": 46,
   "outputs": [
    {
     "name": "stdout",
     "output_type": "stream",
     "text": [
      "H e l l o\n"
     ]
    }
   ],
   "source": [
    "# Set the tab size to 2 whitespaces:\n",
    "\n",
    "txt = \"H\\te\\tl\\tl\\to\"\n",
    "\n",
    "x =  txt.expandtabs(2)\n",
    "\n",
    "print(x)"
   ],
   "metadata": {
    "collapsed": false,
    "ExecuteTime": {
     "end_time": "2024-09-05T07:49:27.465039Z",
     "start_time": "2024-09-05T07:49:27.430090Z"
    }
   },
   "id": "4f92bd123026e7ac"
  },
  {
   "cell_type": "code",
   "execution_count": 47,
   "outputs": [
    {
     "name": "stdout",
     "output_type": "stream",
     "text": [
      "H\te\tl\tl\to\n",
      "H       e       l       l       o\n",
      "H e l l o\n",
      "H   e   l   l   o\n",
      "H         e         l         l         o\n"
     ]
    }
   ],
   "source": [
    "# Results using different tab sizes:\n",
    "\n",
    "txt = \"H\\te\\tl\\tl\\to\"\n",
    "\n",
    "print(txt)\n",
    "print(txt.expandtabs())\n",
    "print(txt.expandtabs(2))\n",
    "print(txt.expandtabs(4))\n",
    "print(txt.expandtabs(10))"
   ],
   "metadata": {
    "collapsed": false,
    "ExecuteTime": {
     "end_time": "2024-09-05T07:50:07.687664Z",
     "start_time": "2024-09-05T07:50:07.646199Z"
    }
   },
   "id": "85c5013a66b0dcc3"
  },
  {
   "cell_type": "markdown",
   "source": [
    "#### Find()\n",
    "\n",
    "The **find()** method finds the first occurrence of the specified value.\n",
    "\n",
    "The **find()** method returns -1 if the value is not found.\n",
    "\n",
    "The **find()** method is almost the same as the **index()** method, the only difference is that the **index()** method raises an exception if the value is not found."
   ],
   "metadata": {
    "collapsed": false
   },
   "id": "dfb77afb0c25f399"
  },
  {
   "cell_type": "markdown",
   "source": [
    "Parameters:\n",
    "\n",
    "- **value** - Required. The value to search for\n",
    "- **start** - Optional. Where to start the search. Default is 0\n",
    "- **end** - Optional. Where to end the search. Default is to the end of the string"
   ],
   "metadata": {
    "collapsed": false
   },
   "id": "3f347e1946d81b8f"
  },
  {
   "cell_type": "code",
   "execution_count": 48,
   "outputs": [
    {
     "name": "stdout",
     "output_type": "stream",
     "text": [
      "7\n"
     ]
    }
   ],
   "source": [
    "# Where in the text is the word \"welcome\"?:\n",
    "\n",
    "txt = \"Hello, welcome to my world.\"\n",
    "\n",
    "x = txt.find(\"welcome\")\n",
    "\n",
    "print(x)"
   ],
   "metadata": {
    "collapsed": false,
    "ExecuteTime": {
     "end_time": "2024-09-05T07:51:47.730995Z",
     "start_time": "2024-09-05T07:51:47.695419Z"
    }
   },
   "id": "fb5b8d83cb51b1a5"
  },
  {
   "cell_type": "code",
   "execution_count": 49,
   "outputs": [
    {
     "name": "stdout",
     "output_type": "stream",
     "text": [
      "1\n"
     ]
    }
   ],
   "source": [
    "# Where in the text is the first occurrence of the letter \"e\"?:\n",
    "\n",
    "txt = \"Hello, welcome to my world.\"\n",
    "\n",
    "x = txt.find(\"e\")\n",
    "\n",
    "print(x)"
   ],
   "metadata": {
    "collapsed": false,
    "ExecuteTime": {
     "end_time": "2024-09-05T07:52:09.964250Z",
     "start_time": "2024-09-05T07:52:09.929680Z"
    }
   },
   "id": "d9f680aba0d77d0a"
  },
  {
   "cell_type": "code",
   "execution_count": 50,
   "outputs": [
    {
     "name": "stdout",
     "output_type": "stream",
     "text": [
      "8\n"
     ]
    }
   ],
   "source": [
    "# Where in the text is the first occurrence of the letter \"e\" when you only search between position 5 and 10?:\n",
    "\n",
    "txt = \"Hello, welcome to my world.\"\n",
    "\n",
    "x = txt.find(\"e\", 5, 10)\n",
    "\n",
    "print(x)"
   ],
   "metadata": {
    "collapsed": false,
    "ExecuteTime": {
     "end_time": "2024-09-05T07:52:27.653276Z",
     "start_time": "2024-09-05T07:52:27.615577Z"
    }
   },
   "id": "9f57f6c12d0eff51"
  },
  {
   "cell_type": "code",
   "execution_count": 51,
   "outputs": [
    {
     "name": "stdout",
     "output_type": "stream",
     "text": [
      "-1\n"
     ]
    },
    {
     "ename": "ValueError",
     "evalue": "substring not found",
     "output_type": "error",
     "traceback": [
      "\u001B[0;31m---------------------------------------------------------------------------\u001B[0m",
      "\u001B[0;31mValueError\u001B[0m                                Traceback (most recent call last)",
      "Cell \u001B[0;32mIn[51], line 6\u001B[0m\n\u001B[1;32m      3\u001B[0m txt \u001B[38;5;241m=\u001B[39m \u001B[38;5;124m\"\u001B[39m\u001B[38;5;124mHello, welcome to my world.\u001B[39m\u001B[38;5;124m\"\u001B[39m\n\u001B[1;32m      5\u001B[0m \u001B[38;5;28mprint\u001B[39m(txt\u001B[38;5;241m.\u001B[39mfind(\u001B[38;5;124m\"\u001B[39m\u001B[38;5;124mq\u001B[39m\u001B[38;5;124m\"\u001B[39m))\n\u001B[0;32m----> 6\u001B[0m \u001B[38;5;28mprint\u001B[39m(\u001B[43mtxt\u001B[49m\u001B[38;5;241;43m.\u001B[39;49m\u001B[43mindex\u001B[49m\u001B[43m(\u001B[49m\u001B[38;5;124;43m\"\u001B[39;49m\u001B[38;5;124;43mq\u001B[39;49m\u001B[38;5;124;43m\"\u001B[39;49m\u001B[43m)\u001B[49m)\n",
      "\u001B[0;31mValueError\u001B[0m: substring not found"
     ]
    }
   ],
   "source": [
    "# If the value is not found, the find() method returns -1, but the index() method will raise an exception:\n",
    "\n",
    "txt = \"Hello, welcome to my world.\"\n",
    "\n",
    "print(txt.find(\"q\"))\n",
    "print(txt.index(\"q\"))"
   ],
   "metadata": {
    "collapsed": false,
    "ExecuteTime": {
     "end_time": "2024-09-05T07:53:02.792640Z",
     "start_time": "2024-09-05T07:53:02.738899Z"
    }
   },
   "id": "25ed73b8b231ed21"
  },
  {
   "cell_type": "markdown",
   "source": [
    "#### Format()\n",
    "\n",
    "The **format()** method formats the specified value(s) and insert them inside the string's placeholder.\n",
    "\n",
    "The placeholder is defined using curly brackets: **{}**\n",
    "\n",
    "The **format()** method returns the formatted string."
   ],
   "metadata": {
    "collapsed": false
   },
   "id": "bf65ce68e29245ed"
  },
  {
   "cell_type": "markdown",
   "source": [
    "Parameters:\n",
    "\n",
    "- **value1, value2...** - Required. The value to formatted and inserted in the string.\n",
    "The values are either a list of values separated by commas, a key=value list, or a combination of both.\n",
    "The values can be of any data type."
   ],
   "metadata": {
    "collapsed": false
   },
   "id": "17d4107636951bd7"
  },
  {
   "cell_type": "code",
   "execution_count": 53,
   "outputs": [
    {
     "name": "stdout",
     "output_type": "stream",
     "text": [
      "For only 49.00 dollars!\n"
     ]
    }
   ],
   "source": [
    "# Insert the price inside the placeholder, the price should be in fixed point, two-decimal format:\n",
    "\n",
    "txt = \"For only {price:.2f} dollars!\"\n",
    "print(txt.format(price = 49))"
   ],
   "metadata": {
    "collapsed": false,
    "ExecuteTime": {
     "end_time": "2024-09-05T07:56:23.888324Z",
     "start_time": "2024-09-05T07:56:23.852979Z"
    }
   },
   "id": "9dcbada6a9d8b44a"
  },
  {
   "cell_type": "markdown",
   "source": [
    "##### The Placeholders\n",
    "\n",
    "The placeholders can be identified using named indexes **{price}**, numbered indexes **{0}**, or even empty placeholders **{}**."
   ],
   "metadata": {
    "collapsed": false
   },
   "id": "b7b50462aed220d2"
  },
  {
   "cell_type": "code",
   "execution_count": 54,
   "outputs": [
    {
     "name": "stdout",
     "output_type": "stream",
     "text": [
      "My name is John, I'm 36\n",
      "My name is John, I'm 36\n",
      "My name is John, I'm 36\n"
     ]
    }
   ],
   "source": [
    "# Using different placeholders:\n",
    "\n",
    "txt1 = \"My name is {fname}, I'm {age}\".format(fname = \"John\", age = 36)\n",
    "txt2 = \"My name is {0}, I'm {1}\".format(\"John\",36)\n",
    "txt3 = \"My name is {}, I'm {}\".format(\"John\",36)\n",
    "\n",
    "print(txt1)\n",
    "print(txt2)\n",
    "print(txt3)"
   ],
   "metadata": {
    "collapsed": false,
    "ExecuteTime": {
     "end_time": "2024-09-05T07:58:46.655031Z",
     "start_time": "2024-09-05T07:58:46.622438Z"
    }
   },
   "id": "b4626b56d567b2b0"
  },
  {
   "cell_type": "markdown",
   "source": [
    "##### Formatting Types\n",
    "\n",
    "Inside the placeholders you can add a formatting type to format the result:"
   ],
   "metadata": {
    "collapsed": false
   },
   "id": "80ec24f36fe59f82"
  },
  {
   "cell_type": "code",
   "execution_count": 65,
   "outputs": [
    {
     "name": "stdout",
     "output_type": "stream",
     "text": [
      "We have 49       chickens.\n"
     ]
    }
   ],
   "source": [
    "#To demonstrate, we insert the number 8 to set the available space for the value to 8 characters.\n",
    "\n",
    "#Use \"<\" to left-align the value:\n",
    "txt = \"We have {:<8} chickens.\"\n",
    "print(txt.format(49))"
   ],
   "metadata": {
    "collapsed": false,
    "ExecuteTime": {
     "end_time": "2024-09-05T08:15:10.761730Z",
     "start_time": "2024-09-05T08:15:10.727468Z"
    }
   },
   "id": "c8e736aa8ec6575d"
  },
  {
   "cell_type": "code",
   "execution_count": 66,
   "outputs": [
    {
     "name": "stdout",
     "output_type": "stream",
     "text": [
      "txt2:  We have       49 chickens.\n"
     ]
    }
   ],
   "source": [
    "#To demonstrate, we insert the number 8 to set the available space for the value to 8 characters.\n",
    "\n",
    "#Use \">\" to right-align the value:\n",
    "txt2 = \"We have {:>8} chickens.\"\n",
    "print(\"txt2: \",txt2.format(49))"
   ],
   "metadata": {
    "collapsed": false,
    "ExecuteTime": {
     "end_time": "2024-09-05T08:15:15.963351Z",
     "start_time": "2024-09-05T08:15:15.918583Z"
    }
   },
   "id": "206a809b6bd2c4dd"
  },
  {
   "cell_type": "code",
   "execution_count": 67,
   "outputs": [
    {
     "name": "stdout",
     "output_type": "stream",
     "text": [
      "We have    49    chickens.\n"
     ]
    }
   ],
   "source": [
    "#To demonstrate, we insert the number 8 to set the available space for the value to 8 characters.\n",
    "\n",
    "#Use \"^\" to center-align the value:\n",
    "txt = \"We have {:^8} chickens.\"\n",
    "print(txt.format(49))"
   ],
   "metadata": {
    "collapsed": false,
    "ExecuteTime": {
     "end_time": "2024-09-05T08:15:24.027335Z",
     "start_time": "2024-09-05T08:15:23.993447Z"
    }
   },
   "id": "32720ccd9d0ba335"
  },
  {
   "cell_type": "code",
   "execution_count": 99,
   "outputs": [
    {
     "name": "stdout",
     "output_type": "stream",
     "text": [
      "The price is 00000049 dollars.\n"
     ]
    }
   ],
   "source": [
    "#To demonstrate, we insert the number 8 to set the available space for the value to 8 characters.\n",
    "\n",
    "#Use \"0\" to convert the number into a zero-padded format:\n",
    "txt = \"The price is {:08} dollars.\"\n",
    "print(txt.format(49))"
   ],
   "metadata": {
    "collapsed": false,
    "ExecuteTime": {
     "end_time": "2024-09-05T08:31:48.659526Z",
     "start_time": "2024-09-05T08:31:48.625252Z"
    }
   },
   "id": "fdd1376eed5d0592"
  },
  {
   "cell_type": "code",
   "execution_count": 69,
   "outputs": [
    {
     "name": "stdout",
     "output_type": "stream",
     "text": [
      "The temperature is -      5 degrees celsius.\n"
     ]
    }
   ],
   "source": [
    "#To demonstrate, we insert the number 8 to set the available space for the value to 8 characters.\n",
    "\n",
    "#Use \"=\" to place the plus/minus sign at the left most position:\n",
    "txt = \"The temperature is {:=8} degrees celsius.\"\n",
    "print(txt.format(-5))"
   ],
   "metadata": {
    "collapsed": false,
    "ExecuteTime": {
     "end_time": "2024-09-05T08:16:24.223164Z",
     "start_time": "2024-09-05T08:16:24.175262Z"
    }
   },
   "id": "b30087efdfb23b29"
  },
  {
   "cell_type": "code",
   "execution_count": 70,
   "outputs": [
    {
     "name": "stdout",
     "output_type": "stream",
     "text": [
      "The temperature is between -3 and +7 degrees celsius.\n"
     ]
    }
   ],
   "source": [
    "#Use \"+\" to always indicate if the number is positive or negative:\n",
    "txt = \"The temperature is between {:+} and {:+} degrees celsius.\"\n",
    "print(txt.format(-3, 7))"
   ],
   "metadata": {
    "collapsed": false,
    "ExecuteTime": {
     "end_time": "2024-09-05T08:17:07.305923Z",
     "start_time": "2024-09-05T08:17:07.276465Z"
    }
   },
   "id": "ba18c96cd1cd8a6f"
  },
  {
   "cell_type": "code",
   "execution_count": 72,
   "outputs": [
    {
     "name": "stdout",
     "output_type": "stream",
     "text": [
      "The temperature is between -3 and 7 degrees celsius.\n"
     ]
    }
   ],
   "source": [
    "#Use \"-\" to always indicate if the number is negative (positive numbers are displayed without any sign):\n",
    "txt = \"The temperature is between {:-} and {:-} degrees celsius.\"\n",
    "print(txt.format(-3, 7))"
   ],
   "metadata": {
    "collapsed": false,
    "ExecuteTime": {
     "end_time": "2024-09-05T08:19:15.181691Z",
     "start_time": "2024-09-05T08:19:15.142416Z"
    }
   },
   "id": "122bf20f074c6510"
  },
  {
   "cell_type": "code",
   "execution_count": 73,
   "outputs": [
    {
     "name": "stdout",
     "output_type": "stream",
     "text": [
      "The temperature is between -3 and  7 degrees celsius.\n"
     ]
    }
   ],
   "source": [
    "#Use \" \" (a space) to insert a space before positive numbers and a minus sign before negative numbers:\n",
    "txt = \"The temperature is between {: } and {: } degrees celsius.\"\n",
    "print(txt.format(-3, 7))"
   ],
   "metadata": {
    "collapsed": false,
    "ExecuteTime": {
     "end_time": "2024-09-05T08:19:39.946193Z",
     "start_time": "2024-09-05T08:19:39.906887Z"
    }
   },
   "id": "a35048c3c1396329"
  },
  {
   "cell_type": "code",
   "execution_count": 74,
   "outputs": [
    {
     "name": "stdout",
     "output_type": "stream",
     "text": [
      "The universe is 13,800,000,000 years old.\n"
     ]
    }
   ],
   "source": [
    "#Use \",\" to add a comma as a thousand separator:\n",
    "txt = \"The universe is {:,} years old.\"\n",
    "print(txt.format(13800000000))"
   ],
   "metadata": {
    "collapsed": false,
    "ExecuteTime": {
     "end_time": "2024-09-05T08:19:57.206327Z",
     "start_time": "2024-09-05T08:19:57.161461Z"
    }
   },
   "id": "ac0851fec945eaa5"
  },
  {
   "cell_type": "code",
   "execution_count": 75,
   "outputs": [
    {
     "name": "stdout",
     "output_type": "stream",
     "text": [
      "The universe is 13_800_000_000 years old.\n"
     ]
    }
   ],
   "source": [
    "#Use \"_\" to add a underscore character as a thousand separator:\n",
    "txt = \"The universe is {:_} years old.\"\n",
    "print(txt.format(13800000000))"
   ],
   "metadata": {
    "collapsed": false,
    "ExecuteTime": {
     "end_time": "2024-09-05T08:20:14.100745Z",
     "start_time": "2024-09-05T08:20:14.060963Z"
    }
   },
   "id": "7539c58b7286d75a"
  },
  {
   "cell_type": "code",
   "execution_count": 76,
   "outputs": [
    {
     "name": "stdout",
     "output_type": "stream",
     "text": [
      "The binary version of 5 is 101\n"
     ]
    }
   ],
   "source": [
    "#Use \"b\" to convert the number into binary format:\n",
    "txt = \"The binary version of {0} is {0:b}\"\n",
    "print(txt.format(5))"
   ],
   "metadata": {
    "collapsed": false,
    "ExecuteTime": {
     "end_time": "2024-09-05T08:20:32.858202Z",
     "start_time": "2024-09-05T08:20:32.763715Z"
    }
   },
   "id": "f95f73599a96e293"
  },
  {
   "cell_type": "code",
   "execution_count": 77,
   "outputs": [
    {
     "name": "stdout",
     "output_type": "stream",
     "text": [
      "We have 5 chickens.\n"
     ]
    }
   ],
   "source": [
    "#Use \"d\" to convert a number, in this case a binary number, into decimal number format:\n",
    "txt = \"We have {:d} chickens.\"\n",
    "print(txt.format(0b101))"
   ],
   "metadata": {
    "collapsed": false,
    "ExecuteTime": {
     "end_time": "2024-09-05T08:20:51.418070Z",
     "start_time": "2024-09-05T08:20:51.377997Z"
    }
   },
   "id": "801e225030e1082b"
  },
  {
   "cell_type": "code",
   "execution_count": 78,
   "outputs": [
    {
     "name": "stdout",
     "output_type": "stream",
     "text": [
      "The ASCII value of 65 is A\n"
     ]
    }
   ],
   "source": [
    "#Use \"c\" to convert the number into Unicode character:\n",
    "txt = \"The ASCII value of {0} is {0:c}\"\n",
    "print(txt.format(65))"
   ],
   "metadata": {
    "collapsed": false,
    "ExecuteTime": {
     "end_time": "2024-09-05T08:21:05.305599Z",
     "start_time": "2024-09-05T08:21:05.284509Z"
    }
   },
   "id": "a466a000aa6ced9c"
  },
  {
   "cell_type": "code",
   "execution_count": 79,
   "outputs": [
    {
     "name": "stdout",
     "output_type": "stream",
     "text": [
      "The scientific notation of 150 is 1.500000e+02\n"
     ]
    }
   ],
   "source": [
    "#Use \"e\" to convert a number into scientific number format (with a lower case e):\n",
    "txt = \"The scientific notation of {0} is {0:e}\"\n",
    "print(txt.format(150))"
   ],
   "metadata": {
    "collapsed": false,
    "ExecuteTime": {
     "end_time": "2024-09-05T08:21:29.089405Z",
     "start_time": "2024-09-05T08:21:29.040138Z"
    }
   },
   "id": "3b25cbc22e5b9479"
  },
  {
   "cell_type": "code",
   "execution_count": 80,
   "outputs": [
    {
     "name": "stdout",
     "output_type": "stream",
     "text": [
      "The scientific notation of 1550 is 1.550000E+03\n"
     ]
    }
   ],
   "source": [
    "#Use \"E\" to convert a number into scientific number format (with an upper case E):\n",
    "txt = \"The scientific notation of {0} is {0:E}\"\n",
    "print(txt.format(1550))"
   ],
   "metadata": {
    "collapsed": false,
    "ExecuteTime": {
     "end_time": "2024-09-05T08:21:45.162550Z",
     "start_time": "2024-09-05T08:21:45.114892Z"
    }
   },
   "id": "888a67610216994"
  },
  {
   "cell_type": "code",
   "execution_count": 81,
   "outputs": [
    {
     "name": "stdout",
     "output_type": "stream",
     "text": [
      "The float value of 123 is 123.000000\n",
      "The price is 45.000000 dollars.\n"
     ]
    }
   ],
   "source": [
    "#Use \"f\" to convert a number into a fixed point number, default with 6 decimals, \n",
    "# but use a period followed by a number to specify the number of decimals::\n",
    "\n",
    "txt = \"The float value of {0} is {0:f}\"\n",
    "print(txt.format(123))\n",
    "\n",
    "#without the \".2\" inside the placeholder, this number will be displayed like this:\n",
    "\n",
    "txt = \"The price is {:f} dollars.\"\n",
    "print(txt.format(45))"
   ],
   "metadata": {
    "collapsed": false,
    "ExecuteTime": {
     "end_time": "2024-09-05T08:22:11.625686Z",
     "start_time": "2024-09-05T08:22:11.604118Z"
    }
   },
   "id": "8ac9248b0dc49e82"
  },
  {
   "cell_type": "code",
   "execution_count": 82,
   "outputs": [
    {
     "name": "stdout",
     "output_type": "stream",
     "text": [
      "The float value of 123 is 123.000000\n",
      "The price is inf dollars.\n"
     ]
    }
   ],
   "source": [
    "#Use \"F\" to convert a number into a fixed point number, but display inf and nan as INF and NAN:\n",
    "\n",
    "x = float('inf')\n",
    "\n",
    "txt = \"The float value of {0} is {0:F}\"\n",
    "print(txt.format(123))\n",
    "\n",
    "#same example, but with a lower case f:\n",
    "\n",
    "txt = \"The price is {:f} dollars.\"\n",
    "print(txt.format(x))"
   ],
   "metadata": {
    "collapsed": false,
    "ExecuteTime": {
     "end_time": "2024-09-05T08:23:00.351547Z",
     "start_time": "2024-09-05T08:23:00.303280Z"
    }
   },
   "id": "f96eeeda8172d799"
  },
  {
   "cell_type": "code",
   "execution_count": 88,
   "outputs": [
    {
     "name": "stdout",
     "output_type": "stream",
     "text": [
      "The float value of 123.456789 is 123.457\n",
      "The float value of 12345678900000000000 is 1.23457e+19\n"
     ]
    }
   ],
   "source": [
    "# Use \"g\" to convert a number into general format (using a lower case e for scientific notations):\n",
    "txt = \"The float value of {0} is {0:g}\"\n",
    "print(txt.format(123.456789))\n",
    "print(txt.format(12345678900000000000))"
   ],
   "metadata": {
    "collapsed": false,
    "ExecuteTime": {
     "end_time": "2024-09-05T08:26:31.742369Z",
     "start_time": "2024-09-05T08:26:31.708503Z"
    }
   },
   "id": "2935faf38a7e548b"
  },
  {
   "cell_type": "code",
   "execution_count": 87,
   "outputs": [
    {
     "name": "stdout",
     "output_type": "stream",
     "text": [
      "The float value of 123.456789 is 123.457\n",
      "The float value of 12345678900000000000 is 1.23457E+19\n"
     ]
    }
   ],
   "source": [
    "# Use \"G\" to convert a number into general format (using a upper case E for scientific notations):\n",
    "txt = \"The float value of {0} is {0:G}\"\n",
    "print(txt.format(123.456789))\n",
    "print(txt.format(12345678900000000000))"
   ],
   "metadata": {
    "collapsed": false,
    "ExecuteTime": {
     "end_time": "2024-09-05T08:26:21.402163Z",
     "start_time": "2024-09-05T08:26:21.363687Z"
    }
   },
   "id": "308d7ea2ee03e140"
  },
  {
   "cell_type": "code",
   "execution_count": 89,
   "outputs": [
    {
     "name": "stdout",
     "output_type": "stream",
     "text": [
      "The octal version of 10 is 12\n"
     ]
    }
   ],
   "source": [
    "#Use \"o\" to convert the number into octal format:\n",
    "txt = \"The octal version of {0} is {0:o}\"\n",
    "print(txt.format(10))"
   ],
   "metadata": {
    "collapsed": false,
    "ExecuteTime": {
     "end_time": "2024-09-05T08:27:24.476654Z",
     "start_time": "2024-09-05T08:27:24.441455Z"
    }
   },
   "id": "fbd3abb7eadb8736"
  },
  {
   "cell_type": "code",
   "execution_count": 93,
   "outputs": [
    {
     "name": "stdout",
     "output_type": "stream",
     "text": [
      "The Hexadecimal version of 255 is ff\n"
     ]
    }
   ],
   "source": [
    "#Use \"x\" to convert the number into Hex format:\n",
    "txt = \"The Hexadecimal version of {0} is {0:x}\"\n",
    "print(txt.format(255))"
   ],
   "metadata": {
    "collapsed": false,
    "ExecuteTime": {
     "end_time": "2024-09-05T08:30:04.959632Z",
     "start_time": "2024-09-05T08:30:04.925309Z"
    }
   },
   "id": "b08d1a8dafb02c85"
  },
  {
   "cell_type": "code",
   "execution_count": 94,
   "outputs": [
    {
     "name": "stdout",
     "output_type": "stream",
     "text": [
      "The Hexadecimal version of 255 is FF\n"
     ]
    }
   ],
   "source": [
    "#Use \"X\" to convert the number into upper-case Hex format:\n",
    "txt = \"The Hexadecimal version of {0} is {0:X}\"\n",
    "print(txt.format(255))"
   ],
   "metadata": {
    "collapsed": false,
    "ExecuteTime": {
     "end_time": "2024-09-05T08:30:05.488449Z",
     "start_time": "2024-09-05T08:30:05.452420Z"
    }
   },
   "id": "592e2c47a7fa51fb"
  },
  {
   "cell_type": "code",
   "execution_count": 95,
   "outputs": [
    {
     "name": "stdout",
     "output_type": "stream",
     "text": [
      "The float value of 1234567890 is 1234567890\n",
      "The float value of 1234567890.1234567 is 1.23457e+09\n"
     ]
    }
   ],
   "source": [
    "#Use \"n\" to convert the number into a fixed point number format:\n",
    "txt = \"The float value of {0} is {0:n}\"\n",
    "print(txt.format(1234567890))\n",
    "print(txt.format(1234567890.1234567890))"
   ],
   "metadata": {
    "collapsed": false,
    "ExecuteTime": {
     "end_time": "2024-09-05T08:30:06.412669Z",
     "start_time": "2024-09-05T08:30:06.364286Z"
    }
   },
   "id": "9a3ff6a7531cad58"
  },
  {
   "cell_type": "code",
   "execution_count": 96,
   "outputs": [
    {
     "name": "stdout",
     "output_type": "stream",
     "text": [
      "You scored 25.000000%\n"
     ]
    }
   ],
   "source": [
    "#Use \"%\" to convert the number into a percentage format:\n",
    "txt = \"You scored {:%}\"\n",
    "print(txt.format(0.25))"
   ],
   "metadata": {
    "collapsed": false,
    "ExecuteTime": {
     "end_time": "2024-09-05T08:30:18.714521Z",
     "start_time": "2024-09-05T08:30:18.630381Z"
    }
   },
   "id": "1162c65e3f42a8e"
  },
  {
   "cell_type": "markdown",
   "source": [
    "#### Index()\n",
    "\n",
    "The **index()** method finds the first occurrence of the specified value.\n",
    "\n",
    "The **index()** method raises an exception if the value is not found.\n",
    "\n",
    "The **index()** method is almost the same as the **find()** method, the only difference is that the **find()** method returns -1 if the value is not found."
   ],
   "metadata": {
    "collapsed": false
   },
   "id": "77c2fb1a810d6249"
  },
  {
   "cell_type": "markdown",
   "source": [
    "Parameters:\n",
    "\n",
    "- **value** - Required. The value to search for\n",
    "- **start** - Optional. Where to start the search. Default is 0\n",
    "- **end** - Optional. Where to end the search. Default is to the end of the string"
   ],
   "metadata": {
    "collapsed": false
   },
   "id": "2053781fee959355"
  },
  {
   "cell_type": "code",
   "execution_count": 100,
   "outputs": [
    {
     "name": "stdout",
     "output_type": "stream",
     "text": [
      "7\n"
     ]
    }
   ],
   "source": [
    "# Where in the text is the word \"welcome\"?:\n",
    "\n",
    "txt = \"Hello, welcome to my world.\"\n",
    "x = txt.index(\"welcome\")\n",
    "print(x)"
   ],
   "metadata": {
    "collapsed": false,
    "ExecuteTime": {
     "end_time": "2024-09-05T08:34:43.367043Z",
     "start_time": "2024-09-05T08:34:43.314732Z"
    }
   },
   "id": "b498630127768c47"
  },
  {
   "cell_type": "code",
   "execution_count": 101,
   "outputs": [
    {
     "name": "stdout",
     "output_type": "stream",
     "text": [
      "1\n"
     ]
    }
   ],
   "source": [
    "# Where in the text is the first occurrence of the letter \"e\"?:\n",
    "\n",
    "txt = \"Hello, welcome to my world.\"\n",
    "x = txt.index(\"e\")\n",
    "print(x)"
   ],
   "metadata": {
    "collapsed": false,
    "ExecuteTime": {
     "end_time": "2024-09-05T08:35:02.213197Z",
     "start_time": "2024-09-05T08:35:02.174723Z"
    }
   },
   "id": "c582c86339c66d95"
  },
  {
   "cell_type": "code",
   "execution_count": 102,
   "outputs": [
    {
     "name": "stdout",
     "output_type": "stream",
     "text": [
      "8\n"
     ]
    }
   ],
   "source": [
    "# Where in the text is the first occurrence of the letter \"e\" when you only search between position 5 and 10?:\n",
    "\n",
    "txt = \"Hello, welcome to my world.\"\n",
    "x = txt.index(\"e\", 5, 10)\n",
    "print(x)"
   ],
   "metadata": {
    "collapsed": false,
    "ExecuteTime": {
     "end_time": "2024-09-05T08:35:22.354365Z",
     "start_time": "2024-09-05T08:35:22.299362Z"
    }
   },
   "id": "f4118008e50e5c84"
  },
  {
   "cell_type": "code",
   "execution_count": 103,
   "outputs": [
    {
     "name": "stdout",
     "output_type": "stream",
     "text": [
      "-1\n"
     ]
    },
    {
     "ename": "ValueError",
     "evalue": "substring not found",
     "output_type": "error",
     "traceback": [
      "\u001B[0;31m---------------------------------------------------------------------------\u001B[0m",
      "\u001B[0;31mValueError\u001B[0m                                Traceback (most recent call last)",
      "Cell \u001B[0;32mIn[103], line 6\u001B[0m\n\u001B[1;32m      3\u001B[0m txt \u001B[38;5;241m=\u001B[39m \u001B[38;5;124m\"\u001B[39m\u001B[38;5;124mHello, welcome to my world.\u001B[39m\u001B[38;5;124m\"\u001B[39m\n\u001B[1;32m      5\u001B[0m \u001B[38;5;28mprint\u001B[39m(txt\u001B[38;5;241m.\u001B[39mfind(\u001B[38;5;124m\"\u001B[39m\u001B[38;5;124mq\u001B[39m\u001B[38;5;124m\"\u001B[39m))\n\u001B[0;32m----> 6\u001B[0m \u001B[38;5;28mprint\u001B[39m(\u001B[43mtxt\u001B[49m\u001B[38;5;241;43m.\u001B[39;49m\u001B[43mindex\u001B[49m\u001B[43m(\u001B[49m\u001B[38;5;124;43m\"\u001B[39;49m\u001B[38;5;124;43mq\u001B[39;49m\u001B[38;5;124;43m\"\u001B[39;49m\u001B[43m)\u001B[49m)\n",
      "\u001B[0;31mValueError\u001B[0m: substring not found"
     ]
    }
   ],
   "source": [
    "# If the value is not found, the find() method returns -1, but the index() method will raise an exception:\n",
    "\n",
    "txt = \"Hello, welcome to my world.\"\n",
    "\n",
    "print(txt.find(\"q\"))\n",
    "print(txt.index(\"q\"))"
   ],
   "metadata": {
    "collapsed": false,
    "ExecuteTime": {
     "end_time": "2024-09-05T08:35:43.986791Z",
     "start_time": "2024-09-05T08:35:43.921246Z"
    }
   },
   "id": "f961711ead730a06"
  },
  {
   "cell_type": "markdown",
   "source": [
    "#### isalnum()\n",
    "\n",
    "The **isalnum()** method returns **True** if all the characters are alphanumeric, meaning alphabet letter (a-z) and numbers (0-9).\n",
    "\n",
    "Example of characters that are not alphanumeric: (space)!#%&? etc."
   ],
   "metadata": {
    "collapsed": false
   },
   "id": "275a1f6e6a8567bd"
  },
  {
   "cell_type": "code",
   "execution_count": 104,
   "outputs": [
    {
     "name": "stdout",
     "output_type": "stream",
     "text": [
      "True\n"
     ]
    }
   ],
   "source": [
    "# Check if all the characters in the text are alphanumeric:\n",
    "\n",
    "txt = \"Company12\"\n",
    "x = txt.isalnum()\n",
    "print(x)"
   ],
   "metadata": {
    "collapsed": false,
    "ExecuteTime": {
     "end_time": "2024-09-05T08:36:36.436114Z",
     "start_time": "2024-09-05T08:36:36.394308Z"
    }
   },
   "id": "e9cd50532b196fe0"
  },
  {
   "cell_type": "code",
   "execution_count": 107,
   "outputs": [
    {
     "name": "stdout",
     "output_type": "stream",
     "text": [
      "False\n"
     ]
    }
   ],
   "source": [
    "# Check if all the characters in the text are alphanumeric:\n",
    "\n",
    "txt = \"Company12?\"\n",
    "x = txt.isalnum()\n",
    "print(x)"
   ],
   "metadata": {
    "collapsed": false,
    "ExecuteTime": {
     "end_time": "2024-09-05T08:37:55.264805Z",
     "start_time": "2024-09-05T08:37:55.226174Z"
    }
   },
   "id": "bc7c938e852e6328"
  },
  {
   "cell_type": "markdown",
   "source": [
    "#### isalpha()\n",
    "\n",
    "The **isalpha()** method returns **True** if all the characters are alphabet letters (a-z).\n",
    "\n",
    "Example of characters that are not alphabet letters: (space)!#%&? etc."
   ],
   "metadata": {
    "collapsed": false
   },
   "id": "4757ec3974e5cb12"
  },
  {
   "cell_type": "code",
   "execution_count": 105,
   "outputs": [
    {
     "name": "stdout",
     "output_type": "stream",
     "text": [
      "True\n"
     ]
    }
   ],
   "source": [
    "# Check if all the characters in the text are letters:\n",
    "\n",
    "txt = \"CompanyX\"\n",
    "x = txt.isalpha()\n",
    "print(x)"
   ],
   "metadata": {
    "collapsed": false,
    "ExecuteTime": {
     "end_time": "2024-09-05T08:37:13.735726Z",
     "start_time": "2024-09-05T08:37:13.695388Z"
    }
   },
   "id": "9176afe943ca3619"
  },
  {
   "cell_type": "code",
   "execution_count": 106,
   "outputs": [
    {
     "name": "stdout",
     "output_type": "stream",
     "text": [
      "False\n"
     ]
    }
   ],
   "source": [
    "# Check if all the characters in the text are letters:\n",
    "\n",
    "txt = \"Company12\"\n",
    "x = txt.isalpha()\n",
    "print(x)"
   ],
   "metadata": {
    "collapsed": false,
    "ExecuteTime": {
     "end_time": "2024-09-05T08:37:33.575072Z",
     "start_time": "2024-09-05T08:37:33.515916Z"
    }
   },
   "id": "834bc46520d2de25"
  },
  {
   "cell_type": "markdown",
   "source": [
    "#### isascii()\n",
    "\n",
    "The **isascii()** method returns **True** if all the characters are ASCII characters.\n",
    "\n",
    "ASCII characters are characters whose code points range from 0x00 to 0x7F."
   ],
   "metadata": {
    "collapsed": false
   },
   "id": "fa0a5e08bf929c86"
  },
  {
   "cell_type": "code",
   "execution_count": 108,
   "outputs": [
    {
     "name": "stdout",
     "output_type": "stream",
     "text": [
      "True\n"
     ]
    }
   ],
   "source": [
    "# Check if all the characters in the text are ASCII characters:\n",
    "\n",
    "txt = \"Company123\"\n",
    "x = txt.isascii()\n",
    "print(x)"
   ],
   "metadata": {
    "collapsed": false,
    "ExecuteTime": {
     "end_time": "2024-09-05T08:38:52.370878Z",
     "start_time": "2024-09-05T08:38:52.317770Z"
    }
   },
   "id": "112e601a0cb92454"
  },
  {
   "cell_type": "code",
   "execution_count": 109,
   "outputs": [
    {
     "name": "stdout",
     "output_type": "stream",
     "text": [
      "False\n"
     ]
    }
   ],
   "source": [
    "# Check if all the characters in the text are ASCII characters:\n",
    "\n",
    "txt = \"Company123©\"\n",
    "x = txt.isascii()\n",
    "print(x)"
   ],
   "metadata": {
    "collapsed": false,
    "ExecuteTime": {
     "end_time": "2024-09-05T08:39:07.481871Z",
     "start_time": "2024-09-05T08:39:07.453569Z"
    }
   },
   "id": "869ba85b6bd9198c"
  },
  {
   "cell_type": "markdown",
   "source": [
    "#### isdecimal()\n",
    "\n",
    "The **isdecimal()** method returns **True** if all the characters are decimals (0-9).\n",
    "\n",
    "This method is used on unicode objects."
   ],
   "metadata": {
    "collapsed": false
   },
   "id": "6c65a585a251d1e5"
  },
  {
   "cell_type": "code",
   "execution_count": 137,
   "outputs": [
    {
     "name": "stdout",
     "output_type": "stream",
     "text": [
      "0          True\n",
      "²          False\n",
      "10km2      False\n",
      "-1         False\n",
      "1.5        False\n",
      "1e3        False\n",
      "⅔          False\n",
      "XIV        False\n"
     ]
    }
   ],
   "source": [
    "# Check if all the characters in the text are decimals:\n",
    "\n",
    "a = \"\\u0030\" #unicode for 0\n",
    "b = \"\\u00B2\" #unicode for ²\n",
    "c = \"10km2\"\n",
    "d = \"-1\"\n",
    "e = \"1.5\"\n",
    "f = \"1e3\"\n",
    "g = \"⅔\"\n",
    "h = \"XIV\"\n",
    "\n",
    "print(f\"{a : <10}\",a.isdecimal())\n",
    "print(f\"{b : <10}\",b.isdecimal())\n",
    "print(f\"{c : <10}\",c.isdecimal())\n",
    "print(f\"{d : <10}\",d.isdecimal())\n",
    "print(f\"{e : <10}\",e.isdecimal())\n",
    "print(f\"{f : <10}\",f.isdecimal())\n",
    "print(f\"{g : <10}\",g.isdecimal())\n",
    "print(f\"{h : <10}\",h.isdecimal())"
   ],
   "metadata": {
    "collapsed": false,
    "ExecuteTime": {
     "end_time": "2024-09-05T09:00:00.480419Z",
     "start_time": "2024-09-05T09:00:00.423977Z"
    }
   },
   "id": "b3e7f9b9b389e873"
  },
  {
   "cell_type": "markdown",
   "source": [
    "#### isdigit()\n",
    "\n",
    "The **isdigit()** method returns **True** if all the characters are digits, otherwise **False**.\n",
    "\n",
    "Exponents, like **²** are also considered to be a digit."
   ],
   "metadata": {
    "collapsed": false
   },
   "id": "85585345d696b176"
  },
  {
   "cell_type": "code",
   "execution_count": 138,
   "outputs": [
    {
     "name": "stdout",
     "output_type": "stream",
     "text": [
      "0          True\n",
      "²          True\n",
      "10km2      False\n",
      "-1         False\n",
      "1.5        False\n",
      "1e3        False\n",
      "⅔          False\n",
      "XIV        False\n"
     ]
    }
   ],
   "source": [
    "# Check if all the characters in the text are digits:\n",
    "\n",
    "a = \"\\u0030\" #unicode for 0\n",
    "b = \"\\u00B2\" #unicode for ²\n",
    "c = \"10km2\"\n",
    "d = \"-1\"\n",
    "e = \"1.5\"\n",
    "f = \"1e3\"\n",
    "g = \"⅔\"\n",
    "h = \"XIV\"\n",
    "\n",
    "print(f\"{a : <10}\",a.isdigit())\n",
    "print(f\"{b : <10}\",b.isdigit())\n",
    "print(f\"{c : <10}\",c.isdigit())\n",
    "print(f\"{d : <10}\",d.isdigit())\n",
    "print(f\"{e : <10}\",e.isdigit())\n",
    "print(f\"{f : <10}\",f.isdigit())\n",
    "print(f\"{g : <10}\",g.isdigit())\n",
    "print(f\"{h : <10}\",h.isdigit())"
   ],
   "metadata": {
    "collapsed": false,
    "ExecuteTime": {
     "end_time": "2024-09-05T09:00:39.256773Z",
     "start_time": "2024-09-05T09:00:39.196119Z"
    }
   },
   "id": "ccd0ed1ec5e6e633"
  },
  {
   "cell_type": "markdown",
   "source": [
    "#### isidentifier()\n",
    "\n",
    "The **isidentifier()** method returns **True** if the string is a valid identifier, otherwise **False**.\n",
    "\n",
    "A string is considered a valid identifier if it only contains alphanumeric letters (a-z) and (0-9), or underscores (_). A valid identifier cannot start with a number, or contain any spaces."
   ],
   "metadata": {
    "collapsed": false
   },
   "id": "f0976958c4a0fb10"
  },
  {
   "cell_type": "code",
   "execution_count": 124,
   "outputs": [
    {
     "name": "stdout",
     "output_type": "stream",
     "text": [
      "True\n"
     ]
    }
   ],
   "source": [
    "# Check if the string is a valid identifier:\n",
    "\n",
    "txt = \"Demo\"\n",
    "x = txt.isidentifier()\n",
    "print(x)"
   ],
   "metadata": {
    "collapsed": false,
    "ExecuteTime": {
     "end_time": "2024-09-05T08:50:59.386318Z",
     "start_time": "2024-09-05T08:50:59.309168Z"
    }
   },
   "id": "757871d6108f8921"
  },
  {
   "cell_type": "code",
   "execution_count": 125,
   "outputs": [
    {
     "name": "stdout",
     "output_type": "stream",
     "text": [
      "True\n",
      "True\n",
      "False\n",
      "False\n"
     ]
    }
   ],
   "source": [
    "# Check if the string is a valid identifier:\n",
    "\n",
    "a = \"MyFolder\"\n",
    "b = \"Demo002\"\n",
    "c = \"2bring\"\n",
    "d = \"my demo\"\n",
    "\n",
    "print(a.isidentifier())\n",
    "print(b.isidentifier())\n",
    "print(c.isidentifier())\n",
    "print(d.isidentifier())"
   ],
   "metadata": {
    "collapsed": false,
    "ExecuteTime": {
     "end_time": "2024-09-05T08:51:52.958590Z",
     "start_time": "2024-09-05T08:51:52.880091Z"
    }
   },
   "id": "e80a5e83b0130b34"
  },
  {
   "cell_type": "markdown",
   "source": [
    "#### islower()\n",
    "\n",
    "The **islower()** method returns **True** if all the characters are in lower case, otherwise **False**.\n",
    "\n",
    "Numbers, symbols and spaces are not checked, only alphabet characters."
   ],
   "metadata": {
    "collapsed": false
   },
   "id": "2fbcf35fec6183aa"
  },
  {
   "cell_type": "code",
   "execution_count": 126,
   "outputs": [
    {
     "name": "stdout",
     "output_type": "stream",
     "text": [
      "True\n"
     ]
    }
   ],
   "source": [
    "# Check if all the characters in the text are in lower case:\n",
    "\n",
    "txt = \"hello world!\"\n",
    "x = txt.islower()\n",
    "print(x)"
   ],
   "metadata": {
    "collapsed": false,
    "ExecuteTime": {
     "end_time": "2024-09-05T08:52:23.657599Z",
     "start_time": "2024-09-05T08:52:23.624101Z"
    }
   },
   "id": "2b25c4b88ddecba4"
  },
  {
   "cell_type": "code",
   "execution_count": 127,
   "outputs": [
    {
     "name": "stdout",
     "output_type": "stream",
     "text": [
      "False\n",
      "True\n",
      "False\n"
     ]
    }
   ],
   "source": [
    "# Check if all the characters in the text are in lower case:\n",
    "\n",
    "a = \"Hello world!\"\n",
    "b = \"hello 123\"\n",
    "c = \"mynameisPeter\"\n",
    "\n",
    "print(a.islower())\n",
    "print(b.islower())\n",
    "print(c.islower())"
   ],
   "metadata": {
    "collapsed": false,
    "ExecuteTime": {
     "end_time": "2024-09-05T08:52:46.284178Z",
     "start_time": "2024-09-05T08:52:46.243328Z"
    }
   },
   "id": "3f353fa174a5e58c"
  },
  {
   "cell_type": "markdown",
   "source": [
    "#### isnumeric()\n",
    "\n",
    "The **isnumeric()** method returns **True** if all the characters are numeric (0-9), otherwise **False**.\n",
    "\n",
    "Exponents, like **²** and **¾** are also considered to be numeric values.\n",
    "\n",
    "\"-1\" and \"1.5\" are NOT considered numeric values, because all the characters in the string must be numeric, and the - and the . are not.\n",
    "\n",
    "Roman numbers are considered numeric values."
   ],
   "metadata": {
    "collapsed": false
   },
   "id": "914dd3e7db7b1332"
  },
  {
   "cell_type": "code",
   "execution_count": 139,
   "outputs": [
    {
     "name": "stdout",
     "output_type": "stream",
     "text": [
      "0          True\n",
      "²          True\n",
      "10km2      False\n",
      "-1         False\n",
      "1.5        False\n",
      "1e3        False\n",
      "⅔          True\n",
      "XIV        False\n"
     ]
    }
   ],
   "source": [
    "# Check if all the characters in the text are numeric:\n",
    "\n",
    "a = \"\\u0030\" #unicode for 0\n",
    "b = \"\\u00B2\" #unicode for ²\n",
    "c = \"10km2\"\n",
    "d = \"-1\"\n",
    "e = \"1.5\"\n",
    "f = \"1e3\"\n",
    "g = \"⅔\"\n",
    "h = \"XIV\"\n",
    "\n",
    "print(f\"{a : <10}\",a.isnumeric())\n",
    "print(f\"{b : <10}\",b.isnumeric())\n",
    "print(f\"{c : <10}\",c.isnumeric())\n",
    "print(f\"{d : <10}\",d.isnumeric())\n",
    "print(f\"{e : <10}\",e.isnumeric())\n",
    "print(f\"{f : <10}\",f.isnumeric())\n",
    "print(f\"{g : <10}\",g.isnumeric())\n",
    "print(f\"{h : <10}\",h.isnumeric())"
   ],
   "metadata": {
    "collapsed": false,
    "ExecuteTime": {
     "end_time": "2024-09-05T09:01:07.898320Z",
     "start_time": "2024-09-05T09:01:07.832966Z"
    }
   },
   "id": "1d91994653b57524"
  },
  {
   "cell_type": "markdown",
   "source": [
    "#### isprintable()\n",
    "\n",
    "The **isprintable()** method returns **True** if all the characters are printable, otherwise **False**.\n",
    "\n",
    "Example of none printable characters can be carriage return and line feed."
   ],
   "metadata": {
    "collapsed": false
   },
   "id": "f384efc7a60eeaf6"
  },
  {
   "cell_type": "code",
   "execution_count": 143,
   "outputs": [
    {
     "name": "stdout",
     "output_type": "stream",
     "text": [
      "True\n",
      "False\n"
     ]
    }
   ],
   "source": [
    "# Check if all the characters in the text are printable:\n",
    "\n",
    "txt = \"Hello! Are you #1?\"\n",
    "x = txt.isprintable()\n",
    "print(x)\n",
    "\n",
    "txt = \"Hello!\\nAre you #1?\"\n",
    "x = txt.isprintable()\n",
    "print(x)"
   ],
   "metadata": {
    "collapsed": false,
    "ExecuteTime": {
     "end_time": "2024-09-05T09:03:23.912556Z",
     "start_time": "2024-09-05T09:03:23.849982Z"
    }
   },
   "id": "1c37de6199fd8e68"
  },
  {
   "cell_type": "markdown",
   "source": [
    "#### isspace()\n",
    "\n",
    "The **isspace()** method returns **True** if all the characters in a string are whitespaces, otherwise **False**."
   ],
   "metadata": {
    "collapsed": false
   },
   "id": "7caf3c9ddddd6307"
  },
  {
   "cell_type": "code",
   "execution_count": 145,
   "outputs": [
    {
     "name": "stdout",
     "output_type": "stream",
     "text": [
      "True\n",
      "False\n"
     ]
    }
   ],
   "source": [
    "# Check if all the characters in the text are whitespaces:\n",
    "\n",
    "txt = \"   \"\n",
    "x = txt.isspace()\n",
    "print(x)\n",
    "\n",
    "txt = \"   s   \"\n",
    "x = txt.isspace()\n",
    "print(x)"
   ],
   "metadata": {
    "collapsed": false,
    "ExecuteTime": {
     "end_time": "2024-09-05T09:04:10.404857Z",
     "start_time": "2024-09-05T09:04:10.339817Z"
    }
   },
   "id": "aac3d7fa9beba718"
  },
  {
   "cell_type": "markdown",
   "source": [
    "#### istitle()\n",
    "\n",
    "The **istitle()** method returns **True** if all words in a text start with a upper case letter, and the rest of the word are lower case letters, otherwise **False**.\n",
    "\n",
    "Symbols and numbers are ignored."
   ],
   "metadata": {
    "collapsed": false
   },
   "id": "80742ebc57d647a9"
  },
  {
   "cell_type": "code",
   "execution_count": 147,
   "outputs": [
    {
     "name": "stdout",
     "output_type": "stream",
     "text": [
      "Hello, And Welcome To My World!     True\n",
      "Hello                               True\n",
      "22 Names                            True\n",
      "This Is %'!?                        True\n"
     ]
    }
   ],
   "source": [
    "# Check if each word start with an upper case letter:\n",
    "\n",
    "a = \"Hello, And Welcome To My World!\"\n",
    "b = \"Hello\"\n",
    "c = \"22 Names\"\n",
    "d = \"This Is %'!?\"\n",
    "\n",
    "print(f\"{a : <35}\",a.istitle())\n",
    "print(f\"{b : <35}\",b.istitle())\n",
    "print(f\"{c : <35}\",c.istitle())\n",
    "print(f\"{d : <35}\",d.istitle())"
   ],
   "metadata": {
    "collapsed": false,
    "ExecuteTime": {
     "end_time": "2024-09-05T09:06:07.037195Z",
     "start_time": "2024-09-05T09:06:06.972971Z"
    }
   },
   "id": "e72691154d07edde"
  },
  {
   "cell_type": "markdown",
   "source": [
    "#### isupper()\n",
    "\n",
    "The **isupper()** method returns **True** if all the characters are in upper case, otherwise **False**.\n",
    "\n",
    "Numbers, symbols and spaces are not checked, only alphabet characters."
   ],
   "metadata": {
    "collapsed": false
   },
   "id": "d6e2570378cf2d43"
  },
  {
   "cell_type": "code",
   "execution_count": 3,
   "outputs": [
    {
     "name": "stdout",
     "output_type": "stream",
     "text": [
      "THIS IS!        True\n",
      "THIS is not!    False\n",
      "THIS IS 123!    True\n"
     ]
    }
   ],
   "source": [
    "# Check if all the characters in the text are in upper case:\n",
    "\n",
    "a = \"THIS IS!\"\n",
    "b = \"THIS is not!\"\n",
    "c = \"THIS IS 123!\"\n",
    "\n",
    "print(f\"{a : <15}\",a.isupper())\n",
    "print(f\"{b : <15}\",b.isupper())\n",
    "print(f\"{c : <15}\",c.isupper())"
   ],
   "metadata": {
    "collapsed": false,
    "ExecuteTime": {
     "end_time": "2024-09-07T15:05:28.367486Z",
     "start_time": "2024-09-07T15:05:28.310068Z"
    }
   },
   "id": "2e58fbc7810349d0"
  },
  {
   "cell_type": "markdown",
   "source": [
    "#### join()\n",
    "\n",
    "The **join()** method takes all items in an iterable and joins them into one string.\n",
    "\n",
    "A string must be specified as the separator."
   ],
   "metadata": {
    "collapsed": false
   },
   "id": "cef403e90311fda7"
  },
  {
   "cell_type": "markdown",
   "source": [
    "Parameters:\n",
    "\n",
    "- **iterable** - Required. Any iterable object where all the returned values are strings"
   ],
   "metadata": {
    "collapsed": false
   },
   "id": "88171da0d7f9cc9c"
  },
  {
   "cell_type": "code",
   "execution_count": 12,
   "outputs": [
    {
     "name": "stdout",
     "output_type": "stream",
     "text": [
      "myTuple         = John, Peter, Vicky\n",
      "myList          = John, Peter, Vicky\n",
      "mySet           = Vicky, John, Peter\n",
      "myDict keys     = name, country\n",
      "myDict values   = John, Norway\n"
     ]
    }
   ],
   "source": [
    "# Join all items in a tuple into a string, using \", \" as separator:\n",
    "myTuple = (\"John\", \"Peter\", \"Vicky\")\n",
    "print(f\"{'myTuple':<15} = {', '.join(myTuple)}\")\n",
    "\n",
    "# Join all items in a list into a string, using \", \" as separator:\n",
    "myList = [\"John\", \"Peter\", \"Vicky\"]\n",
    "print(f\"{'myList':<15} = {', '.join(myList)}\")\n",
    "\n",
    "# Join all items in a set into a string, using \", \" as separator:\n",
    "mySet = {\"John\", \"Peter\", \"Vicky\"}\n",
    "print(f\"{'mySet':<15} = {', '.join(mySet)}\")\n",
    "\n",
    "# Join all items in a dictionary into a string, using \", \" as separator:\n",
    "myDict = {\"name\": \"John\", \"country\": \"Norway\"}\n",
    "print(f\"{'myDict keys':<15} = {', '.join(myDict)}\")\n",
    "print(f\"{'myDict values':<15} = {', '.join(myDict.values())}\")"
   ],
   "metadata": {
    "collapsed": false,
    "ExecuteTime": {
     "end_time": "2024-09-07T15:12:11.046567Z",
     "start_time": "2024-09-07T15:12:11.006404Z"
    }
   },
   "id": "cba709030b27ad41"
  },
  {
   "cell_type": "markdown",
   "source": [
    "#### ljust()\n",
    "\n",
    "The **ljust()** method will left align the string, using a specified character (space is default) as the fill character."
   ],
   "metadata": {
    "collapsed": false
   },
   "id": "5a2718f0fb9c2b53"
  },
  {
   "cell_type": "markdown",
   "source": [
    "Parameters:\n",
    "\n",
    "- **length** - Required. The length of the returned string\n",
    "- **character** (optional) - Optional. A character to fill the missing space on the right. Default is \" \" (space)"
   ],
   "metadata": {
    "collapsed": false
   },
   "id": "1d7978ab5c4833ae"
  },
  {
   "cell_type": "code",
   "execution_count": 95,
   "outputs": [
    {
     "name": "stdout",
     "output_type": "stream",
     "text": [
      "banana--------------\n",
      "banana\n",
      "banana00000000000000\n"
     ]
    },
    {
     "ename": "ValueError",
     "evalue": "Sign not allowed in string format specifier",
     "output_type": "error",
     "traceback": [
      "\u001B[0;31m---------------------------------------------------------------------------\u001B[0m",
      "\u001B[0;31mValueError\u001B[0m                                Traceback (most recent call last)",
      "Cell \u001B[0;32mIn[95], line 12\u001B[0m\n\u001B[1;32m     10\u001B[0m \u001B[38;5;66;03m# It's equivalent to f-string formatting except you can use it with any character\u001B[39;00m\n\u001B[1;32m     11\u001B[0m \u001B[38;5;28mprint\u001B[39m(\u001B[38;5;124mf\u001B[39m\u001B[38;5;124m\"\u001B[39m\u001B[38;5;132;01m{\u001B[39;00m\u001B[38;5;124m'\u001B[39m\u001B[38;5;124mbanana\u001B[39m\u001B[38;5;124m'\u001B[39m\u001B[38;5;132;01m:\u001B[39;00m\u001B[38;5;124m<020\u001B[39m\u001B[38;5;132;01m}\u001B[39;00m\u001B[38;5;124m\"\u001B[39m)\n\u001B[0;32m---> 12\u001B[0m \u001B[38;5;28mprint\u001B[39m(\u001B[38;5;124mf\u001B[39m\u001B[38;5;124m\"\u001B[39m\u001B[38;5;132;01m{\u001B[39;00m\u001B[38;5;124m'\u001B[39m\u001B[38;5;124mbanana\u001B[39m\u001B[38;5;124m'\u001B[39m\u001B[38;5;132;01m:\u001B[39;00m\u001B[38;5;124m<-20\u001B[39m\u001B[38;5;132;01m}\u001B[39;00m\u001B[38;5;124m\"\u001B[39m)\n",
      "\u001B[0;31mValueError\u001B[0m: Sign not allowed in string format specifier"
     ]
    }
   ],
   "source": [
    "# Return a 20 characters long, left justified version of the word \"banana\":\n",
    "\n",
    "txt = \"banana\"\n",
    "print(txt.ljust(20, \"-\"))\n",
    "\n",
    "# If the length of the word is more than the specified length, you will get the complete word: \n",
    "txt = \"banana\"\n",
    "print(txt.ljust(3, \"-\"))\n",
    "\n",
    "# It's equivalent to f-string formatting except you can use it with any character\n",
    "print(f\"{'banana':<020}\")\n",
    "print(f\"{'banana':<-20}\")"
   ],
   "metadata": {
    "collapsed": false,
    "ExecuteTime": {
     "end_time": "2024-09-07T17:16:57.629869Z",
     "start_time": "2024-09-07T17:16:57.568695Z"
    }
   },
   "id": "71740fdc33456c23"
  },
  {
   "cell_type": "markdown",
   "source": [
    "#### lower()\n",
    "\n",
    "The **lower()** method returns a string where all characters are lower case.\n",
    "\n",
    "Symbols and Numbers are ignored."
   ],
   "metadata": {
    "collapsed": false
   },
   "id": "6b3640aa749c8c85"
  },
  {
   "cell_type": "code",
   "execution_count": 34,
   "outputs": [
    {
     "name": "stdout",
     "output_type": "stream",
     "text": [
      "hello, my name's arsalan. 123check!\n"
     ]
    }
   ],
   "source": [
    "# Convert the value of txt to lower case:\n",
    "\n",
    "txt = \"Hello, My name's Arsalan. 123cHeck!\"\n",
    "print(txt.lower())"
   ],
   "metadata": {
    "collapsed": false,
    "ExecuteTime": {
     "end_time": "2024-09-07T15:26:57.846939Z",
     "start_time": "2024-09-07T15:26:57.791641Z"
    }
   },
   "id": "6f0a17a59ad24be4"
  },
  {
   "cell_type": "markdown",
   "source": [
    "#### lstrip()\n",
    "\n",
    "The **lstrip()** method removes any leading characters (space is the default leading character to remove)."
   ],
   "metadata": {
    "collapsed": false
   },
   "id": "8bed679d843a14e6"
  },
  {
   "cell_type": "markdown",
   "source": [
    "Parameters:\n",
    "\n",
    "- **character** (optional) - A set of characters to remove as leading characters"
   ],
   "metadata": {
    "collapsed": false
   },
   "id": "6ddee9efde50d482"
  },
  {
   "cell_type": "code",
   "execution_count": 39,
   "outputs": [
    {
     "name": "stdout",
     "output_type": "stream",
     "text": [
      ".,ssp  banana     \n",
      "banana     \n",
      "   .,ssp  banana     \n"
     ]
    }
   ],
   "source": [
    "# Remove spaces to the left of the string:\n",
    "\n",
    "txt = \"   .,ssp  banana     \"\n",
    "print(txt.lstrip())\n",
    "\n",
    "# Remove the leading characters:\n",
    "print(txt.lstrip(\" .,sp\"))\n",
    "\n",
    "# Have to include \" \" in the above example else:\n",
    "print(txt.lstrip(\".,sp\"))"
   ],
   "metadata": {
    "collapsed": false,
    "ExecuteTime": {
     "end_time": "2024-09-07T15:30:01.696170Z",
     "start_time": "2024-09-07T15:30:01.660654Z"
    }
   },
   "id": "29e0995923ca823d"
  },
  {
   "cell_type": "markdown",
   "source": [
    "#### maketrans()\n",
    "\n",
    "The **maketrans()** method returns a mapping table that can be used with the **translate()** method to replace specified characters."
   ],
   "metadata": {
    "collapsed": false
   },
   "id": "a0278ac73625d68e"
  },
  {
   "cell_type": "markdown",
   "source": [
    "Parameters:\n",
    "\n",
    "- **x** - Required. If only one parameter is specified, this has to be a dictionary describing how to perform the replace. If two or more parameters are specified, this parameter has to be a string specifying the characters you want to replace.\n",
    "- **y** - Optional. A string with the same length as parameter x. Each character in the first parameter will be replaced with the corresponding character in this string.\n",
    "- **z** - Optional. A string describing which characters to remove from the original string."
   ],
   "metadata": {
    "collapsed": false
   },
   "id": "8c00f7c3f8871ab5"
  },
  {
   "cell_type": "code",
   "execution_count": 50,
   "outputs": [
    {
     "name": "stdout",
     "output_type": "stream",
     "text": [
      "Hello Porld!\n",
      "Hello Porld!\n",
      "ello Porld!\n"
     ]
    }
   ],
   "source": [
    "# Create a mapping table, and use it in the translate() method to replace any \"S\" characters with a \"P\" character:\n",
    "\n",
    "txt = \"Hello World!\"\n",
    "\n",
    "# Working with 1 parameter:\n",
    "# Dictionary only takes parameter of length 1 and it will replace the key with the value\n",
    "mytable = txt.maketrans({\"W\": \"P\"})\n",
    "print(txt.translate(mytable))\n",
    "\n",
    "# Working with 2 parameter:\n",
    "mytable = txt.maketrans(\"W\", \"P\")\n",
    "print(txt.translate(mytable))\n",
    "\n",
    "# Working with 3 parameters:\n",
    "mytable = txt.maketrans(\"W\", \"P\", \"H\")\n",
    "print(txt.translate(mytable))"
   ],
   "metadata": {
    "collapsed": false,
    "ExecuteTime": {
     "end_time": "2024-09-07T15:39:49.448648Z",
     "start_time": "2024-09-07T15:39:49.419414Z"
    }
   },
   "id": "4c03c13d8a11eded"
  },
  {
   "cell_type": "code",
   "execution_count": 62,
   "outputs": [
    {
     "name": "stdout",
     "output_type": "stream",
     "text": [
      "G i Joe!\n",
      "{109: 101, 83: 74, 97: 111, 111: None, 100: None, 110: None, 103: None, 104: None, 116: None}\n"
     ]
    }
   ],
   "source": [
    "# This replaces characters, not words.\n",
    "\n",
    "txt = \"Good night Sam!\"\n",
    "x = \"mSa\"\n",
    "y = \"eJo\"\n",
    "z = \"odnght\"\n",
    "mytable = str.maketrans(x, y, z)\n",
    "print(txt.translate(mytable))\n",
    "\n",
    "# Mytable is a dictionary that will replace the key with the value\n",
    "print(mytable)"
   ],
   "metadata": {
    "collapsed": false,
    "ExecuteTime": {
     "end_time": "2024-09-07T15:58:06.751312Z",
     "start_time": "2024-09-07T15:58:06.697936Z"
    }
   },
   "id": "4a8a3f042709bae3"
  },
  {
   "cell_type": "markdown",
   "source": [
    "> **Note:** Translate only works with one-to-one character mapping for multi-character mapping, use **replace()** method."
   ],
   "metadata": {
    "collapsed": false
   },
   "id": "b49aa031c85a3789"
  },
  {
   "cell_type": "markdown",
   "source": [
    "#### partition()\n",
    "\n",
    "The **partition()** method searches for a specified string, and splits the string into a tuple containing three elements.\n",
    "\n",
    "The first element contains the part before the specified string.\n",
    "\n",
    "The second element contains the specified string.\n",
    "\n",
    "The third element contains the part after the string."
   ],
   "metadata": {
    "collapsed": false
   },
   "id": "dc8059579fa2081e"
  },
  {
   "cell_type": "markdown",
   "source": [
    "Parameters:\n",
    "\n",
    "- **value** - Required. The string to search for"
   ],
   "metadata": {
    "collapsed": false
   },
   "id": "a9659272ad0573b9"
  },
  {
   "cell_type": "code",
   "execution_count": 104,
   "outputs": [
    {
     "name": "stdout",
     "output_type": "stream",
     "text": [
      "('I could eat ', 'bananas', ' all day, bananas are my favorite fruit')\n"
     ]
    }
   ],
   "source": [
    "txt = \"I could eat bananas all day, bananas are my favorite fruit\"\n",
    "\n",
    "print(txt.partition(\"bananas\"))"
   ],
   "metadata": {
    "collapsed": false,
    "ExecuteTime": {
     "end_time": "2024-09-07T17:22:36.658611Z",
     "start_time": "2024-09-07T17:22:36.618047Z"
    }
   },
   "id": "8d97c0bddfa1a32e"
  },
  {
   "cell_type": "markdown",
   "source": [
    "If the specified value is not found, the partition() method returns a tuple containing: \n",
    "- the whole string\n",
    "- an empty string\n",
    "- an empty string"
   ],
   "metadata": {
    "collapsed": false
   },
   "id": "41b89ff7a8ed4999"
  },
  {
   "cell_type": "code",
   "execution_count": 105,
   "outputs": [
    {
     "name": "stdout",
     "output_type": "stream",
     "text": [
      "('I could eat bananas all day, bananas are my favorite fruit', '', '')\n"
     ]
    }
   ],
   "source": [
    "txt = \"I could eat bananas all day, bananas are my favorite fruit\"\n",
    "\n",
    "print(txt.partition(\"apples\"))"
   ],
   "metadata": {
    "collapsed": false,
    "ExecuteTime": {
     "end_time": "2024-09-07T17:22:42.487623Z",
     "start_time": "2024-09-07T17:22:42.431587Z"
    }
   },
   "id": "d4b33835ac14d337"
  },
  {
   "cell_type": "markdown",
   "source": [
    "#### replace()\n",
    "\n",
    "The **replace()** method replaces a specified phrase with another specified phrase.\n",
    "\n",
    "Replace method is case sensitive."
   ],
   "metadata": {
    "collapsed": false
   },
   "id": "7cd178d6b27ca760"
  },
  {
   "cell_type": "markdown",
   "source": [
    "> **Note:** All occurrences of the specified phrase will be replaced, if nothing else is specified."
   ],
   "metadata": {
    "collapsed": false
   },
   "id": "22328bf040b63d58"
  },
  {
   "cell_type": "markdown",
   "source": [
    "Parameters:\n",
    "\n",
    "- **oldvalue** - Required. The string to search for\n",
    "- **newvalue** - Required. The string to replace the old value with\n",
    "- **count** - Optional. A number specifying how many occurrences of the old value you want to replace. Default is all occurrences."
   ],
   "metadata": {
    "collapsed": false
   },
   "id": "1243e5ce2dd07bf9"
  },
  {
   "cell_type": "code",
   "execution_count": 68,
   "outputs": [
    {
     "name": "stdout",
     "output_type": "stream",
     "text": [
      "I like apples\n",
      "I like bananas\n",
      "I like bbnbnbs\n",
      "I like bbnanas\n"
     ]
    }
   ],
   "source": [
    "# Replace the word \"bananas\":\n",
    "\n",
    "txt = \"I like bananas\"\n",
    "print(txt.replace(\"bananas\", \"apples\"))\n",
    "\n",
    "# Replace all occurrences of the word \"one\":\n",
    "print(txt.replace(\"one\", \"two\"))\n",
    "\n",
    "# Replace letter\n",
    "print(txt.replace(\"a\", \"b\"))\n",
    "\n",
    "# Replace only 1 occurrence:\n",
    "print(txt.replace(\"a\", \"b\", 1))"
   ],
   "metadata": {
    "collapsed": false,
    "ExecuteTime": {
     "end_time": "2024-09-07T16:15:26.434248Z",
     "start_time": "2024-09-07T16:15:26.406271Z"
    }
   },
   "id": "aaec57e31f560984"
  },
  {
   "cell_type": "markdown",
   "source": [
    "> **Note:** The **replace()** method replaces one string of arbitary length with another of arbitary length.\n",
    "\n",
    "> The **translate()** method replaces all individual characters at once. The mapping makes it much more efficient."
   ],
   "metadata": {
    "collapsed": false
   },
   "id": "37b22fe27c74aae2"
  },
  {
   "cell_type": "markdown",
   "source": [
    "#### rfind()\n",
    "\n",
    "The **rfind()** method finds the last occurrence of the specified value.\n",
    "\n",
    "The **rfind()** method returns -1 if the value is not found.\n",
    "\n",
    "The **rfind()** method is almost the same as the **rindex()** method except it does not raise an exception if the value is not found."
   ],
   "metadata": {
    "collapsed": false
   },
   "id": "2347644d67910db0"
  },
  {
   "cell_type": "markdown",
   "source": [
    "Parameters:\n",
    "\n",
    "- **value** - Required. The value to search for\n",
    "- **start** - Optional. Where to start the search. Default is 0\n",
    "- **end** - Optional. Where to end the search. Default is to the end of the string"
   ],
   "metadata": {
    "collapsed": false
   },
   "id": "f12e8e2c6a56cb86"
  },
  {
   "cell_type": "code",
   "execution_count": 74,
   "outputs": [
    {
     "name": "stdout",
     "output_type": "stream",
     "text": [
      "12\n",
      "3\n",
      "15\n",
      "-1\n"
     ]
    }
   ],
   "source": [
    "txt = \"Mi casa, su casa.\"\n",
    "\n",
    "print(txt.rfind(\"casa\"))\n",
    "print(txt.rfind(\"casa\", 0, 7))\n",
    "print(txt.rfind(\"a\"))\n",
    "\n",
    "print(txt.rfind(\"apple\"))"
   ],
   "metadata": {
    "collapsed": false,
    "ExecuteTime": {
     "end_time": "2024-09-07T16:56:15.659668Z",
     "start_time": "2024-09-07T16:56:15.576489Z"
    }
   },
   "id": "d80354f98cfd0071"
  },
  {
   "cell_type": "markdown",
   "source": [
    "#### rindex()\n",
    "\n",
    "The **rindex()** method finds the last occurrence of the specified value.\n",
    "\n",
    "The **rindex()** method raises an exception if the value is not found.\n",
    "\n",
    "The **rindex()** method is almost the same as the **rfind()** method except it raises an exception if the value is not found."
   ],
   "metadata": {
    "collapsed": false
   },
   "id": "deb5f374e2121549"
  },
  {
   "cell_type": "markdown",
   "source": [
    "Parameters:\n",
    "\n",
    "- **value** - Required. The value to search for\n",
    "- **start** - Optional. Where to start the search. Default is 0\n",
    "- **end** - Optional. Where to end the search. Default is to the end of the string"
   ],
   "metadata": {
    "collapsed": false
   },
   "id": "7cadd688d08e35cc"
  },
  {
   "cell_type": "code",
   "execution_count": 75,
   "outputs": [
    {
     "name": "stdout",
     "output_type": "stream",
     "text": [
      "12\n",
      "3\n",
      "15\n"
     ]
    },
    {
     "ename": "ValueError",
     "evalue": "substring not found",
     "output_type": "error",
     "traceback": [
      "\u001B[0;31m---------------------------------------------------------------------------\u001B[0m",
      "\u001B[0;31mValueError\u001B[0m                                Traceback (most recent call last)",
      "Cell \u001B[0;32mIn[75], line 7\u001B[0m\n\u001B[1;32m      4\u001B[0m \u001B[38;5;28mprint\u001B[39m(txt\u001B[38;5;241m.\u001B[39mrindex(\u001B[38;5;124m\"\u001B[39m\u001B[38;5;124mcasa\u001B[39m\u001B[38;5;124m\"\u001B[39m, \u001B[38;5;241m0\u001B[39m, \u001B[38;5;241m7\u001B[39m))\n\u001B[1;32m      5\u001B[0m \u001B[38;5;28mprint\u001B[39m(txt\u001B[38;5;241m.\u001B[39mrindex(\u001B[38;5;124m\"\u001B[39m\u001B[38;5;124ma\u001B[39m\u001B[38;5;124m\"\u001B[39m))\n\u001B[0;32m----> 7\u001B[0m \u001B[38;5;28mprint\u001B[39m(\u001B[43mtxt\u001B[49m\u001B[38;5;241;43m.\u001B[39;49m\u001B[43mrindex\u001B[49m\u001B[43m(\u001B[49m\u001B[38;5;124;43m\"\u001B[39;49m\u001B[38;5;124;43mapple\u001B[39;49m\u001B[38;5;124;43m\"\u001B[39;49m\u001B[43m)\u001B[49m)\n",
      "\u001B[0;31mValueError\u001B[0m: substring not found"
     ]
    }
   ],
   "source": [
    "txt = \"Mi casa, su casa.\"\n",
    "\n",
    "print(txt.rindex(\"casa\"))\n",
    "print(txt.rindex(\"casa\", 0, 7))\n",
    "print(txt.rindex(\"a\"))\n",
    "\n",
    "print(txt.rindex(\"apple\"))"
   ],
   "metadata": {
    "collapsed": false,
    "ExecuteTime": {
     "end_time": "2024-09-07T16:56:19.097190Z",
     "start_time": "2024-09-07T16:56:19.020437Z"
    }
   },
   "id": "878efd2629daa3a"
  },
  {
   "cell_type": "markdown",
   "source": [
    "#### rjust()\n",
    "\n",
    "The **rjust()** method will right align the string, using a specified character (space is default) as the fill character."
   ],
   "metadata": {
    "collapsed": false
   },
   "id": "df64148f2dfd6c64"
  },
  {
   "cell_type": "markdown",
   "source": [
    "Parameters:\n",
    "\n",
    "- **length** - Required. The length of the returned string\n",
    "- **character** (optional) - Optional. A character to fill the missing space on the left. Default is \" \" (space)"
   ],
   "metadata": {
    "collapsed": false
   },
   "id": "cf69ed6fba8f9472"
  },
  {
   "cell_type": "code",
   "execution_count": 94,
   "outputs": [
    {
     "name": "stdout",
     "output_type": "stream",
     "text": [
      "--------------banana\n",
      "banana\n",
      "00000000000000banana\n"
     ]
    },
    {
     "ename": "ValueError",
     "evalue": "Sign not allowed in string format specifier",
     "output_type": "error",
     "traceback": [
      "\u001B[0;31m---------------------------------------------------------------------------\u001B[0m",
      "\u001B[0;31mValueError\u001B[0m                                Traceback (most recent call last)",
      "Cell \u001B[0;32mIn[94], line 12\u001B[0m\n\u001B[1;32m     10\u001B[0m \u001B[38;5;66;03m# It's equivalent to f-string formatting except you can use it with any character\u001B[39;00m\n\u001B[1;32m     11\u001B[0m \u001B[38;5;28mprint\u001B[39m(\u001B[38;5;124mf\u001B[39m\u001B[38;5;124m\"\u001B[39m\u001B[38;5;132;01m{\u001B[39;00m\u001B[38;5;124m'\u001B[39m\u001B[38;5;124mbanana\u001B[39m\u001B[38;5;124m'\u001B[39m\u001B[38;5;132;01m:\u001B[39;00m\u001B[38;5;124m>020\u001B[39m\u001B[38;5;132;01m}\u001B[39;00m\u001B[38;5;124m\"\u001B[39m)\n\u001B[0;32m---> 12\u001B[0m \u001B[38;5;28mprint\u001B[39m(\u001B[38;5;124mf\u001B[39m\u001B[38;5;124m\"\u001B[39m\u001B[38;5;132;01m{\u001B[39;00m\u001B[38;5;124m'\u001B[39m\u001B[38;5;124mbanana\u001B[39m\u001B[38;5;124m'\u001B[39m\u001B[38;5;132;01m:\u001B[39;00m\u001B[38;5;124m>-20\u001B[39m\u001B[38;5;132;01m}\u001B[39;00m\u001B[38;5;124m\"\u001B[39m)\n",
      "\u001B[0;31mValueError\u001B[0m: Sign not allowed in string format specifier"
     ]
    }
   ],
   "source": [
    "# Return a 20 characters long, right justified version of the word \"banana\":\n",
    "\n",
    "txt = \"banana\"\n",
    "print(txt.rjust(20, \"-\"))\n",
    "\n",
    "# If the length of the word is more than the specified length, you will get the complete word: \n",
    "txt = \"banana\"\n",
    "print(txt.rjust(3, \"-\"))\n",
    "\n",
    "# It's equivalent to f-string formatting except you can use it with any character\n",
    "print(f\"{'banana':>020}\")\n",
    "print(f\"{'banana':>-20}\")"
   ],
   "metadata": {
    "collapsed": false,
    "ExecuteTime": {
     "end_time": "2024-09-07T17:16:24.275466Z",
     "start_time": "2024-09-07T17:16:24.252672Z"
    }
   },
   "id": "79a372523b3ec049"
  },
  {
   "cell_type": "markdown",
   "source": [
    "#### rpartition()\n",
    "\n",
    "The **rpartition()** method searches for the last occurrence of a specified string, and splits the string into a tuple containing three elements.\n",
    "\n",
    "The first element contains the part before the specified string.\n",
    "\n",
    "The second element contains the specified string.\n",
    "\n",
    "The third element contains the part after the string."
   ],
   "metadata": {
    "collapsed": false
   },
   "id": "1db33588636dabd"
  },
  {
   "cell_type": "markdown",
   "source": [
    "Parameters:\n",
    "\n",
    "- **value** - Required. The string to search for"
   ],
   "metadata": {
    "collapsed": false
   },
   "id": "2cd23cc5b23a3917"
  },
  {
   "cell_type": "code",
   "execution_count": 100,
   "outputs": [
    {
     "name": "stdout",
     "output_type": "stream",
     "text": [
      "('I could eat bananas all day, ', 'bananas', ' are my favorite fruit')\n",
      "('', '', 'I could eat bananas all day, bananas are my favorite fruit')\n"
     ]
    }
   ],
   "source": [
    "txt = \"I could eat bananas all day, bananas are my favorite fruit\"\n",
    "\n",
    "print(txt.rpartition(\"bananas\"))"
   ],
   "metadata": {
    "collapsed": false,
    "ExecuteTime": {
     "end_time": "2024-09-07T17:20:07.579352Z",
     "start_time": "2024-09-07T17:20:07.526275Z"
    }
   },
   "id": "f998a2792e6beeb5"
  },
  {
   "cell_type": "markdown",
   "source": [
    "If the specified value is not found, the rpartition() method returns a tuple containing: \n",
    "- an empty string\n",
    "- an empty string\n",
    "- the whole string"
   ],
   "metadata": {
    "collapsed": false
   },
   "id": "846865ef54ef1db0"
  },
  {
   "cell_type": "code",
   "execution_count": 106,
   "outputs": [
    {
     "name": "stdout",
     "output_type": "stream",
     "text": [
      "('', '', 'I could eat bananas all day, bananas are my favorite fruit')\n"
     ]
    }
   ],
   "source": [
    "print(txt.rpartition(\"apples\"))"
   ],
   "metadata": {
    "collapsed": false,
    "ExecuteTime": {
     "end_time": "2024-09-07T17:24:14.375087Z",
     "start_time": "2024-09-07T17:24:14.280265Z"
    }
   },
   "id": "58a93991e65ae563"
  },
  {
   "cell_type": "markdown",
   "source": [
    "#### rsplit()\n",
    "\n",
    "The **rsplit()** method splits a string into a list, starting from the right.\n",
    "\n",
    "If no \"max\" is specified, this method will return the same as the **split()** method."
   ],
   "metadata": {
    "collapsed": false
   },
   "id": "ffc7ba37d25a9d19"
  },
  {
   "cell_type": "markdown",
   "source": [
    "> **Note:** When maxsplit is specified, the list will contain the specified number of elements plus one."
   ],
   "metadata": {
    "collapsed": false
   },
   "id": "43b813e9aeb2dd9"
  },
  {
   "cell_type": "markdown",
   "source": [
    "Parameters:\n",
    "\n",
    "- **separator** - Optional. Specifies the separator to use when splitting the string. By default any whitespace is a separator\n",
    "- **maxsplit** - Optional. Specifies how many splits to do. Default value is -1, which is \"all occurrences\""
   ],
   "metadata": {
    "collapsed": false
   },
   "id": "7c1bb2478983c43b"
  },
  {
   "cell_type": "code",
   "execution_count": 111,
   "outputs": [
    {
     "name": "stdout",
     "output_type": "stream",
     "text": [
      "['apple', 'banana', 'cherry']\n",
      "['apple', 'banana', 'cherry']\n",
      "['apple, banana', 'cherry']\n"
     ]
    }
   ],
   "source": [
    "txt1 = \"apple banana cherry\"\n",
    "txt2 = \"apple, banana, cherry\"\n",
    "\n",
    "print(txt1.rsplit())\n",
    "print(txt2.rsplit(\", \"))\n",
    "\n",
    "# Split the string into a list with max 2 items:\n",
    "print(txt2.rsplit(\", \", 1))"
   ],
   "metadata": {
    "collapsed": false,
    "ExecuteTime": {
     "end_time": "2024-09-07T17:41:31.843873Z",
     "start_time": "2024-09-07T17:41:31.788960Z"
    }
   },
   "id": "739f21db34a03428"
  },
  {
   "cell_type": "markdown",
   "source": [
    "#### rstrip()\n",
    "\n",
    "The **rstrip()** method removes any trailing characters (characters at the end a string), space is the default trailing character to remove."
   ],
   "metadata": {
    "collapsed": false
   },
   "id": "2f69f50c3fe5816c"
  },
  {
   "cell_type": "markdown",
   "source": [
    "Parameters:\n",
    "\n",
    "- **character** (optional) - A set of characters to remove as trailing characters."
   ],
   "metadata": {
    "collapsed": false
   },
   "id": "b2a79ca2bcdabcbf"
  },
  {
   "cell_type": "code",
   "execution_count": 112,
   "outputs": [
    {
     "name": "stdout",
     "output_type": "stream",
     "text": [
      "     banana  .,ssp\n"
     ]
    },
    {
     "ename": "AttributeError",
     "evalue": "'str' object has no attribute 'lrtrip'",
     "output_type": "error",
     "traceback": [
      "\u001B[0;31m---------------------------------------------------------------------------\u001B[0m",
      "\u001B[0;31mAttributeError\u001B[0m                            Traceback (most recent call last)",
      "Cell \u001B[0;32mIn[112], line 7\u001B[0m\n\u001B[1;32m      4\u001B[0m \u001B[38;5;28mprint\u001B[39m(txt\u001B[38;5;241m.\u001B[39mrstrip())\n\u001B[1;32m      6\u001B[0m \u001B[38;5;66;03m# Remove the trailing characters:\u001B[39;00m\n\u001B[0;32m----> 7\u001B[0m \u001B[38;5;28mprint\u001B[39m(\u001B[43mtxt\u001B[49m\u001B[38;5;241;43m.\u001B[39;49m\u001B[43mlrtrip\u001B[49m(\u001B[38;5;124m\"\u001B[39m\u001B[38;5;124m .,sp\u001B[39m\u001B[38;5;124m\"\u001B[39m))\n\u001B[1;32m      9\u001B[0m \u001B[38;5;66;03m# Have to include \" \" in the above example else:\u001B[39;00m\n\u001B[1;32m     10\u001B[0m \u001B[38;5;28mprint\u001B[39m(txt\u001B[38;5;241m.\u001B[39mlrtrip(\u001B[38;5;124m\"\u001B[39m\u001B[38;5;124m.,sp\u001B[39m\u001B[38;5;124m\"\u001B[39m))\n",
      "\u001B[0;31mAttributeError\u001B[0m: 'str' object has no attribute 'lrtrip'"
     ]
    }
   ],
   "source": [
    "# Remove spaces to the right of the string:\n",
    "\n",
    "txt = \"     banana  .,ssp   \"\n",
    "print(txt.rstrip())\n",
    "\n",
    "# Remove the trailing characters:\n",
    "print(txt.lrtrip(\" .,sp\"))\n",
    "\n",
    "# Have to include \" \" in the above example else:\n",
    "print(txt.lrtrip(\".,sp\"))"
   ],
   "metadata": {
    "collapsed": false,
    "ExecuteTime": {
     "end_time": "2024-09-07T18:11:12.935155Z",
     "start_time": "2024-09-07T18:11:12.806265Z"
    }
   },
   "id": "8088008a7e269a28"
  },
  {
   "cell_type": "markdown",
   "source": [
    "#### split()\n",
    "\n",
    "The **split()** method splits a string into a list.\n",
    "\n",
    "You can specify the separator, default separator is any whitespace."
   ],
   "metadata": {
    "collapsed": false
   },
   "id": "8cf988249318b4d"
  },
  {
   "cell_type": "markdown",
   "source": [
    "> **Note:** When maxsplit is specified, the list will contain the specified number of elements plus one."
   ],
   "metadata": {
    "collapsed": false
   },
   "id": "bdd63400be949cfc"
  },
  {
   "cell_type": "markdown",
   "source": [
    "Parameters:\n",
    "\n",
    "- **separator** - Optional. Specifies the separator to use when splitting the string. By default any whitespace is a separator\n",
    "- **maxsplit** - Optional. Specifies how many splits to do. Default value is -1, which is \"all occurrences\""
   ],
   "metadata": {
    "collapsed": false
   },
   "id": "8c63060641f06533"
  },
  {
   "cell_type": "code",
   "execution_count": 113,
   "outputs": [
    {
     "name": "stdout",
     "output_type": "stream",
     "text": [
      "['apple', 'banana', 'cherry']\n",
      "['apple', 'banana', 'cherry']\n",
      "['apple', 'banana, cherry']\n"
     ]
    }
   ],
   "source": [
    "txt1 = \"apple banana cherry\"\n",
    "txt2 = \"apple, banana, cherry\"\n",
    "\n",
    "print(txt1.split())\n",
    "print(txt2.split(\", \"))\n",
    "\n",
    "# Split the string into a list with max 2 items:\n",
    "print(txt2.split(\", \", 1))"
   ],
   "metadata": {
    "collapsed": false,
    "ExecuteTime": {
     "end_time": "2024-09-07T18:14:52.779831Z",
     "start_time": "2024-09-07T18:14:52.659820Z"
    }
   },
   "id": "879aabec2e7be218"
  },
  {
   "cell_type": "markdown",
   "source": [
    "#### splitlines()\n",
    "\n",
    "The **splitlines()** method splits a string into a list. The splitting is done at line breaks."
   ],
   "metadata": {
    "collapsed": false
   },
   "id": "4ec843f4088a7f99"
  },
  {
   "cell_type": "markdown",
   "source": [
    "Parameters:\n",
    "\n",
    "- **keeplinebreaks** (optional) - Optional. Specifies if the line breaks should be included (True), or not (False). Default value is **False**"
   ],
   "metadata": {
    "collapsed": false
   },
   "id": "c2b9fc16284a7c45"
  },
  {
   "cell_type": "code",
   "execution_count": 115,
   "outputs": [
    {
     "name": "stdout",
     "output_type": "stream",
     "text": [
      "['Thank you for the music\\n', 'Welcome to the jungle']\n",
      "['Thank you for the music', 'Welcome to the jungle']\n"
     ]
    }
   ],
   "source": [
    "txt = \"Thank you for the music\\nWelcome to the jungle\"\n",
    "\n",
    "print(txt.splitlines(True))\n",
    "print(txt.splitlines())"
   ],
   "metadata": {
    "collapsed": false,
    "ExecuteTime": {
     "end_time": "2024-09-07T18:20:58.231219Z",
     "start_time": "2024-09-07T18:20:58.181578Z"
    }
   },
   "id": "8c2e3e5e3cda1b25"
  },
  {
   "cell_type": "markdown",
   "source": [
    "#### startswith()\n",
    "\n",
    "The **startswith()** method returns **True** if the string starts with the specified value, otherwise **False**."
   ],
   "metadata": {
    "collapsed": false
   },
   "id": "d70a65046ff4f80d"
  },
  {
   "cell_type": "markdown",
   "source": [
    "Parameters:\n",
    "\n",
    "- **value** - Required. The value to check if the string starts with\n",
    "- **start** - Optional. An Integer specifying at which position to start the search\n",
    "- **end** - Optional. An Integer specifying at which position to end the search"
   ],
   "metadata": {
    "collapsed": false
   },
   "id": "c213353b0e093ea7"
  },
  {
   "cell_type": "code",
   "execution_count": 118,
   "outputs": [
    {
     "name": "stdout",
     "output_type": "stream",
     "text": [
      "True\n",
      "True\n",
      "False\n"
     ]
    }
   ],
   "source": [
    "txt = \"Hello, welcome to my world.\"\n",
    "\n",
    "print(txt.startswith(\"Hello\"))\n",
    "print(txt.startswith(\"wel\", 7, 20))\n",
    "\n",
    "print(txt.startswith(\"welcome\"))"
   ],
   "metadata": {
    "collapsed": false,
    "ExecuteTime": {
     "end_time": "2024-09-07T18:41:23.911473Z",
     "start_time": "2024-09-07T18:41:23.851137Z"
    }
   },
   "id": "a6744588a02fd657"
  },
  {
   "cell_type": "markdown",
   "source": [
    "#### strip()\n",
    "\n",
    "The **strip()** method removes any leading (spaces at the beginning) and trailing (spaces at the end) characters (space is the default leading character to remove)."
   ],
   "metadata": {
    "collapsed": false
   },
   "id": "25cf6d0a0f8d2cff"
  },
  {
   "cell_type": "markdown",
   "source": [
    "Parameters:\n",
    "\n",
    "- **character** (optional) - A set of characters to remove as leading/trailing characters."
   ],
   "metadata": {
    "collapsed": false
   },
   "id": "574d6532a2d53c97"
  },
  {
   "cell_type": "code",
   "execution_count": 119,
   "outputs": [
    {
     "name": "stdout",
     "output_type": "stream",
     "text": [
      "banana\n"
     ]
    }
   ],
   "source": [
    " # Remove spaces at the beginning and at the end of the string:\n",
    "\n",
    "txt = \",,,,,rrttgg.....banana....rrr\"\n",
    "print(txt.strip(\",.grt\"))"
   ],
   "metadata": {
    "collapsed": false,
    "ExecuteTime": {
     "end_time": "2024-09-07T18:58:42.697969Z",
     "start_time": "2024-09-07T18:58:42.652034Z"
    }
   },
   "id": "b90b3dc6497e317a"
  },
  {
   "cell_type": "markdown",
   "source": [
    "#### swapcase()\n",
    "\n",
    "The **swapcase()** method returns a string where all the upper case letters are lower case and vice versa."
   ],
   "metadata": {
    "collapsed": false
   },
   "id": "802e7b6a52fc20e8"
  },
  {
   "cell_type": "code",
   "execution_count": 121,
   "outputs": [
    {
     "name": "stdout",
     "output_type": "stream",
     "text": [
      "hELLO mY nAME iS Arsalan\n"
     ]
    }
   ],
   "source": [
    "# Make the lower case letters upper case and the upper case letters lower case:\n",
    "\n",
    "txt = \"Hello My Name Is aRSALAN\"\n",
    "print(txt.swapcase())"
   ],
   "metadata": {
    "collapsed": false,
    "ExecuteTime": {
     "end_time": "2024-09-07T19:00:01.861183Z",
     "start_time": "2024-09-07T19:00:01.811550Z"
    }
   },
   "id": "d23bf91ef2819118"
  },
  {
   "cell_type": "markdown",
   "source": [
    "#### title()\n",
    "\n",
    "The **title()** method returns a string where the first character in every word is upper case. Like a header, or a title.\n",
    "\n",
    "If the word contains a number or a symbol, the first letter after that will be converted to upper case."
   ],
   "metadata": {
    "collapsed": false
   },
   "id": "f76d78ad600611e5"
  },
  {
   "cell_type": "code",
   "execution_count": 122,
   "outputs": [
    {
     "name": "stdout",
     "output_type": "stream",
     "text": [
      "Welcome To My World\n"
     ]
    }
   ],
   "source": [
    "# Make the first letter in each word upper case:\n",
    "\n",
    "txt = \"Welcome to my world\"\n",
    "print(txt.title())"
   ],
   "metadata": {
    "collapsed": false,
    "ExecuteTime": {
     "end_time": "2024-09-07T19:01:36.508428Z",
     "start_time": "2024-09-07T19:01:36.407541Z"
    }
   },
   "id": "23d05e1f4c47b83b"
  },
  {
   "cell_type": "markdown",
   "source": [
    "#### translate()\n",
    "\n",
    "The **translate()** method returns a string where some specified characters are replaced with the character described in a dictionary, or in a mapping table.\n",
    "\n",
    "Use the **maketrans()** method to create a mapping table.\n",
    "\n",
    "If a character is not specified in the dictionary/table, the character will not be replaced.\n",
    "\n",
    "If you use a dictionary, you must use **ascii** codes instead of characters."
   ],
   "metadata": {
    "collapsed": false
   },
   "id": "ea901d79f182e9f5"
  },
  {
   "cell_type": "markdown",
   "source": [
    "Parameters:\n",
    "\n",
    "- **table** - Required. Either a dictionary, or a mapping table describing how to perform the replace"
   ],
   "metadata": {
    "collapsed": false
   },
   "id": "cc03e2ee897150fa"
  },
  {
   "cell_type": "code",
   "execution_count": 123,
   "outputs": [
    {
     "name": "stdout",
     "output_type": "stream",
     "text": [
      "G i Joe!\n"
     ]
    }
   ],
   "source": [
    "txt = \"Good night Sam!\"\n",
    "mydict = {109: 101, 83: 74, 97: 111, 111: None, 100: None, 110: None, 103: None, 104: None, 116: None}\n",
    "print(txt.translate(mydict)) "
   ],
   "metadata": {
    "collapsed": false,
    "ExecuteTime": {
     "end_time": "2024-09-07T19:04:10.754611Z",
     "start_time": "2024-09-07T19:04:10.617604Z"
    }
   },
   "id": "3acdaf00206ff64d"
  },
  {
   "cell_type": "markdown",
   "source": [
    "> **Note:** Check **maketrans()** method for more details."
   ],
   "metadata": {
    "collapsed": false
   },
   "id": "7e79be2ba2ca5b91"
  },
  {
   "cell_type": "markdown",
   "source": [
    "#### upper()\n",
    "\n",
    "The **upper()** method returns a string where all characters are in upper case.\n",
    "\n",
    "Symbols and Numbers are ignored."
   ],
   "metadata": {
    "collapsed": false
   },
   "id": "638bf24fd6c44d70"
  },
  {
   "cell_type": "code",
   "execution_count": 124,
   "outputs": [
    {
     "name": "stdout",
     "output_type": "stream",
     "text": [
      "HELLO WORLD!\n"
     ]
    }
   ],
   "source": [
    "txt = \"Hello World!\"\n",
    "print(txt.upper())"
   ],
   "metadata": {
    "collapsed": false,
    "ExecuteTime": {
     "end_time": "2024-09-07T19:05:40.496645Z",
     "start_time": "2024-09-07T19:05:40.377548Z"
    }
   },
   "id": "35d47d63b810ee00"
  },
  {
   "cell_type": "markdown",
   "source": [
    "#### zfill()\n",
    "\n",
    "The **zfill() method** adds zeros (0) at the beginning of the string, until it reaches the specified length.\n",
    "\n",
    "If the value of the len parameter is less than the length of the string, no filling is done."
   ],
   "metadata": {
    "collapsed": false
   },
   "id": "80b9ea2a3c499108"
  },
  {
   "cell_type": "markdown",
   "source": [
    "Parameters:\n",
    "\n",
    "- **len** - Required. A number specifying the position of the element you want to remove"
   ],
   "metadata": {
    "collapsed": false
   },
   "id": "392dd69e09641c6d"
  },
  {
   "cell_type": "code",
   "execution_count": 125,
   "outputs": [
    {
     "name": "stdout",
     "output_type": "stream",
     "text": [
      "00000hello\n",
      "welcome to the jungle\n",
      "000010.000\n"
     ]
    }
   ],
   "source": [
    "a = \"hello\"\n",
    "b = \"welcome to the jungle\"\n",
    "c = \"10.000\"\n",
    "\n",
    "print(a.zfill(10))\n",
    "print(b.zfill(10))\n",
    "print(c.zfill(10)) "
   ],
   "metadata": {
    "collapsed": false,
    "ExecuteTime": {
     "end_time": "2024-09-07T19:06:37.790472Z",
     "start_time": "2024-09-07T19:06:37.671415Z"
    }
   },
   "id": "be5585463c706e53"
  },
  {
   "cell_type": "code",
   "execution_count": null,
   "outputs": [],
   "source": [],
   "metadata": {
    "collapsed": false
   },
   "id": "176dd2a6bf78e6ec"
  }
 ],
 "metadata": {
  "kernelspec": {
   "display_name": "Python 3",
   "language": "python",
   "name": "python3"
  },
  "language_info": {
   "codemirror_mode": {
    "name": "ipython",
    "version": 2
   },
   "file_extension": ".py",
   "mimetype": "text/x-python",
   "name": "python",
   "nbconvert_exporter": "python",
   "pygments_lexer": "ipython2",
   "version": "2.7.6"
  }
 },
 "nbformat": 4,
 "nbformat_minor": 5
}
