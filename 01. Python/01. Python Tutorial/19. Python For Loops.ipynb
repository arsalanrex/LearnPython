{
 "cells": [
  {
   "cell_type": "markdown",
   "source": [
    "### Python For Loops\n",
    "\n",
    "A **for** loop is used for iterating over a sequence (that is either a list, a tuple, a dictionary, a set, or a string).\n",
    "\n",
    "This is less like the **for** keyword in other programming languages, and works more like an iterator method as found in other object-orientated programming languages.\n",
    "\n",
    "With the **for** loop we can execute a set of statements, once for each item in a list, tuple, set etc."
   ],
   "metadata": {
    "collapsed": false
   },
   "id": "3d43df49540d0c6d"
  },
  {
   "cell_type": "code",
   "execution_count": 1,
   "id": "initial_id",
   "metadata": {
    "collapsed": true,
    "ExecuteTime": {
     "end_time": "2024-09-07T20:04:57.504140Z",
     "start_time": "2024-09-07T20:04:57.498771Z"
    }
   },
   "outputs": [
    {
     "name": "stdout",
     "output_type": "stream",
     "text": [
      "apple\n",
      "banana\n",
      "cherry\n"
     ]
    }
   ],
   "source": [
    "# Print each fruit in a fruit list:\n",
    "\n",
    "fruits = [\"apple\", \"banana\", \"cherry\"]\n",
    "for x in fruits:\n",
    "  print(x)"
   ]
  },
  {
   "cell_type": "markdown",
   "source": [
    "The **for** loop does not require an indexing variable to set beforehand."
   ],
   "metadata": {
    "collapsed": false
   },
   "id": "96214411eabb515c"
  },
  {
   "cell_type": "markdown",
   "source": [
    "### Looping Through a String\n",
    "\n",
    "Even strings are iterable objects, they contain a sequence of characters:"
   ],
   "metadata": {
    "collapsed": false
   },
   "id": "c423e6852e483566"
  },
  {
   "cell_type": "code",
   "execution_count": 2,
   "outputs": [
    {
     "name": "stdout",
     "output_type": "stream",
     "text": [
      "b\n",
      "a\n",
      "n\n",
      "a\n",
      "n\n",
      "a\n"
     ]
    }
   ],
   "source": [
    "# Loop through the letters in the word \"banana\":\n",
    "\n",
    "for x in \"banana\":\n",
    "  print(x)"
   ],
   "metadata": {
    "collapsed": false,
    "ExecuteTime": {
     "end_time": "2024-09-07T20:06:40.590719Z",
     "start_time": "2024-09-07T20:06:40.548785Z"
    }
   },
   "id": "9ee4784d3de409ff"
  },
  {
   "cell_type": "markdown",
   "source": [
    "### The break Statement\n",
    "\n",
    "With the **break** statement we can stop the loop before it has looped through all the items:"
   ],
   "metadata": {
    "collapsed": false
   },
   "id": "6c5547e74f0ef5b9"
  },
  {
   "cell_type": "code",
   "execution_count": 3,
   "outputs": [
    {
     "name": "stdout",
     "output_type": "stream",
     "text": [
      "apple\n",
      "banana\n"
     ]
    }
   ],
   "source": [
    "# Exit the loop when x is \"banana\":\n",
    "\n",
    "fruits = [\"apple\", \"banana\", \"cherry\"]\n",
    "for x in fruits:\n",
    "  print(x)\n",
    "  if x == \"banana\":\n",
    "    break"
   ],
   "metadata": {
    "collapsed": false,
    "ExecuteTime": {
     "end_time": "2024-09-07T20:07:17.021069Z",
     "start_time": "2024-09-07T20:07:16.979882Z"
    }
   },
   "id": "855b39a9a444afa9"
  },
  {
   "cell_type": "code",
   "execution_count": 4,
   "outputs": [
    {
     "name": "stdout",
     "output_type": "stream",
     "text": [
      "apple\n"
     ]
    }
   ],
   "source": [
    "# Exit the loop when x is \"banana\", but this time the break comes before the print:\n",
    "\n",
    "fruits = [\"apple\", \"banana\", \"cherry\"]\n",
    "for x in fruits:\n",
    "  if x == \"banana\":\n",
    "    break\n",
    "  print(x)"
   ],
   "metadata": {
    "collapsed": false,
    "ExecuteTime": {
     "end_time": "2024-09-07T20:07:37.065680Z",
     "start_time": "2024-09-07T20:07:37.028461Z"
    }
   },
   "id": "7589d09befd4e29c"
  },
  {
   "cell_type": "markdown",
   "source": [
    "### The continue Statement\n",
    "\n",
    "With the **continue** statement we can stop the current iteration of the loop, and continue with the next:"
   ],
   "metadata": {
    "collapsed": false
   },
   "id": "d187d31eedee42aa"
  },
  {
   "cell_type": "code",
   "execution_count": 5,
   "outputs": [
    {
     "name": "stdout",
     "output_type": "stream",
     "text": [
      "apple\n",
      "cherry\n"
     ]
    }
   ],
   "source": [
    "# Do not print banana:\n",
    "\n",
    "fruits = [\"apple\", \"banana\", \"cherry\"]\n",
    "for x in fruits:\n",
    "  if x == \"banana\":\n",
    "    continue\n",
    "  print(x)"
   ],
   "metadata": {
    "collapsed": false,
    "ExecuteTime": {
     "end_time": "2024-09-07T20:08:02.174949Z",
     "start_time": "2024-09-07T20:08:02.133790Z"
    }
   },
   "id": "b17398ce649799d5"
  },
  {
   "cell_type": "markdown",
   "source": [
    "### The range() Function\n",
    "\n",
    "To loop through a set of code a specified number of times, we can use the **range()** function,\n",
    "\n",
    "The **range()** function returns a sequence of numbers, starting from 0 by default, and increments by 1 (by default), and ends at a specified number."
   ],
   "metadata": {
    "collapsed": false
   },
   "id": "97b46b1334084e18"
  },
  {
   "cell_type": "code",
   "execution_count": 6,
   "outputs": [
    {
     "name": "stdout",
     "output_type": "stream",
     "text": [
      "0\n",
      "1\n",
      "2\n",
      "3\n",
      "4\n",
      "5\n"
     ]
    }
   ],
   "source": [
    "for x in range(6):\n",
    "  print(x)"
   ],
   "metadata": {
    "collapsed": false,
    "ExecuteTime": {
     "end_time": "2024-09-07T20:08:36.730524Z",
     "start_time": "2024-09-07T20:08:36.689893Z"
    }
   },
   "id": "a4e06dba3bb00255"
  },
  {
   "cell_type": "markdown",
   "source": [
    "> **Note:** that range(6) is not the values of 0 to 6, but the values 0 to 5."
   ],
   "metadata": {
    "collapsed": false
   },
   "id": "5240dc128634b47"
  },
  {
   "cell_type": "markdown",
   "source": [
    "The **range()** function defaults to 0 as a starting value, however it is possible to specify the starting value by adding a parameter: **range(2, 6)**, which means values from 2 to 6 (but not including 6):"
   ],
   "metadata": {
    "collapsed": false
   },
   "id": "ec44b849c6c68af7"
  },
  {
   "cell_type": "code",
   "execution_count": 7,
   "outputs": [
    {
     "name": "stdout",
     "output_type": "stream",
     "text": [
      "2\n",
      "3\n",
      "4\n",
      "5\n"
     ]
    }
   ],
   "source": [
    "for x in range(2, 6):\n",
    "  print(x)"
   ],
   "metadata": {
    "collapsed": false,
    "ExecuteTime": {
     "end_time": "2024-09-07T20:09:20.538489Z",
     "start_time": "2024-09-07T20:09:20.501664Z"
    }
   },
   "id": "f439d5ec0fcbbab9"
  },
  {
   "cell_type": "markdown",
   "source": [
    "The **range()** function defaults to increment the sequence by 1, however it is possible to specify the increment value by adding a third parameter: **range(2, 30, 3)**:"
   ],
   "metadata": {
    "collapsed": false
   },
   "id": "512848e331d72cd5"
  },
  {
   "cell_type": "code",
   "execution_count": 8,
   "outputs": [
    {
     "name": "stdout",
     "output_type": "stream",
     "text": [
      "2\n",
      "5\n",
      "8\n",
      "11\n",
      "14\n",
      "17\n",
      "20\n",
      "23\n",
      "26\n",
      "29\n"
     ]
    }
   ],
   "source": [
    "for x in range(2, 30, 3):\n",
    "  print(x)"
   ],
   "metadata": {
    "collapsed": false,
    "ExecuteTime": {
     "end_time": "2024-09-07T20:09:44.498203Z",
     "start_time": "2024-09-07T20:09:44.460204Z"
    }
   },
   "id": "22deaea5d575fdb8"
  },
  {
   "cell_type": "markdown",
   "source": [
    "### Else in For Loop\n",
    "\n",
    "The **else** keyword in a **for** loop specifies a block of code to be executed when the loop is finished:"
   ],
   "metadata": {
    "collapsed": false
   },
   "id": "b8d790e4ddc51690"
  },
  {
   "cell_type": "code",
   "execution_count": 9,
   "outputs": [
    {
     "name": "stdout",
     "output_type": "stream",
     "text": [
      "0\n",
      "1\n",
      "2\n",
      "3\n",
      "4\n",
      "5\n",
      "Finally finished!\n"
     ]
    }
   ],
   "source": [
    "# Print a message once the loop has completed:\n",
    "\n",
    "for x in range(6):\n",
    "  print(x)\n",
    "else:\n",
    "  print(\"Finally finished!\")"
   ],
   "metadata": {
    "collapsed": false,
    "ExecuteTime": {
     "end_time": "2024-09-07T20:10:25.263277Z",
     "start_time": "2024-09-07T20:10:25.221796Z"
    }
   },
   "id": "d91049ef2c6db286"
  },
  {
   "cell_type": "markdown",
   "source": [
    "> **Note:** The **else** block will NOT be executed if the loop is stopped by a **break** statement."
   ],
   "metadata": {
    "collapsed": false
   },
   "id": "a2560b2e43bba64"
  },
  {
   "cell_type": "code",
   "execution_count": 10,
   "outputs": [
    {
     "name": "stdout",
     "output_type": "stream",
     "text": [
      "0\n",
      "1\n",
      "2\n"
     ]
    }
   ],
   "source": [
    "for x in range(6):\n",
    "  if x == 3: break\n",
    "  print(x)\n",
    "else:\n",
    "  print(\"Finally finished!\")"
   ],
   "metadata": {
    "collapsed": false,
    "ExecuteTime": {
     "end_time": "2024-09-07T20:10:48.322067Z",
     "start_time": "2024-09-07T20:10:48.284734Z"
    }
   },
   "id": "498faad0b542fd30"
  },
  {
   "cell_type": "markdown",
   "source": [
    "### Nested Loops\n",
    "\n",
    "A nested loop is a loop inside a loop.\n",
    "\n",
    "The \"inner loop\" will be executed one time for each iteration of the \"outer loop\":"
   ],
   "metadata": {
    "collapsed": false
   },
   "id": "b138ca17caa46f94"
  },
  {
   "cell_type": "code",
   "execution_count": 11,
   "outputs": [
    {
     "name": "stdout",
     "output_type": "stream",
     "text": [
      "red apple\n",
      "red banana\n",
      "red cherry\n",
      "big apple\n",
      "big banana\n",
      "big cherry\n",
      "tasty apple\n",
      "tasty banana\n",
      "tasty cherry\n"
     ]
    }
   ],
   "source": [
    "adj = [\"red\", \"big\", \"tasty\"]\n",
    "fruits = [\"apple\", \"banana\", \"cherry\"]\n",
    "\n",
    "for x in adj:\n",
    "  for y in fruits:\n",
    "    print(x, y)"
   ],
   "metadata": {
    "collapsed": false,
    "ExecuteTime": {
     "end_time": "2024-09-07T20:11:22.397259Z",
     "start_time": "2024-09-07T20:11:22.355567Z"
    }
   },
   "id": "5f54db48dc4120ed"
  },
  {
   "cell_type": "markdown",
   "source": [
    "### The pass Statement\n",
    "\n",
    "for loops cannot be empty, but if you for some reason have a for loop with no content, put in the **pass** statement to avoid getting an error."
   ],
   "metadata": {
    "collapsed": false
   },
   "id": "da1883619df2d863"
  },
  {
   "cell_type": "code",
   "execution_count": 12,
   "outputs": [],
   "source": [
    "for x in [0, 1, 2]:\n",
    "  pass"
   ],
   "metadata": {
    "collapsed": false,
    "ExecuteTime": {
     "end_time": "2024-09-07T20:11:53.945541Z",
     "start_time": "2024-09-07T20:11:53.900883Z"
    }
   },
   "id": "23626a367ba00f9d"
  },
  {
   "cell_type": "code",
   "execution_count": null,
   "outputs": [],
   "source": [],
   "metadata": {
    "collapsed": false
   },
   "id": "9a2d79330589ea9f"
  }
 ],
 "metadata": {
  "kernelspec": {
   "display_name": "Python 3",
   "language": "python",
   "name": "python3"
  },
  "language_info": {
   "codemirror_mode": {
    "name": "ipython",
    "version": 2
   },
   "file_extension": ".py",
   "mimetype": "text/x-python",
   "name": "python",
   "nbconvert_exporter": "python",
   "pygments_lexer": "ipython2",
   "version": "2.7.6"
  }
 },
 "nbformat": 4,
 "nbformat_minor": 5
}
