{
 "cells": [
  {
   "cell_type": "markdown",
   "source": [
    "## Python Examples"
   ],
   "metadata": {
    "collapsed": false
   },
   "id": "c14cee411c894bf2"
  },
  {
   "cell_type": "markdown",
   "source": [
    "### Python Syntax"
   ],
   "metadata": {
    "collapsed": false
   },
   "id": "63788ba33454d998"
  },
  {
   "cell_type": "code",
   "execution_count": 1,
   "id": "initial_id",
   "metadata": {
    "collapsed": true,
    "ExecuteTime": {
     "end_time": "2024-09-07T10:39:52.941411Z",
     "start_time": "2024-09-07T10:39:52.939073Z"
    }
   },
   "outputs": [
    {
     "name": "stdout",
     "output_type": "stream",
     "text": [
      "Hello World\n"
     ]
    }
   ],
   "source": [
    "# Print \"Hello World\"\n",
    "\n",
    "print(\"Hello World\")"
   ]
  },
  {
   "cell_type": "code",
   "execution_count": 10,
   "outputs": [
    {
     "name": "stdout",
     "output_type": "stream",
     "text": [
      "Hello World\n"
     ]
    }
   ],
   "source": [
    "# Comments in Python\n",
    "\n",
    "# This is a comment\n",
    "\n",
    "'''\n",
    "This is docstring that can be\n",
    "used as a multi-line comment.\n",
    "'''\n",
    "\n",
    "print(\"Hello World\")"
   ],
   "metadata": {
    "collapsed": false,
    "ExecuteTime": {
     "end_time": "2024-09-07T10:44:32.157026Z",
     "start_time": "2024-09-07T10:44:32.151182Z"
    }
   },
   "id": "be64d0fb2080102"
  },
  {
   "cell_type": "code",
   "execution_count": 11,
   "outputs": [
    {
     "name": "stdout",
     "output_type": "stream",
     "text": [
      "\n",
      "    Docstrings describe the function.\n",
      "    \n"
     ]
    }
   ],
   "source": [
    "# Docstrings in Python\n",
    "\n",
    "def func():\n",
    "    \"\"\"\n",
    "    Docstrings describe the function.\n",
    "    \"\"\"\n",
    "    return None\n",
    "\n",
    "print(func.__doc__)"
   ],
   "metadata": {
    "collapsed": false,
    "ExecuteTime": {
     "end_time": "2024-09-07T10:45:13.988147Z",
     "start_time": "2024-09-07T10:45:13.976019Z"
    }
   },
   "id": "7b54d3627a255cbb"
  },
  {
   "cell_type": "markdown",
   "source": [
    "### Python Variables"
   ],
   "metadata": {
    "collapsed": false
   },
   "id": "b35d6269a174e3ed"
  },
  {
   "cell_type": "code",
   "execution_count": 21,
   "outputs": [
    {
     "name": "stdout",
     "output_type": "stream",
     "text": [
      "5\n"
     ]
    }
   ],
   "source": [
    "# Create a variable\n",
    "\n",
    "x = 5\n",
    "print(x)"
   ],
   "metadata": {
    "collapsed": false,
    "ExecuteTime": {
     "end_time": "2024-09-07T10:56:05.256161Z",
     "start_time": "2024-09-07T10:56:05.243867Z"
    }
   },
   "id": "acb1c3ff08d3b52a"
  },
  {
   "cell_type": "code",
   "execution_count": 22,
   "outputs": [
    {
     "name": "stdout",
     "output_type": "stream",
     "text": [
      "x = 5\n"
     ]
    }
   ],
   "source": [
    "# Output variables and text\n",
    "\n",
    "x = 5\n",
    "print(\"x =\", x)"
   ],
   "metadata": {
    "collapsed": false,
    "ExecuteTime": {
     "end_time": "2024-09-07T10:56:47.100853Z",
     "start_time": "2024-09-07T10:56:47.092013Z"
    }
   },
   "id": "a247e4561132f549"
  },
  {
   "cell_type": "code",
   "execution_count": 23,
   "outputs": [
    {
     "name": "stdout",
     "output_type": "stream",
     "text": [
      "8\n"
     ]
    }
   ],
   "source": [
    "# Add variables\n",
    "\n",
    "a, b = 5, 3\n",
    "print(a + b)"
   ],
   "metadata": {
    "collapsed": false,
    "ExecuteTime": {
     "end_time": "2024-09-07T10:57:24.320293Z",
     "start_time": "2024-09-07T10:57:24.306616Z"
    }
   },
   "id": "91f3a65c7788c824"
  },
  {
   "cell_type": "markdown",
   "source": [
    "### Python Numbers"
   ],
   "metadata": {
    "collapsed": false
   },
   "id": "1b6c767b4594dc9f"
  },
  {
   "cell_type": "code",
   "execution_count": 17,
   "outputs": [
    {
     "name": "stdout",
     "output_type": "stream",
     "text": [
      "type(5) : <class 'int'>\n",
      "type(1.5) : <class 'float'>\n",
      "type(5j) : <class 'complex'>\n",
      "type(Hello) : <class 'str'>\n",
      "type((5, 7)) : <class 'tuple'>\n",
      "type({'name': 'John', 'age': 25}) : <class 'dict'>\n",
      "type({5, 7}) : <class 'set'>\n",
      "type([5, 7]) : <class 'list'>\n",
      "type(True) : <class 'bool'>\n",
      "type(None) : <class 'NoneType'>\n"
     ]
    }
   ],
   "source": [
    "# Verify object types\n",
    "\n",
    "a = [5, 1.5, 5j, \"Hello\", (5, 7), {\"name\": \"John\", \"age\": 25}, {5, 7}, [5, 7], True, None]\n",
    "\n",
    "for x in a:\n",
    "    print(f\"type({x}) : {type(x)}\")"
   ],
   "metadata": {
    "collapsed": false,
    "ExecuteTime": {
     "end_time": "2024-09-07T10:51:15.840070Z",
     "start_time": "2024-09-07T10:51:15.834270Z"
    }
   },
   "id": "45e15e00fd1d9cce"
  },
  {
   "cell_type": "code",
   "execution_count": 18,
   "outputs": [
    {
     "name": "stdout",
     "output_type": "stream",
     "text": [
      "type(5) : <class 'int'>\n",
      "type(-5) : <class 'int'>\n",
      "type(0) : <class 'int'>\n",
      "type(5) : <class 'int'>\n",
      "type(5) : <class 'int'>\n",
      "type(5) : <class 'int'>\n"
     ]
    }
   ],
   "source": [
    "# Integer\n",
    "\n",
    "a = [5, -5, 0, 0b101, 0o5, 0x5]\n",
    "\n",
    "for x in a:\n",
    "    print(f\"type({x}) : {type(x)}\")"
   ],
   "metadata": {
    "collapsed": false,
    "ExecuteTime": {
     "end_time": "2024-09-07T10:54:05.690061Z",
     "start_time": "2024-09-07T10:54:05.681410Z"
    }
   },
   "id": "4155fd80ec3b8537"
  },
  {
   "cell_type": "code",
   "execution_count": 19,
   "outputs": [
    {
     "name": "stdout",
     "output_type": "stream",
     "text": [
      "type(5.0) : <class 'float'>\n",
      "type(-5.0) : <class 'float'>\n",
      "type(0.0) : <class 'float'>\n",
      "type(5000.0) : <class 'float'>\n",
      "type(-5000.0) : <class 'float'>\n"
     ]
    }
   ],
   "source": [
    "# Float\n",
    "\n",
    "a = [5.0, -5.0, 0.0, 5e3, -5e3]\n",
    "\n",
    "for x in a:\n",
    "    print(f\"type({x}) : {type(x)}\")"
   ],
   "metadata": {
    "collapsed": false,
    "ExecuteTime": {
     "end_time": "2024-09-07T10:54:47.476108Z",
     "start_time": "2024-09-07T10:54:47.460182Z"
    }
   },
   "id": "bf08997a99769fd6"
  },
  {
   "cell_type": "code",
   "execution_count": 20,
   "outputs": [
    {
     "name": "stdout",
     "output_type": "stream",
     "text": [
      "type(5j) : <class 'complex'>\n",
      "type((-0-5j)) : <class 'complex'>\n",
      "type(0j) : <class 'complex'>\n"
     ]
    }
   ],
   "source": [
    "# Complex\n",
    "\n",
    "a = [5j, -5j, 0j]\n",
    "\n",
    "for x in a:\n",
    "    print(f\"type({x}) : {type(x)}\")"
   ],
   "metadata": {
    "collapsed": false,
    "ExecuteTime": {
     "end_time": "2024-09-07T10:55:04.260504Z",
     "start_time": "2024-09-07T10:55:04.247043Z"
    }
   },
   "id": "6cd00ecdac776cfd"
  },
  {
   "cell_type": "code",
   "execution_count": 24,
   "outputs": [
    {
     "name": "stdout",
     "output_type": "stream",
     "text": [
      "type(5000.0) : <class 'float'>\n",
      "type(-5000.0) : <class 'float'>\n",
      "type(5000.0) : <class 'float'>\n",
      "type(-5000.0) : <class 'float'>\n"
     ]
    }
   ],
   "source": [
    "# Scientific Numbers\n",
    "\n",
    "a = [5e3, -5e3, 5E3, -5E3]\n",
    "\n",
    "for x in a:\n",
    "    print(f\"type({x}) : {type(x)}\")"
   ],
   "metadata": {
    "collapsed": false,
    "ExecuteTime": {
     "end_time": "2024-09-07T10:57:52.578608Z",
     "start_time": "2024-09-07T10:57:52.560538Z"
    }
   },
   "id": "50344d9e362e0757"
  },
  {
   "cell_type": "markdown",
   "source": [
    "### Python Casting"
   ],
   "metadata": {
    "collapsed": false
   },
   "id": "af46181a81da221f"
  },
  {
   "cell_type": "code",
   "execution_count": 34,
   "outputs": [
    {
     "name": "stdout",
     "output_type": "stream",
     "text": [
      "type(5) : <class 'int'>\n",
      "type(5) : <class 'int'>\n",
      "type(5) : <class 'int'>\n",
      "type(5) : <class 'int'>\n",
      "type(5) : <class 'int'>\n"
     ]
    }
   ],
   "source": [
    "# Casting - Integer\n",
    "\n",
    "a = int(5.0)\n",
    "b = int(\"5\")\n",
    "c = int(\"101\", 2)\n",
    "d = int(\"5\", 8)\n",
    "e = int(\"5\", 16)\n",
    "\n",
    "for x in [a, b, c, d, e]:\n",
    "    print(f\"type({x}) : {type(x)}\")"
   ],
   "metadata": {
    "collapsed": false,
    "ExecuteTime": {
     "end_time": "2024-09-07T11:03:05.459025Z",
     "start_time": "2024-09-07T11:03:05.443086Z"
    }
   },
   "id": "6f81d642c541a4ab"
  },
  {
   "cell_type": "code",
   "execution_count": 33,
   "outputs": [
    {
     "name": "stdout",
     "output_type": "stream",
     "text": [
      "type(5.0) : <class 'float'>\n",
      "type(5.0) : <class 'float'>\n",
      "type(5.0) : <class 'float'>\n"
     ]
    }
   ],
   "source": [
    "# Casting - Float\n",
    "\n",
    "a = float(5)\n",
    "b = float(\"5\")\n",
    "c = float(\"5.0\")\n",
    "\n",
    "for x in [a, b, c]:\n",
    "    print(f\"type({x}) : {type(x)}\")"
   ],
   "metadata": {
    "collapsed": false,
    "ExecuteTime": {
     "end_time": "2024-09-07T11:02:57.572175Z",
     "start_time": "2024-09-07T11:02:57.563414Z"
    }
   },
   "id": "88673713481037bb"
  },
  {
   "cell_type": "code",
   "execution_count": 35,
   "outputs": [
    {
     "name": "stdout",
     "output_type": "stream",
     "text": [
      "type(5) : <class 'str'>\n",
      "type(5.0) : <class 'str'>\n",
      "type(5j) : <class 'str'>\n"
     ]
    }
   ],
   "source": [
    "# Casting - String\n",
    "\n",
    "a = str(5)\n",
    "b = str(5.0)\n",
    "c = str(5j)\n",
    "\n",
    "for x in [a, b, c]:\n",
    "    print(f\"type({x}) : {type(x)}\")"
   ],
   "metadata": {
    "collapsed": false,
    "ExecuteTime": {
     "end_time": "2024-09-07T11:03:23.125997Z",
     "start_time": "2024-09-07T11:03:23.107353Z"
    }
   },
   "id": "f935b4e102115e1a"
  },
  {
   "cell_type": "code",
   "execution_count": 36,
   "outputs": [
    {
     "name": "stdout",
     "output_type": "stream",
     "text": [
      "type((5+0j)) : <class 'complex'>\n",
      "type((5+0j)) : <class 'complex'>\n",
      "type((5+0j)) : <class 'complex'>\n",
      "type((5+0j)) : <class 'complex'>\n"
     ]
    }
   ],
   "source": [
    "# Casting - Complex\n",
    "\n",
    "a = complex(5)\n",
    "b = complex(5.0)\n",
    "c = complex(\"5\")\n",
    "d = complex(\"5.0\")\n",
    "\n",
    "for x in [a, b, c, d]:\n",
    "    print(f\"type({x}) : {type(x)}\")"
   ],
   "metadata": {
    "collapsed": false,
    "ExecuteTime": {
     "end_time": "2024-09-07T11:03:37.345731Z",
     "start_time": "2024-09-07T11:03:37.324365Z"
    }
   },
   "id": "c55e19c3c41f24f8"
  },
  {
   "cell_type": "markdown",
   "source": [
    "### Python Strings"
   ],
   "metadata": {
    "collapsed": false
   },
   "id": "114bc07a040265"
  },
  {
   "cell_type": "code",
   "execution_count": null,
   "outputs": [],
   "source": [],
   "metadata": {
    "collapsed": false
   },
   "id": "ab72919da6599798"
  }
 ],
 "metadata": {
  "kernelspec": {
   "display_name": "Python 3",
   "language": "python",
   "name": "python3"
  },
  "language_info": {
   "codemirror_mode": {
    "name": "ipython",
    "version": 2
   },
   "file_extension": ".py",
   "mimetype": "text/x-python",
   "name": "python",
   "nbconvert_exporter": "python",
   "pygments_lexer": "ipython2",
   "version": "2.7.6"
  }
 },
 "nbformat": 4,
 "nbformat_minor": 5
}
