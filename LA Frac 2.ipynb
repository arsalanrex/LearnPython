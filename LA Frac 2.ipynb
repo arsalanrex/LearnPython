{
 "cells": [
  {
   "cell_type": "code",
   "execution_count": 20,
   "id": "initial_id",
   "metadata": {
    "collapsed": true,
    "ExecuteTime": {
     "end_time": "2023-10-13T12:47:27.757442Z",
     "start_time": "2023-10-13T12:47:27.752826Z"
    }
   },
   "outputs": [
    {
     "name": "stdout",
     "output_type": "stream",
     "text": [
      "norm 1 = 4\n",
      "norm 2 = 10\n",
      "norm 3 = 20\n",
      "norm infinity = 2\n"
     ]
    }
   ],
   "source": [
    "#Norm\n",
    "p = [1,2,3,'infinity']\n",
    "v = [1, -1, 2, 0]\n",
    "nrm = 0\n",
    "\n",
    "for i in range(len(p)):\n",
    "    if p[i] == 'infinity':\n",
    "        print(\"norm\",p[i],\"=\", max(v))\n",
    "    else:\n",
    "        for j in range(len(v)):\n",
    "            nrm = nrm + abs(v[j])**p[i]\n",
    "        print(\"norm\",p[i],\"=\",nrm)\n",
    "    \n",
    "        "
   ]
  },
  {
   "cell_type": "code",
   "execution_count": null,
   "outputs": [],
   "source": [],
   "metadata": {
    "collapsed": false
   },
   "id": "8cd2deacfc6665d2"
  }
 ],
 "metadata": {
  "kernelspec": {
   "display_name": "Python 3",
   "language": "python",
   "name": "python3"
  },
  "language_info": {
   "codemirror_mode": {
    "name": "ipython",
    "version": 2
   },
   "file_extension": ".py",
   "mimetype": "text/x-python",
   "name": "python",
   "nbconvert_exporter": "python",
   "pygments_lexer": "ipython2",
   "version": "2.7.6"
  }
 },
 "nbformat": 4,
 "nbformat_minor": 5
}
