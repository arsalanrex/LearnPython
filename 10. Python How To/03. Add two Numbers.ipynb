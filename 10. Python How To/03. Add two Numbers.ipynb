{
 "cells": [
  {
   "cell_type": "markdown",
   "source": [
    "## Adding two numbers"
   ],
   "metadata": {
    "collapsed": false
   },
   "id": "f98beb437d475d8e"
  },
  {
   "cell_type": "markdown",
   "source": [
    "### Using **+** operator"
   ],
   "metadata": {
    "collapsed": false
   },
   "id": "ec117c18a46124fb"
  },
  {
   "cell_type": "code",
   "execution_count": 1,
   "id": "initial_id",
   "metadata": {
    "collapsed": true,
    "ExecuteTime": {
     "end_time": "2024-09-05T10:30:03.739831Z",
     "start_time": "2024-09-05T10:30:03.735801Z"
    }
   },
   "outputs": [
    {
     "name": "stdout",
     "output_type": "stream",
     "text": [
      "30\n"
     ]
    }
   ],
   "source": [
    "a = 10\n",
    "b = 20\n",
    "print(a + b)"
   ]
  },
  {
   "cell_type": "markdown",
   "source": [
    "### Using **sum** function"
   ],
   "metadata": {
    "collapsed": false
   },
   "id": "dada6d3dafdb6a5c"
  },
  {
   "cell_type": "code",
   "execution_count": 2,
   "outputs": [
    {
     "name": "stdout",
     "output_type": "stream",
     "text": [
      "30\n"
     ]
    }
   ],
   "source": [
    "a = 10\n",
    "b = 20\n",
    "print(sum([a, b]))"
   ],
   "metadata": {
    "collapsed": false,
    "ExecuteTime": {
     "end_time": "2024-09-05T10:30:21.441746Z",
     "start_time": "2024-09-05T10:30:21.414340Z"
    }
   },
   "id": "b4cff153269cb942"
  },
  {
   "cell_type": "markdown",
   "source": [
    "### taking in users input"
   ],
   "metadata": {
    "collapsed": false
   },
   "id": "ec41b02d352739d9"
  },
  {
   "cell_type": "code",
   "execution_count": 5,
   "outputs": [
    {
     "name": "stdout",
     "output_type": "stream",
     "text": [
      "10 20 30\n"
     ]
    }
   ],
   "source": [
    "a = int(input(\"Enter first number: \"))\n",
    "b = int(input(\"Enter second number: \"))\n",
    "print(a,b,a + b)"
   ],
   "metadata": {
    "collapsed": false,
    "ExecuteTime": {
     "end_time": "2024-09-05T10:31:56.568701Z",
     "start_time": "2024-09-05T10:31:53.709516Z"
    }
   },
   "id": "832e03bf3e07bd47"
  },
  {
   "cell_type": "markdown",
   "source": [
    "[Arsalan](github.com/arsalanrex)"
   ],
   "metadata": {
    "collapsed": false
   },
   "id": "24367ab5cabb3aea"
  },
  {
   "cell_type": "code",
   "execution_count": null,
   "outputs": [],
   "source": [],
   "metadata": {
    "collapsed": false
   },
   "id": "8a7cbb853e32d05b"
  }
 ],
 "metadata": {
  "kernelspec": {
   "display_name": "Python 3",
   "language": "python",
   "name": "python3"
  },
  "language_info": {
   "codemirror_mode": {
    "name": "ipython",
    "version": 2
   },
   "file_extension": ".py",
   "mimetype": "text/x-python",
   "name": "python",
   "nbconvert_exporter": "python",
   "pygments_lexer": "ipython2",
   "version": "2.7.6"
  }
 },
 "nbformat": 4,
 "nbformat_minor": 5
}
