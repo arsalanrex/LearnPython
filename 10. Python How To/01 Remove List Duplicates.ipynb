{
 "cells": [
  {
   "cell_type": "markdown",
   "source": [
    "## How to Remove Duplicates From a Python List\n",
    "\n",
    "In this tutorial, we will learn how to remove duplicates from a Python list. "
   ],
   "metadata": {
    "collapsed": false
   },
   "id": "a13cd860f63dde0a"
  },
  {
   "cell_type": "markdown",
   "source": [
    "### Using dict.fromKeys()"
   ],
   "metadata": {
    "collapsed": false
   },
   "id": "e811ec659d3055ee"
  },
  {
   "cell_type": "code",
   "execution_count": 1,
   "id": "initial_id",
   "metadata": {
    "collapsed": true,
    "ExecuteTime": {
     "end_time": "2024-09-05T10:16:53.587243Z",
     "start_time": "2024-09-05T10:16:53.583162Z"
    }
   },
   "outputs": [
    {
     "name": "stdout",
     "output_type": "stream",
     "text": [
      "['a', 'b', 'c']\n"
     ]
    }
   ],
   "source": [
    "# Remove duplicates from a list using dict.fromkeys()\n",
    "\n",
    "# List with duplicates\n",
    "mylist = [\"a\", \"b\", \"a\", \"c\", \"c\"]\n",
    "\n",
    "# Create a dictionary from the list items. This will automatically remove any duplicates because dictionaries cannot have duplicate keys.\n",
    "# Then, convert the dictionary back to a list.\n",
    "mylist = list(dict.fromkeys(mylist))\n",
    "\n",
    "# This method has the same order as the original one.\n",
    "print(mylist) "
   ]
  },
  {
   "cell_type": "markdown",
   "source": [
    "### Using set()"
   ],
   "metadata": {
    "collapsed": false
   },
   "id": "5da8d8e08f6638a7"
  },
  {
   "cell_type": "code",
   "execution_count": 2,
   "outputs": [
    {
     "name": "stdout",
     "output_type": "stream",
     "text": [
      "['b', 'c', 'a']\n"
     ]
    }
   ],
   "source": [
    "# Remove duplicates from a list using set()\n",
    "\n",
    "# List with duplicates\n",
    "mylist = [\"a\", \"b\", \"a\", \"c\", \"c\"]\n",
    "\n",
    "# Convert the list to a set. This will automatically remove any duplicates.\n",
    "# Then, convert the set back to a list.\n",
    "mylist = list(set(mylist))\n",
    "\n",
    "# This method does not preserve the order of the original list.\n",
    "print(mylist)"
   ],
   "metadata": {
    "collapsed": false,
    "ExecuteTime": {
     "end_time": "2024-09-05T10:18:54.236394Z",
     "start_time": "2024-09-05T10:18:54.205334Z"
    }
   },
   "id": "757fce27145f3882"
  },
  {
   "cell_type": "markdown",
   "source": [
    "### Using list comprehension"
   ],
   "metadata": {
    "collapsed": false
   },
   "id": "935b0921e7df36e6"
  },
  {
   "cell_type": "code",
   "execution_count": 5,
   "outputs": [
    {
     "name": "stdout",
     "output_type": "stream",
     "text": [
      "['a', 'b', 'c']\n"
     ]
    }
   ],
   "source": [
    "# Remove duplicates from a list using list comprehension\n",
    "\n",
    "# List with duplicates\n",
    "mylist = [\"a\", \"b\", \"a\", \"c\", \"c\"]\n",
    "\n",
    "# Create a new list with unique elements by checking if the element is not already in the new list.\n",
    "mylist = [x for i, x in enumerate(mylist) if i == mylist.index(x)]\n",
    "\n",
    "# This method has the same order as the original one.\n",
    "print(mylist)"
   ],
   "metadata": {
    "collapsed": false,
    "ExecuteTime": {
     "end_time": "2024-09-05T10:21:28.789927Z",
     "start_time": "2024-09-05T10:21:28.755849Z"
    }
   },
   "id": "ad39704060d42669"
  },
  {
   "cell_type": "markdown",
   "source": [
    "### Using a loop"
   ],
   "metadata": {
    "collapsed": false
   },
   "id": "2538ccbb99e670a2"
  },
  {
   "cell_type": "code",
   "execution_count": 6,
   "outputs": [
    {
     "name": "stdout",
     "output_type": "stream",
     "text": [
      "['a', 'b', 'c']\n"
     ]
    }
   ],
   "source": [
    "# Remove duplicates from a list using a loop\n",
    "\n",
    "# List with duplicates\n",
    "mylist = [\"a\", \"b\", \"a\", \"c\", \"c\"]\n",
    "\n",
    "# Create a new list and add elements to it only if they are not already in the new list.\n",
    "newlist = []\n",
    "for x in mylist:\n",
    "    if x not in newlist:\n",
    "        newlist.append(x)\n",
    "\n",
    "# This method has the same order as the original one.\n",
    "print(newlist)"
   ],
   "metadata": {
    "collapsed": false,
    "ExecuteTime": {
     "end_time": "2024-09-05T10:22:08.290716Z",
     "start_time": "2024-09-05T10:22:08.253249Z"
    }
   },
   "id": "5a02bb447a01a279"
  },
  {
   "cell_type": "markdown",
   "source": [
    "[Arsalan](https://www.github.com/arsalanrex)"
   ],
   "metadata": {
    "collapsed": false
   },
   "id": "39ba464a16f17f9"
  },
  {
   "cell_type": "code",
   "execution_count": null,
   "outputs": [],
   "source": [],
   "metadata": {
    "collapsed": false
   },
   "id": "36e8aa3eb7422840"
  }
 ],
 "metadata": {
  "kernelspec": {
   "display_name": "Python 3",
   "language": "python",
   "name": "python3"
  },
  "language_info": {
   "codemirror_mode": {
    "name": "ipython",
    "version": 2
   },
   "file_extension": ".py",
   "mimetype": "text/x-python",
   "name": "python",
   "nbconvert_exporter": "python",
   "pygments_lexer": "ipython2",
   "version": "2.7.6"
  }
 },
 "nbformat": 4,
 "nbformat_minor": 5
}
