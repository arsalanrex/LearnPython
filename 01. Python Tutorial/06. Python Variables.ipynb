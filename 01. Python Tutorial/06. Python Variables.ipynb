{
 "cells": [
  {
   "cell_type": "markdown",
   "source": [
    "## print"
   ],
   "metadata": {
    "collapsed": false
   },
   "id": "992186375b0be07e"
  },
  {
   "cell_type": "code",
   "execution_count": 1,
   "id": "initial_id",
   "metadata": {
    "collapsed": true,
    "ExecuteTime": {
     "end_time": "2023-09-27T16:50:03.687599Z",
     "start_time": "2023-09-27T16:50:03.682598Z"
    }
   },
   "outputs": [
    {
     "name": "stdout",
     "output_type": "stream",
     "text": [
      "5\n",
      "John\n"
     ]
    }
   ],
   "source": [
    "x = 5\n",
    "y = \"John\"\n",
    "print(x)\n",
    "print(y)"
   ]
  },
  {
   "cell_type": "code",
   "execution_count": 2,
   "outputs": [
    {
     "name": "stdout",
     "output_type": "stream",
     "text": [
      "5 John\n"
     ]
    }
   ],
   "source": [
    "x = 5\n",
    "y = \"John\"\n",
    "print(x,y)"
   ],
   "metadata": {
    "collapsed": false,
    "ExecuteTime": {
     "end_time": "2023-09-27T16:50:16.422912Z",
     "start_time": "2023-09-27T16:50:16.408088Z"
    }
   },
   "id": "9ee4784d3de409ff"
  },
  {
   "cell_type": "code",
   "execution_count": 12,
   "outputs": [
    {
     "name": "stdout",
     "output_type": "stream",
     "text": [
      "5 \n",
      " John\n"
     ]
    }
   ],
   "source": [
    "x = 5\n",
    "y = \"John\"\n",
    "print(x,\"\\n\",y)"
   ],
   "metadata": {
    "collapsed": false,
    "ExecuteTime": {
     "end_time": "2023-09-27T16:51:55.893221Z",
     "start_time": "2023-09-27T16:51:55.887454Z"
    }
   },
   "id": "91bb7bb1e90427bd"
  },
  {
   "cell_type": "markdown",
   "source": [
    "## Casting"
   ],
   "metadata": {
    "collapsed": false
   },
   "id": "b5ce05bc85e3c12b"
  },
  {
   "cell_type": "code",
   "execution_count": 21,
   "outputs": [
    {
     "name": "stdout",
     "output_type": "stream",
     "text": [
      "3\n",
      "3\n",
      "3.0\n"
     ]
    }
   ],
   "source": [
    "x = str(3)\n",
    "y = int(3)\n",
    "z = float(3)\n",
    "print(x)\n",
    "print(y)\n",
    "print(z)"
   ],
   "metadata": {
    "collapsed": false,
    "ExecuteTime": {
     "end_time": "2023-09-27T16:56:10.474423Z",
     "start_time": "2023-09-27T16:56:10.468649Z"
    }
   },
   "id": "2fa73189f9fe28b4"
  },
  {
   "cell_type": "code",
   "execution_count": 23,
   "outputs": [
    {
     "name": "stdout",
     "output_type": "stream",
     "text": [
      "<class 'int'>\n",
      "<class 'float'>\n",
      "<class 'str'>\n"
     ]
    }
   ],
   "source": [
    "x = 3\n",
    "y = 3.0\n",
    "z = \"John\"\n",
    "print(type(x))\n",
    "print(type(y))\n",
    "print(type(z))"
   ],
   "metadata": {
    "collapsed": false,
    "ExecuteTime": {
     "end_time": "2023-09-27T16:57:46.591670Z",
     "start_time": "2023-09-27T16:57:46.584180Z"
    }
   },
   "id": "932a0bbf360d7844"
  },
  {
   "cell_type": "markdown",
   "source": [
    "## string declaration can be done with '' and \"\""
   ],
   "metadata": {
    "collapsed": false
   },
   "id": "63f09f01d32cbba0"
  },
  {
   "cell_type": "code",
   "execution_count": 24,
   "outputs": [
    {
     "name": "stdout",
     "output_type": "stream",
     "text": [
      "Hello World!\n"
     ]
    }
   ],
   "source": [
    "x = 'Hello'\n",
    "y = \"World!\"\n",
    "print(x, y)"
   ],
   "metadata": {
    "collapsed": false,
    "ExecuteTime": {
     "end_time": "2023-09-27T16:59:25.726914Z",
     "start_time": "2023-09-27T16:59:25.715419Z"
    }
   },
   "id": "9ec4399763e263da"
  },
  {
   "cell_type": "markdown",
   "source": [
    "## Variable names are case sensitive"
   ],
   "metadata": {
    "collapsed": false
   },
   "id": "a591a5c88db7a9c2"
  },
  {
   "cell_type": "code",
   "execution_count": 25,
   "outputs": [
    {
     "name": "stdout",
     "output_type": "stream",
     "text": [
      "Hello World!\n"
     ]
    }
   ],
   "source": [
    "x = \"Hello\"\n",
    "X = \"World!\"\n",
    "print(x, X)"
   ],
   "metadata": {
    "collapsed": false,
    "ExecuteTime": {
     "end_time": "2023-09-27T17:00:42.170831Z",
     "start_time": "2023-09-27T17:00:42.152245Z"
    }
   },
   "id": "9a6b5bdd675a3e1f"
  }
 ],
 "metadata": {
  "kernelspec": {
   "display_name": "Python 3",
   "language": "python",
   "name": "python3"
  },
  "language_info": {
   "codemirror_mode": {
    "name": "ipython",
    "version": 2
   },
   "file_extension": ".py",
   "mimetype": "text/x-python",
   "name": "python",
   "nbconvert_exporter": "python",
   "pygments_lexer": "ipython2",
   "version": "2.7.6"
  }
 },
 "nbformat": 4,
 "nbformat_minor": 5
}
