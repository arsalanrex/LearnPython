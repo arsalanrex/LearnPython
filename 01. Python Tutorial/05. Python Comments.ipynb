{
 "cells": [
  {
   "cell_type": "markdown",
   "source": [
    "## python will ignore anything starting with #"
   ],
   "metadata": {
    "collapsed": false
   },
   "id": "8886bfa5d5681fec"
  },
  {
   "cell_type": "code",
   "execution_count": 1,
   "id": "initial_id",
   "metadata": {
    "collapsed": true,
    "ExecuteTime": {
     "end_time": "2023-09-26T12:30:03.373749Z",
     "start_time": "2023-09-26T12:30:03.368780Z"
    }
   },
   "outputs": [
    {
     "name": "stdout",
     "output_type": "stream",
     "text": [
      "Hello World!\n"
     ]
    }
   ],
   "source": [
    "# This is a Comment\n",
    "print(\"Hello World!\")"
   ]
  },
  {
   "cell_type": "code",
   "execution_count": 1,
   "outputs": [
    {
     "name": "stdout",
     "output_type": "stream",
     "text": [
      "Hello, World!\n"
     ]
    }
   ],
   "source": [
    "print(\"Hello, World!\") #This is a comment"
   ],
   "metadata": {
    "collapsed": false,
    "ExecuteTime": {
     "end_time": "2023-09-27T16:09:16.991400Z",
     "start_time": "2023-09-27T16:09:16.987012Z"
    }
   },
   "id": "9ee4784d3de409ff"
  },
  {
   "cell_type": "markdown",
   "source": [
    "## codes can be commented out as well"
   ],
   "metadata": {
    "collapsed": false
   },
   "id": "42ebcb52d4453b43"
  },
  {
   "cell_type": "code",
   "execution_count": 2,
   "outputs": [
    {
     "name": "stdout",
     "output_type": "stream",
     "text": [
      "Cheers, Mate!\n"
     ]
    }
   ],
   "source": [
    "# print(\"Hello, World!\")\n",
    "print(\"Cheers, Mate!\")"
   ],
   "metadata": {
    "collapsed": false,
    "ExecuteTime": {
     "end_time": "2023-09-27T16:11:36.995155Z",
     "start_time": "2023-09-27T16:11:36.990293Z"
    }
   },
   "id": "e464a10aeb7db58f"
  },
  {
   "cell_type": "markdown",
   "source": [
    "## Multiline comment / block comment can be added using ''' ''' or \"\"\" \"\"\""
   ],
   "metadata": {
    "collapsed": false
   },
   "id": "8988ae0827f1e30e"
  },
  {
   "cell_type": "code",
   "execution_count": 3,
   "outputs": [
    {
     "name": "stdout",
     "output_type": "stream",
     "text": [
      "Hello, World!\n"
     ]
    }
   ],
   "source": [
    "# using ''' ''' for multiline comment\n",
    "''' \n",
    "Line 1\n",
    "Line 2\n",
    "'''\n",
    "# using \"\"\" \"\"\" for multiline comment\n",
    "\"\"\"\n",
    "Line 3\n",
    "Line 4 \n",
    "\"\"\"\n",
    "print(\"Hello, World!\")"
   ],
   "metadata": {
    "collapsed": false,
    "ExecuteTime": {
     "end_time": "2023-09-27T16:18:36.590269Z",
     "start_time": "2023-09-27T16:18:36.578407Z"
    }
   },
   "id": "3a729c54635c90f7"
  }
 ],
 "metadata": {
  "kernelspec": {
   "display_name": "Python 3",
   "language": "python",
   "name": "python3"
  },
  "language_info": {
   "codemirror_mode": {
    "name": "ipython",
    "version": 2
   },
   "file_extension": ".py",
   "mimetype": "text/x-python",
   "name": "python",
   "nbconvert_exporter": "python",
   "pygments_lexer": "ipython2",
   "version": "2.7.6"
  }
 },
 "nbformat": 4,
 "nbformat_minor": 5
}
