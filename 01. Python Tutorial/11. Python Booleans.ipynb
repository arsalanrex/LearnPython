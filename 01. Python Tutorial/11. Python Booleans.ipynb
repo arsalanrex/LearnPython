{
 "cells": [
  {
   "cell_type": "code",
   "execution_count": 1,
   "id": "initial_id",
   "metadata": {
    "collapsed": true,
    "ExecuteTime": {
     "end_time": "2024-09-05T08:02:10.293635Z",
     "start_time": "2024-09-05T08:02:10.166560Z"
    }
   },
   "outputs": [
    {
     "ename": "NameError",
     "evalue": "name 'txt' is not defined",
     "output_type": "error",
     "traceback": [
      "\u001B[0;31m---------------------------------------------------------------------------\u001B[0m",
      "\u001B[0;31mNameError\u001B[0m                                 Traceback (most recent call last)",
      "Cell \u001B[0;32mIn[1], line 5\u001B[0m\n\u001B[1;32m      1\u001B[0m \u001B[38;5;66;03m#To demonstrate, we insert the number 8 to set the available space for the value to 8 characters.\u001B[39;00m\n\u001B[1;32m      2\u001B[0m \n\u001B[1;32m      3\u001B[0m \u001B[38;5;66;03m#Use \"<\" to left-align the value:\u001B[39;00m\n\u001B[1;32m      4\u001B[0m txt1 \u001B[38;5;241m=\u001B[39m \u001B[38;5;124m\"\u001B[39m\u001B[38;5;124mWe have \u001B[39m\u001B[38;5;132;01m{:<8}\u001B[39;00m\u001B[38;5;124m chickens.\u001B[39m\u001B[38;5;124m\"\u001B[39m\n\u001B[0;32m----> 5\u001B[0m \u001B[38;5;28mprint\u001B[39m(\u001B[43mtxt\u001B[49m\u001B[38;5;241m.\u001B[39mformat(\u001B[38;5;241m49\u001B[39m))\n\u001B[1;32m      7\u001B[0m \u001B[38;5;66;03m#Use \">\" to right-align the value:\u001B[39;00m\n\u001B[1;32m      8\u001B[0m txt2 \u001B[38;5;241m=\u001B[39m \u001B[38;5;124m\"\u001B[39m\u001B[38;5;124mWe have \u001B[39m\u001B[38;5;132;01m{:>8}\u001B[39;00m\u001B[38;5;124m chickens.\u001B[39m\u001B[38;5;124m\"\u001B[39m\n",
      "\u001B[0;31mNameError\u001B[0m: name 'txt' is not defined"
     ]
    }
   ],
   "source": [
    "#To demonstrate, we insert the number 8 to set the available space for the value to 8 characters.\n",
    "\n",
    "#Use \"<\" to left-align the value:\n",
    "txt1 = \"We have {:<8} chickens.\"\n",
    "print(txt.format(49))\n",
    "\n",
    "#Use \">\" to right-align the value:\n",
    "txt2 = \"We have {:>8} chickens.\"\n",
    "print(txt.format(49))"
   ]
  },
  {
   "cell_type": "code",
   "execution_count": null,
   "outputs": [],
   "source": [],
   "metadata": {
    "collapsed": false
   },
   "id": "9ee4784d3de409ff"
  }
 ],
 "metadata": {
  "kernelspec": {
   "display_name": "Python 3",
   "language": "python",
   "name": "python3"
  },
  "language_info": {
   "codemirror_mode": {
    "name": "ipython",
    "version": 2
   },
   "file_extension": ".py",
   "mimetype": "text/x-python",
   "name": "python",
   "nbconvert_exporter": "python",
   "pygments_lexer": "ipython2",
   "version": "2.7.6"
  }
 },
 "nbformat": 4,
 "nbformat_minor": 5
}
