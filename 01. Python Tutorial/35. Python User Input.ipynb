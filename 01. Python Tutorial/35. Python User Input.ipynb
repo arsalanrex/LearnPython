{
 "cells": [
  {
   "cell_type": "markdown",
   "source": [
    "## Python User Input"
   ],
   "metadata": {
    "collapsed": false
   },
   "id": "9ebf0845a2e28bb3"
  },
  {
   "cell_type": "markdown",
   "source": [
    "### User Input\n",
    "\n",
    "Python allows for user input.\n",
    "\n",
    "That means we are able to ask the user for input.\n",
    "\n",
    "This method is different in Python 3.6 than Python 2.7.\n",
    "\n",
    "Python 3.6 uses the **input()** method.\n",
    "\n",
    "Python 2.7 uses the **raw_input()** method.\n",
    "\n",
    "The following example asks for the username, and when you entered the username, it gets printed on the screen:"
   ],
   "metadata": {
    "collapsed": false
   },
   "id": "eb5bc592082a76df"
  },
  {
   "cell_type": "code",
   "execution_count": 1,
   "outputs": [
    {
     "name": "stdout",
     "output_type": "stream",
     "text": [
      "Username is: Arsalan\n"
     ]
    }
   ],
   "source": [
    "# Python 3.6\n",
    "\n",
    "username = input(\"Enter username:\")\n",
    "print(\"Username is: \" + username)"
   ],
   "metadata": {
    "collapsed": false,
    "ExecuteTime": {
     "end_time": "2024-09-05T09:55:48.645364Z",
     "start_time": "2024-09-05T09:55:43.430677Z"
    }
   },
   "id": "9ee4784d3de409ff"
  },
  {
   "cell_type": "code",
   "execution_count": 2,
   "outputs": [
    {
     "ename": "NameError",
     "evalue": "name 'raw_input' is not defined",
     "output_type": "error",
     "traceback": [
      "\u001B[0;31m---------------------------------------------------------------------------\u001B[0m",
      "\u001B[0;31mNameError\u001B[0m                                 Traceback (most recent call last)",
      "Cell \u001B[0;32mIn[2], line 3\u001B[0m\n\u001B[1;32m      1\u001B[0m \u001B[38;5;66;03m# Python 2.7\u001B[39;00m\n\u001B[0;32m----> 3\u001B[0m username \u001B[38;5;241m=\u001B[39m \u001B[43mraw_input\u001B[49m(\u001B[38;5;124m\"\u001B[39m\u001B[38;5;124mEnter username:\u001B[39m\u001B[38;5;124m\"\u001B[39m)\n\u001B[1;32m      4\u001B[0m \u001B[38;5;28mprint\u001B[39m(\u001B[38;5;124m\"\u001B[39m\u001B[38;5;124mUsername is: \u001B[39m\u001B[38;5;124m\"\u001B[39m \u001B[38;5;241m+\u001B[39m username)\n",
      "\u001B[0;31mNameError\u001B[0m: name 'raw_input' is not defined"
     ]
    }
   ],
   "source": [
    "# Python 2.7\n",
    "\n",
    "username = raw_input(\"Enter username:\")\n",
    "print(\"Username is: \" + username)"
   ],
   "metadata": {
    "collapsed": false,
    "ExecuteTime": {
     "end_time": "2024-09-05T09:56:00.079887Z",
     "start_time": "2024-09-05T09:55:59.906727Z"
    }
   },
   "id": "719cf8ddfa57b25"
  },
  {
   "cell_type": "markdown",
   "source": [
    "> **Note:** In Python 2.7, **raw_input()** method is used to take user input. In Python 3.6, **input()** method is used to take user input.\n",
    "> We cannot use **raw_input()** method in Python 3.6. Similarly, we cannot use **input()** method in Python 2.7.\n",
    ">\n",
    "> Python stops executing when it comes to the input() method and continues when the user has given some input."
   ],
   "metadata": {
    "collapsed": false
   },
   "id": "2140896ba5cb7e81"
  },
  {
   "cell_type": "markdown",
   "source": [
    "[Arsalan](https://github.com/arsalanrex)"
   ],
   "metadata": {
    "collapsed": false
   },
   "id": "6a61e2933f5e5c50"
  },
  {
   "cell_type": "code",
   "execution_count": null,
   "outputs": [],
   "source": [],
   "metadata": {
    "collapsed": false
   },
   "id": "50f2bfec6c0f45c4"
  }
 ],
 "metadata": {
  "kernelspec": {
   "display_name": "Python 3",
   "language": "python",
   "name": "python3"
  },
  "language_info": {
   "codemirror_mode": {
    "name": "ipython",
    "version": 2
   },
   "file_extension": ".py",
   "mimetype": "text/x-python",
   "name": "python",
   "nbconvert_exporter": "python",
   "pygments_lexer": "ipython2",
   "version": "2.7.6"
  }
 },
 "nbformat": 4,
 "nbformat_minor": 5
}
