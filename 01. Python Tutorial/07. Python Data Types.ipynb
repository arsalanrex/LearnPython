{
 "cells": [
  {
   "cell_type": "markdown",
   "source": [
    "## Python Data Types"
   ],
   "metadata": {
    "collapsed": false
   },
   "id": "5a9f79516fe78237"
  },
  {
   "cell_type": "markdown",
   "source": [
    "### Built-in Data Types\n",
    "\n",
    "In programming, data type is an important concept.\n",
    "\n",
    "Variables can store data of different types, and different types can do different things.\n",
    "\n",
    "Python has the following data types built-in by default, in these categories:\n",
    "\n",
    "- **Text Type**: \tstr\n",
    "- **Numeric Types**: \tint, float, complex\n",
    "- **Sequence Types**: \tlist, tuple, range\n",
    "- **Mapping Type**: \tdict\n",
    "- **Set Types**: \tset, frozenset\n",
    "- **Boolean Type**: \tbool\n",
    "- **Binary Types**: \tbytes, bytearray, memoryview\n",
    "- **None Type**: \tNoneType"
   ],
   "metadata": {
    "collapsed": false
   },
   "id": "9b1655d858cf7e6b"
  },
  {
   "cell_type": "markdown",
   "source": [
    "### Getting the Data Type\n",
    "\n",
    "You can get the data type of any object by using the **type()** function:"
   ],
   "metadata": {
    "collapsed": false
   },
   "id": "7245ae0362a8226d"
  },
  {
   "cell_type": "code",
   "execution_count": 4,
   "outputs": [
    {
     "name": "stdout",
     "output_type": "stream",
     "text": [
      "<class 'int'>\n"
     ]
    }
   ],
   "source": [
    "# Print the data type of the variable x:\n",
    "\n",
    "x = 5\n",
    "print(type(x))"
   ],
   "metadata": {
    "collapsed": false,
    "ExecuteTime": {
     "end_time": "2024-09-05T06:36:21.954093Z",
     "start_time": "2024-09-05T06:36:21.940144Z"
    }
   },
   "id": "60dee135244301f1"
  },
  {
   "cell_type": "markdown",
   "source": [
    "### Setting the Data Type\n",
    "\n",
    "In Python, the data type is set when you assign a value to a variable:"
   ],
   "metadata": {
    "collapsed": false
   },
   "id": "d327fc243b4ffffb"
  },
  {
   "cell_type": "code",
   "execution_count": 6,
   "outputs": [
    {
     "name": "stdout",
     "output_type": "stream",
     "text": [
      "Hello World <class 'str'>\n",
      "20 <class 'int'>\n",
      "20.5 <class 'float'>\n",
      "1j <class 'complex'>\n",
      "['apple', 'banana', 'cherry'] <class 'list'>\n",
      "('apple', 'banana', 'cherry') <class 'tuple'>\n",
      "range(0, 6) <class 'range'>\n",
      "{'name': 'John', 'age': 36} <class 'dict'>\n",
      "{'banana', 'cherry', 'apple'} <class 'set'>\n",
      "frozenset({'banana', 'cherry', 'apple'}) <class 'frozenset'>\n",
      "True <class 'bool'>\n",
      "b'Hello' <class 'bytes'>\n",
      "bytearray(b'\\x00\\x00\\x00\\x00\\x00') <class 'bytearray'>\n",
      "<memory at 0x103a65580> <class 'memoryview'>\n",
      "None <class 'NoneType'>\n"
     ]
    }
   ],
   "source": [
    "a = \"Hello World\"\n",
    "b = 20 \t\n",
    "c = 20.5 \t\n",
    "d = 1j \t\n",
    "e = [\"apple\", \"banana\", \"cherry\"] \t\n",
    "f = (\"apple\", \"banana\", \"cherry\") \t\n",
    "g = range(6)  \t\n",
    "h = {\"name\" : \"John\", \"age\" : 36}  \t\n",
    "i = {\"apple\", \"banana\", \"cherry\"}  \t\n",
    "j = frozenset({\"apple\", \"banana\", \"cherry\"}) \t\n",
    "k = True \n",
    "l = b\"Hello\" \t \t\n",
    "m = bytearray(5)  \t\n",
    "n = memoryview(bytes(5))  \t\n",
    "o = None\n",
    "\n",
    "print(a, type(a))\n",
    "print(b, type(b))\n",
    "print(c, type(c))\n",
    "print(d, type(d))\n",
    "print(e, type(e))\n",
    "print(f, type(f))\n",
    "print(g, type(g))\n",
    "print(h, type(h))\n",
    "print(i, type(i))\n",
    "print(j, type(j))\n",
    "print(k, type(k))\n",
    "print(l, type(l))\n",
    "print(m, type(m))\n",
    "print(n, type(n))\n",
    "print(o, type(o))"
   ],
   "metadata": {
    "collapsed": false,
    "ExecuteTime": {
     "end_time": "2024-09-05T06:39:20.503096Z",
     "start_time": "2024-09-05T06:39:20.492494Z"
    }
   },
   "id": "e563a2a6e303dd40"
  },
  {
   "cell_type": "code",
   "execution_count": null,
   "outputs": [],
   "source": [],
   "metadata": {
    "collapsed": false
   },
   "id": "c78a34d4d4120a27"
  },
  {
   "cell_type": "code",
   "execution_count": 7,
   "outputs": [
    {
     "name": "stdout",
     "output_type": "stream",
     "text": [
      "Hello World <class 'str'>\n",
      "20 <class 'int'>\n",
      "20.5 <class 'float'>\n",
      "1j <class 'complex'>\n",
      "['apple', 'banana', 'cherry'] <class 'list'>\n",
      "('apple', 'banana', 'cherry') <class 'tuple'>\n",
      "range(0, 6) <class 'range'>\n",
      "{'name': 'John', 'age': 36} <class 'dict'>\n",
      "{'banana', 'cherry', 'apple'} <class 'set'>\n",
      "frozenset({'banana', 'cherry', 'apple'}) <class 'frozenset'>\n",
      "True <class 'bool'>\n",
      "b'\\x00\\x00\\x00\\x00\\x00' <class 'bytes'>\n",
      "bytearray(b'\\x00\\x00\\x00\\x00\\x00') <class 'bytearray'>\n",
      "<memory at 0x103a651c0> <class 'memoryview'>\n",
      "None <class 'NoneType'>\n"
     ]
    }
   ],
   "source": [
    "a = str(\"Hello World\")\n",
    "b = int(20)\t\n",
    "c = float(20.5) \t\n",
    "d = complex(1j) \t\n",
    "e = list((\"apple\", \"banana\", \"cherry\"))\n",
    "f = tuple((\"apple\", \"banana\", \"cherry\"))\n",
    "g = range(6)  \t\n",
    "h = dict(name=\"John\", age=36)\n",
    "i = set((\"apple\", \"banana\", \"cherry\"))\n",
    "j = frozenset((\"apple\", \"banana\", \"cherry\"))\n",
    "k = bool(5)\n",
    "l = bytes(5)\t \t\n",
    "m = bytearray(5)  \t\n",
    "n = memoryview(bytes(5))  \t\n",
    "o = None\n",
    "\n",
    "print(a, type(a))\n",
    "print(b, type(b))\n",
    "print(c, type(c))\n",
    "print(d, type(d))\n",
    "print(e, type(e))\n",
    "print(f, type(f))\n",
    "print(g, type(g))\n",
    "print(h, type(h))\n",
    "print(i, type(i))\n",
    "print(j, type(j))\n",
    "print(k, type(k))\n",
    "print(l, type(l))\n",
    "print(m, type(m))\n",
    "print(n, type(n))\n",
    "print(o, type(o))"
   ],
   "metadata": {
    "collapsed": false,
    "ExecuteTime": {
     "end_time": "2024-09-05T06:46:12.821494Z",
     "start_time": "2024-09-05T06:46:12.809976Z"
    }
   },
   "id": "28b7f67640332508"
  },
  {
   "cell_type": "markdown",
   "source": [
    "[Arsalan](https://github.com/arsalanrex)"
   ],
   "metadata": {
    "collapsed": false
   },
   "id": "6302dac6e69c74b"
  },
  {
   "cell_type": "code",
   "execution_count": null,
   "outputs": [],
   "source": [],
   "metadata": {
    "collapsed": false
   },
   "id": "6e1d5303702abbf0"
  }
 ],
 "metadata": {
  "kernelspec": {
   "display_name": "Python 3",
   "language": "python",
   "name": "python3"
  },
  "language_info": {
   "codemirror_mode": {
    "name": "ipython",
    "version": 2
   },
   "file_extension": ".py",
   "mimetype": "text/x-python",
   "name": "python",
   "nbconvert_exporter": "python",
   "pygments_lexer": "ipython2",
   "version": "2.7.6"
  }
 },
 "nbformat": 4,
 "nbformat_minor": 5
}
