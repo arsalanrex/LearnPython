{
 "cells": [
  {
   "cell_type": "code",
   "execution_count": 5,
   "id": "initial_id",
   "metadata": {
    "collapsed": true,
    "ExecuteTime": {
     "end_time": "2023-09-28T17:47:47.161777Z",
     "start_time": "2023-09-28T17:47:47.155060Z"
    }
   },
   "outputs": [
    {
     "name": "stdout",
     "output_type": "stream",
     "text": [
      "85.0\n"
     ]
    }
   ],
   "source": [
    "a,b = 80,90\n",
    "print((a+b)/2)"
   ]
  },
  {
   "cell_type": "code",
   "execution_count": 15,
   "outputs": [
    {
     "data": {
      "text/plain": "True"
     },
     "execution_count": 15,
     "metadata": {},
     "output_type": "execute_result"
    }
   ],
   "source": [
    "s = 'apple'\n",
    "s[:] == s"
   ],
   "metadata": {
    "collapsed": false,
    "ExecuteTime": {
     "end_time": "2023-09-28T17:56:38.250824Z",
     "start_time": "2023-09-28T17:56:38.242084Z"
    }
   },
   "id": "9ee4784d3de409ff"
  },
  {
   "cell_type": "code",
   "execution_count": 8,
   "outputs": [
    {
     "name": "stdout",
     "output_type": "stream",
     "text": [
      "(1, 6, 7, 'Kiran', 'Raj')\n"
     ]
    }
   ],
   "source": [
    "tup1 = (1,6,7);\n",
    "tup2 = ('Kiran', 'Raj')\n",
    "print(tup1 + tup2)"
   ],
   "metadata": {
    "collapsed": false,
    "ExecuteTime": {
     "end_time": "2023-09-28T17:52:50.752613Z",
     "start_time": "2023-09-28T17:52:50.742105Z"
    }
   },
   "id": "84378f1ed05492da"
  },
  {
   "cell_type": "code",
   "execution_count": 10,
   "outputs": [
    {
     "ename": "SyntaxError",
     "evalue": "invalid syntax (857907271.py, line 1)",
     "output_type": "error",
     "traceback": [
      "\u001B[0;36m  Cell \u001B[0;32mIn[10], line 1\u001B[0;36m\u001B[0m\n\u001B[0;31m    print(\"He said,\"yes!\"\")\u001B[0m\n\u001B[0m                    ^\u001B[0m\n\u001B[0;31mSyntaxError\u001B[0m\u001B[0;31m:\u001B[0m invalid syntax\n"
     ]
    }
   ],
   "source": [
    "print(\"He said,\"yes!\"\")"
   ],
   "metadata": {
    "collapsed": false,
    "ExecuteTime": {
     "end_time": "2023-09-28T17:53:42.792072Z",
     "start_time": "2023-09-28T17:53:42.783603Z"
    }
   },
   "id": "56dd441d705a103a"
  },
  {
   "cell_type": "code",
   "execution_count": 30,
   "outputs": [
    {
     "data": {
      "text/plain": "False"
     },
     "execution_count": 30,
     "metadata": {},
     "output_type": "execute_result"
    }
   ],
   "source": [
    "'1' == 1"
   ],
   "metadata": {
    "collapsed": false,
    "ExecuteTime": {
     "end_time": "2023-09-28T18:07:16.167802Z",
     "start_time": "2023-09-28T18:07:16.157871Z"
    }
   },
   "id": "6614c6e16763bf4c"
  },
  {
   "cell_type": "code",
   "execution_count": null,
   "outputs": [],
   "source": [],
   "metadata": {
    "collapsed": false
   },
   "id": "2fd48fd43a90941f"
  },
  {
   "cell_type": "code",
   "execution_count": 55,
   "outputs": [
    {
     "name": "stdout",
     "output_type": "stream",
     "text": []
    }
   ],
   "source": [
    "import re\n",
    "sentence = 'we are humans'\n",
    "matched = re.match(r'(.*)(.*?)(.*)', sentence)\n",
    "print(matched.group(2))"
   ],
   "metadata": {
    "collapsed": false,
    "ExecuteTime": {
     "end_time": "2023-09-28T18:38:23.587335Z",
     "start_time": "2023-09-28T18:38:23.579332Z"
    }
   },
   "id": "f2274906a2d1270a"
  },
  {
   "cell_type": "code",
   "execution_count": 60,
   "outputs": [],
   "source": [
    "import threading\n",
    "class thread(threading.Thread):\n",
    "    def __init__(self, thread_ID):\n",
    "        self.thread_ID = thread_ID\n",
    "    def run(self):\n",
    "        print(self.thread_ID)\n",
    "        thread1 = thread(100)\n",
    "        thread1.start"
   ],
   "metadata": {
    "collapsed": false,
    "ExecuteTime": {
     "end_time": "2023-09-28T18:43:59.174991Z",
     "start_time": "2023-09-28T18:43:59.170445Z"
    }
   },
   "id": "e9980487b0cb78a4"
  },
  {
   "cell_type": "code",
   "execution_count": 61,
   "outputs": [
    {
     "name": "stdout",
     "output_type": "stream",
     "text": [
      "ThreadID = 100, ThreadName = AAA\n",
      "\n",
      "ThreadID = 101, ThreadName = Automobiles\n",
      "\n",
      "ThreadID = 102, ThreadName = AnonymousAutomobiles\n"
     ]
    },
    {
     "ename": "KeyboardInterrupt",
     "evalue": "",
     "output_type": "error",
     "traceback": [
      "\u001B[0;31m---------------------------------------------------------------------------\u001B[0m",
      "\u001B[0;31mKeyboardInterrupt\u001B[0m                         Traceback (most recent call last)",
      "Cell \u001B[0;32mIn[61], line 22\u001B[0m\n\u001B[1;32m     19\u001B[0m thread2\u001B[38;5;241m.\u001B[39mstart() \n\u001B[1;32m     20\u001B[0m thread3\u001B[38;5;241m.\u001B[39mstart()\n\u001B[0;32m---> 22\u001B[0m \u001B[43mbarrier\u001B[49m\u001B[38;5;241;43m.\u001B[39;49m\u001B[43mwait\u001B[49m\u001B[43m(\u001B[49m\u001B[43m)\u001B[49m\n\u001B[1;32m     23\u001B[0m \u001B[38;5;28mprint\u001B[39m(\u001B[38;5;124m\"\u001B[39m\u001B[38;5;124mExit\u001B[39m\u001B[38;5;124m\"\u001B[39m)\n",
      "File \u001B[0;32m/Applications/Xcode.app/Contents/Developer/Library/Frameworks/Python3.framework/Versions/3.9/lib/python3.9/threading.py:635\u001B[0m, in \u001B[0;36mBarrier.wait\u001B[0;34m(self, timeout)\u001B[0m\n\u001B[1;32m    632\u001B[0m         \u001B[38;5;28mself\u001B[39m\u001B[38;5;241m.\u001B[39m_release()\n\u001B[1;32m    633\u001B[0m     \u001B[38;5;28;01melse\u001B[39;00m:\n\u001B[1;32m    634\u001B[0m         \u001B[38;5;66;03m# We wait until someone releases us\u001B[39;00m\n\u001B[0;32m--> 635\u001B[0m         \u001B[38;5;28;43mself\u001B[39;49m\u001B[38;5;241;43m.\u001B[39;49m\u001B[43m_wait\u001B[49m\u001B[43m(\u001B[49m\u001B[43mtimeout\u001B[49m\u001B[43m)\u001B[49m\n\u001B[1;32m    636\u001B[0m     \u001B[38;5;28;01mreturn\u001B[39;00m index\n\u001B[1;32m    637\u001B[0m \u001B[38;5;28;01mfinally\u001B[39;00m:\n",
      "File \u001B[0;32m/Applications/Xcode.app/Contents/Developer/Library/Frameworks/Python3.framework/Versions/3.9/lib/python3.9/threading.py:670\u001B[0m, in \u001B[0;36mBarrier._wait\u001B[0;34m(self, timeout)\u001B[0m\n\u001B[1;32m    669\u001B[0m \u001B[38;5;28;01mdef\u001B[39;00m \u001B[38;5;21m_wait\u001B[39m(\u001B[38;5;28mself\u001B[39m, timeout):\n\u001B[0;32m--> 670\u001B[0m     \u001B[38;5;28;01mif\u001B[39;00m \u001B[38;5;129;01mnot\u001B[39;00m \u001B[38;5;28;43mself\u001B[39;49m\u001B[38;5;241;43m.\u001B[39;49m\u001B[43m_cond\u001B[49m\u001B[38;5;241;43m.\u001B[39;49m\u001B[43mwait_for\u001B[49m\u001B[43m(\u001B[49m\u001B[38;5;28;43;01mlambda\u001B[39;49;00m\u001B[43m \u001B[49m\u001B[43m:\u001B[49m\u001B[43m \u001B[49m\u001B[38;5;28;43mself\u001B[39;49m\u001B[38;5;241;43m.\u001B[39;49m\u001B[43m_state\u001B[49m\u001B[43m \u001B[49m\u001B[38;5;241;43m!=\u001B[39;49m\u001B[43m \u001B[49m\u001B[38;5;241;43m0\u001B[39;49m\u001B[43m,\u001B[49m\u001B[43m \u001B[49m\u001B[43mtimeout\u001B[49m\u001B[43m)\u001B[49m:\n\u001B[1;32m    671\u001B[0m         \u001B[38;5;66;03m#timed out.  Break the barrier\u001B[39;00m\n\u001B[1;32m    672\u001B[0m         \u001B[38;5;28mself\u001B[39m\u001B[38;5;241m.\u001B[39m_break()\n\u001B[1;32m    673\u001B[0m         \u001B[38;5;28;01mraise\u001B[39;00m BrokenBarrierError\n",
      "File \u001B[0;32m/Applications/Xcode.app/Contents/Developer/Library/Frameworks/Python3.framework/Versions/3.9/lib/python3.9/threading.py:347\u001B[0m, in \u001B[0;36mCondition.wait_for\u001B[0;34m(self, predicate, timeout)\u001B[0m\n\u001B[1;32m    345\u001B[0m             \u001B[38;5;28;01mif\u001B[39;00m waittime \u001B[38;5;241m<\u001B[39m\u001B[38;5;241m=\u001B[39m \u001B[38;5;241m0\u001B[39m:\n\u001B[1;32m    346\u001B[0m                 \u001B[38;5;28;01mbreak\u001B[39;00m\n\u001B[0;32m--> 347\u001B[0m     \u001B[38;5;28;43mself\u001B[39;49m\u001B[38;5;241;43m.\u001B[39;49m\u001B[43mwait\u001B[49m\u001B[43m(\u001B[49m\u001B[43mwaittime\u001B[49m\u001B[43m)\u001B[49m\n\u001B[1;32m    348\u001B[0m     result \u001B[38;5;241m=\u001B[39m predicate()\n\u001B[1;32m    349\u001B[0m \u001B[38;5;28;01mreturn\u001B[39;00m result\n",
      "File \u001B[0;32m/Applications/Xcode.app/Contents/Developer/Library/Frameworks/Python3.framework/Versions/3.9/lib/python3.9/threading.py:312\u001B[0m, in \u001B[0;36mCondition.wait\u001B[0;34m(self, timeout)\u001B[0m\n\u001B[1;32m    310\u001B[0m \u001B[38;5;28;01mtry\u001B[39;00m:    \u001B[38;5;66;03m# restore state no matter what (e.g., KeyboardInterrupt)\u001B[39;00m\n\u001B[1;32m    311\u001B[0m     \u001B[38;5;28;01mif\u001B[39;00m timeout \u001B[38;5;129;01mis\u001B[39;00m \u001B[38;5;28;01mNone\u001B[39;00m:\n\u001B[0;32m--> 312\u001B[0m         \u001B[43mwaiter\u001B[49m\u001B[38;5;241;43m.\u001B[39;49m\u001B[43macquire\u001B[49m\u001B[43m(\u001B[49m\u001B[43m)\u001B[49m\n\u001B[1;32m    313\u001B[0m         gotit \u001B[38;5;241m=\u001B[39m \u001B[38;5;28;01mTrue\u001B[39;00m\n\u001B[1;32m    314\u001B[0m     \u001B[38;5;28;01melse\u001B[39;00m:\n",
      "\u001B[0;31mKeyboardInterrupt\u001B[0m: "
     ]
    }
   ],
   "source": [
    "import threading\n",
    "barrier = threading.Barrier(4)\n",
    "class thread(threading.Thread):\n",
    "    def __init__(self, thread_ID, thread_name):\n",
    "        threading.Thread.__init__(self)\n",
    "        self.thread_ID = thread_ID\n",
    "        self.thread_name = thread_name\n",
    "    def run (self):\n",
    "        print(\"ThreadID = \" + str(self.thread_ID) +\", ThreadName = \" + self.thread_name + \"\\n\")\n",
    "        try:\n",
    "            barrier = threading.Barrier(4)\n",
    "            barrier.wait()\n",
    "        except:\n",
    "            print (\"barrier broken\")\n",
    "thread1 = thread(100, \"AAA\")\n",
    "thread2 = thread(101, \"Automobiles\")\n",
    "thread3 = thread(102, \"AnonymousAutomobiles\")\n",
    "thread1.start() \n",
    "thread2.start() \n",
    "thread3.start()\n",
    "\n",
    "barrier.wait()\n",
    "print(\"Exit\")"
   ],
   "metadata": {
    "collapsed": false,
    "ExecuteTime": {
     "end_time": "2023-09-28T18:49:58.278063Z",
     "start_time": "2023-09-28T18:48:40.719154Z"
    }
   },
   "id": "d8a8b9954505472c"
  },
  {
   "cell_type": "code",
   "execution_count": 63,
   "outputs": [
    {
     "ename": "TypeError",
     "evalue": "'NoneType' object is not callable",
     "output_type": "error",
     "traceback": [
      "\u001B[0;31m---------------------------------------------------------------------------\u001B[0m",
      "\u001B[0;31mTypeError\u001B[0m                                 Traceback (most recent call last)",
      "Cell \u001B[0;32mIn[63], line 5\u001B[0m\n\u001B[1;32m      3\u001B[0m regex \u001B[38;5;241m=\u001B[39m re\u001B[38;5;241m.\u001B[39mcompile(\u001B[38;5;124m'\u001B[39m\u001B[38;5;124m(?P<animal>\u001B[39m\u001B[38;5;124m\\\u001B[39m\u001B[38;5;124mw+)(?P<verb>\u001B[39m\u001B[38;5;124m\\\u001B[39m\u001B[38;5;124mw+)(?P<adjective> Iw+)\u001B[39m\u001B[38;5;124m'\u001B[39m)\n\u001B[1;32m      4\u001B[0m matched \u001B[38;5;241m=\u001B[39m re\u001B[38;5;241m.\u001B[39msearch(regex, sentence)\n\u001B[0;32m----> 5\u001B[0m \u001B[38;5;28mprint\u001B[39m(\u001B[43mmatched\u001B[49m\u001B[43m(\u001B[49m\u001B[43m)\u001B[49m)\n",
      "\u001B[0;31mTypeError\u001B[0m: 'NoneType' object is not callable"
     ]
    }
   ],
   "source": [
    "import re\n",
    "sentence = 'horses are fast'\n",
    "regex = re.compile('(?P<animal>\\w+)(?P<verb>\\w+)(?P<adjective> Iw+)')\n",
    "matched = re.search(regex, sentence)\n",
    "print(matched.groupdict())\n"
   ],
   "metadata": {
    "collapsed": false,
    "ExecuteTime": {
     "end_time": "2023-09-28T18:51:49.709154Z",
     "start_time": "2023-09-28T18:51:49.692053Z"
    }
   },
   "id": "7b8cc13d7b5a861c"
  },
  {
   "cell_type": "code",
   "execution_count": 63,
   "outputs": [],
   "source": [],
   "metadata": {
    "collapsed": false,
    "ExecuteTime": {
     "end_time": "2023-09-28T18:51:51.403608Z",
     "start_time": "2023-09-28T18:51:51.381417Z"
    }
   },
   "id": "ab6084128811b69b"
  }
 ],
 "metadata": {
  "kernelspec": {
   "display_name": "Python 3",
   "language": "python",
   "name": "python3"
  },
  "language_info": {
   "codemirror_mode": {
    "name": "ipython",
    "version": 2
   },
   "file_extension": ".py",
   "mimetype": "text/x-python",
   "name": "python",
   "nbconvert_exporter": "python",
   "pygments_lexer": "ipython2",
   "version": "2.7.6"
  }
 },
 "nbformat": 4,
 "nbformat_minor": 5
}
