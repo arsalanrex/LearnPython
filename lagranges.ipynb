{
 "cells": [
  {
   "cell_type": "code",
   "execution_count": 1,
   "id": "initial_id",
   "metadata": {
    "collapsed": true,
    "ExecuteTime": {
     "end_time": "2023-11-04T18:59:29.893294Z",
     "start_time": "2023-11-04T18:59:29.649130Z"
    }
   },
   "outputs": [],
   "source": [
    "from sympy import Symbol, Derivative"
   ]
  },
  {
   "cell_type": "code",
   "execution_count": 2,
   "outputs": [],
   "source": [
    "# define variables\n",
    "\n",
    "x1 = Symbol('x1')\n",
    "x2 = Symbol('x2')\n",
    "x3 = Symbol('x3')"
   ],
   "metadata": {
    "collapsed": false,
    "ExecuteTime": {
     "end_time": "2023-11-04T19:00:21.346327Z",
     "start_time": "2023-11-04T19:00:21.332837Z"
    }
   },
   "id": "2e81eafc7237ff04"
  },
  {
   "cell_type": "code",
   "execution_count": 3,
   "outputs": [],
   "source": [
    "# define function\n",
    "\n",
    "function = x1**2 + 4*x1*x2 + x2**2"
   ],
   "metadata": {
    "collapsed": false,
    "ExecuteTime": {
     "end_time": "2023-11-04T19:01:41.638371Z",
     "start_time": "2023-11-04T19:01:41.597476Z"
    }
   },
   "id": "849053ff382c6d46"
  },
  {
   "cell_type": "code",
   "execution_count": 4,
   "outputs": [],
   "source": [
    "# define constraints\n",
    "\n",
    "st1 = x1**2 + x2**2 -1"
   ],
   "metadata": {
    "collapsed": false,
    "ExecuteTime": {
     "end_time": "2023-11-04T19:02:31.508851Z",
     "start_time": "2023-11-04T19:02:31.493594Z"
    }
   },
   "id": "6a14a4c658fcb274"
  },
  {
   "cell_type": "code",
   "execution_count": 9,
   "outputs": [
    {
     "name": "stdout",
     "output_type": "stream",
     "text": [
      "df/dx1 = 2*x1 + 4*x2\n"
     ]
    }
   ],
   "source": [
    "# Partial Derivatives\n",
    "\n",
    "dx1 = Derivative(function, x1)\n",
    "\n",
    "print(\"df/dx1 =\",dx1.doit())"
   ],
   "metadata": {
    "collapsed": false,
    "ExecuteTime": {
     "end_time": "2023-11-04T19:05:01.203346Z",
     "start_time": "2023-11-04T19:05:01.195034Z"
    }
   },
   "id": "141c086b17e48f09"
  },
  {
   "cell_type": "code",
   "execution_count": 1,
   "outputs": [
    {
     "name": "stdout",
     "output_type": "stream",
     "text": [
      "Hello 'foo' and foo\n"
     ]
    }
   ],
   "source": [
    "print(\"Hello {0!r} and {0!s}\".format('foo', 'bin'))"
   ],
   "metadata": {
    "collapsed": false,
    "ExecuteTime": {
     "end_time": "2023-11-16T16:11:34.616242Z",
     "start_time": "2023-11-16T16:11:34.589930Z"
    }
   },
   "id": "9c232ad42c332ac9"
  },
  {
   "cell_type": "code",
   "execution_count": 2,
   "outputs": [
    {
     "name": "stdout",
     "output_type": "stream",
     "text": [
      "str1\n"
     ]
    }
   ],
   "source": [
    "str1=\"6/4\"\n",
    "print(\"str1\")"
   ],
   "metadata": {
    "collapsed": false,
    "ExecuteTime": {
     "end_time": "2023-11-16T16:11:57.102382Z",
     "start_time": "2023-11-16T16:11:57.082886Z"
    }
   },
   "id": "2100762eec538684"
  },
  {
   "cell_type": "code",
   "execution_count": 3,
   "outputs": [
    {
     "name": "stdout",
     "output_type": "stream",
     "text": [
      "AplicAtion\n"
     ]
    }
   ],
   "source": [
    "str1=\"Aplication\"\n",
    "str2=str1.replace('a','A')\n",
    "print(str2)"
   ],
   "metadata": {
    "collapsed": false,
    "ExecuteTime": {
     "end_time": "2023-11-16T16:12:55.617446Z",
     "start_time": "2023-11-16T16:12:55.596148Z"
    }
   },
   "id": "7fdd3f56a77fe694"
  },
  {
   "cell_type": "code",
   "execution_count": 7,
   "outputs": [
    {
     "data": {
      "text/plain": "0"
     },
     "execution_count": 7,
     "metadata": {},
     "output_type": "execute_result"
    }
   ],
   "source": [
    "str1=\"save paper, save plants\"\n",
    "str1.find(\"save\")"
   ],
   "metadata": {
    "collapsed": false,
    "ExecuteTime": {
     "end_time": "2023-11-16T16:14:36.527825Z",
     "start_time": "2023-11-16T16:14:36.518861Z"
    }
   },
   "id": "6aa02708af0c9c54"
  },
  {
   "cell_type": "code",
   "execution_count": 8,
   "outputs": [
    {
     "name": "stdout",
     "output_type": "stream",
     "text": [
      "2\n"
     ]
    }
   ],
   "source": [
    "d={'k1':[1,2,3]}\n",
    "print(d['k1'][1])"
   ],
   "metadata": {
    "collapsed": false,
    "ExecuteTime": {
     "end_time": "2023-11-16T16:15:11.067905Z",
     "start_time": "2023-11-16T16:15:11.059189Z"
    }
   },
   "id": "128cdc7ad7bc2470"
  },
  {
   "cell_type": "code",
   "execution_count": 9,
   "outputs": [
    {
     "name": "stdout",
     "output_type": "stream",
     "text": [
      "None\n"
     ]
    }
   ],
   "source": [
    "def call(x,y) :\n",
    "     if x == 0:\n",
    "         return\n",
    "     return y + x\n",
    "print(call (0,5))"
   ],
   "metadata": {
    "collapsed": false,
    "ExecuteTime": {
     "end_time": "2023-11-16T16:18:16.379852Z",
     "start_time": "2023-11-16T16:18:16.356856Z"
    }
   },
   "id": "5945ffb920e4c6e0"
  },
  {
   "cell_type": "code",
   "execution_count": 10,
   "outputs": [
    {
     "name": "stdout",
     "output_type": "stream",
     "text": [
      "4 4\n"
     ]
    }
   ],
   "source": [
    "def s(n1):\n",
    "     print(n1,end=\" \")\n",
    "     n1 = n1 +2\n",
    "n2=4\n",
    "s(n2)\n",
    "print(n2)"
   ],
   "metadata": {
    "collapsed": false,
    "ExecuteTime": {
     "end_time": "2023-11-16T16:18:55.923368Z",
     "start_time": "2023-11-16T16:18:55.895945Z"
    }
   },
   "id": "cff855bc524bf2ff"
  },
  {
   "cell_type": "code",
   "execution_count": 11,
   "outputs": [],
   "source": [
    "L1= [99,12,3,33,\"ram\", \"hello\",122]"
   ],
   "metadata": {
    "collapsed": false,
    "ExecuteTime": {
     "end_time": "2023-11-16T16:19:21.217764Z",
     "start_time": "2023-11-16T16:19:21.207235Z"
    }
   },
   "id": "a7582dce53d14f99"
  },
  {
   "cell_type": "code",
   "execution_count": 12,
   "outputs": [
    {
     "name": "stdout",
     "output_type": "stream",
     "text": [
      "banana\n"
     ]
    }
   ],
   "source": [
    "L1=[\"apple\",\"hello\",1,2,3,\"hello world\" ,\"banana\",[\"Car\",\"Bike\",1,2,3,4]] ;\n",
    "print(L1[-2])"
   ],
   "metadata": {
    "collapsed": false,
    "ExecuteTime": {
     "end_time": "2023-11-16T16:20:16.081873Z",
     "start_time": "2023-11-16T16:20:16.064175Z"
    }
   },
   "id": "84a926a57588e55b"
  },
  {
   "cell_type": "code",
   "execution_count": 13,
   "outputs": [
    {
     "name": "stdout",
     "output_type": "stream",
     "text": [
      "1\n"
     ]
    }
   ],
   "source": [
    "l1=[\"include help\",\"hello\",\"everyone\",1,2,[1000,123]]\n",
    "print(l1.index(\"hello\"))"
   ],
   "metadata": {
    "collapsed": false,
    "ExecuteTime": {
     "end_time": "2023-11-16T16:21:20.388727Z",
     "start_time": "2023-11-16T16:21:20.379537Z"
    }
   },
   "id": "d30713823d1bd16"
  },
  {
   "cell_type": "code",
   "execution_count": 14,
   "outputs": [
    {
     "name": "stdout",
     "output_type": "stream",
     "text": [
      "[10, 100, 1000, 10000, 10, 100, 1000, 10000]\n"
     ]
    }
   ],
   "source": [
    "L1=[10,100,1000,10000]\n",
    "print(L1*2)"
   ],
   "metadata": {
    "collapsed": false,
    "ExecuteTime": {
     "end_time": "2023-11-16T16:21:38.834467Z",
     "start_time": "2023-11-16T16:21:38.812467Z"
    }
   },
   "id": "57ae221a6f5a203b"
  },
  {
   "cell_type": "code",
   "execution_count": null,
   "outputs": [],
   "source": [],
   "metadata": {
    "collapsed": false
   },
   "id": "20a0c33b1ba27d68"
  }
 ],
 "metadata": {
  "kernelspec": {
   "display_name": "Python 3",
   "language": "python",
   "name": "python3"
  },
  "language_info": {
   "codemirror_mode": {
    "name": "ipython",
    "version": 2
   },
   "file_extension": ".py",
   "mimetype": "text/x-python",
   "name": "python",
   "nbconvert_exporter": "python",
   "pygments_lexer": "ipython2",
   "version": "2.7.6"
  }
 },
 "nbformat": 4,
 "nbformat_minor": 5
}
