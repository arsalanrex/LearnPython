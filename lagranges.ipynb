{
 "cells": [
  {
   "cell_type": "code",
   "execution_count": 1,
   "id": "initial_id",
   "metadata": {
    "collapsed": true,
    "ExecuteTime": {
     "end_time": "2023-11-04T18:59:29.893294Z",
     "start_time": "2023-11-04T18:59:29.649130Z"
    }
   },
   "outputs": [],
   "source": [
    "from sympy import Symbol, Derivative"
   ]
  },
  {
   "cell_type": "code",
   "execution_count": 2,
   "outputs": [],
   "source": [
    "# define variables\n",
    "\n",
    "x1 = Symbol('x1')\n",
    "x2 = Symbol('x2')\n",
    "x3 = Symbol('x3')"
   ],
   "metadata": {
    "collapsed": false,
    "ExecuteTime": {
     "end_time": "2023-11-04T19:00:21.346327Z",
     "start_time": "2023-11-04T19:00:21.332837Z"
    }
   },
   "id": "2e81eafc7237ff04"
  },
  {
   "cell_type": "code",
   "execution_count": 3,
   "outputs": [],
   "source": [
    "# define function\n",
    "\n",
    "function = x1**2 + 4*x1*x2 + x2**2"
   ],
   "metadata": {
    "collapsed": false,
    "ExecuteTime": {
     "end_time": "2023-11-04T19:01:41.638371Z",
     "start_time": "2023-11-04T19:01:41.597476Z"
    }
   },
   "id": "849053ff382c6d46"
  },
  {
   "cell_type": "code",
   "execution_count": 4,
   "outputs": [],
   "source": [
    "# define constraints\n",
    "\n",
    "st1 = x1**2 + x2**2 -1"
   ],
   "metadata": {
    "collapsed": false,
    "ExecuteTime": {
     "end_time": "2023-11-04T19:02:31.508851Z",
     "start_time": "2023-11-04T19:02:31.493594Z"
    }
   },
   "id": "6a14a4c658fcb274"
  },
  {
   "cell_type": "code",
   "execution_count": 9,
   "outputs": [
    {
     "name": "stdout",
     "output_type": "stream",
     "text": [
      "df/dx1 = 2*x1 + 4*x2\n"
     ]
    }
   ],
   "source": [
    "# Partial Derivatives\n",
    "\n",
    "dx1 = Derivative(function, x1)\n",
    "\n",
    "print(\"df/dx1 =\",dx1.doit())"
   ],
   "metadata": {
    "collapsed": false,
    "ExecuteTime": {
     "end_time": "2023-11-04T19:05:01.203346Z",
     "start_time": "2023-11-04T19:05:01.195034Z"
    }
   },
   "id": "141c086b17e48f09"
  },
  {
   "cell_type": "code",
   "execution_count": null,
   "outputs": [],
   "source": [],
   "metadata": {
    "collapsed": false
   },
   "id": "9c232ad42c332ac9"
  }
 ],
 "metadata": {
  "kernelspec": {
   "display_name": "Python 3",
   "language": "python",
   "name": "python3"
  },
  "language_info": {
   "codemirror_mode": {
    "name": "ipython",
    "version": 2
   },
   "file_extension": ".py",
   "mimetype": "text/x-python",
   "name": "python",
   "nbconvert_exporter": "python",
   "pygments_lexer": "ipython2",
   "version": "2.7.6"
  }
 },
 "nbformat": 4,
 "nbformat_minor": 5
}
