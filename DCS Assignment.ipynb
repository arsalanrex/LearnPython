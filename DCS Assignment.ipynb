{
 "cells": [
  {
   "cell_type": "code",
   "execution_count": 119,
   "outputs": [],
   "source": [
    "import sklearn\n",
    "import pandas as pd\n",
    "import numpy as np\n",
    "import statistics\n",
    "import scipy\n",
    "from scipy.stats import skew\n",
    "from scipy.stats import kurtosis\n",
    "import matplotlib.pyplot as plt"
   ],
   "metadata": {
    "collapsed": false,
    "ExecuteTime": {
     "end_time": "2023-10-17T11:35:06.171390Z",
     "start_time": "2023-10-17T11:35:06.093803Z"
    }
   },
   "id": "a296bfd734c95697"
  },
  {
   "cell_type": "code",
   "execution_count": 101,
   "outputs": [],
   "source": [
    "StatewiseTestingDetails = pd.read_csv(\"/Users/arsalan/Downloads/StatewiseTestingDetails.csv\")\n",
    "covid_19_india = pd.read_csv(\"/Users/arsalan/Downloads/covid_19_india.csv\")\n",
    "covid19_data = pd.read_csv(\"/Users/arsalan/Downloads/covid19_data.csv\")\n",
    "covid19_data_india = pd.read_csv(\"/Users/arsalan/Downloads/covid19_data_india.csv\")"
   ],
   "metadata": {
    "collapsed": false,
    "ExecuteTime": {
     "end_time": "2023-10-17T11:16:23.961149Z",
     "start_time": "2023-10-17T11:16:23.925953Z"
    }
   },
   "id": "initial_id"
  },
  {
   "cell_type": "code",
   "execution_count": 102,
   "outputs": [],
   "source": [
    "StatewiseTestingDetails_State = StatewiseTestingDetails[\"State\"].tolist()\n",
    "StatewiseTestingDetails_TotalSamples = StatewiseTestingDetails[\"TotalSamples\"].tolist()\n",
    "StatewiseTestingDetails_Negative = StatewiseTestingDetails[\"Final Negative\"].tolist()\n",
    "StatewiseTestingDetails_Positive = StatewiseTestingDetails[\"Final Positive\"].tolist()\n",
    "\n",
    "StatewiseTestingDetails_Columns = [StatewiseTestingDetails_State, StatewiseTestingDetails_TotalSamples, StatewiseTestingDetails_Negative, StatewiseTestingDetails_Positive]"
   ],
   "metadata": {
    "collapsed": false,
    "ExecuteTime": {
     "end_time": "2023-10-17T11:16:24.071809Z",
     "start_time": "2023-10-17T11:16:24.070124Z"
    }
   },
   "id": "4fa5129b1b53248"
  },
  {
   "cell_type": "code",
   "execution_count": 103,
   "outputs": [],
   "source": [
    "covid_19_india_State = covid_19_india[\"State/UnionTerritory\"].tolist()\n",
    "covid_19_india_ConfirmedIndianNational = covid_19_india[\"ConfirmedIndianNational\"].tolist()\n",
    "covid_19_india_ConfirmedForeignNational = covid_19_india[\"ConfirmedForeignNational\"].tolist()\n",
    "covid_19_india_Cured = covid_19_india[\"Cured\"].tolist()\n",
    "covid_19_india_Death = covid_19_india[\"Death\"].tolist()\n",
    "covid_19_india_Confirmed = covid_19_india[\"Confirmed\"].tolist()\n",
    "\n",
    "covid_19_india_Columns = [covid_19_india_State, covid_19_india_ConfirmedIndianNational, covid_19_india_ConfirmedForeignNational, covid_19_india_Cured, covid_19_india_Death, covid_19_india_Confirmed]"
   ],
   "metadata": {
    "collapsed": false,
    "ExecuteTime": {
     "end_time": "2023-10-17T11:16:24.244166Z",
     "start_time": "2023-10-17T11:16:24.239356Z"
    }
   },
   "id": "c2cfa19323786190"
  },
  {
   "cell_type": "code",
   "execution_count": 104,
   "outputs": [],
   "source": [
    "covid19_data_Total_Sessions = covid19_data[\"Total Sessions Conducted\"].tolist()\n",
    "covid19_data_Total_Sites = covid19_data[\"Total Sites \"].tolist()\n",
    "covid19_data_First_Dose = covid19_data[\"First Dose Administered\"].tolist()\n",
    "covid19_data_Second_Dose = covid19_data[\"Second Dose Administered\"].tolist()\n",
    "covid19_data_Male = covid19_data[\"Male(Individuals Vaccinated)\"].tolist()\n",
    "covid19_data_Female = covid19_data[\"Female(Individuals Vaccinated)\"].tolist()\n",
    "covid19_data_Transgender = covid19_data[\"Transgender(Individuals Vaccinated)\"].tolist()\n",
    "covid19_data_Covaxin = covid19_data[\"Total Covaxin Administered\"].tolist()\n",
    "covid19_data_CoviShield = covid19_data[\"Total CoviShield Administered\"].tolist()\n",
    "covid19_data_AEFI = covid19_data[\"AEFI\"].tolist()\n",
    "covid19_data_18 = covid19_data[\"18-30 years (Age)\"].tolist()\n",
    "covid19_data_30 = covid19_data[\"30-45 years (Age)\"].tolist()\n",
    "covid19_data_45 = covid19_data[\"45-60 years (Age)\"].tolist()\n",
    "covid19_data_60 = covid19_data[\"60+ years (Age)\"].tolist()\n",
    "covid19_data_Total_Doses = covid19_data[\"Total Doses Administered\"].tolist()\n",
    "\n",
    "covid19_data_Columns = [covid19_data_Total_Sessions, covid19_data_Total_Sites, covid19_data_First_Dose, covid19_data_Second_Dose, covid19_data_Male, covid19_data_Female, covid19_data_Transgender, covid19_data_Covaxin, covid19_data_CoviShield, covid19_data_AEFI, covid19_data_18, covid19_data_30, covid19_data_45, covid19_data_60, covid19_data_Total_Doses]"
   ],
   "metadata": {
    "collapsed": false,
    "ExecuteTime": {
     "end_time": "2023-10-17T11:16:24.360261Z",
     "start_time": "2023-10-17T11:16:24.357494Z"
    }
   },
   "id": "73be92e9e67c4e56"
  },
  {
   "cell_type": "code",
   "execution_count": 105,
   "outputs": [],
   "source": [
    "covid19_data_india_Total_Sessions = covid19_data_india[\"Total Sessions Conducted\"].tolist()\n",
    "covid19_data_india_Total_Sites = covid19_data_india[\"Total Sites \"].tolist()\n",
    "covid19_data_india_First_Dose = covid19_data_india[\"First Dose Administered\"].tolist()\n",
    "covid19_data_india_Second_Dose = covid19_data_india[\"Second Dose Administered\"].tolist()\n",
    "covid19_data_india_Male = covid19_data_india[\"Male(Individuals Vaccinated)\"].tolist()\n",
    "covid19_data_india_Female = covid19_data_india[\"Female(Individuals Vaccinated)\"].tolist()\n",
    "covid19_data_india_Transgender = covid19_data_india[\"Transgender(Individuals Vaccinated)\"].tolist()\n",
    "covid19_data_india_Covaxin = covid19_data_india[\"Total Covaxin Administered\"].tolist()\n",
    "covid19_data_india_CoviShield = covid19_data_india[\"Total CoviShield Administered\"].tolist()\n",
    "covid19_data_india_AEFI = covid19_data_india[\"AEFI\"].tolist()\n",
    "covid19_data_india_18 = covid19_data_india[\"18-30 years (Age)\"].tolist()\n",
    "covid19_data_india_30 = covid19_data_india[\"30-45 years (Age)\"].tolist()\n",
    "covid19_data_india_45 = covid19_data_india[\"45-60 years (Age)\"].tolist()\n",
    "covid19_data_india_60 = covid19_data_india[\"60+ years (Age)\"].tolist()\n",
    "covid19_data_india_Total_Doses = covid19_data_india[\"Total Doses Administered\"].tolist()\n",
    "\n",
    "covid19_data_india_Columns = [covid19_data_india_Total_Sessions, covid19_data_india_Total_Sites, covid19_data_india_First_Dose, covid19_data_india_Second_Dose, covid19_data_india_Male, covid19_data_india_Female, covid19_data_india_Transgender, covid19_data_india_Covaxin, covid19_data_india_CoviShield, covid19_data_india_AEFI, covid19_data_india_18, covid19_data_india_30, covid19_data_india_45, covid19_data_india_60, covid19_data_india_Total_Doses]"
   ],
   "metadata": {
    "collapsed": false,
    "ExecuteTime": {
     "end_time": "2023-10-17T11:16:24.956533Z",
     "start_time": "2023-10-17T11:16:24.954889Z"
    }
   },
   "id": "631f5c019da06c47"
  },
  {
   "cell_type": "code",
   "execution_count": 106,
   "outputs": [],
   "source": [
    "# StatewiseTestingDetails_Columns\n",
    "# 0 : StatewiseTestingDetails_State\n",
    "# 1: StatewiseTestingDetails_TotalSamples\n",
    "# 2 : StatewiseTestingDetails_Negative\n",
    "# 3 : StatewiseTestingDetails_Positive\n",
    "\n",
    "# covid_19_india_Columns \n",
    "# 0 : covid_19_india_State\n",
    "# 1 : covid_19_india_ConfirmedIndianNational\n",
    "# 2 : covid_19_india_ConfirmedForeignNational\n",
    "# 3 : covid_19_india_Cured\n",
    "# 4 : covid_19_india_Death\n",
    "# 5 : covid_19_india_Confirmed\n",
    "\n",
    "# covid19_data_Columns\n",
    "# 0  : covid19_data_Total_Sessions\n",
    "# 1  :  covid19_data_Total_Sites\n",
    "# 2  :  covid19_data_First_Dose \n",
    "# 3  :  covid19_data_Second_Dose \n",
    "# 4  :  covid19_data_Male\n",
    "# 5  :  covid19_data_Female \n",
    "# 6  :  covid19_data_Transgender \n",
    "# 7  :  covid19_data_Covaxin\n",
    "# 8  :  covid19_data_CoviShield \n",
    "# 9  :  covid19_data_AEFI\n",
    "# 10 :  covid19_data_18\n",
    "# 11 :  covid19_data_30 \n",
    "# 12 :  covid19_data_45 \n",
    "# 13 :  covid19_data_60 \n",
    "# 14 :  covid19_data_Total_Doses\n",
    "\n",
    "# covid19_data_india_Columns \n",
    "# 0  :  covid19_data_india_Total_Sessions\n",
    "# 1  :  covid19_data_india_Total_Sites\n",
    "# 2  :  covid19_data_india_First_Doseco\n",
    "# 3  :  vid19_data_india_Second_Dose\n",
    "# 4  :  covid19_data_india_Male\n",
    "# 5  :  covid19_data_india_Female\n",
    "# 6  :  covid19_data_india_Transgender\n",
    "# 7  :  covid19_data_india_Covaxin\n",
    "# 8  :  covid19_data_india_CoviShield\n",
    "# 9  :  covid19_data_india_AEFI\n",
    "# 10 :  covid19_data_india_18 \n",
    "# 11 :  covid19_data_india_30 \n",
    "# 12 :  covid19_data_india_45\n",
    "# 13 :  covid19_data_india_60\n",
    "# 14 :  covid19_data_india_Total_Doses"
   ],
   "metadata": {
    "collapsed": false,
    "ExecuteTime": {
     "end_time": "2023-10-17T11:16:25.742790Z",
     "start_time": "2023-10-17T11:16:25.739265Z"
    }
   },
   "id": "1ff876903ca3cdc6"
  },
  {
   "cell_type": "code",
   "execution_count": 107,
   "outputs": [
    {
     "name": "stdout",
     "output_type": "stream",
     "text": [
      " Mean : 3750032.09037594\n",
      "\n",
      " Median : 631534.5\n",
      " Median Low : 631520\n",
      " Median High : 631549\n",
      "\n",
      " Mode : 1343797 \n",
      "\n",
      " Quartile 0  : 58.0\n",
      " Quartile 1  : 121911.0\n",
      " Quartile 2  : 631534.5\n",
      " Quartile 3  : 5348355.0\n",
      " Quartile 4  : 44427447.0\n",
      "\n",
      "\n",
      " Percentile 0  : 58.0\n",
      " Percentile 1  : 121911.0\n",
      " Percentile 2  : 631534.5\n",
      " Percentile 3  : 5348355.0\n",
      " Percentile 4  : 44427447.0\n",
      "\n",
      " Validation : 36542847970591.79 \n",
      "\n",
      " Standard Deviation : 6045068.069971735 \n",
      "\n",
      " Coefficient of Variation : 1.6120043573722374 \n",
      "\n",
      " Skewness : 2.5049795493398035 \n",
      "\n",
      " Kurtosis : 7.59732869417876 \n"
     ]
    }
   ],
   "source": [
    "col_nm = StatewiseTestingDetails_Columns\n",
    "col = 1\n",
    "\n",
    "print(\" Mean :\",statistics.mean(col_nm[col]))\n",
    "print(\"\\n Median :\",statistics.median(col_nm[col]))\n",
    "print(\" Median Low :\",statistics.median_low(col_nm[col]))\n",
    "print(\" Median High :\",statistics.median_high(col_nm[col]))\n",
    "print(\"\\n Mode :\",statistics.mode(col_nm[col]),\"\\n\")\n",
    "\n",
    "x = np.quantile(col_nm[col], [0,0.25,0.5,0.75,1])\n",
    "for i in range(len(x)):\n",
    "  print(\" Quartile\",i,\" :\", x[i])\n",
    "\n",
    "print(\"\\n\")\n",
    "\n",
    "x = np.percentile(col_nm[col], [0,25,50,75,100])\n",
    "for i in range(len(x)):\n",
    "  print(\" Percentile\",i,\" :\", x[i])\n",
    "\n",
    "print(\"\\n Validation :\",statistics.variance(col_nm[col]),\"\\n\")\n",
    "\n",
    "std = statistics.variance(col_nm[col])**.5\n",
    "print(\" Standard Deviation :\",std,\"\\n\")\n",
    "\n",
    "print(\" Coefficient of Variation :\",std/statistics.mean(col_nm[col]),\"\\n\")\n",
    "\n",
    "print(\" Skewness :\",skew(col_nm[col], axis=0, bias=True),\"\\n\")\n",
    "\n",
    "print(\" Kurtosis :\",kurtosis(col_nm[col], axis=0, bias=True),\"\\n\")\n"
   ],
   "metadata": {
    "collapsed": false,
    "ExecuteTime": {
     "end_time": "2023-10-17T11:16:26.657169Z",
     "start_time": "2023-10-17T11:16:26.594739Z"
    }
   },
   "id": "b9d5458c97f9fc3a"
  },
  {
   "cell_type": "code",
   "execution_count": 108,
   "outputs": [],
   "source": [
    "A = col_nm[2]\n",
    "B = col_nm[3]"
   ],
   "metadata": {
    "collapsed": false,
    "ExecuteTime": {
     "end_time": "2023-10-17T11:16:28.565738Z",
     "start_time": "2023-10-17T11:16:28.561333Z"
    }
   },
   "id": "572357588876670e"
  },
  {
   "cell_type": "code",
   "execution_count": 125,
   "outputs": [
    {
     "name": "stdout",
     "output_type": "stream",
     "text": [
      " Covarience : 291145490373.16516\n",
      " Correlation : 0.2725531329177876\n"
     ]
    }
   ],
   "source": [
    "print(\" Covarience :\", pd.Series(A).cov(pd.Series(B)))\n",
    "print(\" Correlation :\", pd.Series(A).corr(pd.Series(B)))"
   ],
   "metadata": {
    "collapsed": false,
    "ExecuteTime": {
     "end_time": "2023-10-17T11:38:23.583971Z",
     "start_time": "2023-10-17T11:38:23.572572Z"
    }
   },
   "id": "79f0ec5be3856d73"
  },
  {
   "cell_type": "code",
   "execution_count": 131,
   "outputs": [
    {
     "data": {
      "text/plain": "[<matplotlib.lines.Line2D at 0x167b00ee0>]"
     },
     "execution_count": 131,
     "metadata": {},
     "output_type": "execute_result"
    },
    {
     "data": {
      "text/plain": "<Figure size 640x480 with 1 Axes>",
      "image/png": "[encoded data removed]"
     },
     "metadata": {},
     "output_type": "display_data"
    }
   ],
   "source": [
    "plt.title('Correlation Scatter Plot')\n",
    "plt.xlabel('x-axis')\n",
    "plt.ylabel('y-axis')\n",
    "plt.scatter(A, B)\n",
    "plt.plot(np.unique(A), \n",
    "         np.poly1d(np.polyfit(A, B, 1))\n",
    "        (np.unique(A)), color='red')"
   ],
   "metadata": {
    "collapsed": false,
    "ExecuteTime": {
     "end_time": "2023-10-17T11:43:17.596055Z",
     "start_time": "2023-10-17T11:43:17.444814Z"
    }
   },
   "id": "44041e5bf05fcf96"
  },
  {
   "cell_type": "code",
   "execution_count": null,
   "outputs": [],
   "source": [],
   "metadata": {
    "collapsed": false
   },
   "id": "6f6c6e0ff16a663d"
  }
 ],
 "metadata": {
  "kernelspec": {
   "display_name": "Python 3",
   "language": "python",
   "name": "python3"
  },
  "language_info": {
   "codemirror_mode": {
    "name": "ipython",
    "version": 2
   },
   "file_extension": ".py",
   "mimetype": "text/x-python",
   "name": "python",
   "nbconvert_exporter": "python",
   "pygments_lexer": "ipython2",
   "version": "2.7.6"
  }
 },
 "nbformat": 4,
 "nbformat_minor": 5
}
