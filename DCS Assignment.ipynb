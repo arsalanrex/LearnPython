{
 "cells": [
  {
   "cell_type": "code",
   "execution_count": 17,
   "outputs": [],
   "source": [
    "import pandas as pd"
   ],
   "metadata": {
    "collapsed": false,
    "ExecuteTime": {
     "end_time": "2023-10-17T09:53:20.287127Z",
     "start_time": "2023-10-17T09:53:20.282365Z"
    }
   },
   "id": "a296bfd734c95697"
  },
  {
   "cell_type": "code",
   "execution_count": 18,
   "outputs": [],
   "source": [
    "StatewiseTestingDetails = pd.read_csv(\"/Users/arsalan/Downloads/StatewiseTestingDetails.csv\")\n",
    "covid_19_india = pd.read_csv(\"/Users/arsalan/Downloads/covid_19_india.csv\")\n",
    "covid19_data = pd.read_csv(\"/Users/arsalan/Downloads/covid19_data.csv\")\n",
    "covid19_data_india = pd.read_csv(\"/Users/arsalan/Downloads/covid19_data_india.csv\")"
   ],
   "metadata": {
    "collapsed": false,
    "ExecuteTime": {
     "end_time": "2023-10-17T09:53:20.668459Z",
     "start_time": "2023-10-17T09:53:20.640222Z"
    }
   },
   "id": "initial_id"
  },
  {
   "cell_type": "code",
   "execution_count": 22,
   "outputs": [],
   "source": [
    "StatewiseTestingDetails_State = StatewiseTestingDetails[\"State\"].tolist()\n",
    "StatewiseTestingDetails_TotalSamples = StatewiseTestingDetails[\"TotalSamples\"].tolist()\n",
    "StatewiseTestingDetails_Negative = StatewiseTestingDetails[\"Final Negative\"].tolist()\n",
    "StatewiseTestingDetails_Positive = StatewiseTestingDetails[\"Final Positive\"].tolist()"
   ],
   "metadata": {
    "collapsed": false,
    "ExecuteTime": {
     "end_time": "2023-10-17T09:59:52.022880Z",
     "start_time": "2023-10-17T09:59:52.016454Z"
    }
   },
   "id": "4fa5129b1b53248"
  },
  {
   "cell_type": "code",
   "execution_count": 20,
   "outputs": [],
   "source": [
    "covid_19_india_State = covid_19_india[\"State/UnionTerritory\"].tolist()\n",
    "covid_19_india_ConfirmedIndianNational = covid_19_india[\"ConfirmedIndianNational\"].tolist()\n",
    "covid_19_india_ConfirmedForeignNational = covid_19_india[\"ConfirmedForeignNational\"].tolist()\n",
    "covid_19_india_Cured = covid_19_india[\"Cured\"].tolist()\n",
    "covid_19_india_Death = covid_19_india[\"Death\"].tolist()\n",
    "covid_19_india_Confirmed = covid_19_india[\"Confirmed\"].tolist()"
   ],
   "metadata": {
    "collapsed": false,
    "ExecuteTime": {
     "end_time": "2023-10-17T09:53:21.687892Z",
     "start_time": "2023-10-17T09:53:21.683548Z"
    }
   },
   "id": "c2cfa19323786190"
  },
  {
   "cell_type": "code",
   "execution_count": null,
   "outputs": [],
   "source": [
    "covid19_data_Total_Sessions = covid19_data[\"Total Sessions Conducted\"].tolist()\n",
    "covid19_data_Total_Sites = covid19_data[\"Total Sites\"].tolist()\n",
    "covid19_data_First_Dose = covid19_data[\"First Dose Administered\"].tolist()\n",
    "covid19_data_Second_Dose = covid19_data[\"Second Dose Administered\"].tolist()\n",
    "covid19_data_Male = covid19_data[\"Male(Individuals Vaccinated)\"].tolist()\n",
    "covid19_data_Female = covid19_data[\"Female(Individuals Vaccinated)\"].tolist()\n",
    "covid19_data_Transgender = covid19_data[\"Transgender(Individuals Vaccinated)\"].tolist()\n",
    "covid19_data_Covaxin = covid19_data[\"Total Covaxin Administered\"].tolist()\n",
    "covid19_data_CoviShield = covid19_data[\"Total CoviShield Administered\"].tolist()\n",
    "covid19_data_AEFI = covid19_data[\"AEFI\"].tolist()\n",
    "covid19_data_18 = covid19_data[\"18-30 years (Age)\"].tolist()\n",
    "covid19_data_30 = covid19_data[\"30-45 years (Age)\"].tolist()\n",
    "covid19_data_45 = covid19_data[\"45-60 years (Age)\"].tolist()\n",
    "covid19_data_60 = covid19_data[\"60+ years (Age)\"].tolist()\n",
    "covid19_data_Total_Doses = covid19_data[\"Total Doses Administered\"].tolist()"
   ],
   "metadata": {
    "collapsed": false
   },
   "id": "73be92e9e67c4e56"
  },
  {
   "cell_type": "code",
   "execution_count": null,
   "outputs": [],
   "source": [
    "covid19_data_india_Sessions = covid19_data_india[\"Total Sessions Conducted\"].tolist()\n",
    "covid19_data_india_Sites = covid19_data_india[\"Total Sites\"].tolist()\n",
    "covid19_data_india_First_Dose = covid19_data_india[\"First Dose Administered\"].tolist()\n",
    "covid19_data_india_Second_Dose = covid19_data_india[\"Second Dose Administered\"].tolist()\n",
    "covid19_data_india_Male = covid19_data_india[\"Male(Individuals Vaccinated)\"].tolist()\n",
    "covid19_data_india_Female = covid19_data_india[\"Female(Individuals Vaccinated)\"].tolist()\n",
    "covid19_data_india_Transgender = covid19_data_india[\"Transgender(Individuals Vaccinated)\"].tolist()\n",
    "covid19_data_india_Covaxin = covid19_data_india[\"Total Covaxin Administered\"].tolist()\n",
    "covid19_data_india_CoviShield = covid19_data_india[\"Total CoviShield Administered\"].tolist()\n",
    "covid19_data_india_AEFI = covid19_data_india[\"AEFI\"].tolist()\n",
    "covid19_data_india_18 = covid19_data_india[\"18-30 years (Age)\"].tolist()\n",
    "covid19_data_india_30 = covid19_data_india[\"30-45 years (Age)\"].tolist()\n",
    "covid19_data_india_45 = covid19_data_india[\"45-60 years (Age)\"].tolist()\n",
    "covid19_data_india_60 = covid19_data_india[\"60+ years (Age)\"].tolist()\n",
    "covid19_data_india_Total_Doses = covid19_data_india[\"Total Doses Administered\"].tolist()"
   ],
   "metadata": {
    "collapsed": false
   },
   "id": "631f5c019da06c47"
  }
 ],
 "metadata": {
  "kernelspec": {
   "display_name": "Python 3",
   "language": "python",
   "name": "python3"
  },
  "language_info": {
   "codemirror_mode": {
    "name": "ipython",
    "version": 2
   },
   "file_extension": ".py",
   "mimetype": "text/x-python",
   "name": "python",
   "nbconvert_exporter": "python",
   "pygments_lexer": "ipython2",
   "version": "2.7.6"
  }
 },
 "nbformat": 4,
 "nbformat_minor": 5
}
